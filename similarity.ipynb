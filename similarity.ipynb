{
  "nbformat": 4,
  "nbformat_minor": 0,
  "metadata": {
    "colab": {
      "provenance": [],
      "collapsed_sections": [
        "4r_8IpdczCMp"
      ],
      "gpuType": "T4",
      "authorship_tag": "ABX9TyOPF60cmOoLvX9vDQmlikuE",
      "include_colab_link": true
    },
    "kernelspec": {
      "name": "python3",
      "display_name": "Python 3"
    },
    "language_info": {
      "name": "python"
    },
    "accelerator": "GPU",
    "widgets": {
      "application/vnd.jupyter.widget-state+json": {
        "c7e9ec5d9e8d42b09597e11dc5c027a9": {
          "model_module": "@jupyter-widgets/controls",
          "model_name": "HBoxModel",
          "model_module_version": "1.5.0",
          "state": {
            "_dom_classes": [],
            "_model_module": "@jupyter-widgets/controls",
            "_model_module_version": "1.5.0",
            "_model_name": "HBoxModel",
            "_view_count": null,
            "_view_module": "@jupyter-widgets/controls",
            "_view_module_version": "1.5.0",
            "_view_name": "HBoxView",
            "box_style": "",
            "children": [
              "IPY_MODEL_0a29a627bc744a678aba19dd8f9d5932",
              "IPY_MODEL_44167e441fe84971a265a197d647f817",
              "IPY_MODEL_9b0ee9bc0ba745f1937fb651b0050fbd"
            ],
            "layout": "IPY_MODEL_09e7c89eeddf419e9d8b21b14dfd280f"
          }
        },
        "0a29a627bc744a678aba19dd8f9d5932": {
          "model_module": "@jupyter-widgets/controls",
          "model_name": "HTMLModel",
          "model_module_version": "1.5.0",
          "state": {
            "_dom_classes": [],
            "_model_module": "@jupyter-widgets/controls",
            "_model_module_version": "1.5.0",
            "_model_name": "HTMLModel",
            "_view_count": null,
            "_view_module": "@jupyter-widgets/controls",
            "_view_module_version": "1.5.0",
            "_view_name": "HTMLView",
            "description": "",
            "description_tooltip": null,
            "layout": "IPY_MODEL_3001dc6c3ce647d78d68670b20fefb80",
            "placeholder": "​",
            "style": "IPY_MODEL_2476e856c2bf49a5a519ad26536a1f6f",
            "value": "tokenizer_config.json: 100%"
          }
        },
        "44167e441fe84971a265a197d647f817": {
          "model_module": "@jupyter-widgets/controls",
          "model_name": "FloatProgressModel",
          "model_module_version": "1.5.0",
          "state": {
            "_dom_classes": [],
            "_model_module": "@jupyter-widgets/controls",
            "_model_module_version": "1.5.0",
            "_model_name": "FloatProgressModel",
            "_view_count": null,
            "_view_module": "@jupyter-widgets/controls",
            "_view_module_version": "1.5.0",
            "_view_name": "ProgressView",
            "bar_style": "success",
            "description": "",
            "description_tooltip": null,
            "layout": "IPY_MODEL_dfbf8db78dba40bbba9160b4a3ca6e5c",
            "max": 48,
            "min": 0,
            "orientation": "horizontal",
            "style": "IPY_MODEL_bea0e51ceca24b24a11d7495c2e1c264",
            "value": 48
          }
        },
        "9b0ee9bc0ba745f1937fb651b0050fbd": {
          "model_module": "@jupyter-widgets/controls",
          "model_name": "HTMLModel",
          "model_module_version": "1.5.0",
          "state": {
            "_dom_classes": [],
            "_model_module": "@jupyter-widgets/controls",
            "_model_module_version": "1.5.0",
            "_model_name": "HTMLModel",
            "_view_count": null,
            "_view_module": "@jupyter-widgets/controls",
            "_view_module_version": "1.5.0",
            "_view_name": "HTMLView",
            "description": "",
            "description_tooltip": null,
            "layout": "IPY_MODEL_f5108fdc14b249d780960a80cc810cfa",
            "placeholder": "​",
            "style": "IPY_MODEL_159efbfb7ba4455fbf127b2410db5ce9",
            "value": " 48.0/48.0 [00:00&lt;00:00, 2.16kB/s]"
          }
        },
        "09e7c89eeddf419e9d8b21b14dfd280f": {
          "model_module": "@jupyter-widgets/base",
          "model_name": "LayoutModel",
          "model_module_version": "1.2.0",
          "state": {
            "_model_module": "@jupyter-widgets/base",
            "_model_module_version": "1.2.0",
            "_model_name": "LayoutModel",
            "_view_count": null,
            "_view_module": "@jupyter-widgets/base",
            "_view_module_version": "1.2.0",
            "_view_name": "LayoutView",
            "align_content": null,
            "align_items": null,
            "align_self": null,
            "border": null,
            "bottom": null,
            "display": null,
            "flex": null,
            "flex_flow": null,
            "grid_area": null,
            "grid_auto_columns": null,
            "grid_auto_flow": null,
            "grid_auto_rows": null,
            "grid_column": null,
            "grid_gap": null,
            "grid_row": null,
            "grid_template_areas": null,
            "grid_template_columns": null,
            "grid_template_rows": null,
            "height": null,
            "justify_content": null,
            "justify_items": null,
            "left": null,
            "margin": null,
            "max_height": null,
            "max_width": null,
            "min_height": null,
            "min_width": null,
            "object_fit": null,
            "object_position": null,
            "order": null,
            "overflow": null,
            "overflow_x": null,
            "overflow_y": null,
            "padding": null,
            "right": null,
            "top": null,
            "visibility": null,
            "width": null
          }
        },
        "3001dc6c3ce647d78d68670b20fefb80": {
          "model_module": "@jupyter-widgets/base",
          "model_name": "LayoutModel",
          "model_module_version": "1.2.0",
          "state": {
            "_model_module": "@jupyter-widgets/base",
            "_model_module_version": "1.2.0",
            "_model_name": "LayoutModel",
            "_view_count": null,
            "_view_module": "@jupyter-widgets/base",
            "_view_module_version": "1.2.0",
            "_view_name": "LayoutView",
            "align_content": null,
            "align_items": null,
            "align_self": null,
            "border": null,
            "bottom": null,
            "display": null,
            "flex": null,
            "flex_flow": null,
            "grid_area": null,
            "grid_auto_columns": null,
            "grid_auto_flow": null,
            "grid_auto_rows": null,
            "grid_column": null,
            "grid_gap": null,
            "grid_row": null,
            "grid_template_areas": null,
            "grid_template_columns": null,
            "grid_template_rows": null,
            "height": null,
            "justify_content": null,
            "justify_items": null,
            "left": null,
            "margin": null,
            "max_height": null,
            "max_width": null,
            "min_height": null,
            "min_width": null,
            "object_fit": null,
            "object_position": null,
            "order": null,
            "overflow": null,
            "overflow_x": null,
            "overflow_y": null,
            "padding": null,
            "right": null,
            "top": null,
            "visibility": null,
            "width": null
          }
        },
        "2476e856c2bf49a5a519ad26536a1f6f": {
          "model_module": "@jupyter-widgets/controls",
          "model_name": "DescriptionStyleModel",
          "model_module_version": "1.5.0",
          "state": {
            "_model_module": "@jupyter-widgets/controls",
            "_model_module_version": "1.5.0",
            "_model_name": "DescriptionStyleModel",
            "_view_count": null,
            "_view_module": "@jupyter-widgets/base",
            "_view_module_version": "1.2.0",
            "_view_name": "StyleView",
            "description_width": ""
          }
        },
        "dfbf8db78dba40bbba9160b4a3ca6e5c": {
          "model_module": "@jupyter-widgets/base",
          "model_name": "LayoutModel",
          "model_module_version": "1.2.0",
          "state": {
            "_model_module": "@jupyter-widgets/base",
            "_model_module_version": "1.2.0",
            "_model_name": "LayoutModel",
            "_view_count": null,
            "_view_module": "@jupyter-widgets/base",
            "_view_module_version": "1.2.0",
            "_view_name": "LayoutView",
            "align_content": null,
            "align_items": null,
            "align_self": null,
            "border": null,
            "bottom": null,
            "display": null,
            "flex": null,
            "flex_flow": null,
            "grid_area": null,
            "grid_auto_columns": null,
            "grid_auto_flow": null,
            "grid_auto_rows": null,
            "grid_column": null,
            "grid_gap": null,
            "grid_row": null,
            "grid_template_areas": null,
            "grid_template_columns": null,
            "grid_template_rows": null,
            "height": null,
            "justify_content": null,
            "justify_items": null,
            "left": null,
            "margin": null,
            "max_height": null,
            "max_width": null,
            "min_height": null,
            "min_width": null,
            "object_fit": null,
            "object_position": null,
            "order": null,
            "overflow": null,
            "overflow_x": null,
            "overflow_y": null,
            "padding": null,
            "right": null,
            "top": null,
            "visibility": null,
            "width": null
          }
        },
        "bea0e51ceca24b24a11d7495c2e1c264": {
          "model_module": "@jupyter-widgets/controls",
          "model_name": "ProgressStyleModel",
          "model_module_version": "1.5.0",
          "state": {
            "_model_module": "@jupyter-widgets/controls",
            "_model_module_version": "1.5.0",
            "_model_name": "ProgressStyleModel",
            "_view_count": null,
            "_view_module": "@jupyter-widgets/base",
            "_view_module_version": "1.2.0",
            "_view_name": "StyleView",
            "bar_color": null,
            "description_width": ""
          }
        },
        "f5108fdc14b249d780960a80cc810cfa": {
          "model_module": "@jupyter-widgets/base",
          "model_name": "LayoutModel",
          "model_module_version": "1.2.0",
          "state": {
            "_model_module": "@jupyter-widgets/base",
            "_model_module_version": "1.2.0",
            "_model_name": "LayoutModel",
            "_view_count": null,
            "_view_module": "@jupyter-widgets/base",
            "_view_module_version": "1.2.0",
            "_view_name": "LayoutView",
            "align_content": null,
            "align_items": null,
            "align_self": null,
            "border": null,
            "bottom": null,
            "display": null,
            "flex": null,
            "flex_flow": null,
            "grid_area": null,
            "grid_auto_columns": null,
            "grid_auto_flow": null,
            "grid_auto_rows": null,
            "grid_column": null,
            "grid_gap": null,
            "grid_row": null,
            "grid_template_areas": null,
            "grid_template_columns": null,
            "grid_template_rows": null,
            "height": null,
            "justify_content": null,
            "justify_items": null,
            "left": null,
            "margin": null,
            "max_height": null,
            "max_width": null,
            "min_height": null,
            "min_width": null,
            "object_fit": null,
            "object_position": null,
            "order": null,
            "overflow": null,
            "overflow_x": null,
            "overflow_y": null,
            "padding": null,
            "right": null,
            "top": null,
            "visibility": null,
            "width": null
          }
        },
        "159efbfb7ba4455fbf127b2410db5ce9": {
          "model_module": "@jupyter-widgets/controls",
          "model_name": "DescriptionStyleModel",
          "model_module_version": "1.5.0",
          "state": {
            "_model_module": "@jupyter-widgets/controls",
            "_model_module_version": "1.5.0",
            "_model_name": "DescriptionStyleModel",
            "_view_count": null,
            "_view_module": "@jupyter-widgets/base",
            "_view_module_version": "1.2.0",
            "_view_name": "StyleView",
            "description_width": ""
          }
        },
        "cbcd97ea355f4e459b8321c857749440": {
          "model_module": "@jupyter-widgets/controls",
          "model_name": "HBoxModel",
          "model_module_version": "1.5.0",
          "state": {
            "_dom_classes": [],
            "_model_module": "@jupyter-widgets/controls",
            "_model_module_version": "1.5.0",
            "_model_name": "HBoxModel",
            "_view_count": null,
            "_view_module": "@jupyter-widgets/controls",
            "_view_module_version": "1.5.0",
            "_view_name": "HBoxView",
            "box_style": "",
            "children": [
              "IPY_MODEL_8cc35b8416c848558ca1efc1261c4cd8",
              "IPY_MODEL_e4aafb8273eb4aa580489f195926b918",
              "IPY_MODEL_9c9f79eab29943c6b334b6f6ee3a461d"
            ],
            "layout": "IPY_MODEL_3dcee982e4544029b3ed4458922c7813"
          }
        },
        "8cc35b8416c848558ca1efc1261c4cd8": {
          "model_module": "@jupyter-widgets/controls",
          "model_name": "HTMLModel",
          "model_module_version": "1.5.0",
          "state": {
            "_dom_classes": [],
            "_model_module": "@jupyter-widgets/controls",
            "_model_module_version": "1.5.0",
            "_model_name": "HTMLModel",
            "_view_count": null,
            "_view_module": "@jupyter-widgets/controls",
            "_view_module_version": "1.5.0",
            "_view_name": "HTMLView",
            "description": "",
            "description_tooltip": null,
            "layout": "IPY_MODEL_7e242c3b3f3e45289bc06670e08e6dff",
            "placeholder": "​",
            "style": "IPY_MODEL_1149e3fef76b4994b589814c3c3aa8b5",
            "value": "vocab.txt: 100%"
          }
        },
        "e4aafb8273eb4aa580489f195926b918": {
          "model_module": "@jupyter-widgets/controls",
          "model_name": "FloatProgressModel",
          "model_module_version": "1.5.0",
          "state": {
            "_dom_classes": [],
            "_model_module": "@jupyter-widgets/controls",
            "_model_module_version": "1.5.0",
            "_model_name": "FloatProgressModel",
            "_view_count": null,
            "_view_module": "@jupyter-widgets/controls",
            "_view_module_version": "1.5.0",
            "_view_name": "ProgressView",
            "bar_style": "success",
            "description": "",
            "description_tooltip": null,
            "layout": "IPY_MODEL_229985f304a44137a21e8aef382fe464",
            "max": 231508,
            "min": 0,
            "orientation": "horizontal",
            "style": "IPY_MODEL_a16f541123f74482b45a71f55073ca04",
            "value": 231508
          }
        },
        "9c9f79eab29943c6b334b6f6ee3a461d": {
          "model_module": "@jupyter-widgets/controls",
          "model_name": "HTMLModel",
          "model_module_version": "1.5.0",
          "state": {
            "_dom_classes": [],
            "_model_module": "@jupyter-widgets/controls",
            "_model_module_version": "1.5.0",
            "_model_name": "HTMLModel",
            "_view_count": null,
            "_view_module": "@jupyter-widgets/controls",
            "_view_module_version": "1.5.0",
            "_view_name": "HTMLView",
            "description": "",
            "description_tooltip": null,
            "layout": "IPY_MODEL_238ffb8eb05f4cf7bb33807727d976db",
            "placeholder": "​",
            "style": "IPY_MODEL_0250bbf9ccac4a9ebd21fc1b0ad777b3",
            "value": " 232k/232k [00:00&lt;00:00, 5.45MB/s]"
          }
        },
        "3dcee982e4544029b3ed4458922c7813": {
          "model_module": "@jupyter-widgets/base",
          "model_name": "LayoutModel",
          "model_module_version": "1.2.0",
          "state": {
            "_model_module": "@jupyter-widgets/base",
            "_model_module_version": "1.2.0",
            "_model_name": "LayoutModel",
            "_view_count": null,
            "_view_module": "@jupyter-widgets/base",
            "_view_module_version": "1.2.0",
            "_view_name": "LayoutView",
            "align_content": null,
            "align_items": null,
            "align_self": null,
            "border": null,
            "bottom": null,
            "display": null,
            "flex": null,
            "flex_flow": null,
            "grid_area": null,
            "grid_auto_columns": null,
            "grid_auto_flow": null,
            "grid_auto_rows": null,
            "grid_column": null,
            "grid_gap": null,
            "grid_row": null,
            "grid_template_areas": null,
            "grid_template_columns": null,
            "grid_template_rows": null,
            "height": null,
            "justify_content": null,
            "justify_items": null,
            "left": null,
            "margin": null,
            "max_height": null,
            "max_width": null,
            "min_height": null,
            "min_width": null,
            "object_fit": null,
            "object_position": null,
            "order": null,
            "overflow": null,
            "overflow_x": null,
            "overflow_y": null,
            "padding": null,
            "right": null,
            "top": null,
            "visibility": null,
            "width": null
          }
        },
        "7e242c3b3f3e45289bc06670e08e6dff": {
          "model_module": "@jupyter-widgets/base",
          "model_name": "LayoutModel",
          "model_module_version": "1.2.0",
          "state": {
            "_model_module": "@jupyter-widgets/base",
            "_model_module_version": "1.2.0",
            "_model_name": "LayoutModel",
            "_view_count": null,
            "_view_module": "@jupyter-widgets/base",
            "_view_module_version": "1.2.0",
            "_view_name": "LayoutView",
            "align_content": null,
            "align_items": null,
            "align_self": null,
            "border": null,
            "bottom": null,
            "display": null,
            "flex": null,
            "flex_flow": null,
            "grid_area": null,
            "grid_auto_columns": null,
            "grid_auto_flow": null,
            "grid_auto_rows": null,
            "grid_column": null,
            "grid_gap": null,
            "grid_row": null,
            "grid_template_areas": null,
            "grid_template_columns": null,
            "grid_template_rows": null,
            "height": null,
            "justify_content": null,
            "justify_items": null,
            "left": null,
            "margin": null,
            "max_height": null,
            "max_width": null,
            "min_height": null,
            "min_width": null,
            "object_fit": null,
            "object_position": null,
            "order": null,
            "overflow": null,
            "overflow_x": null,
            "overflow_y": null,
            "padding": null,
            "right": null,
            "top": null,
            "visibility": null,
            "width": null
          }
        },
        "1149e3fef76b4994b589814c3c3aa8b5": {
          "model_module": "@jupyter-widgets/controls",
          "model_name": "DescriptionStyleModel",
          "model_module_version": "1.5.0",
          "state": {
            "_model_module": "@jupyter-widgets/controls",
            "_model_module_version": "1.5.0",
            "_model_name": "DescriptionStyleModel",
            "_view_count": null,
            "_view_module": "@jupyter-widgets/base",
            "_view_module_version": "1.2.0",
            "_view_name": "StyleView",
            "description_width": ""
          }
        },
        "229985f304a44137a21e8aef382fe464": {
          "model_module": "@jupyter-widgets/base",
          "model_name": "LayoutModel",
          "model_module_version": "1.2.0",
          "state": {
            "_model_module": "@jupyter-widgets/base",
            "_model_module_version": "1.2.0",
            "_model_name": "LayoutModel",
            "_view_count": null,
            "_view_module": "@jupyter-widgets/base",
            "_view_module_version": "1.2.0",
            "_view_name": "LayoutView",
            "align_content": null,
            "align_items": null,
            "align_self": null,
            "border": null,
            "bottom": null,
            "display": null,
            "flex": null,
            "flex_flow": null,
            "grid_area": null,
            "grid_auto_columns": null,
            "grid_auto_flow": null,
            "grid_auto_rows": null,
            "grid_column": null,
            "grid_gap": null,
            "grid_row": null,
            "grid_template_areas": null,
            "grid_template_columns": null,
            "grid_template_rows": null,
            "height": null,
            "justify_content": null,
            "justify_items": null,
            "left": null,
            "margin": null,
            "max_height": null,
            "max_width": null,
            "min_height": null,
            "min_width": null,
            "object_fit": null,
            "object_position": null,
            "order": null,
            "overflow": null,
            "overflow_x": null,
            "overflow_y": null,
            "padding": null,
            "right": null,
            "top": null,
            "visibility": null,
            "width": null
          }
        },
        "a16f541123f74482b45a71f55073ca04": {
          "model_module": "@jupyter-widgets/controls",
          "model_name": "ProgressStyleModel",
          "model_module_version": "1.5.0",
          "state": {
            "_model_module": "@jupyter-widgets/controls",
            "_model_module_version": "1.5.0",
            "_model_name": "ProgressStyleModel",
            "_view_count": null,
            "_view_module": "@jupyter-widgets/base",
            "_view_module_version": "1.2.0",
            "_view_name": "StyleView",
            "bar_color": null,
            "description_width": ""
          }
        },
        "238ffb8eb05f4cf7bb33807727d976db": {
          "model_module": "@jupyter-widgets/base",
          "model_name": "LayoutModel",
          "model_module_version": "1.2.0",
          "state": {
            "_model_module": "@jupyter-widgets/base",
            "_model_module_version": "1.2.0",
            "_model_name": "LayoutModel",
            "_view_count": null,
            "_view_module": "@jupyter-widgets/base",
            "_view_module_version": "1.2.0",
            "_view_name": "LayoutView",
            "align_content": null,
            "align_items": null,
            "align_self": null,
            "border": null,
            "bottom": null,
            "display": null,
            "flex": null,
            "flex_flow": null,
            "grid_area": null,
            "grid_auto_columns": null,
            "grid_auto_flow": null,
            "grid_auto_rows": null,
            "grid_column": null,
            "grid_gap": null,
            "grid_row": null,
            "grid_template_areas": null,
            "grid_template_columns": null,
            "grid_template_rows": null,
            "height": null,
            "justify_content": null,
            "justify_items": null,
            "left": null,
            "margin": null,
            "max_height": null,
            "max_width": null,
            "min_height": null,
            "min_width": null,
            "object_fit": null,
            "object_position": null,
            "order": null,
            "overflow": null,
            "overflow_x": null,
            "overflow_y": null,
            "padding": null,
            "right": null,
            "top": null,
            "visibility": null,
            "width": null
          }
        },
        "0250bbf9ccac4a9ebd21fc1b0ad777b3": {
          "model_module": "@jupyter-widgets/controls",
          "model_name": "DescriptionStyleModel",
          "model_module_version": "1.5.0",
          "state": {
            "_model_module": "@jupyter-widgets/controls",
            "_model_module_version": "1.5.0",
            "_model_name": "DescriptionStyleModel",
            "_view_count": null,
            "_view_module": "@jupyter-widgets/base",
            "_view_module_version": "1.2.0",
            "_view_name": "StyleView",
            "description_width": ""
          }
        },
        "cd97c758b8894873b9532809656f4ec8": {
          "model_module": "@jupyter-widgets/controls",
          "model_name": "HBoxModel",
          "model_module_version": "1.5.0",
          "state": {
            "_dom_classes": [],
            "_model_module": "@jupyter-widgets/controls",
            "_model_module_version": "1.5.0",
            "_model_name": "HBoxModel",
            "_view_count": null,
            "_view_module": "@jupyter-widgets/controls",
            "_view_module_version": "1.5.0",
            "_view_name": "HBoxView",
            "box_style": "",
            "children": [
              "IPY_MODEL_a64bd5087a2f40999352d1ee3753f0fe",
              "IPY_MODEL_d735815063b74f6ea7b1ff7680cc8930",
              "IPY_MODEL_6f9fc25a6fc145d0ac1fb2eec160bdb3"
            ],
            "layout": "IPY_MODEL_0c06b0a862a743f597da8f8b20d56522"
          }
        },
        "a64bd5087a2f40999352d1ee3753f0fe": {
          "model_module": "@jupyter-widgets/controls",
          "model_name": "HTMLModel",
          "model_module_version": "1.5.0",
          "state": {
            "_dom_classes": [],
            "_model_module": "@jupyter-widgets/controls",
            "_model_module_version": "1.5.0",
            "_model_name": "HTMLModel",
            "_view_count": null,
            "_view_module": "@jupyter-widgets/controls",
            "_view_module_version": "1.5.0",
            "_view_name": "HTMLView",
            "description": "",
            "description_tooltip": null,
            "layout": "IPY_MODEL_f5ebb5c81baa4b0daa9297b7c06b6344",
            "placeholder": "​",
            "style": "IPY_MODEL_bbcd5329d89349d4a38a357e456983e9",
            "value": "tokenizer.json: 100%"
          }
        },
        "d735815063b74f6ea7b1ff7680cc8930": {
          "model_module": "@jupyter-widgets/controls",
          "model_name": "FloatProgressModel",
          "model_module_version": "1.5.0",
          "state": {
            "_dom_classes": [],
            "_model_module": "@jupyter-widgets/controls",
            "_model_module_version": "1.5.0",
            "_model_name": "FloatProgressModel",
            "_view_count": null,
            "_view_module": "@jupyter-widgets/controls",
            "_view_module_version": "1.5.0",
            "_view_name": "ProgressView",
            "bar_style": "success",
            "description": "",
            "description_tooltip": null,
            "layout": "IPY_MODEL_884491e1643e4592bc079b08a673136c",
            "max": 466062,
            "min": 0,
            "orientation": "horizontal",
            "style": "IPY_MODEL_0d3f396c587c400f934c0f474f1e76d1",
            "value": 466062
          }
        },
        "6f9fc25a6fc145d0ac1fb2eec160bdb3": {
          "model_module": "@jupyter-widgets/controls",
          "model_name": "HTMLModel",
          "model_module_version": "1.5.0",
          "state": {
            "_dom_classes": [],
            "_model_module": "@jupyter-widgets/controls",
            "_model_module_version": "1.5.0",
            "_model_name": "HTMLModel",
            "_view_count": null,
            "_view_module": "@jupyter-widgets/controls",
            "_view_module_version": "1.5.0",
            "_view_name": "HTMLView",
            "description": "",
            "description_tooltip": null,
            "layout": "IPY_MODEL_79272f27e5584506ac8a55fcc74aca8a",
            "placeholder": "​",
            "style": "IPY_MODEL_c2a05cbb9b1e4a89ac76c2d1762e15fc",
            "value": " 466k/466k [00:00&lt;00:00, 1.44MB/s]"
          }
        },
        "0c06b0a862a743f597da8f8b20d56522": {
          "model_module": "@jupyter-widgets/base",
          "model_name": "LayoutModel",
          "model_module_version": "1.2.0",
          "state": {
            "_model_module": "@jupyter-widgets/base",
            "_model_module_version": "1.2.0",
            "_model_name": "LayoutModel",
            "_view_count": null,
            "_view_module": "@jupyter-widgets/base",
            "_view_module_version": "1.2.0",
            "_view_name": "LayoutView",
            "align_content": null,
            "align_items": null,
            "align_self": null,
            "border": null,
            "bottom": null,
            "display": null,
            "flex": null,
            "flex_flow": null,
            "grid_area": null,
            "grid_auto_columns": null,
            "grid_auto_flow": null,
            "grid_auto_rows": null,
            "grid_column": null,
            "grid_gap": null,
            "grid_row": null,
            "grid_template_areas": null,
            "grid_template_columns": null,
            "grid_template_rows": null,
            "height": null,
            "justify_content": null,
            "justify_items": null,
            "left": null,
            "margin": null,
            "max_height": null,
            "max_width": null,
            "min_height": null,
            "min_width": null,
            "object_fit": null,
            "object_position": null,
            "order": null,
            "overflow": null,
            "overflow_x": null,
            "overflow_y": null,
            "padding": null,
            "right": null,
            "top": null,
            "visibility": null,
            "width": null
          }
        },
        "f5ebb5c81baa4b0daa9297b7c06b6344": {
          "model_module": "@jupyter-widgets/base",
          "model_name": "LayoutModel",
          "model_module_version": "1.2.0",
          "state": {
            "_model_module": "@jupyter-widgets/base",
            "_model_module_version": "1.2.0",
            "_model_name": "LayoutModel",
            "_view_count": null,
            "_view_module": "@jupyter-widgets/base",
            "_view_module_version": "1.2.0",
            "_view_name": "LayoutView",
            "align_content": null,
            "align_items": null,
            "align_self": null,
            "border": null,
            "bottom": null,
            "display": null,
            "flex": null,
            "flex_flow": null,
            "grid_area": null,
            "grid_auto_columns": null,
            "grid_auto_flow": null,
            "grid_auto_rows": null,
            "grid_column": null,
            "grid_gap": null,
            "grid_row": null,
            "grid_template_areas": null,
            "grid_template_columns": null,
            "grid_template_rows": null,
            "height": null,
            "justify_content": null,
            "justify_items": null,
            "left": null,
            "margin": null,
            "max_height": null,
            "max_width": null,
            "min_height": null,
            "min_width": null,
            "object_fit": null,
            "object_position": null,
            "order": null,
            "overflow": null,
            "overflow_x": null,
            "overflow_y": null,
            "padding": null,
            "right": null,
            "top": null,
            "visibility": null,
            "width": null
          }
        },
        "bbcd5329d89349d4a38a357e456983e9": {
          "model_module": "@jupyter-widgets/controls",
          "model_name": "DescriptionStyleModel",
          "model_module_version": "1.5.0",
          "state": {
            "_model_module": "@jupyter-widgets/controls",
            "_model_module_version": "1.5.0",
            "_model_name": "DescriptionStyleModel",
            "_view_count": null,
            "_view_module": "@jupyter-widgets/base",
            "_view_module_version": "1.2.0",
            "_view_name": "StyleView",
            "description_width": ""
          }
        },
        "884491e1643e4592bc079b08a673136c": {
          "model_module": "@jupyter-widgets/base",
          "model_name": "LayoutModel",
          "model_module_version": "1.2.0",
          "state": {
            "_model_module": "@jupyter-widgets/base",
            "_model_module_version": "1.2.0",
            "_model_name": "LayoutModel",
            "_view_count": null,
            "_view_module": "@jupyter-widgets/base",
            "_view_module_version": "1.2.0",
            "_view_name": "LayoutView",
            "align_content": null,
            "align_items": null,
            "align_self": null,
            "border": null,
            "bottom": null,
            "display": null,
            "flex": null,
            "flex_flow": null,
            "grid_area": null,
            "grid_auto_columns": null,
            "grid_auto_flow": null,
            "grid_auto_rows": null,
            "grid_column": null,
            "grid_gap": null,
            "grid_row": null,
            "grid_template_areas": null,
            "grid_template_columns": null,
            "grid_template_rows": null,
            "height": null,
            "justify_content": null,
            "justify_items": null,
            "left": null,
            "margin": null,
            "max_height": null,
            "max_width": null,
            "min_height": null,
            "min_width": null,
            "object_fit": null,
            "object_position": null,
            "order": null,
            "overflow": null,
            "overflow_x": null,
            "overflow_y": null,
            "padding": null,
            "right": null,
            "top": null,
            "visibility": null,
            "width": null
          }
        },
        "0d3f396c587c400f934c0f474f1e76d1": {
          "model_module": "@jupyter-widgets/controls",
          "model_name": "ProgressStyleModel",
          "model_module_version": "1.5.0",
          "state": {
            "_model_module": "@jupyter-widgets/controls",
            "_model_module_version": "1.5.0",
            "_model_name": "ProgressStyleModel",
            "_view_count": null,
            "_view_module": "@jupyter-widgets/base",
            "_view_module_version": "1.2.0",
            "_view_name": "StyleView",
            "bar_color": null,
            "description_width": ""
          }
        },
        "79272f27e5584506ac8a55fcc74aca8a": {
          "model_module": "@jupyter-widgets/base",
          "model_name": "LayoutModel",
          "model_module_version": "1.2.0",
          "state": {
            "_model_module": "@jupyter-widgets/base",
            "_model_module_version": "1.2.0",
            "_model_name": "LayoutModel",
            "_view_count": null,
            "_view_module": "@jupyter-widgets/base",
            "_view_module_version": "1.2.0",
            "_view_name": "LayoutView",
            "align_content": null,
            "align_items": null,
            "align_self": null,
            "border": null,
            "bottom": null,
            "display": null,
            "flex": null,
            "flex_flow": null,
            "grid_area": null,
            "grid_auto_columns": null,
            "grid_auto_flow": null,
            "grid_auto_rows": null,
            "grid_column": null,
            "grid_gap": null,
            "grid_row": null,
            "grid_template_areas": null,
            "grid_template_columns": null,
            "grid_template_rows": null,
            "height": null,
            "justify_content": null,
            "justify_items": null,
            "left": null,
            "margin": null,
            "max_height": null,
            "max_width": null,
            "min_height": null,
            "min_width": null,
            "object_fit": null,
            "object_position": null,
            "order": null,
            "overflow": null,
            "overflow_x": null,
            "overflow_y": null,
            "padding": null,
            "right": null,
            "top": null,
            "visibility": null,
            "width": null
          }
        },
        "c2a05cbb9b1e4a89ac76c2d1762e15fc": {
          "model_module": "@jupyter-widgets/controls",
          "model_name": "DescriptionStyleModel",
          "model_module_version": "1.5.0",
          "state": {
            "_model_module": "@jupyter-widgets/controls",
            "_model_module_version": "1.5.0",
            "_model_name": "DescriptionStyleModel",
            "_view_count": null,
            "_view_module": "@jupyter-widgets/base",
            "_view_module_version": "1.2.0",
            "_view_name": "StyleView",
            "description_width": ""
          }
        },
        "053552a27ba34513b75baecaf8ab26a6": {
          "model_module": "@jupyter-widgets/controls",
          "model_name": "HBoxModel",
          "model_module_version": "1.5.0",
          "state": {
            "_dom_classes": [],
            "_model_module": "@jupyter-widgets/controls",
            "_model_module_version": "1.5.0",
            "_model_name": "HBoxModel",
            "_view_count": null,
            "_view_module": "@jupyter-widgets/controls",
            "_view_module_version": "1.5.0",
            "_view_name": "HBoxView",
            "box_style": "",
            "children": [
              "IPY_MODEL_0ab32a82a0a0442cab5a7631d44a9151",
              "IPY_MODEL_b7adfe78ba3d453aa210f536a903866d",
              "IPY_MODEL_f787b33b487f42799c4fe107fb714426"
            ],
            "layout": "IPY_MODEL_db97620d3d144968b50b7c19a9cc83e8"
          }
        },
        "0ab32a82a0a0442cab5a7631d44a9151": {
          "model_module": "@jupyter-widgets/controls",
          "model_name": "HTMLModel",
          "model_module_version": "1.5.0",
          "state": {
            "_dom_classes": [],
            "_model_module": "@jupyter-widgets/controls",
            "_model_module_version": "1.5.0",
            "_model_name": "HTMLModel",
            "_view_count": null,
            "_view_module": "@jupyter-widgets/controls",
            "_view_module_version": "1.5.0",
            "_view_name": "HTMLView",
            "description": "",
            "description_tooltip": null,
            "layout": "IPY_MODEL_bb3b0f8b6cb14eb3be56fb0dd4a03ea5",
            "placeholder": "​",
            "style": "IPY_MODEL_cd7bdc02e86a45b483bdd7c1bf53bd6a",
            "value": "config.json: 100%"
          }
        },
        "b7adfe78ba3d453aa210f536a903866d": {
          "model_module": "@jupyter-widgets/controls",
          "model_name": "FloatProgressModel",
          "model_module_version": "1.5.0",
          "state": {
            "_dom_classes": [],
            "_model_module": "@jupyter-widgets/controls",
            "_model_module_version": "1.5.0",
            "_model_name": "FloatProgressModel",
            "_view_count": null,
            "_view_module": "@jupyter-widgets/controls",
            "_view_module_version": "1.5.0",
            "_view_name": "ProgressView",
            "bar_style": "success",
            "description": "",
            "description_tooltip": null,
            "layout": "IPY_MODEL_f24a2ae4ee474298b875ef0e4435d87d",
            "max": 570,
            "min": 0,
            "orientation": "horizontal",
            "style": "IPY_MODEL_5ff39a5307c8434b9fdd42901421ff47",
            "value": 570
          }
        },
        "f787b33b487f42799c4fe107fb714426": {
          "model_module": "@jupyter-widgets/controls",
          "model_name": "HTMLModel",
          "model_module_version": "1.5.0",
          "state": {
            "_dom_classes": [],
            "_model_module": "@jupyter-widgets/controls",
            "_model_module_version": "1.5.0",
            "_model_name": "HTMLModel",
            "_view_count": null,
            "_view_module": "@jupyter-widgets/controls",
            "_view_module_version": "1.5.0",
            "_view_name": "HTMLView",
            "description": "",
            "description_tooltip": null,
            "layout": "IPY_MODEL_44c218f2a3d8407b909514f47e37a9f2",
            "placeholder": "​",
            "style": "IPY_MODEL_70e796c19b45431092dd39d3263a0e54",
            "value": " 570/570 [00:00&lt;00:00, 55.4kB/s]"
          }
        },
        "db97620d3d144968b50b7c19a9cc83e8": {
          "model_module": "@jupyter-widgets/base",
          "model_name": "LayoutModel",
          "model_module_version": "1.2.0",
          "state": {
            "_model_module": "@jupyter-widgets/base",
            "_model_module_version": "1.2.0",
            "_model_name": "LayoutModel",
            "_view_count": null,
            "_view_module": "@jupyter-widgets/base",
            "_view_module_version": "1.2.0",
            "_view_name": "LayoutView",
            "align_content": null,
            "align_items": null,
            "align_self": null,
            "border": null,
            "bottom": null,
            "display": null,
            "flex": null,
            "flex_flow": null,
            "grid_area": null,
            "grid_auto_columns": null,
            "grid_auto_flow": null,
            "grid_auto_rows": null,
            "grid_column": null,
            "grid_gap": null,
            "grid_row": null,
            "grid_template_areas": null,
            "grid_template_columns": null,
            "grid_template_rows": null,
            "height": null,
            "justify_content": null,
            "justify_items": null,
            "left": null,
            "margin": null,
            "max_height": null,
            "max_width": null,
            "min_height": null,
            "min_width": null,
            "object_fit": null,
            "object_position": null,
            "order": null,
            "overflow": null,
            "overflow_x": null,
            "overflow_y": null,
            "padding": null,
            "right": null,
            "top": null,
            "visibility": null,
            "width": null
          }
        },
        "bb3b0f8b6cb14eb3be56fb0dd4a03ea5": {
          "model_module": "@jupyter-widgets/base",
          "model_name": "LayoutModel",
          "model_module_version": "1.2.0",
          "state": {
            "_model_module": "@jupyter-widgets/base",
            "_model_module_version": "1.2.0",
            "_model_name": "LayoutModel",
            "_view_count": null,
            "_view_module": "@jupyter-widgets/base",
            "_view_module_version": "1.2.0",
            "_view_name": "LayoutView",
            "align_content": null,
            "align_items": null,
            "align_self": null,
            "border": null,
            "bottom": null,
            "display": null,
            "flex": null,
            "flex_flow": null,
            "grid_area": null,
            "grid_auto_columns": null,
            "grid_auto_flow": null,
            "grid_auto_rows": null,
            "grid_column": null,
            "grid_gap": null,
            "grid_row": null,
            "grid_template_areas": null,
            "grid_template_columns": null,
            "grid_template_rows": null,
            "height": null,
            "justify_content": null,
            "justify_items": null,
            "left": null,
            "margin": null,
            "max_height": null,
            "max_width": null,
            "min_height": null,
            "min_width": null,
            "object_fit": null,
            "object_position": null,
            "order": null,
            "overflow": null,
            "overflow_x": null,
            "overflow_y": null,
            "padding": null,
            "right": null,
            "top": null,
            "visibility": null,
            "width": null
          }
        },
        "cd7bdc02e86a45b483bdd7c1bf53bd6a": {
          "model_module": "@jupyter-widgets/controls",
          "model_name": "DescriptionStyleModel",
          "model_module_version": "1.5.0",
          "state": {
            "_model_module": "@jupyter-widgets/controls",
            "_model_module_version": "1.5.0",
            "_model_name": "DescriptionStyleModel",
            "_view_count": null,
            "_view_module": "@jupyter-widgets/base",
            "_view_module_version": "1.2.0",
            "_view_name": "StyleView",
            "description_width": ""
          }
        },
        "f24a2ae4ee474298b875ef0e4435d87d": {
          "model_module": "@jupyter-widgets/base",
          "model_name": "LayoutModel",
          "model_module_version": "1.2.0",
          "state": {
            "_model_module": "@jupyter-widgets/base",
            "_model_module_version": "1.2.0",
            "_model_name": "LayoutModel",
            "_view_count": null,
            "_view_module": "@jupyter-widgets/base",
            "_view_module_version": "1.2.0",
            "_view_name": "LayoutView",
            "align_content": null,
            "align_items": null,
            "align_self": null,
            "border": null,
            "bottom": null,
            "display": null,
            "flex": null,
            "flex_flow": null,
            "grid_area": null,
            "grid_auto_columns": null,
            "grid_auto_flow": null,
            "grid_auto_rows": null,
            "grid_column": null,
            "grid_gap": null,
            "grid_row": null,
            "grid_template_areas": null,
            "grid_template_columns": null,
            "grid_template_rows": null,
            "height": null,
            "justify_content": null,
            "justify_items": null,
            "left": null,
            "margin": null,
            "max_height": null,
            "max_width": null,
            "min_height": null,
            "min_width": null,
            "object_fit": null,
            "object_position": null,
            "order": null,
            "overflow": null,
            "overflow_x": null,
            "overflow_y": null,
            "padding": null,
            "right": null,
            "top": null,
            "visibility": null,
            "width": null
          }
        },
        "5ff39a5307c8434b9fdd42901421ff47": {
          "model_module": "@jupyter-widgets/controls",
          "model_name": "ProgressStyleModel",
          "model_module_version": "1.5.0",
          "state": {
            "_model_module": "@jupyter-widgets/controls",
            "_model_module_version": "1.5.0",
            "_model_name": "ProgressStyleModel",
            "_view_count": null,
            "_view_module": "@jupyter-widgets/base",
            "_view_module_version": "1.2.0",
            "_view_name": "StyleView",
            "bar_color": null,
            "description_width": ""
          }
        },
        "44c218f2a3d8407b909514f47e37a9f2": {
          "model_module": "@jupyter-widgets/base",
          "model_name": "LayoutModel",
          "model_module_version": "1.2.0",
          "state": {
            "_model_module": "@jupyter-widgets/base",
            "_model_module_version": "1.2.0",
            "_model_name": "LayoutModel",
            "_view_count": null,
            "_view_module": "@jupyter-widgets/base",
            "_view_module_version": "1.2.0",
            "_view_name": "LayoutView",
            "align_content": null,
            "align_items": null,
            "align_self": null,
            "border": null,
            "bottom": null,
            "display": null,
            "flex": null,
            "flex_flow": null,
            "grid_area": null,
            "grid_auto_columns": null,
            "grid_auto_flow": null,
            "grid_auto_rows": null,
            "grid_column": null,
            "grid_gap": null,
            "grid_row": null,
            "grid_template_areas": null,
            "grid_template_columns": null,
            "grid_template_rows": null,
            "height": null,
            "justify_content": null,
            "justify_items": null,
            "left": null,
            "margin": null,
            "max_height": null,
            "max_width": null,
            "min_height": null,
            "min_width": null,
            "object_fit": null,
            "object_position": null,
            "order": null,
            "overflow": null,
            "overflow_x": null,
            "overflow_y": null,
            "padding": null,
            "right": null,
            "top": null,
            "visibility": null,
            "width": null
          }
        },
        "70e796c19b45431092dd39d3263a0e54": {
          "model_module": "@jupyter-widgets/controls",
          "model_name": "DescriptionStyleModel",
          "model_module_version": "1.5.0",
          "state": {
            "_model_module": "@jupyter-widgets/controls",
            "_model_module_version": "1.5.0",
            "_model_name": "DescriptionStyleModel",
            "_view_count": null,
            "_view_module": "@jupyter-widgets/base",
            "_view_module_version": "1.2.0",
            "_view_name": "StyleView",
            "description_width": ""
          }
        },
        "1b9add2753594af69786f7cee1ca4294": {
          "model_module": "@jupyter-widgets/controls",
          "model_name": "HBoxModel",
          "model_module_version": "1.5.0",
          "state": {
            "_dom_classes": [],
            "_model_module": "@jupyter-widgets/controls",
            "_model_module_version": "1.5.0",
            "_model_name": "HBoxModel",
            "_view_count": null,
            "_view_module": "@jupyter-widgets/controls",
            "_view_module_version": "1.5.0",
            "_view_name": "HBoxView",
            "box_style": "",
            "children": [
              "IPY_MODEL_3327bb71dd384b16a58dbd78a864e261",
              "IPY_MODEL_9e2a142601a343a5b72b81352d71fbf2",
              "IPY_MODEL_045ef2dfe7cb4dd2b4e8d4080b8ee8df"
            ],
            "layout": "IPY_MODEL_07092c5e6c1648ec95d739622814eb94"
          }
        },
        "3327bb71dd384b16a58dbd78a864e261": {
          "model_module": "@jupyter-widgets/controls",
          "model_name": "HTMLModel",
          "model_module_version": "1.5.0",
          "state": {
            "_dom_classes": [],
            "_model_module": "@jupyter-widgets/controls",
            "_model_module_version": "1.5.0",
            "_model_name": "HTMLModel",
            "_view_count": null,
            "_view_module": "@jupyter-widgets/controls",
            "_view_module_version": "1.5.0",
            "_view_name": "HTMLView",
            "description": "",
            "description_tooltip": null,
            "layout": "IPY_MODEL_6d343c58e26d401a967630f53fad4414",
            "placeholder": "​",
            "style": "IPY_MODEL_cde86c0ddf304acfa909fa341e5f87db",
            "value": "model.safetensors: 100%"
          }
        },
        "9e2a142601a343a5b72b81352d71fbf2": {
          "model_module": "@jupyter-widgets/controls",
          "model_name": "FloatProgressModel",
          "model_module_version": "1.5.0",
          "state": {
            "_dom_classes": [],
            "_model_module": "@jupyter-widgets/controls",
            "_model_module_version": "1.5.0",
            "_model_name": "FloatProgressModel",
            "_view_count": null,
            "_view_module": "@jupyter-widgets/controls",
            "_view_module_version": "1.5.0",
            "_view_name": "ProgressView",
            "bar_style": "success",
            "description": "",
            "description_tooltip": null,
            "layout": "IPY_MODEL_8408c6adebea4af49eb01bf16fbe584c",
            "max": 440449768,
            "min": 0,
            "orientation": "horizontal",
            "style": "IPY_MODEL_c8a3e84e2d6f4d7a8fc3f5e65b65d66e",
            "value": 440449768
          }
        },
        "045ef2dfe7cb4dd2b4e8d4080b8ee8df": {
          "model_module": "@jupyter-widgets/controls",
          "model_name": "HTMLModel",
          "model_module_version": "1.5.0",
          "state": {
            "_dom_classes": [],
            "_model_module": "@jupyter-widgets/controls",
            "_model_module_version": "1.5.0",
            "_model_name": "HTMLModel",
            "_view_count": null,
            "_view_module": "@jupyter-widgets/controls",
            "_view_module_version": "1.5.0",
            "_view_name": "HTMLView",
            "description": "",
            "description_tooltip": null,
            "layout": "IPY_MODEL_13be5326e9b34cbf9d6e2f1e1e56b9c6",
            "placeholder": "​",
            "style": "IPY_MODEL_fb6c70f61dda42128ad44b737b38fe1f",
            "value": " 440M/440M [00:01&lt;00:00, 390MB/s]"
          }
        },
        "07092c5e6c1648ec95d739622814eb94": {
          "model_module": "@jupyter-widgets/base",
          "model_name": "LayoutModel",
          "model_module_version": "1.2.0",
          "state": {
            "_model_module": "@jupyter-widgets/base",
            "_model_module_version": "1.2.0",
            "_model_name": "LayoutModel",
            "_view_count": null,
            "_view_module": "@jupyter-widgets/base",
            "_view_module_version": "1.2.0",
            "_view_name": "LayoutView",
            "align_content": null,
            "align_items": null,
            "align_self": null,
            "border": null,
            "bottom": null,
            "display": null,
            "flex": null,
            "flex_flow": null,
            "grid_area": null,
            "grid_auto_columns": null,
            "grid_auto_flow": null,
            "grid_auto_rows": null,
            "grid_column": null,
            "grid_gap": null,
            "grid_row": null,
            "grid_template_areas": null,
            "grid_template_columns": null,
            "grid_template_rows": null,
            "height": null,
            "justify_content": null,
            "justify_items": null,
            "left": null,
            "margin": null,
            "max_height": null,
            "max_width": null,
            "min_height": null,
            "min_width": null,
            "object_fit": null,
            "object_position": null,
            "order": null,
            "overflow": null,
            "overflow_x": null,
            "overflow_y": null,
            "padding": null,
            "right": null,
            "top": null,
            "visibility": null,
            "width": null
          }
        },
        "6d343c58e26d401a967630f53fad4414": {
          "model_module": "@jupyter-widgets/base",
          "model_name": "LayoutModel",
          "model_module_version": "1.2.0",
          "state": {
            "_model_module": "@jupyter-widgets/base",
            "_model_module_version": "1.2.0",
            "_model_name": "LayoutModel",
            "_view_count": null,
            "_view_module": "@jupyter-widgets/base",
            "_view_module_version": "1.2.0",
            "_view_name": "LayoutView",
            "align_content": null,
            "align_items": null,
            "align_self": null,
            "border": null,
            "bottom": null,
            "display": null,
            "flex": null,
            "flex_flow": null,
            "grid_area": null,
            "grid_auto_columns": null,
            "grid_auto_flow": null,
            "grid_auto_rows": null,
            "grid_column": null,
            "grid_gap": null,
            "grid_row": null,
            "grid_template_areas": null,
            "grid_template_columns": null,
            "grid_template_rows": null,
            "height": null,
            "justify_content": null,
            "justify_items": null,
            "left": null,
            "margin": null,
            "max_height": null,
            "max_width": null,
            "min_height": null,
            "min_width": null,
            "object_fit": null,
            "object_position": null,
            "order": null,
            "overflow": null,
            "overflow_x": null,
            "overflow_y": null,
            "padding": null,
            "right": null,
            "top": null,
            "visibility": null,
            "width": null
          }
        },
        "cde86c0ddf304acfa909fa341e5f87db": {
          "model_module": "@jupyter-widgets/controls",
          "model_name": "DescriptionStyleModel",
          "model_module_version": "1.5.0",
          "state": {
            "_model_module": "@jupyter-widgets/controls",
            "_model_module_version": "1.5.0",
            "_model_name": "DescriptionStyleModel",
            "_view_count": null,
            "_view_module": "@jupyter-widgets/base",
            "_view_module_version": "1.2.0",
            "_view_name": "StyleView",
            "description_width": ""
          }
        },
        "8408c6adebea4af49eb01bf16fbe584c": {
          "model_module": "@jupyter-widgets/base",
          "model_name": "LayoutModel",
          "model_module_version": "1.2.0",
          "state": {
            "_model_module": "@jupyter-widgets/base",
            "_model_module_version": "1.2.0",
            "_model_name": "LayoutModel",
            "_view_count": null,
            "_view_module": "@jupyter-widgets/base",
            "_view_module_version": "1.2.0",
            "_view_name": "LayoutView",
            "align_content": null,
            "align_items": null,
            "align_self": null,
            "border": null,
            "bottom": null,
            "display": null,
            "flex": null,
            "flex_flow": null,
            "grid_area": null,
            "grid_auto_columns": null,
            "grid_auto_flow": null,
            "grid_auto_rows": null,
            "grid_column": null,
            "grid_gap": null,
            "grid_row": null,
            "grid_template_areas": null,
            "grid_template_columns": null,
            "grid_template_rows": null,
            "height": null,
            "justify_content": null,
            "justify_items": null,
            "left": null,
            "margin": null,
            "max_height": null,
            "max_width": null,
            "min_height": null,
            "min_width": null,
            "object_fit": null,
            "object_position": null,
            "order": null,
            "overflow": null,
            "overflow_x": null,
            "overflow_y": null,
            "padding": null,
            "right": null,
            "top": null,
            "visibility": null,
            "width": null
          }
        },
        "c8a3e84e2d6f4d7a8fc3f5e65b65d66e": {
          "model_module": "@jupyter-widgets/controls",
          "model_name": "ProgressStyleModel",
          "model_module_version": "1.5.0",
          "state": {
            "_model_module": "@jupyter-widgets/controls",
            "_model_module_version": "1.5.0",
            "_model_name": "ProgressStyleModel",
            "_view_count": null,
            "_view_module": "@jupyter-widgets/base",
            "_view_module_version": "1.2.0",
            "_view_name": "StyleView",
            "bar_color": null,
            "description_width": ""
          }
        },
        "13be5326e9b34cbf9d6e2f1e1e56b9c6": {
          "model_module": "@jupyter-widgets/base",
          "model_name": "LayoutModel",
          "model_module_version": "1.2.0",
          "state": {
            "_model_module": "@jupyter-widgets/base",
            "_model_module_version": "1.2.0",
            "_model_name": "LayoutModel",
            "_view_count": null,
            "_view_module": "@jupyter-widgets/base",
            "_view_module_version": "1.2.0",
            "_view_name": "LayoutView",
            "align_content": null,
            "align_items": null,
            "align_self": null,
            "border": null,
            "bottom": null,
            "display": null,
            "flex": null,
            "flex_flow": null,
            "grid_area": null,
            "grid_auto_columns": null,
            "grid_auto_flow": null,
            "grid_auto_rows": null,
            "grid_column": null,
            "grid_gap": null,
            "grid_row": null,
            "grid_template_areas": null,
            "grid_template_columns": null,
            "grid_template_rows": null,
            "height": null,
            "justify_content": null,
            "justify_items": null,
            "left": null,
            "margin": null,
            "max_height": null,
            "max_width": null,
            "min_height": null,
            "min_width": null,
            "object_fit": null,
            "object_position": null,
            "order": null,
            "overflow": null,
            "overflow_x": null,
            "overflow_y": null,
            "padding": null,
            "right": null,
            "top": null,
            "visibility": null,
            "width": null
          }
        },
        "fb6c70f61dda42128ad44b737b38fe1f": {
          "model_module": "@jupyter-widgets/controls",
          "model_name": "DescriptionStyleModel",
          "model_module_version": "1.5.0",
          "state": {
            "_model_module": "@jupyter-widgets/controls",
            "_model_module_version": "1.5.0",
            "_model_name": "DescriptionStyleModel",
            "_view_count": null,
            "_view_module": "@jupyter-widgets/base",
            "_view_module_version": "1.2.0",
            "_view_name": "StyleView",
            "description_width": ""
          }
        }
      }
    }
  },
  "cells": [
    {
      "cell_type": "markdown",
      "metadata": {
        "id": "view-in-github",
        "colab_type": "text"
      },
      "source": [
        "<a href=\"https://colab.research.google.com/github/HugoKD/NLP/blob/main/similarity.ipynb\" target=\"_parent\"><img src=\"https://colab.research.google.com/assets/colab-badge.svg\" alt=\"Open In Colab\"/></a>"
      ]
    },
    {
      "cell_type": "code",
      "execution_count": null,
      "metadata": {
        "id": "VlJBcDcPuO6U"
      },
      "outputs": [],
      "source": [
        "import json\n",
        "import pandas as pd\n",
        "import numpy as np\n",
        "import matplotlib.pyplot as plt\n",
        "import seaborn as sns"
      ]
    },
    {
      "cell_type": "code",
      "source": [
        "from transformers import BertTokenizer, BertModel\n",
        "import torch\n",
        "import tensorflow as tf\n",
        "from transformers import T5Tokenizer, T5ForConditionalGeneration\n",
        "from sentence_transformers import SentenceTransformer, losses\n",
        "\n",
        "import torch\n",
        "import torch.nn as nn\n",
        "from sentence_transformers import losses\n",
        "from transformers import AutoTokenizer, AutoModel"
      ],
      "metadata": {
        "id": "8qvBqTTOW27A"
      },
      "execution_count": null,
      "outputs": []
    },
    {
      "cell_type": "code",
      "source": [
        "from tqdm import tqdm\n",
        "from torch.utils.data import DataLoader"
      ],
      "metadata": {
        "id": "K9Qwv6ExknD8"
      },
      "execution_count": null,
      "outputs": []
    },
    {
      "cell_type": "code",
      "source": [
        "pip install transformers sentencepiece"
      ],
      "metadata": {
        "id": "9pCu8P4la1XZ",
        "colab": {
          "base_uri": "https://localhost:8080/"
        },
        "outputId": "9ea8be4b-94ab-49bc-938e-47ac3d0df837"
      },
      "execution_count": null,
      "outputs": [
        {
          "output_type": "stream",
          "name": "stdout",
          "text": [
            "Requirement already satisfied: transformers in /usr/local/lib/python3.11/dist-packages (4.51.3)\n",
            "Requirement already satisfied: sentencepiece in /usr/local/lib/python3.11/dist-packages (0.2.0)\n",
            "Requirement already satisfied: filelock in /usr/local/lib/python3.11/dist-packages (from transformers) (3.18.0)\n",
            "Requirement already satisfied: huggingface-hub<1.0,>=0.30.0 in /usr/local/lib/python3.11/dist-packages (from transformers) (0.30.2)\n",
            "Requirement already satisfied: numpy>=1.17 in /usr/local/lib/python3.11/dist-packages (from transformers) (2.0.2)\n",
            "Requirement already satisfied: packaging>=20.0 in /usr/local/lib/python3.11/dist-packages (from transformers) (24.2)\n",
            "Requirement already satisfied: pyyaml>=5.1 in /usr/local/lib/python3.11/dist-packages (from transformers) (6.0.2)\n",
            "Requirement already satisfied: regex!=2019.12.17 in /usr/local/lib/python3.11/dist-packages (from transformers) (2024.11.6)\n",
            "Requirement already satisfied: requests in /usr/local/lib/python3.11/dist-packages (from transformers) (2.32.3)\n",
            "Requirement already satisfied: tokenizers<0.22,>=0.21 in /usr/local/lib/python3.11/dist-packages (from transformers) (0.21.1)\n",
            "Requirement already satisfied: safetensors>=0.4.3 in /usr/local/lib/python3.11/dist-packages (from transformers) (0.5.3)\n",
            "Requirement already satisfied: tqdm>=4.27 in /usr/local/lib/python3.11/dist-packages (from transformers) (4.67.1)\n",
            "Requirement already satisfied: fsspec>=2023.5.0 in /usr/local/lib/python3.11/dist-packages (from huggingface-hub<1.0,>=0.30.0->transformers) (2025.3.2)\n",
            "Requirement already satisfied: typing-extensions>=3.7.4.3 in /usr/local/lib/python3.11/dist-packages (from huggingface-hub<1.0,>=0.30.0->transformers) (4.13.2)\n",
            "Requirement already satisfied: charset-normalizer<4,>=2 in /usr/local/lib/python3.11/dist-packages (from requests->transformers) (3.4.1)\n",
            "Requirement already satisfied: idna<4,>=2.5 in /usr/local/lib/python3.11/dist-packages (from requests->transformers) (3.10)\n",
            "Requirement already satisfied: urllib3<3,>=1.21.1 in /usr/local/lib/python3.11/dist-packages (from requests->transformers) (2.3.0)\n",
            "Requirement already satisfied: certifi>=2017.4.17 in /usr/local/lib/python3.11/dist-packages (from requests->transformers) (2025.1.31)\n"
          ]
        }
      ]
    },
    {
      "cell_type": "markdown",
      "source": [
        "## EDA"
      ],
      "metadata": {
        "id": "4r_8IpdczCMp"
      }
    },
    {
      "cell_type": "code",
      "source": [
        "print(len(data))"
      ],
      "metadata": {
        "colab": {
          "base_uri": "https://localhost:8080/"
        },
        "id": "3wKFWdqlvGPC",
        "outputId": "cbd14fa6-23d2-4399-b966-a9f2839278d0"
      },
      "execution_count": null,
      "outputs": [
        {
          "output_type": "stream",
          "name": "stdout",
          "text": [
            "499\n"
          ]
        }
      ]
    },
    {
      "cell_type": "code",
      "source": [
        "print(type(data[0]))"
      ],
      "metadata": {
        "colab": {
          "base_uri": "https://localhost:8080/"
        },
        "id": "f7tidpjtvIuN",
        "outputId": "a3a779b2-02a7-4373-85a7-7e36493f3db3"
      },
      "execution_count": null,
      "outputs": [
        {
          "output_type": "stream",
          "name": "stdout",
          "text": [
            "<class 'dict'>\n"
          ]
        }
      ]
    },
    {
      "cell_type": "code",
      "source": [
        "print(data[0].keys())"
      ],
      "metadata": {
        "colab": {
          "base_uri": "https://localhost:8080/"
        },
        "id": "qTKt7zxtvI_z",
        "outputId": "39bdf062-6018-4f5d-8dc2-15180cc9f04f"
      },
      "execution_count": null,
      "outputs": [
        {
          "output_type": "stream",
          "name": "stdout",
          "text": [
            "dict_keys(['anchor', 'query', 'positive', 'negative'])\n"
          ]
        }
      ]
    },
    {
      "cell_type": "code",
      "source": [
        "for i,t in enumerate(data) :\n",
        "  if t[\"anchor\"].lower().find('invention') == -1 :\n",
        "    if t[\"anchor\"].lower().find('TECHINCAL FIELD'.lower()) == -1:\n",
        "      if t[\"anchor\"].lower().find('TECHNICAL FIELD'.lower()) == -1:\n",
        "        print(i,t[\"anchor\"].lower().find('Disclosure'.lower()))\n",
        "\n"
      ],
      "metadata": {
        "colab": {
          "base_uri": "https://localhost:8080/"
        },
        "collapsed": true,
        "id": "uSL9Ey-B7NvX",
        "outputId": "7526a2e1-f724-4c0e-9946-346448ba9368"
      },
      "execution_count": null,
      "outputs": [
        {
          "output_type": "stream",
          "name": "stdout",
          "text": [
            "349 31\n",
            "350 31\n",
            "392 258\n",
            "429 355\n",
            "445 185\n",
            "446 185\n"
          ]
        }
      ]
    },
    {
      "cell_type": "code",
      "source": [
        "for i, t in enumerate(data): #preference : invention, Technical Field, TECHINCAL FIELD, disclosure,This application\n",
        "  point = (t[\"anchor\"].lower().find('technical field'),t[\"anchor\"].lower().find('TECHINCAL FIELD'.lower()),t[\"anchor\"].lower().find('invention'))\n",
        "  if point == (-1,-1,-1):\n",
        "    print(i,t)"
      ],
      "metadata": {
        "colab": {
          "base_uri": "https://localhost:8080/"
        },
        "id": "xWXzOm-hHomI",
        "outputId": "58055607-1937-4a7d-aa2f-2720341f64ff"
      },
      "execution_count": null,
      "outputs": [
        {
          "output_type": "stream",
          "name": "stdout",
          "text": [
            "349 {'anchor': 'BACKGROUND [0001] Field of the Disclosure [0002] The present disclosure is directed toward a toolbar hinge for an agricultural implement. [0003] Description of the Related Art [0004] The continued need to improve upon the prior art in the field of agricultural implements has resulted in the introduction of a number of folding toolbars, able to be placed in multiple positions to accommodate both operational and transportation requirements. [0005] The art continues to be developed with the aim of improving capabilities of the implements while operating in the field optimizing stability of the implements when in a working position and in a transport position. [0006] Many agricultural implements require lockdown pins to prevent or reduce unintended motion of articulating toolbars as the agricultural implements traverse uneven surfaces or hard to penetrate soils. The positioning of the toolbar on the back of the tractor places a heavy load on the tractor, leading to non-ideal circumstances such as instability, too much rear weight bias, and ultimately reducing the maximum payload the tractor can handle. [0007] Further, conventional embodiments of agricultural implements are not optimal. Despite the need to occupy minimal space during storage, maneuvering, and transit, agricultural implements have relatively large widths in transport positions as a proportion of their dimensions when in working positions during operation. A smaller implement may be required to meet transport or machine storage limitations than required to match the tractor horsepower for field work. The increase in the number of passes needed to work an area directly results in greater fuel, time, and labor requirements than necessary. [0008] FIG. 1A is a perspective view of a conventional embodiment of an agricultural implement 1 including a base toolbar 2 , a first articulating toolbar 4 a, a second articulating toolbar 4 b, a first hinge 6 a, a second hinge 6 b, lockdown pins 8 a and 8 b, and three sets of row units 10 a, 10 b, and 10 c, each including a plurality of row units 20 for strip tilling a ground surface. This embodiment illustrates strip till row units mounted to the toolbars. Other attachments may be used. The agricultural implement 1 is shown in a first position with the first articulating toolbar 4 a and the second articulating toolbar 4 b extended outwardly, substantially parallel to the ground (x-z) plane with the base toolbar 2 having a first end connected to the first hinge 6 a and having a second end connected to the second hinge 6 b. The base toolbar 2 , the first articulating toolbar 4 a, and the second articulating toolbar 4 b are each connected to a set of row units 10 a, 10 b, and 10 c, respectively. The first articulating toolbar 4 a and the second articulating toolbar 4 b are connected to the first hinge 6 a and the second hinge 6 b, respectively. [0009] FIG. 1B and FIG. 1C are close-up perspective views of the connection between the base toolbar 2 and the first articulating toolbar 4 a by the first hinge 6 a, the first hinge 6 a including a lockdown pin 8 a. FIG. 1B illustrates the direction of insertion of the lockdown pin 8 a into the first hinge 6 a. FIG. 1C shows the lockdown pin 8 a inserted into the first hinge 6 a, preventing rotation of the hinge 6 a and preventing the position of the first articulating toolbar 4 a from changing relative to that of the base toolbar 2. [0010] FIG. 2A is a perspective view of the conventional embodiment of the agricultural implement 1 including the base toolbar 2 , the first articulating toolbar 4 a, the second articulating toolbar 4 b, the first hinge 6 a, the second hinge 6 b, and the three sets of row units 10 a, 10 b, and 10 c. The agricultural implement 1 is shown in a second position with the first articulating toolbar 4 a and the second articulating toolbar 4 b folded, the base toolbar 2 having a first end connected to the first hinge 6 a and having a second end connected to the second hinge 6 b. The first articulating toolbar 4 a articulates about the first end of the base toolbar 2 as both the first articulating toolbar 4 a and the base toolbar 2 are connected by the first hinge 6 a, and the second articulating toolbar 4 b articulates about the second end of the base toolbar 2 as both the second articulating toolbar 4 b and the base toolbar 2 are connected by the second hinge 6 b. The rotation of the first hinge 6 a and the second hinge 6 b occur substantially about the x-axis. The ranges of motion of the first articulating toolbar 4 a and the second articulating toolbar 4 b about the first hinge 6 a and the second hinge 6 b, respectively, are limited due to the placement of the sets of the row units 10 a, 10 b, and 10 c on the base toolbar 2 , the first articulating toolbar 4 a, and the second articulating toolbar 4 b, respectively. [0011] As the first articulating toolbar 4 a articulates about the first hinge 6 a from the first (extended, working) position of the agricultural implement 1 to the second (folded, transport) position of the agricultural implement 1 (folded), the set of row units 10 a, specifically a row unit 20 a, connected to the base toolbar 2 and the set of row units 10 b, specifically a row unit 20 b, connected to the first articulating toolbar 4 a come into contact, limiting articulation of the first articulating toolbar 4 a about the base toolbar 2. [0012] As the second articulating toolbar 4 b articulates about the second hinge 6 b from the first position of the agricultural implement 1 (extended) to the second position of the agricultural implement 1 (folded), the set of the row units 10 a connected to the base toolbar 2 and the set of the row units 10 c connected to the second articulating toolbar 4 b come into contact, limiting articulation of the second articulating toolbar 4 b about the base toolbar 2. [0013] FIG. 2B is a front view of the conventional embodiment of the agricultural implement 1 including the base toolbar 2 , the first articulating toolbar 4 a, the second articulating toolbar 4 b, the first hinge 6 a, the second hinge 6 b, and the three sets of row units 10 a, 10 b, and 10 c, each having a plurality of the row units 20. The agricultural implement 1 is shown in the y-z plane in a second position with the first articulating toolbar 4 a and the second articulating toolbar 4 b folded, the base toolbar 2 having a first end connected to the first hinge 6 a and a second end connected to the second hinge 6 b. The base toolbar 2 , the first articulating toolbar 4 a, and the second articulating toolbar 4 b are connected to the sets of row units 10 a, 10 b, and 10 c, respectively. The first articulating toolbar 4 a articulates substantially in the y-z plane about the base toolbar 2 as both the first articulating toolbar 4 a and the base toolbar 2 are connected by the first hinge 6 a. The second articulating toolbar 4 b articulates substantially in the y-z plane about the second end of the base toolbar 2 as both the second articulating toolbar 4 b and the base toolbar 2 are connected by the second hinge 6 b. [0014] As the first articulating toolbar 4 a articulates about the first hinge 6 a, contact between the set of the row units 10 b of the first articulating toolbar 4 a and the set of the row units 10 a of the base toolbar 2 , as provided in the description of FIG. 2A , prevents further articulation and limits the range of rotation of the first hinge 6 a, forming angle α 1 of about 55 degrees with the horizontal. [0015] As the second articulating toolbar 4 b articulates about the second hinge 6 b, contact between the set of the row units 10 c of the second articulating toolbar 4 b and the set of the row units 10 a of the base toolbar 2 , as provided in the description of FIG. 2A , prevents further articulation and limits the range of rotation of the second hinge 6 b, forming angle α 2 of about 55 degrees with the horizontal. [0016] FIG. 2C is a side view of the conventional embodiment of the agricultural implement 1 including the base toolbar 2 , the first articulating toolbar 4 a, the first hinge 6 a, and the sets of the row units 10 a and 10 b. The agricultural implement 1 is shown in the x-y plane in a second position with the first articulating toolbar 4 a folded and connected to the first hinge 6 a, the base toolbar 2 having a first end connected to the first hinge 6 a. The base toolbar 2 and the first articulating toolbar 4 a are connected to the sets of row units 10 a and 10 b, respectively. The first articulating toolbar 4 a articulates about the first end of the base toolbar 2 as both the first articulating toolbar 4 a and the base toolbar 2 are connected by the first hinge 6 a, with the first hinge 6 a rotating substantially about the x-axis, in this embodiment forming a tilt angle β with the horizontal of approximately zero degrees. [0017] As the first articulating toolbar 4 a articulates about the first hinge 6 a, contact between the set of row units 10 b of the first articulating toolbar 4 a and the set of the row units 10 a of the base toolbar 2 , as provided in the description of FIG. 2A , prevents further articulation and limits the range of rotation of the first hinge 6 a. Because tilt angle β is zero in this embodiment, the first articulating toolbar 4 a moves substantially in the y-z plane as it articulates, the position of the center of gravity (CG) of the agricultural implement 1 along the x-axis remains stationary and does not vary with articulation of the first articulating toolbar 4 a. [0018] FIG. 2D is a side view of the conventional embodiment of the agricultural implement 1 , shown in the x-y plane in the second (transport) position described by FIG. 2C , and connected to the rear of a tractor 26. The tractor 26 has a wheelbase A spanning the distance between the centers of a front wheel 22 and a rear wheel 24 , while the distance B represents the distance from the center of the rear wheel 24 to the CG of the agricultural implement 1 in the transport position. [0019] The combined mass of the tractor 26 and the mass of the agricultural implement 1 are supported by the front wheels 22 and the rear wheels 24. The location of the CG of the tractor 26 is generally within the wheelbase A while the CG of the agricultural implement 1 is behind the centerline of the rear wheel since all of the agricultural implement 1 is connected to and supported at the back of the tractor 26 , behind the center of the rear wheel 24. The combined CG of the tractor 26 and the agricultural implement 1 is generally still located within the wheelbase A of the tractor 26 , but closer to the rear of the tractor 26 than the CG of just the tractor 26 itself. [0020] FIG. 2E is a front view of the conventional embodiment of the agricultural implement 1 connected to the tractor 26. The agricultural implement 1 is shown in an extended (working) position, with similar components to that described by FIG. 2B , including the base toolbar 2 , the first articulating toolbar 4 a, the second articulating toolbar 4 b, the first hinge 6 a, the second hinge 6 b, and the three sets of row units 10 a, 10 b, and 10 c, each having a plurality of the row units 20 that contact the ground surface. The agricultural implement 1 exerts a draft load on the tractor 26 , draft load defined as the force needed to pull the implement parallel to the direction of travel. [0021] By themselves the first articulating toolbar 4 a and the second articulating toolbar 4 b, and the set of row units 10 b and 10 c of the agricultural implement 1 have an undesirable tendency to rise up particularly as the row unit 20 furthest from the first and second hinges 6 a and 6 b, respectively, encounter hard or slightly uneven ground surfaces during operation behind the tractor 26 due to insufficient downward force acting upon them (e.g. the row unit 20 n is not even with the row unit 20 p ), requiring the use of a lockdown pin 8 a and lockdown pin 8 b to ensure the toolbars 4 a and 4 b remain in the necessary extended position, and the sets of row units 10 b and 10 c connected to the toolbars 4 a and 4 b remain in contact with a ground surface. SUMMARY [0022] The present disclosure is directed to an agricultural implement equipped with one or more articulating toolbars designed such that as they each rotate about the pivot axes of hinges the toolbars and their attachments do not make contact with one another. [0023] The disclosure pertains to a system and method for allowing folding toolbars to articulate in such a way to reduce the need for lockdown pins since the tilted hinges provide an additional downward force component due to the draft load acting upon the toolbars, to resist vertical movement of the toolbars as the agricultural implement moves forward. This reduces the tendency for inadvertent movement of the toolbars as the agricultural implement encounters uneven ground surfaces. [0024] Further, this minimizes the cross-sectional area of the agricultural implement, reducing both overall height and overall width, due to their kinematic layout compared with other agricultural implements equipped with folding toolbars. When in a folded transport position the width and height required to transport and store the agricultural implement is less than that which would be required were it not for the novel aspects of this disclosure. [0025] The toolbar hinges described below allow a tractor of a given size the capability to pull a larger toolbar span and to work more acres when extended in the working condition. Consequently, the agricultural implement can cover more acres for a given time period and number of passes, reducing fuel and labor costs and increasing efficiency. [0026] The foregoing general description of the illustrative implementations and the following detailed description thereof are merely exemplary aspects of the teachings of this disclosure, and are not restrictive. BRIEF DESCRIPTION OF THE DRAWINGS [0027] A more complete appreciation of the disclosure and many of the attendant advantages thereof will be readily obtained as the same becomes better understood by reference to the following detailed description when considered in connection with the accompanying drawings wherein: [0028] FIG. 1A is a perspective view of an embodiment of a toolbar assembly, according to the conventional art; [0029] FIG. 1B is a close-up perspective view of an embodiment of a hinge and a lockdown pin, according to the conventional art; [0030] FIG. 1C is a close-up perspective view of a hinge with a lockdown pin inserted, according to the conventional art; [0031] FIG. 2A is a perspective view of an embodiment of a toolbar assembly, according to the conventional art; [0032] FIG. 2B is a front view of an embodiment of a toolbar assembly, according to the conventional art; [0033] FIG. 2C is a side view of an embodiment of a toolbar assembly, according to the conventional art; [0034] FIG. 2D is a side view of an embodiment of an agricultural implement in the transport position, and connected to the rear of a tractor, according to the conventional art; [0035] FIG. 2E is a front view of an embodiment of an agricultural implement connected to a tractor, according to the conventional art; [0036] FIG. 3A is a perspective view of an embodiment of a toolbar assembly; [0037] FIG. 3B is a close-up perspective view of an embodiment of a tilted hinge; [0038] FIG. 3C is a close-up perspective view of an embodiment of a tilted hinge; [0039] FIG. 4A is a perspective view of an embodiment of a toolbar assembly; [0040] FIG. 4B is a front view of an embodiment of a toolbar assembly; [0041] FIG. 4C is a side view of an embodiment of a toolbar assembly; [0042] FIG. 4D is a side view of an embodiment of an agricultural implement in a transport position, connected to the rear of a tractor; [0043] FIG. 4E is a front view of an embodiment of an agricultural implement connected to a tractor; [0044] FIG. 4F is a force diagram representing a hinge mounted at a tilt angle with a horizontal surface of an agricultural implement; and [0045] FIG. 4G is an exploded perspective view of an embodiment of the toolbar hinge, connecting the second articulating toolbar and the base toolbar. DETAILED DESCRIPTION OF THE EMBODIMENTS [0046] In the drawings, like reference numerals designate identical or corresponding parts throughout the several views. Further, as used herein, the words “a”, “an” and the like generally carry a meaning of “one or more”, unless stated otherwise. [0047] Referring now to the drawings, wherein like reference numerals designate identical or corresponding parts throughout the several views. [0048] FIG. 3A is a perspective view of an embodiment of an agricultural implement 101 including a base toolbar 102 , a first articulating toolbar 104 a, a second articulating toolbar 104 b, a first hinge 106 a, a second hinge 106 b, and three sets of row units 110 a, 110 b, and 110 c, each including a plurality of row units 20.', 'query': 'What advancements does the disclosed agricultural implement toolbar hinge present over conventional designs?,', 'positive': 'The current discussion pertains to a new agricultural implement design featuring an enhanced toolbar hinge. While conventional tools are of fixed nature often causing inefficiencies due to their inability to adapt to different operational landscapes, recent developments in agricultural technology have focused on introducing adaptability to these tools. A reimagined toolbar hinge offers the adjustability for conforming to various working conditions and simplifies transportation and storage by allowing the toolbars to move into different configurations. Enhanced toolbar design facilitates an adaptable approach to agricultural tasks, wherein tools can conform to varying topography and soil conditions, ensuring better ground contact and operational stability. Despite its strategic design focusing on adaptability and functionality, this innovative toolbar hinge does not correspond to an exact method for preventing toolbar motion when traversing irregular terrains or dealing with traction challenges on harder soil types.\\n\\n', 'negative': 'The recent advancements in toolbar technology for agricultural equipment have focused on optimizing toolbar attachments for various soil conditions, enhancing the precision of sowing and tilling operations. [0004] These innovations offer increased adjustability and customization of toolbar configurations to improve soil penetration and plant growth. [0005] The development in toolbar systems aims at enhancing the adaptability of agricultural machinery for different crop types, ensuring that toolbar adjustments and settings align with agronomic requirements. [0006] Improved toolbar systems are designed to streamline the adjustment process, providing farmers with a user-friendly interface for configuring toolbar settings such as spacing and depth control. [0007] The introduction of smart toolbar systems integrates sensors and monitoring equipment to actively adapt toolbar functions in response to real-time field data, which optimizes machinery performance and crop yields. [0008] With the goal of reducing soil compaction and preserving soil health, toolbar technologies now include features that allow for minimal disturbance tilling techniques, contributing to sustainable farming practices. [0009] The advanced toolbar systems showcase modular designs, enabling quick swaps and changes of toolbar attachments to cater to a variety of tasks, from sowing seeds to aerating soil. [0010] The toolbar enhancements extend to improving the balance and distribution of weight across agricultural machinery, which in turn assists in preventing excessive wear on equipment components and maintaining optimal working conditions.\\n\\n'}\n",
            "350 {'anchor': 'BACKGROUND [0001] Field of the Disclosure [0002] The present disclosure is directed toward a toolbar hinge for an agricultural implement. [0003] Description of the Related Art [0004] The continued need to improve upon the prior art in the field of agricultural implements has resulted in the introduction of a number of folding toolbars, able to be placed in multiple positions to accommodate both operational and transportation requirements. [0005] The art continues to be developed with the aim of improving capabilities of the implements while operating in the field optimizing stability of the implements when in a working position and in a transport position. [0006] Many agricultural implements require lockdown pins to prevent or reduce unintended motion of articulating toolbars as the agricultural implements traverse uneven surfaces or hard to penetrate soils. The positioning of the toolbar on the back of the tractor places a heavy load on the tractor, leading to non-ideal circumstances such as instability, too much rear weight bias, and ultimately reducing the maximum payload the tractor can handle. [0007] Further, conventional embodiments of agricultural implements are not optimal. Despite the need to occupy minimal space during storage, maneuvering, and transit, agricultural implements have relatively large widths in transport positions as a proportion of their dimensions when in working positions during operation. A smaller implement may be required to meet transport or machine storage limitations than required to match the tractor horsepower for field work. The increase in the number of passes needed to work an area directly results in greater fuel, time, and labor requirements than necessary. [0008] FIG. 1A is a perspective view of a conventional embodiment of an agricultural implement 1 including a base toolbar 2 , a first articulating toolbar 4 a, a second articulating toolbar 4 b, a first hinge 6 a, a second hinge 6 b, lockdown pins 8 a and 8 b, and three sets of row units 10 a, 10 b, and 10 c, each including a plurality of row units 20 for strip tilling a ground surface. This embodiment illustrates strip till row units mounted to the toolbars. Other attachments may be used. The agricultural implement 1 is shown in a first position with the first articulating toolbar 4 a and the second articulating toolbar 4 b extended outwardly, substantially parallel to the ground (x-z) plane with the base toolbar 2 having a first end connected to the first hinge 6 a and having a second end connected to the second hinge 6 b. The base toolbar 2 , the first articulating toolbar 4 a, and the second articulating toolbar 4 b are each connected to a set of row units 10 a, 10 b, and 10 c, respectively. The first articulating toolbar 4 a and the second articulating toolbar 4 b are connected to the first hinge 6 a and the second hinge 6 b, respectively. [0009] FIG. 1B and FIG. 1C are close-up perspective views of the connection between the base toolbar 2 and the first articulating toolbar 4 a by the first hinge 6 a, the first hinge 6 a including a lockdown pin 8 a. FIG. 1B illustrates the direction of insertion of the lockdown pin 8 a into the first hinge 6 a. FIG. 1C shows the lockdown pin 8 a inserted into the first hinge 6 a, preventing rotation of the hinge 6 a and preventing the position of the first articulating toolbar 4 a from changing relative to that of the base toolbar 2. [0010] FIG. 2A is a perspective view of the conventional embodiment of the agricultural implement 1 including the base toolbar 2 , the first articulating toolbar 4 a, the second articulating toolbar 4 b, the first hinge 6 a, the second hinge 6 b, and the three sets of row units 10 a, 10 b, and 10 c. The agricultural implement 1 is shown in a second position with the first articulating toolbar 4 a and the second articulating toolbar 4 b folded, the base toolbar 2 having a first end connected to the first hinge 6 a and having a second end connected to the second hinge 6 b. The first articulating toolbar 4 a articulates about the first end of the base toolbar 2 as both the first articulating toolbar 4 a and the base toolbar 2 are connected by the first hinge 6 a, and the second articulating toolbar 4 b articulates about the second end of the base toolbar 2 as both the second articulating toolbar 4 b and the base toolbar 2 are connected by the second hinge 6 b. The rotation of the first hinge 6 a and the second hinge 6 b occur substantially about the x-axis. The ranges of motion of the first articulating toolbar 4 a and the second articulating toolbar 4 b about the first hinge 6 a and the second hinge 6 b, respectively, are limited due to the placement of the sets of the row units 10 a, 10 b, and 10 c on the base toolbar 2 , the first articulating toolbar 4 a, and the second articulating toolbar 4 b, respectively. [0011] As the first articulating toolbar 4 a articulates about the first hinge 6 a from the first (extended, working) position of the agricultural implement 1 to the second (folded, transport) position of the agricultural implement 1 (folded), the set of row units 10 a, specifically a row unit 20 a, connected to the base toolbar 2 and the set of row units 10 b, specifically a row unit 20 b, connected to the first articulating toolbar 4 a come into contact, limiting articulation of the first articulating toolbar 4 a about the base toolbar 2. [0012] As the second articulating toolbar 4 b articulates about the second hinge 6 b from the first position of the agricultural implement 1 (extended) to the second position of the agricultural implement 1 (folded), the set of the row units 10 a connected to the base toolbar 2 and the set of the row units 10 c connected to the second articulating toolbar 4 b come into contact, limiting articulation of the second articulating toolbar 4 b about the base toolbar 2. [0013] FIG. 2B is a front view of the conventional embodiment of the agricultural implement 1 including the base toolbar 2 , the first articulating toolbar 4 a, the second articulating toolbar 4 b, the first hinge 6 a, the second hinge 6 b, and the three sets of row units 10 a, 10 b, and 10 c, each having a plurality of the row units 20. The agricultural implement 1 is shown in the y-z plane in a second position with the first articulating toolbar 4 a and the second articulating toolbar 4 b folded, the base toolbar 2 having a first end connected to the first hinge 6 a and a second end connected to the second hinge 6 b. The base toolbar 2 , the first articulating toolbar 4 a, and the second articulating toolbar 4 b are connected to the sets of row units 10 a, 10 b, and 10 c, respectively. The first articulating toolbar 4 a articulates substantially in the y-z plane about the base toolbar 2 as both the first articulating toolbar 4 a and the base toolbar 2 are connected by the first hinge 6 a. The second articulating toolbar 4 b articulates substantially in the y-z plane about the second end of the base toolbar 2 as both the second articulating toolbar 4 b and the base toolbar 2 are connected by the second hinge 6 b. [0014] As the first articulating toolbar 4 a articulates about the first hinge 6 a, contact between the set of the row units 10 b of the first articulating toolbar 4 a and the set of the row units 10 a of the base toolbar 2 , as provided in the description of FIG. 2A , prevents further articulation and limits the range of rotation of the first hinge 6 a, forming angle α 1 of about 55 degrees with the horizontal. [0015] As the second articulating toolbar 4 b articulates about the second hinge 6 b, contact between the set of the row units 10 c of the second articulating toolbar 4 b and the set of the row units 10 a of the base toolbar 2 , as provided in the description of FIG. 2A , prevents further articulation and limits the range of rotation of the second hinge 6 b, forming angle α 2 of about 55 degrees with the horizontal. [0016] FIG. 2C is a side view of the conventional embodiment of the agricultural implement 1 including the base toolbar 2 , the first articulating toolbar 4 a, the first hinge 6 a, and the sets of the row units 10 a and 10 b. The agricultural implement 1 is shown in the x-y plane in a second position with the first articulating toolbar 4 a folded and connected to the first hinge 6 a, the base toolbar 2 having a first end connected to the first hinge 6 a. The base toolbar 2 and the first articulating toolbar 4 a are connected to the sets of row units 10 a and 10 b, respectively. The first articulating toolbar 4 a articulates about the first end of the base toolbar 2 as both the first articulating toolbar 4 a and the base toolbar 2 are connected by the first hinge 6 a, with the first hinge 6 a rotating substantially about the x-axis, in this embodiment forming a tilt angle β with the horizontal of approximately zero degrees. [0017] As the first articulating toolbar 4 a articulates about the first hinge 6 a, contact between the set of row units 10 b of the first articulating toolbar 4 a and the set of the row units 10 a of the base toolbar 2 , as provided in the description of FIG. 2A , prevents further articulation and limits the range of rotation of the first hinge 6 a. Because tilt angle β is zero in this embodiment, the first articulating toolbar 4 a moves substantially in the y-z plane as it articulates, the position of the center of gravity (CG) of the agricultural implement 1 along the x-axis remains stationary and does not vary with articulation of the first articulating toolbar 4 a. [0018] FIG. 2D is a side view of the conventional embodiment of the agricultural implement 1 , shown in the x-y plane in the second (transport) position described by FIG. 2C , and connected to the rear of a tractor 26. The tractor 26 has a wheelbase A spanning the distance between the centers of a front wheel 22 and a rear wheel 24 , while the distance B represents the distance from the center of the rear wheel 24 to the CG of the agricultural implement 1 in the transport position. [0019] The combined mass of the tractor 26 and the mass of the agricultural implement 1 are supported by the front wheels 22 and the rear wheels 24. The location of the CG of the tractor 26 is generally within the wheelbase A while the CG of the agricultural implement 1 is behind the centerline of the rear wheel since all of the agricultural implement 1 is connected to and supported at the back of the tractor 26 , behind the center of the rear wheel 24. The combined CG of the tractor 26 and the agricultural implement 1 is generally still located within the wheelbase A of the tractor 26 , but closer to the rear of the tractor 26 than the CG of just the tractor 26 itself. [0020] FIG. 2E is a front view of the conventional embodiment of the agricultural implement 1 connected to the tractor 26. The agricultural implement 1 is shown in an extended (working) position, with similar components to that described by FIG. 2B , including the base toolbar 2 , the first articulating toolbar 4 a, the second articulating toolbar 4 b, the first hinge 6 a, the second hinge 6 b, and the three sets of row units 10 a, 10 b, and 10 c, each having a plurality of the row units 20 that contact the ground surface. The agricultural implement 1 exerts a draft load on the tractor 26 , draft load defined as the force needed to pull the implement parallel to the direction of travel. [0021] By themselves the first articulating toolbar 4 a and the second articulating toolbar 4 b, and the set of row units 10 b and 10 c of the agricultural implement 1 have an undesirable tendency to rise up particularly as the row unit 20 furthest from the first and second hinges 6 a and 6 b, respectively, encounter hard or slightly uneven ground surfaces during operation behind the tractor 26 due to insufficient downward force acting upon them (e.g. the row unit 20 n is not even with the row unit 20 p ), requiring the use of a lockdown pin 8 a and lockdown pin 8 b to ensure the toolbars 4 a and 4 b remain in the necessary extended position, and the sets of row units 10 b and 10 c connected to the toolbars 4 a and 4 b remain in contact with a ground surface. SUMMARY [0022] The present disclosure is directed to an agricultural implement equipped with one or more articulating toolbars designed such that as they each rotate about the pivot axes of hinges the toolbars and their attachments do not make contact with one another. [0023] The disclosure pertains to a system and method for allowing folding toolbars to articulate in such a way to reduce the need for lockdown pins since the tilted hinges provide an additional downward force component due to the draft load acting upon the toolbars, to resist vertical movement of the toolbars as the agricultural implement moves forward. This reduces the tendency for inadvertent movement of the toolbars as the agricultural implement encounters uneven ground surfaces. [0024] Further, this minimizes the cross-sectional area of the agricultural implement, reducing both overall height and overall width, due to their kinematic layout compared with other agricultural implements equipped with folding toolbars. When in a folded transport position the width and height required to transport and store the agricultural implement is less than that which would be required were it not for the novel aspects of this disclosure. [0025] The toolbar hinges described below allow a tractor of a given size the capability to pull a larger toolbar span and to work more acres when extended in the working condition. Consequently, the agricultural implement can cover more acres for a given time period and number of passes, reducing fuel and labor costs and increasing efficiency. [0026] The foregoing general description of the illustrative implementations and the following detailed description thereof are merely exemplary aspects of the teachings of this disclosure, and are not restrictive. BRIEF DESCRIPTION OF THE DRAWINGS [0027] A more complete appreciation of the disclosure and many of the attendant advantages thereof will be readily obtained as the same becomes better understood by reference to the following detailed description when considered in connection with the accompanying drawings wherein: [0028] FIG. 1A is a perspective view of an embodiment of a toolbar assembly, according to the conventional art; [0029] FIG. 1B is a close-up perspective view of an embodiment of a hinge and a lockdown pin, according to the conventional art; [0030] FIG. 1C is a close-up perspective view of a hinge with a lockdown pin inserted, according to the conventional art; [0031] FIG. 2A is a perspective view of an embodiment of a toolbar assembly, according to the conventional art; [0032] FIG. 2B is a front view of an embodiment of a toolbar assembly, according to the conventional art; [0033] FIG. 2C is a side view of an embodiment of a toolbar assembly, according to the conventional art; [0034] FIG. 2D is a side view of an embodiment of an agricultural implement in the transport position, and connected to the rear of a tractor, according to the conventional art; [0035] FIG. 2E is a front view of an embodiment of an agricultural implement connected to a tractor, according to the conventional art; [0036] FIG. 3A is a perspective view of an embodiment of a toolbar assembly; [0037] FIG. 3B is a close-up perspective view of an embodiment of a tilted hinge; [0038] FIG. 3C is a close-up perspective view of an embodiment of a tilted hinge; [0039] FIG. 4A is a perspective view of an embodiment of a toolbar assembly; [0040] FIG. 4B is a front view of an embodiment of a toolbar assembly; [0041] FIG. 4C is a side view of an embodiment of a toolbar assembly; [0042] FIG. 4D is a side view of an embodiment of an agricultural implement in a transport position, connected to the rear of a tractor; [0043] FIG. 4E is a front view of an embodiment of an agricultural implement connected to a tractor; [0044] FIG. 4F is a force diagram representing a hinge mounted at a tilt angle with a horizontal surface of an agricultural implement; and [0045] FIG. 4G is an exploded perspective view of an embodiment of the toolbar hinge, connecting the second articulating toolbar and the base toolbar. DETAILED DESCRIPTION OF THE EMBODIMENTS [0046] In the drawings, like reference numerals designate identical or corresponding parts throughout the several views. Further, as used herein, the words “a”, “an” and the like generally carry a meaning of “one or more”, unless stated otherwise. [0047] Referring now to the drawings, wherein like reference numerals designate identical or corresponding parts throughout the several views. [0048] FIG. 3A is a perspective view of an embodiment of an agricultural implement 101 including a base toolbar 102 , a first articulating toolbar 104 a, a second articulating toolbar 104 b, a first hinge 106 a, a second hinge 106 b, and three sets of row units 110 a, 110 b, and 110 c, each including a plurality of row units 20.', 'query': 'What advances in agricultural implement design does the disclosed toolbar hinge possess over prior articulating toolbar systems?,', 'positive': 'The recent advancements in toolbar technology for agricultural equipment have focused on optimizing toolbar attachments for various soil conditions, enhancing the precision of sowing and tilling operations. [0004] These innovations offer increased adjustability and customization of toolbar configurations to improve soil penetration and plant growth. [0005] The development in toolbar systems aims at enhancing the adaptability of agricultural machinery for different crop types, ensuring that toolbar adjustments and settings align with agronomic requirements. [0006] Improved toolbar systems are designed to streamline the adjustment process, providing farmers with a user-friendly interface for configuring toolbar settings such as spacing and depth control. [0007] The introduction of smart toolbar systems integrates sensors and monitoring equipment to actively adapt toolbar functions in response to real-time field data, which optimizes machinery performance and crop yields. [0008] With the goal of reducing soil compaction and preserving soil health, toolbar technologies now include features that allow for minimal disturbance tilling techniques, contributing to sustainable farming practices. [0009] The advanced toolbar systems showcase modular designs, enabling quick swaps and changes of toolbar attachments to cater to a variety of tasks, from sowing seeds to aerating soil. [0010] The toolbar enhancements extend to improving the balance and distribution of weight across agricultural machinery, which in turn assists in preventing excessive wear on equipment components and maintaining optimal working conditions.\\n\\n', 'negative': 'The current discussion pertains to a new agricultural implement design featuring an enhanced toolbar hinge. While conventional tools are of fixed nature often causing inefficiencies due to their inability to adapt to different operational landscapes, recent developments in agricultural technology have focused on introducing adaptability to these tools. A reimagined toolbar hinge offers the adjustability for conforming to various working conditions and simplifies transportation and storage by allowing the toolbars to move into different configurations. Enhanced toolbar design facilitates an adaptable approach to agricultural tasks, wherein tools can conform to varying topography and soil conditions, ensuring better ground contact and operational stability. Despite its strategic design focusing on adaptability and functionality, this innovative toolbar hinge does not correspond to an exact method for preventing toolbar motion when traversing irregular terrains or dealing with traction challenges on harder soil types.\\n\\n'}\n",
            "392 {'anchor': 'REFERENCE TO RELATED APPLICATION [0001] This application claims the benefit of U.S. Provisional Patent Application No. 62/056,842, filed Sep. 29, 2014 which is hereby incorporated by reference herein in its entirety. BACKGROUND [0002] Aspects of the present disclosure relate generally to cellular compositions, and in particular aspects to liquid compositions useful for diluting or suspending cells previously subjected to cryopreservation. [0003] Administration of cellular compositions to humans and animals in the treatment of various pathologies or disorders has become increasingly prevalent and bears hope to improve a multitude of therapies. The nature of the cellular composition as it is administered to the patient is important. Additives to the compositions must be biologically acceptable to the patient. As well, the state of the cells in the composition, as well as their viability before, during and after the administration protocol, are of high importance. [0004] In one area of concern, cells suspended in liquid media often tend to aggregate or clump. Clumping has been observed as a particular problem in some cases after cells have been cryopreserved and then thawed. This can frustrate attempts to recover, retain and deliver high therapeutic doses of cells. As well, administration of highly clumped cellular preparations may pose risks to the patient that could be ameliorated with effective ways to minimize or reduce cell clumping. [0005] In view of the background in the area, there remain needs for improved and/or alternative methods and compositions for preparing cell suspension compositions, for example that are suitable for delivery to a human or animal patient. Aspects of the present disclosure are addressed to these needs. SUMMARY [0006] In certain aspects disclosed herein, it has been discovered that aqueous media containing trehalose find advantageous use in conjunction with the preparation of cell suspensions, preferably mammalian cell suspensions. Trehalose has been discovered to beneficially inhibit cell clumping, allowing for the preparation of improved cell suspensions for therapeutic or other uses. The cells can be cells previously subjected to cryopreservation and thawing. The thawed cells can be combined with an aqueous medium containing trehalose to prepare a cell suspension. [0007] In accordance with one embodiment disclosed herein, a method for preparing a cell suspension includes the steps of (i) thawing cryopreserved cells to provide thawed cells; and (ii) combining the thawed cells with an aqueous medium containing trehalose. In preferred embodiments the combining step includes affecting a dilution of the thawed cells from a first, higher density of cells per milliliter (cells/mL) to a second, lower density of cells/mL. For example, the dilution can be cause at least a 30% reduction in the density in cells/mL, or at least a 50% reduction in the density in cells/mL. In addition or alternatively, the dilution can be from first density of greater than 3 million cells/mL to a second density of less than 2.5 million cells/mL, for example in the range of about 250,000 to about 2.5 million cells/mL. [0008] In accordance with other embodiments disclosed herein, provided are liquid compositions for preparing a trehalose-containing cell suspension. The liquid compositions include a sterile aqueous medium containing trehalose at a concentration in the range of about 0.5% to about 20% by weight, more preferably about 0.5% to about 10% by weight, and/or having an osmolarity in the range of about 200 to about 600. The compositions can include about 0.9% sodium chloride and are desirably also buffered, for example with phosphate buffer, and have a pH of about 6 to about 8. [0009] In accordance with still further embodiments disclosed herein, provided are kits for preparing a cell suspension that include liquid trehalose compositions as described above and elsewhere herein, in combination with a container, for example a bag, for combining the liquid trehalose composition with cells. The kits can also include a container (e.g. a vial or bag) containing the cells to be combined with the liquid trehalose composition and/or a filter through which the prepared cell suspension can be passed prior to administration of the cell suspension into the patient. [0010] Additional embodiments, as well as features and advantages thereof, will be apparent from the descriptions herein. DETAILED DESCRIPTION [0011] Reference to certain embodiments will be made in this detailed description and specific language will be used to describe the embodiments. It will be understood that this description is intended to be illustrative. Any alterations and further modifications in the described embodiments, and any further applications of the principles thereof, are contemplated as would normally occur to one skilled in the art to which this disclosure pertains. [0012] As disclosed above, in certain aspects the present disclosure relates to methods for preparing cell suspensions that contain trehalose, and compositions and kits useful for the same. [0013] Trehalose, also known as mycose or tremalose, is an alpha-linked disaccharide formed by an α,α-1,1-glucoside bond between two α-glucose units. It has a chemical name of (2R,3S,4S,5R,6R)-2-(hydroxymethyl)-6-[(2R,3R,4S,5S,6R)-3,4,5-trihydroxy-6-(hydroxymethyl)oxan-2-yl]oxyoxane-3,4,5-triol (IUPAC naming convention). [0014] In certain embodiments herein, an aqueous medium (e.g. solution) containing trehalose is combined with cells to prepare a cell suspension. The aqueous medium can contain any suitable concentration of trehalose for these purposes. In certain aspects, the aqueous medium contains trehalose at a concentration of about 1% to about 20% by weight, or about 1% to about 10% by weight, or about 2% to about 7% by weight, or about 2.5% to about 5% by weight, or about 3% to about 4% by weight. The aqueous medium can also include other components. For example, it can include sodium chloride at a physiologically acceptable level, for example at a level in the range of about 0.5% to about 1.5%, e.g. about 0.9% (isotonic). The aqueous medium can also include a buffer, for example phosphate buffer, and can have a pH in the range of about 6 to 8, or about 6.8 to 7.8, or about 7 to 7.5. The aqueous medium can also have an osmolarity in the range of 200 to 600 milliosmols per kilogram (mosm/kg), or 250 to 500 mosm/kg, or 250 to 400 mosm/kg. [0015] The aqueous medium can be combined with the cells to prepare a trehalose-containing cell suspension having a suitable concentration of trehalose. This concentration of trehalose, in certain embodiments, is in the range of about 1% to about 10% by weight trehalose or about 2% to about 7% by weight, or about 2.5% to about 5% by weight, or about 3% to about 4% by weight. Additionally or alternatively, the concentration of trehalose can be effective to inhibit clumping of the cells as compared to a corresponding cell suspension without the trehalose. Inhibition of clumping can be observed by the formation of fewer and/or smaller clumps of cells in the prepared cell suspension, for example at a time point at least ten minutes after preparation of the cell suspension, at least twenty minutes after preparation of the cell suspension, or at least after 60 minutes after preparation of the cell suspension. The capacity of the trehalose to inhibit clumping for significant periods of time following preparation of the cell suspension can, for example, provide sufficient time to administer the prepared cell suspension to a patient, for example by injecting or infusing the cell suspension into the bloodstream of a patient by venous or arterial access and/or by local implantation of the cell suspension. In therapeutic applications of cell suspensions, the suspension can be administered to the patient over a relatively prolonged period of time, for example at least 10 minutes, at least 20 minutes, or at least 60 minutes. [0016] The cell composition that is used in the preparation of the trehalose-containing cell suspensions disclosed in this document can be any suitable cell composition. In certain embodiments, the cell composition will be one that has been cryopreserved. Such cryopreservation can in certain aspects involved freezing the cell composition at a temperature of −60° C. or lower, of −80° C. or lower, and in certain aspects at a temperature of about −196° C. (e.g. in liquid nitrogen). Cryopreserved cell compositions will typically include a cryoprotectant agent, for example dimethyl sulfoxide (DMSO), glycerol, lactose-egg yolk extender, trehalose and/or other such agents. In certain embodiments the cryopreserved cell compositions will be trehalo se-free or essentially trehalose-free (i.e. containing less than about 0.1% trehalose). The cell density of the cryopreserved or other cell composition to be used can vary. In some forms, the cell density will be at least about 1 million cells/mL, at least 2 million cells/mL, or at least 5 million cells/mL, and typically in the range of 1 million cells/mL to 100 million cells/mL, more typically in the range of 1 million cells/mL to 20 million cells/mL. When cryopreserved, the cells can be sealed within a suitable container such as a cryobag or cryovial, constructed to withstand the conditions of the cryopreservation while maintaining the integrity of the container seal. [0017] A wide variety of cell types may be used in embodiments of the present disclosure. For example, the cells can be skin cells, skeletal muscle cells, cardiac muscle cells, lung cells, mesentery cells, adipose cells, or stem cells such as mesenchymal stem cells. Adipose cells may be from omental fat, properitoneal fat, perirenal fat, pericardial fat, subcutaneous fat, breast fat, or epididymal fat. In certain embodiments, the cells comprise stromal cells, stem cells, or combinations thereof. As used herein, the term “stem cells” is used in a broad sense and includes traditional stem cells, adipose derived stem cells, progenitor cells, preprogenitor cells, reserve cells, and the like. Exemplary stem cells include embryonic stem cells, adult stem cells, pluripotent stem cells, neural stem cells, liver stem cells, muscle stem cells, muscle precursor stem cells, endothelial progenitor cells, bone marrow stem cells, chondrogenic stem cells, lymphoid stem cells, mesenchymal stem cells, hematopoietic stem cells, central nervous system stem cells, peripheral nervous system stem cells, and the like. Additional illustrative cells which can be used include hepatocytes, epithelial cells, Kupffer cells, fibroblasts, neurons, cardiomyocytes, myocytes, chondrocytes, pancreatic acinar cells, islets of Langerhans, osteocytes, myoblasts, satellite cells, endothelial cells, adipocytes, preadipocytes, biliary epithelial cells, and progentior cells of any of these cell types. [0018] When used, mesenchymal stem cells (MSC) can be obtained from any suitable tissue. These include as examples MSCs derived from dental tissue (such as those harvested from dental pulp, periodontal ligaments, or other dental tissues), testicle tissue, bone marrow; peripheral blood, placental tissue, uterine tissue (including endometrial regenerative cells), umbilical cord blood, umbilical cord tissue, or skin tissue (including full thickness skin tissue). These or other MSCs can be used in aspects of the present disclosure. The MSCs can be generally an adherent cell population expressing markers CD90 and CD 105 (&gt;90%) and lacking expression of CD34 and CD45 and MHC class II (&lt;5%) as detected by flow cytometry. [0019] The cells used in the embodiments herein can be from any suitable species of animal, for example a mammal, such as a human, canine (e.g. dog), feline (e.g. cat), equine (e.g. horse), porcine, ovine, caprine, or bovine mammal. [0020] The cell composition used to prepare the trehalose-containing cell suspension can be combined with trehalose in a variety of ways. In certain modes, the cell composition can be combined with an aqueous liquid medium, such as an aqueous solution, containing the trehalose. In this regard, the cell composition can be added to the medium containing trehalose, the medium containing trehalose can be added to the cell composition, or both. The combination of the two materials can be conducted so as to preserve the viability of the cells to the extent practicable. A gradual combination, optionally with gentle agitation, can be conducted for these purposes. [0021] When a cryopreserved cell composition is used, it is typically thawed prior to combining it with the trehalose-containing medium. Any suitable thawing technique can be used. In certain forms, the cell composition is thawed by immersion of a container, such as a bag or vial, containing the cryopreserved cells into a liquid bath, e.g. heated to about 37° C. After the cell composition has thawed (e.g. by the observation of a lack of ice crystals in the composition), the cell composition can be combined with the trehalose-containing medium. In some forms, the container for the cryopreserved cells is provided with a sterile access port or member, such as a septum, and after thawing, the thawed cell composition including the cells and the medium in which they were stored is drawn from the container with a needle and syringe or other suitable transfer device. At least the cell component thereof is thereafter combined with the trehalose-containing medium, and in some forms the cells and the storage medium are combined with the trehalose-containing medium. In cases where the storage medium is not included in the combination step with the trehalose-containing medium, the cells can for example be washed with another physiologically-acceptable medium, and then combined with the trehalo se-containing medium. In either case, the cell composition combined with the trehalose-containing medium can, and will typically, include cell components that have been released by dead cells into the liquid medium suspending the cells, including for example DNA. This DNA can be a contributing factor to the tendency of the cells to form clumps, and the presence of the trehalose in the prepared cell suspension can inhibit the DNA-facilitated clumping of the cells. [0022] The combination of the cells (and optionally their storage or wash medium) with the trehalo se-containing medium can be conducted in any suitable container or vessel. In beneficial modes, the combination is conducted in a second container (other than the cryostorage or other container in which the cells were stored or held). This second container can include an input port or other input member, for example a septum, for sterile transfer of materials such as the cells and/or the trehalo se-containing medium into the second container. In some forms, combining the cell composition and trehalose-containing medium can include delivering both of these into the second container, for example in either order or simultaneously. In other forms, the second container can be provided as a pre-manufactured container already containing the trehalo se-containing medium in sterile condition, and the cell composition can be added to the pre-manufactured container. In any of these embodiments, the second container can be a bag and/or can have an outlet port spaced from the input port or other member for delivery of the cells from the bag or other container, e.g. for delivery into a patient. The second container can be a bag having a septum for sterile input of materials and a valved port for outlet of materials, e.g. as occurs in common saline bags for patient treatment in medical care. The cells (potentially with their storage or wash medium), and potentially the trehalo se-containing medium (if not pre-manufactured in the bag) can be sterilely delivered into the bag by needle through the septum, and the prepared trehalose-containing cell suspension can be sterilely delivered to the patient through the valved port. [0023] The prepared trehalose-containing cell suspension can have any suitable density of the cells. In some embodiments the prepared trehalose-containing cell suspension will have a cell density of at least 100,000 cells/mL, at least 200,000 cells/mL, at least 500,000 cells/mL, at least 1 million cells/mL, or at least 2 million cells/mL. Typically the cell density in such prepared cell suspension will have a cell density in the range of 100,000 cells/mL to 100 million cells/mL, more typically in the range of 100,000 cells/mL to 10 million cells/mL, and even more typically 100,000 cells/mL to 5 million cells/mL. In certain forms the prepared trehalose-containing cell suspension can have a cell density in the range of about 0.5 million cells/mL to about 3 million cells/mL. [0024] The prepared trehalose-containing cell suspension can have a suitable concentration of trehalose, desirably a concentration that inhibits clumping of cells in the cell suspension. In some embodiments the prepared trehalo se-containing cell suspension will have a trehalose concentration of at least about 0.5%, at least 1%, at least 2%, or at least 3% by weight. Typically the trehalose concentration in such prepared cell suspensions will be in the range of about 0.5% to about 20%, more typically in the range of about 1% to about 15%, more typically in the range of about 2% to about 10%, and in certain embodiments about 2.5% to about 8%. In certain forms the prepared trehalose-containing cell suspension will have a trehalose concentration of about 3% to about 4%. It has been discovered that even at relatively low or moderate concentrations as identified herein, trehalose can inhibit cell clumping in the prepared cell suspensions. [0025] The prepared trehalose-containing cell suspensions can be put to any suitable use, including for example research or therapeutic uses. For therapeutic use, the cell suspension may as examples be administered to a human or animal patient to treat or prevent a disease or condition such as degenerative bone disease, osteoarthritis, rheumatoid arthritis, polyarthritis, systemic lupus erythematosus, inflammatory bowel disease, atopy, hepatitis, chronic steroid responsive meningitis-arteritis, beagle pain syndrome, degenerative myelopathy, chronic renal failure disease, dilated and mitral cardiomyopathy, keratoconjunctivitis sicca, immune mediated non-erosive arthritis, immune mediated hemolytic anemia, immune mediated thrombocytopenia, Evans syndrome, intervertebral disc disease, muscle fibrosis secondary to disease or trauma, refractory corneal ulcer, diabetes mellitus, spinal trauma, eosinophilic granuloma complex, hypertrophic cardiomyopathy, cholangitis, spinal injury, exercise induced pulmonary hemorrhage, rhabdomyolysis, corneal ulcer, eczema, multiple sclerosis, muscular dystrophy, spinal injury, diabetes mellitus, hepatitis, myocardial infarction, congestive heart failure, or muscle fibrosis. [0026] The cell suspension can be administered to a patient in any suitable manner. In certain forms, the cell suspension is delivered systemically into the bloodstream of a patient, for example by delivery into a vein or artery. In other forms, the cell suspension is delivered topically to the patient (e.g. in the treatment of atopy or other skin disorders). In still other forms, the cell suspension is delivered to a local implant site in a patient. Any of these or any combination of these modes of administration may be used in the treatment of a patient.', 'query': 'What is the role of trehalose in the preparation of cell suspensions after cryopreservation?,', 'positive': 'In accordance with disclosed embodiments, advancements in biotechnology pertain to improved methods for preparing cell suspensions devoid of any detrimental clumping, especially in therapeutic contexts. The discovery involves the application of aqueous solutions incorporating the alpha-linked disaccharide, trehalose, which imparts a stabilizing effect on the cell suspensions. This stabilization is significantly noticeable after the cell units have undergone cryogenic preservation followed by a re-warming phase. It has been documented that the inclusion of trehalose directly addresses the clumping challenge that typically plagues post-thaw cell preparations, thus enhancing the delivery of treatments while ensuring the safety of patients. Detailed experimentation reveals that combining the suspended cellular entities with a trehalose-infused aqueous solution substantially reduces the aggregation tendency of the cells, advancing the field of cell-based therapies. These suspensions have been confirmed to be highly effective when trehalose is present in certain concentrations relative to the suspension. The documented findings underline the capability of trehalose to maintain cellular separation over extended periods, hence facilitating the smooth administration of cell suspensions into patients requiring therapeutic intervention.\\n\\n', 'negative': \"The current development involves an apparatus intended to assist with the consumption of beverages from wide openings without a focus on spill prevention. This device does not center the liquid flow but instead hinders the movement of the fluid to control the sipping speed, which may also preserve the user's facial hair from dampness. Unlike existing attachments that require specialized vessels with particular apertures, this apparatus can couple with standard containers, employing an adaptation mechanism that exerts a rigid gripping force onto the vessel's rim. Structurally, the apparatus boasts retractable arms that extend perpendicularly from a flat base, without forming a closed channel, thereby guiding the beverage to the user's mouth at a steady pace without spillage considerations. For further structural integrity and usability, the apparatus is designed to attach snugly atop the vessel regardless of its dimensions or irregular shape. Contrary to past inventions, this device does not promise a spill-free experience nor suggests sanitary or practical reusability after washing but instead focuses mainly on the regulation of fluid intake and the universal fit. The simplicity of its design and lack of specialized components such as columns or funnels demarcate it from other gadgets that claim to direct or contain liquid flow efficiently.\\n\\n\"}\n",
            "429 {'anchor': 'CROSS-REFERENCE TO RELATED APPLICATIONS [0001] This application is a continuation of U.S. patent application Ser. No. 13/662,975 filed on Oct. 29, 2012, which is a continuation of U.S. patent application Ser. No. 11/402,319 filed on Apr. 11, 2006, which claims the benefit of U.S. Provisional Application No. 60/680,851, filed on May 13, 2005. The entire disclosures of each of the above applications are incorporated herein by reference. FIELD [0002] The present teachings relate to an apparatus for the correction of chest wall deformities, and more specifically to a pectus bar stabilizer. BACKGROUND [0003] To correct chest wall deformities, a pectus bar may be fixedly mounted to supporting structure, typically cartilage, using a stabilizer plate, which generally includes a single plate having a recess through a central portion and apertures therein for receiving and fixedly attaching a pectus bar thereto. A pectus bar stabilizer may also include a series of apertures on distal portions for fixedly securing the stabilizer plate to the supporting structure. To remove or adjust the pectus bar, screws securing the pectus bar to the stabilizer plate must be removed. But the screws are often difficult to access and remove due to surrounding tissue or bone growth. SUMMARY [0004] A pectus bar stabilizer assembly generally includes a pectus bar, a retainer assembly, a first base part and a second base part. The first and second base parts are separable from one another to facilitate removal and combinable to define a channel therebetween. The pectus bar is received by the channel and the retainer assembly retains the pectus bar in the channel. A portion of the retainer assembly may be removed, allowing the pectus bar to be removed or adjusted. [0005] Further areas of applicability of the present teachings will become apparent from the detailed description provided hereinafter. It should be understood that the detailed description and specific examples are intended for purposes of illustration only and are not intended to limit the scope of the present teachings. BRIEF DESCRIPTION OF THE DRAWINGS [0006] The present teachings will become more fully understood from the detailed description and the accompanying drawings, wherein: [0007] FIG. 1 is a perspective view of a first pectus bar stabilizer assembly shown partially assembled and partially exploded; [0008] FIG. 2 is a front perspective view of one base part of a pectus bar stabilizer; [0009] FIG. 3 is a rear perspective view of the base part of FIG. 2 ; [0010] FIG. 4 is a sectional view of the base parts of the pectus bar stabilizer as cut along line IV-IV of FIG. 1 ; [0011] FIG. 5 is a plan view of the tool and stopping member; [0012] FIG. 6 is a partial plan view of the tool and stopping member; [0013] FIG. 7 is a perspective view of a pectus bar stabilizer assembly shown partially assembled and partially exploded; [0014] FIG. 8 is a front perspective view of one base part of the pectus bar stabilizer shown in FIG. 7 ; [0015] FIG. 9 is a rear perspective view of the base part of FIG. 8 ; [0016] FIG. 10 is a perspective view of a pectus bar stabilizer assembly shown partially assembled and partially exploded; [0017] FIG. 11 is a front perspective view of one base part of the pectus bar stabilizer shown in FIG. 10 ; [0018] FIG. 12 is a rear perspective view of the base part of FIG. 11. [0019] FIG. 13 is a perspective view of a pectus bar stabilizer assembly shown partially assembled and partially exploded; [0020] FIG. 14A is a front perspective view of one base part of the pectus bar stabilizer shown in FIG. 13 ; [0021] FIG. 14B is an additional front perspective view of the base part of FIG. 14A ; [0022] FIG. 15A is a rear perspective view of the base part of FIG. 14. [0023] FIG. 15B is an additional front perspective view of the base part of FIG. 15A ; [0024] FIG. 16 is a front perspective view of one base part of the pectus bar stabilizer shown in FIG. 13 having an additional feature; [0025] FIG. 17 is a rear perspective view of the base part of FIG. 16 ; [0026] FIG. 18 is a perspective view of a pectus bar stabilizer assembly shown partially assembled and partially exploded; [0027] FIG. 19 is a perspective view of the pectus bar stabilizer of FIG. 18 ; and [0028] FIG. 20 is a sectional view of the pectus bar stabilizer of FIG. 19 taken at line 20 - 20. DETAILED DESCRIPTION [0029] FIGS. 1-4 show a pectus bar stabilizer assembly 10 generally includes a pectus bar 12 and a pectus bar stabilizer 14. The pectus bar stabilizer 14 retains the pectus bar 12 and may be fixedly attached to an external structure, such as cartilage. [0030] The pectus bar 12 may have a longitudinally extending bar of generally uniform thickness, a generally rectangular cross-section, and an end portion 24 opposite a second end portion 26. The first and second end portions 24 , 26 may include an arcuate periphery and an aperture 25. A series of apertures 28 , 30 , which may include internal threads, may be disposed inwardly from the end portions 24 , 26. [0031] The pectus bar stabilizer 14 may include first and second base parts 20 , 22 and a retainer assembly 78. The first and second base parts 20 , 22 may be generally similar to one another, with minor differences that will be discussed below. For simplicity in the description, first base part 20 will be discussed in detail. [0032] The first base part 20 may include a body portion 32 and a leg 34 extending therefrom. The body portion 32 may include an inner body wall 36 , a top body surface 38 , a lower body surface 40 and an outer body surface 42. The top body surface 38 may include three main sections 44 , 46 , 48. The first section 44 is generally planar and includes a series of notches 50. The second section 46 is contoured and slopes downward from the first section 44 to the third section 48. The third section 48 is generally planar and extends from the second section 46. The lower body surface 40 is generally planar and generally parallel to the first and third sections 44 , 48 of the top body surface 38. The outer body surface 42 connects the top body surface 38 , the lower body surface 40 and the inner body wall 36. [0033] The inner body wall 36 may include two sections 56 , 58. The first section 56 is generally rectangular and has a width L 1 and a height L 2. The second section 58 is generally rectangular and has a width L 1 and a height L 3. The height L 3 of the second section 58 is less than the height L 2 of the first section 56. A recess 60 , defined below the second section 58 and proximate the first section 56 , extends into the body portion 32 a depth of L 4 and has a width L 1 and a height L 5. [0034] A leg 34 extends generally perpendicularly from the first section 56 of the inner body wall 36. The leg 34 may have a width generally equal to the width L 1 of the first section 56 of the inner body wall 36 and may be divided into a first leg portion 62 and a second leg portion 64. The first leg portion 62 , which is located proximate the body portion 32 , may have a generally rectangular cross-section and a height less than the height L 5 of the recess 60 in the body portion 32. The first leg portion 62 of the first and second base parts 20 , 22 may also each include an arcuate recess 63 at an inner edge portion 65 as shown in FIGS. 7-9. The second leg portion 64 may have a generally rectangular cross-section and may be sized to generally fit within the recess 60 , having a height, length and width generally corresponding to the dimensions L 5 , L 4 , L 1 of recess 60. [0035] A series of apertures may be located in the first base part 20. A first aperture 52 may be located at a distal end 54 of the body portion 32 , passing through the third section 48 of the top body surface 38 and the lower body surface 40. The first aperture 52 allows the first base part 20 to be coupled to a supporting structure, such as cartilage. A series of pin apertures 66 , 68 , 70 , 72 may be provided in the first and second base parts 20 , 22. The pin apertures 66 , 68 extend partially into the first base part 20. The first pin aperture 66 extends into body portion 32 through the recess side wall 74 in the recess 60 of body portion 32. The second pin aperture 68 extends into the second leg portion 64 through the second leg portion side wall 76. The pin apertures 70 , 72 in the second base part 22 may be positioned similarly to those in the first base part 20 , and may extend completely through the second leg portion 64 and the body portion 32 of the second base part 22 , as shown in FIG. 4. Alternatively, the base parts 20 , 22 may not include any pin apertures, eliminating the need for pins as shown in FIGS. 7-9. [0036] The retainer assembly 78 may include a series of pins 80 , a series of retaining bars 82 and a stopping member assembly 84. The pins 80 may be generally cylindrical members, sized to be located within the pin apertures 66 , 68 , 70 , 72. The pin may include a first portion 81 and a main portion 83 generally extending therefrom. The first portion 81 of the pin 80 may have a diameter greater than the diameter of the main portion 83 of the pin 80. The main portion 83 of the pin 80 may be smaller in diameter than the pin apertures 66 , 68 , 70 , 72. The main portion 83 may be first inserted into the pin apertures 66 , 68 , 70 , 72. The first portion 81 may have a diameter similar to the diameter of the pin apertures, resulting in retention of the pin within the pin apertures 66 , 68 , 70 , 72 , due to friction between the first portion 81 and pin apertures 70 , 72. [0037] The retaining bars 82 may include a first end portion 86 opposite a second end portion 88. The retaining bars 82 may generally have flattened, substantially rectangular cross-sections with rounded edges at the first and second end portions 86 , 88. The retaining bars 82 may have a generally uniform thickness throughout their length. The first and second ends 86 , 88 of the retaining bars 82 may be located in the notches 50 in the body portions 32 of the base parts 20 , 22. [0038] The stopping member assembly 84 , shown in FIGS. 5 and 6 , may include a tool 90 , a neck portion 92 and a stopping member 94. The tool 90 is generally cylindrical and may include a knurled surface 96 to facilitate grasp by a user. A distal end 98 of the tool 90 may be generally conical, having a greater diameter at a first end 100 and a reduced diameter at a second end 102. A neck portion 92 may generally extend from the distal end 98 of the tool 90 to the stopping member 94. The neck portion 92 may be substantially smaller in diameter than both the tool 90 and the stopping member 94 and provides a mechanism to separate the tool 90 from the stopping member 94. The separation feature may be a necked-down portion facilitating separation by bending or twisting the tool 90 relative to the stopping member 94 , or may include a torque-limiting feature to sever the tool 90 from the stopping member 94 upon meeting a predetermined torque limit during insertion. The neck portion 92 diameter may be one-tenth of the diameter of the tool 90 and less than one-half of the diameter of the smallest diameter of the stopping member 94. A variation may include a separate tool and stopping member. [0039] The stopping member 94 may include a hexagonal head 104 and a body portion 106 generally extending therefrom. The hexagonal head 104 may be attached to the neck portion 92. The body portion 106 may include an unthreaded portion 108 and a threaded portion 110. The unthreaded portion 108 may be located proximate the hexagonal head 104 and the threaded portion 110 may be located at the end of the body portion 106 distal from the hexagonal head 104. [0040] The pectus bar stabilizer assembly 10 may retain the pectus bar 12 through the first and second base parts 20 , 22 and the retainer assembly 78. The two base parts 20 , 22 may be placed proximate one another, inserting the second leg portion 64 of the first base part 20 into the recess 60 of the second base part 22 and inserting the second leg portion 64 of the second base part 22 into the recess 60 of the first base part 20. In this configuration, the first and second base parts 20 , 22 define a channel 112 bound by the inner body wall 36 of the first base part 20 , the inner body wall 36 of the second base part 22 and the first leg portions 62 of the first and second base parts 20 , 22. In this configuration, the pin apertures 66 , 68 , 70 , 72 of the first and second base parts 20 , 22 are in respective alignment. [0041] Once the first and second base parts 20 , 22 have been arranged to define the channel 112 , pins 80 may be inserted into the pin apertures 66 , 68 , 70 , 72. The pins 80 may extend completely through the first base part 20 and partially into the second base part 22 , securing the first and second base parts 20 , 22 to one another in a transverse direction relative to the axis of the pins 80. Next, the retaining bars 82 may be placed over the channel 112. The first and second ends 86 , 88 may be located within the notches 50 in the body portion 32 of the first and second base parts 20 , 22 and welded in place. The retaining bars 82 secure the first and second base parts 20 , 22 to one another in a transverse direction relative to the bars 82. [0042] Once the first and second base parts 20 , 22 are fixedly attached to one another, a first end portion 24 of the pectus bar 12 may be inserted into the channel 112 below the retaining bars 82. After the first end portion 24 is located within the channel 112 , one of the apertures 28 in the first end portion may be aligned between the retaining bars 82. After the desired aperture 28 is located between the retaining bars 82 , the stopping member 94 may be secured in the aperture 28. Once the stopping member 94 is securely in place, the tool 90 is separated from the stopping member 94 at the neck portion 92. The hexagonal head 104 may provide retention of the pectus bar 12. The body portion 106 of the stopping member 94 may be attached to the aperture 28 in the pectus bar 12 and the hexagonal head 104 may extend above the pectus bar 12 , preventing the pectus bar 12 from translating axially beyond the retaining bars 82. [0043] In FIGS. 1-3 , the stopping member 94 is shown only passing through the pectus bar because the channel 112 has no aperture therethrough. As shown in FIGS. 7-9 the channel may have an aperture allowing for passage of the stopping member 94 therethrough, providing further retention. The stopping member 94 may include an additional portion extending beyond the threaded portion 110. This additional portion may be unthreaded, as shown in FIG. 7 , or may be threaded. [0044] Other stopping members may be used for retention of the pectus bar 12 within the pectus bar stabilizer 14. One such example is a rivet, which may be applied to an aperture 28 in the pectus bar 12 , leaving a head portion exposed above the pectus bar 12 and retaining the pectus bar 12 within the pectus bar stabilizer 14 as described above. [0045] The pectus bar 12 may be removed from the pectus bar stabilizer 14 without removing any of the stopping members 94. One of the retaining bars 82 located distal from the retained end portion 24 , 26 may be removed allowing the pectus bar 12 to translate axially in a direction free of the bars 82. Both bars 82 may also be removed to eliminate retention of the pectus bar 82 within the pectus bar stabilizer 14. [0046] The pectus bar stabilizer 14 may generally be attached to an external structure, such as cartilage. The pectus bar stabilizer 14 may be attached using the apertures 52 located in the distal portions of the first and second base parts 20 , 22.', 'query': 'What novel features does the pectus bar stabilizer assembly outlined in the patent application exhibit for facilitating the removal and adjustment of a pectus bar?,', 'positive': \"A pectus bar stabilizer assembly generally includes components designed for both facilitate the attachment to an external supporting structure, and securely retain a pectus bar. The assembly is comprised of two symmetrical base parts which can be separated for bar removal or adjustment, and a retainer assembly to secure the bar in place. The base parts have bodies with recesses forming a channel for receiving the pectus bar, and the retainer assembly includes components that lock the bar within this channel. The base parts attach to the external structure through apertures and can be easily accessed for adjustments. This design aims to improve the pectus bar stabilizer's functionality in clinical use.\\n\\n\", 'negative': \"The invention pertains to a coupling mechanism designed for securely attaching agricultural tools to a vehicle such as a tractor. This mechanism includes a pair of lateral connecting rods positioned at the rear of the vehicle, each terminating in a fastening element with a top-opening clamping feature, which can be fixed into place. These lateral connecting rods are linked to a vertically adjustable arm controlled by the vehicle's powered system. Additionally, there is a central upper connecting rod attached above the lateral rods at the rear of the vehicle, ending in a fastening element with a clamping feature that can open either upwards or downwards. The fastening elements are tailored to grasp or disengage from specific connection points on the agricultural tool for hitching purposes. The incorporation of a resilient element allows for the central upper rod to move in unison with or counter to the lateral connecting rods' motion. This streamlined arrangement fosters ease of steering for the operator, who can now focus solely on driving the vehicle. By manipulating the lateral rods, the central upper rod can latch onto the tool's connection point with minimal physical effort, circumventing the complexities and fatigue associated with prior methods. This mechanism simplifies the transition between towing and coupling operations without necessitating the detachment of any frame, which would otherwise be cumbersome and impede the function of the vehicle when used with a trailer. The sophisticated yet user-friendly design of the coupling mechanism delivers added versatility and practicality to agricultural operations.\\n\\n\"}\n",
            "445 {'anchor': 'CROSS-REFERENCE TO RELATED APPLICATIONS [0001] This application claims priority to U.S. Provisional Patent Application Ser. No. 61/706,926, filed on Sep. 28, 2012. The entirety of that disclosure is hereby fully incorporated by reference. BACKGROUND [0002] The present disclosure relates to a pointing device worn on the head of a user. It finds particular application in conjunction with training for surgical education, and will be described with particular reference thereto, although it can be used for many other purposes such as teaching of combined skills where hands-free pointing, spotting, indicating, or directing is useful. [0003] Part of the training process to become a board eligible surgeon involves completion of a residency program. In the residency program, the resident doctor will perform surgical procedures on a consenting patient under the supervision of a trainer surgeon. [0004] When taking a surgical resident through a procedure, the trainer&#39;s hands are often busy performing the steps of the operation, and instructions and directions must be given verbally. This is true for both laparoscopic and open procedures. In addition, the surgical resident is usually participating in the procedure as well, wielding surgical instruments such as a scalpel or other cutting or suturing implements. It would be helpful for the trainer to have a pointing device that can be worn and used to accurately direct the trainee where to focus and dissect, suture, cauterize, etc., in the patient. BRIEF DESCRIPTION [0005] The present disclosure relates to a pointing device that can be worn on a user&#39;s head, such as the head of a trainer teaching surgical procedures. The pointing device includes a laser pointer that provides a dot or beam of light at a location dictated by the user, such as to certain tissue to be excised from a patient. An user-operated pneumatically controlled switch is provided so that the dot/beam can be toggled on or off by the user without manual intervention. The switch can be controlled by the users breath. The pointing device also includes a band/strap assembly for forming a head harness for mounting the laser pointer and switching mechanism to the head of the user. By moving the user&#39;s head and by activating the switch to engage the laser pointer, the user can point to a given target, such as tissue to be excised from a patient, during a surgical procedure. [0006] Disclosed in embodiments herein is an adjustable head-mounted pointing device that comprises a circumferential headband; a cross strap extending between opposite sides of the circumferential headband; a laser pointer mounted on one side of the circumferential headband; a battery pack; and a pneumatically controlled switch for activating the laser pointer. The laser pointer is an electronic device that converts input power into a narrow beam of coherent light that is used to disclose a targeted area by the user upon activation. [0007] The battery pack can be mounted at the center of the cross strap. Alternatively, the battery pack can be mounted on the side of the circumferential headband opposite the laser pointer. In other embodiments, the battery pack can be mounted on the side of the circumferential headband behind the laser pointer. [0008] The laser pointer may emit a red or green colored light beam. Other color or color combinations are also contemplated, as well as dual colors or multiple color combination lasers. For example, the color green may be used by the trainer to indicate to proceed forward, red to halt, etc. [0009] An adjustment device or dial may be present on a rear side of the circumferential headband for controlling the circumference of the headband. [0010] The pointing device may sometimes further comprise a mount on a front side of the circumferential headband, the mount having an arm and a grip. Other times, the pointing device further comprises at least one longitudinally-oriented catch on the cross strap. The pointing device could further comprise at least one vertically-oriented catch on the circumferential headband. [0011] The laser pointer may include a base and a muzzle. The pneumatically controlled switch may include a means for conveying pneumatic pressure, such as a straw connected to a pressure transducer. [0012] Also described in embodiments is a head-mounted pointing device that comprises a frame formed from a circumferential headband and a cross strap that extends between opposite sides of the circumferential headband; a battery pack mounted at the center of the cross strap; a laser pointer mounted on one side of the circumferential headband, the laser pointer having a base and a muzzle; a pneumatically controlled switch for controlling the laser pointer, the switch including a flexible straw extending from the base of the laser pointer; means for changing the size of the circumferential headband; means for changing the size of the cross strap; and a mount on a front side of the circumferential headband, the mount having an arm and a grip. [0013] Methods of using a head-mounted pointing device to point to a given target during a surgical procedure are also disclosed. The head-mounted pointing device is donned by the user, such as the surgical trainer. The laser pointer of the pointing device is engaged or toggled on by breathing (e.g. puffing) at a pneumatically controlled switch to activate a laser beam. The laser beam is then pointed at the given target. [0014] The laser pointer of the pointing device can be disengaged or the toggled off by breathing (e.g. sipping or sucking) at the pneumatically controlled switch to deactivate the laser beam. [0015] The pneumatically controlled switch sometimes uses a binary control. Other times, the pneumatically controlled switch uses sip-and-puff control. [0016] The method may use any of the various embodiments of a head-mounted pointing device described herein. [0017] These and other non-limiting characteristics of the disclosure are more particularly disclosed below. BRIEF DESCRIPTION OF THE DRAWINGS [0018] The following is a brief description of the drawings, which are presented for the purposes of illustrating the exemplary embodiments disclosed herein and not for the purposes of limiting the same. [0019] FIG. 1 is a side perspective view of a prototype of the head-mounted pointing device of the present disclosure. [0020] FIG. 2 is a top view of the prototype of FIG. 1. [0021] FIG. 3 is a front view of the prototype of FIG. 1. [0022] FIG. 4 is a circuit diagram or schematic illustrating the control of the laser pointer. [0023] FIG. 5 is an illustration of another embodiment of the head-mounted pointing device of the present disclosure. [0024] FIG. 6 depicts the head-mounted pointing device of FIG. 5 on the head of the user. DETAILED DESCRIPTION [0025] A more complete understanding of the compositions and methods disclosed herein can be obtained by reference to the accompanying drawings. These figures are merely schematic representations based on convenience and the ease of demonstrating the present disclosure, and are, therefore, not intended to define or limit the scope of the exemplary embodiments. [0026] Although specific terms are used in the following description for the sake of clarity, these terms are intended to refer only to the particular structure of the embodiments selected for illustration in the drawings, and are not intended to define or limit the scope of the disclosure. In the drawings and the following description below, it is to be understood that like numeric designations refer to components of like function. [0027] The present disclosure relates to a pointing or spotting device that can be worn on the head of the user. As previously noted, such a pointing device can be useful for a trainer surgeon/trainer of surgical procedures who is working with a surgical resident or trainee. Teaching in the operating room is particularly difficult in laparoscopic cases, because it is difficult to demonstrate on the laparoscopic instrument screen where the trainee should direct their attention or where they should operate, when the trainer&#39;s hands are busy. The pointing device can be used to visually indicate a particular location to the surgical resident instead of through spoken words. [0028] However, the pointing device cannot simply be an always-on device. For example, the trainer may wish to indicate a location where the surgical resident should dissect (i.e. cut). However, with an always-on device, the surgical resident may continue dissecting at the indicated location when the trainer wishes dissection to stop. A switch is required to deactivate the pointing device. However, the hands of the trainer surgeon are sterile, and the feet of the trainer surgeon may be operating other instruments. Thus, a different switching mechanism must be used. [0029] FIG. 1 is a right side perspective view of a prototype of the head-mounted pointing device of the present disclosure. FIG. 2 is a top view of the prototype device. FIG. 3 is a front view of the prototype device. This device may also be considered to be a laser headlight, or a hands-free device, or a head-mounted laser pointer, or headgear with a mounted pointing device. [0030] The head-mounted pointing device 100 includes a frame formed from a circumferential headband 110 and a cross strap 120. The circumferential headband extends around the wearer&#39;s head, and has an interior surface 112 and an exterior surface 114 (see FIG. 2 for a better view of these two surfaces). The cross strap 120 extends between opposite sides (usually the left side 102 and the right side 104 ) of the circumferential headband, and passes over the wearer&#39;s head. It is contemplated that the cross strap passes between the ears of the user, for comfort. The cross strap 120 also has an interior surface 122 and an exterior surface 124 (see FIG. 3 for a better view of these two surfaces). The cross strap may be described as a half circle, and the circumferential headband may be described as a full circle. The frame can be made in several different ways. The size of the circumferential headband can be adjusted; for example, as illustrated here, a dial 116 is present on the rear side 108 of the circumferential headband to control its circumference. Similarly, the size of the cross strap can also be adjusted. These allow the frame to be fitted to the head of the user and worn comfortably. The frame can be made of any suitable material. For example, the frame can be made of plastic, cloth, etc. here, a padding 118 is present on the front side 106 of the circumferential headband. The circumferential headband on the cross strap may be made as one integral piece, or may be made as separate components that are later joined together. [0031] It is contemplated that additional attachment means may be present on the frame for holding other tools or equipment. For example, also visible on the front side 106 of the frame is a mount 130 that extends outwardly from the exterior surface 114 of the circumferential headband. The mount includes an arm 134 and a grip 132 at the end of the arm. The arm is adjustable at both ends 136 , 138 for positioning the grip as desired. It is contemplated that, for example an illumination light can be held by the grip to provide illumination to the user. This light (not shown) is usually oriented in a different direction from that of the laser pointer. As another example, a longitudinally-oriented molded catch 129 is also present on either side of the cross strap 120 , and can be used to hold additional items as desired by the user. As yet another example, also visible in FIG. 2 are two vertically oriented molded catches 119 located on the rear side 108 of the circumferential headband. However, it should be clear that embodiments are contemplated in which these additional attachment means are not present. [0032] A laser pointer 140 is mounted to one side of the circumferential headband. As illustrated here, the laser pointer is mounted on the right side 104 of the frame, where the cross strap 120 connects to the headband 110. The laser pointer 140 is mounted to one side of the circumferential headband, i.e. on the left side 102 or right side 104 of the user&#39;s head, rather than directly in front (i.e. on the user&#39;s forehead). The laser pointer typically emits a red or green color, which provides for visual distinction against the background. The power of the laser pointer is very low, usually 5 miiliwatts (mW) or less. The laser pointer can be mounted to the circumferential headband using generally known means such as hook-and-loop fasteners, adhesive, etc. As illustrated here, the laser pointer 140 includes a base 142 and a muzzle 144. The muzzle points in the direction in which the laser light will be emitted, towards the front of the frame. [0033] A battery pack 150 is included to provide power to the laser pointer. A wire 152 connects the battery pack 150 to the laser pointer 140. As illustrated here, the battery pack is placed at the center 125 of the cross strap, i.e. on top of the user&#39;s head, for balance. However, it is possible for the battery pack to be mounted anywhere on the headband 110 or the cross strap 120. For example, the battery pack could be mounted on the side of the circumferential headband opposite the laser pointer. Alternatively, the battery pack could be attached to the circumferential headband behind the laser pointer 140. Desirably, the battery pack is placed to minimize neck strain. The battery pack contains standard batteries, e.g. AA, AAA. C, D, 9-volt, button/coin cells, etc. [0034] A pneumatically controlled switch 160 is used to turn the laser pointer 141 on or off. The switch includes a pressure transducer (not visible) and a straw 162 which extends from the laser pointer down towards and off to one side of the users mouth. The straw is detachable (for replacement as needed) and flexible (for customization to the user). A mouthpiece 164 is located at the free end of the straw. As illustrated here, the pressure transducer is located within the base of the laser pointer, and the straw 162 and mouthpiece 164 are visible. [0035] It is contemplated that the laser pointer can be activated or controlled by blowing into the straw to toggle the laser pointer on and off. This can be done using a binary control, where the on/off state of the laser pointer is stored and switched with each breath registered by the switch. Alternatively, a “sip-and-puff” style of control may be used. For example, a higher-than-normal atmospheric air pressure can be produced by puffing and blowing into the straw, and this higher air pressure could be used to turn on the laser pointer. A lower-than-normal atmospheric air pressure can be produced by sipping or sucking against the straw, and this lower air pressure could be used to turn off the laser pointer. This pneumatically controlled switch may also be referred to as a blow switch. The pneumatically controlled switch operates by detecting a change in pressure exerted by the users breathing. [0036] In other embodiments, it is also contemplated that the laser pointer is able to produce multiple colors, or that two or more laser pointers emitting different colors are placed on the head-mounted pointing device. To control the different laser pointers, additional pneumatically controlled switches may be present as well. For example, in one variation, a red laser pointer is mounted on the right side of the frame, and a green laser pointer is mounted on the left side of the frame. Two pneumatically controlled switches are provided, one on each side of the users head. Each switch would control a separate laser pointer. For example, the red laser pointer could be controlled by blowing to the right, and the green laser pointer could be controlled by blowing to the left. This type of control would permit both a red dot and a green dot to be on the target simultaneously. If desired, the red laser pointer and the green laser pointer could be placed on the same side of the frame, as long as the pneumatically controlled switches are located on opposite sides of the frame. Alternatively, a multicolor laser pointer could be mounted on the frame along with two pneumatically controlled switches. One switch would toggle the laser pointer on and off, and the other switch would control which color was being generated by the laser pointer. [0037] FIG. 4 is a circuit diagram showing the control of the laser pointer via the pneumatically controlled switch. Beginning at the left side, Switch 1 is an on/off switch that determines whether the laser pointer can be activated at all. This on/off switch may be located on the laser pointer or on the battery pack, and is usually electromechanical in nature. Switch 2 is the pneumatically controlled switch. The pneumatically controlled switch operates by sensing the difference in pressure between a high port and a low port, and operates based on the time period for which a differential pressure above a specified threshold level is applied. The threshold level can be adjusted by changing the leftmost capacitor in the diagram. A data or delay (D) flip-flop circuit is used to control the laser emission. When Switch 1 is closed, the laser pointer is in the ON state, or in other words is able to receive user input and be toggled on/off. Switch 2 provides the toggle function. Initially, blowing into the blow switch closes Switch 2 and turns the laser on to emit the laser beam. After the pressure is removed, Switch 2 is opened, and the laser beam is emitted until Switch 2 is closed again. Put another way, Switch 1 controls whether the laser pointer device is ON or OFF. Switch 2 changes the state of the laser beam (from ON to OFF, or from OFF to ON). An inverting Schmitt trigger is used to add hysteresis and prevent unwanted rapid switching of the laser emission/debounce the circuit. The input voltage to the circuit must fall below a threshold value before the laser pointer is toggled on/off.', 'query': 'What are the features and applications of a pneumatically controlled head-mounted pointing device for surgical training?,', 'positive': 'The disclosure concerns a headgear equipped with a visual guidance system. The system has particular utility in instructional settings for medical apprenticeship and is applicable where visual cues are provided without the use of hands. The gear includes a light-emitting apparatus fixed on a head-supporting structure and is manipulatable via respiratory maneuvers of a wearer. The light-emitting apparatus casts a visible mark to suggest an action point to a learner. A respiratory gesture-based controller allows activation or deactivation of the light mark through inhalation and exhalation patterns. Additionally, the headgear consists of a tension-adjustable loop and intersecting strap for secure placement on the cranium. The light-emitting apparatus may radiate a beam in varying shades such as red or green to convey distinct signals. Aimed adjustments of the circumference of the loop are feasible via a modulating mechanism situated on the backside of the loop. Optionally, the gear may accompany attachments for carrying supplementary instruments or light sources in variable orientations.\\n\\n', 'negative': \"The present development relates to an illumination device that can be affixed to the head of an operator. It is highly applicable for use in functions such as mechanical workshops or construction sites, as well as any situation where hands-free illumination is beneficial. [0005] The discussed illumination device is designed to be mounted on a user's head and consists of a LED light source that emits a bright beam to illuminate a specific work area as directed by the user. An operator-controlled mechanical switch is incorporated for easy toggling of the light source without direct hand contact. The device also includes a harness system that integrates a headband and securing straps for stable mounting. [0006] Revealed in embodiments is a customizable head-mounted illumination device, which comprises a flexible headband; a perpendicular strap bridging two sides of the headband; a LED light fixture attached at one lateral side of the headband; a power source unit; and a mechanical flip switch for operating the light. The LED light is an electrical apparatus that transforms supplied energy into a focused beam of visible light, aiding the operator in targeting specific areas upon triggering. [0007] The power source could be positioned at the rear of the perpendicular strap for ergonomic balance. Alternatively, it could be located on the side of the headband opposite the light fixture, or even placed behind it. [0008] The LED light might produce white or yellow light, and options for varying light strengths or strobe effects are also envisioned. [0009] An adjustment mechanism like a knob or buckle may be present at the back of the headband to modify its size for a snug fit. [0010] At times, the illumination device would also have a bracket on its anterior side, featuring an arm and a clasp for additional equipment. Plus, there can be slots situated along the perpendicular strap and lateral clips on the headband to securely hold supplementary tools or devices. [0011] The light fixture could have a casing and a directional lens. The mechanical switch may consist of a lever or dial that can be manipulated without manual contact, such as by a nod or tilting of the head. [0012] Also outlined is an illumination device for the head having a frame made from a stretchable headband and a perpendicular strap; a centralized power source on the strap; a LED light attached to one flank of the headband, complete with casing and lens; a mechanical flip switch for light operation; and possible size adjustments for both the headband and strap, as well as a frontal bracket designed with an arm and a clasp. [0013] Procedures for utilizing a head-mounted illumination device during mechanical or construction tasks are disclosed. The operator wears the device and activates or turns off the LED light by maneuvering the mechanical switch without using their hands, allowing them to shed light precisely where needed.\\n\\n\"}\n",
            "446 {'anchor': 'CROSS-REFERENCE TO RELATED APPLICATIONS [0001] This application claims priority to U.S. Provisional Patent Application Ser. No. 61/706,926, filed on Sep. 28, 2012. The entirety of that disclosure is hereby fully incorporated by reference. BACKGROUND [0002] The present disclosure relates to a pointing device worn on the head of a user. It finds particular application in conjunction with training for surgical education, and will be described with particular reference thereto, although it can be used for many other purposes such as teaching of combined skills where hands-free pointing, spotting, indicating, or directing is useful. [0003] Part of the training process to become a board eligible surgeon involves completion of a residency program. In the residency program, the resident doctor will perform surgical procedures on a consenting patient under the supervision of a trainer surgeon. [0004] When taking a surgical resident through a procedure, the trainer&#39;s hands are often busy performing the steps of the operation, and instructions and directions must be given verbally. This is true for both laparoscopic and open procedures. In addition, the surgical resident is usually participating in the procedure as well, wielding surgical instruments such as a scalpel or other cutting or suturing implements. It would be helpful for the trainer to have a pointing device that can be worn and used to accurately direct the trainee where to focus and dissect, suture, cauterize, etc., in the patient. BRIEF DESCRIPTION [0005] The present disclosure relates to a pointing device that can be worn on a user&#39;s head, such as the head of a trainer teaching surgical procedures. The pointing device includes a laser pointer that provides a dot or beam of light at a location dictated by the user, such as to certain tissue to be excised from a patient. An user-operated pneumatically controlled switch is provided so that the dot/beam can be toggled on or off by the user without manual intervention. The switch can be controlled by the users breath. The pointing device also includes a band/strap assembly for forming a head harness for mounting the laser pointer and switching mechanism to the head of the user. By moving the user&#39;s head and by activating the switch to engage the laser pointer, the user can point to a given target, such as tissue to be excised from a patient, during a surgical procedure. [0006] Disclosed in embodiments herein is an adjustable head-mounted pointing device that comprises a circumferential headband; a cross strap extending between opposite sides of the circumferential headband; a laser pointer mounted on one side of the circumferential headband; a battery pack; and a pneumatically controlled switch for activating the laser pointer. The laser pointer is an electronic device that converts input power into a narrow beam of coherent light that is used to disclose a targeted area by the user upon activation. [0007] The battery pack can be mounted at the center of the cross strap. Alternatively, the battery pack can be mounted on the side of the circumferential headband opposite the laser pointer. In other embodiments, the battery pack can be mounted on the side of the circumferential headband behind the laser pointer. [0008] The laser pointer may emit a red or green colored light beam. Other color or color combinations are also contemplated, as well as dual colors or multiple color combination lasers. For example, the color green may be used by the trainer to indicate to proceed forward, red to halt, etc. [0009] An adjustment device or dial may be present on a rear side of the circumferential headband for controlling the circumference of the headband. [0010] The pointing device may sometimes further comprise a mount on a front side of the circumferential headband, the mount having an arm and a grip. Other times, the pointing device further comprises at least one longitudinally-oriented catch on the cross strap. The pointing device could further comprise at least one vertically-oriented catch on the circumferential headband. [0011] The laser pointer may include a base and a muzzle. The pneumatically controlled switch may include a means for conveying pneumatic pressure, such as a straw connected to a pressure transducer. [0012] Also described in embodiments is a head-mounted pointing device that comprises a frame formed from a circumferential headband and a cross strap that extends between opposite sides of the circumferential headband; a battery pack mounted at the center of the cross strap; a laser pointer mounted on one side of the circumferential headband, the laser pointer having a base and a muzzle; a pneumatically controlled switch for controlling the laser pointer, the switch including a flexible straw extending from the base of the laser pointer; means for changing the size of the circumferential headband; means for changing the size of the cross strap; and a mount on a front side of the circumferential headband, the mount having an arm and a grip. [0013] Methods of using a head-mounted pointing device to point to a given target during a surgical procedure are also disclosed. The head-mounted pointing device is donned by the user, such as the surgical trainer. The laser pointer of the pointing device is engaged or toggled on by breathing (e.g. puffing) at a pneumatically controlled switch to activate a laser beam. The laser beam is then pointed at the given target. [0014] The laser pointer of the pointing device can be disengaged or the toggled off by breathing (e.g. sipping or sucking) at the pneumatically controlled switch to deactivate the laser beam. [0015] The pneumatically controlled switch sometimes uses a binary control. Other times, the pneumatically controlled switch uses sip-and-puff control. [0016] The method may use any of the various embodiments of a head-mounted pointing device described herein. [0017] These and other non-limiting characteristics of the disclosure are more particularly disclosed below. BRIEF DESCRIPTION OF THE DRAWINGS [0018] The following is a brief description of the drawings, which are presented for the purposes of illustrating the exemplary embodiments disclosed herein and not for the purposes of limiting the same. [0019] FIG. 1 is a side perspective view of a prototype of the head-mounted pointing device of the present disclosure. [0020] FIG. 2 is a top view of the prototype of FIG. 1. [0021] FIG. 3 is a front view of the prototype of FIG. 1. [0022] FIG. 4 is a circuit diagram or schematic illustrating the control of the laser pointer. [0023] FIG. 5 is an illustration of another embodiment of the head-mounted pointing device of the present disclosure. [0024] FIG. 6 depicts the head-mounted pointing device of FIG. 5 on the head of the user. DETAILED DESCRIPTION [0025] A more complete understanding of the compositions and methods disclosed herein can be obtained by reference to the accompanying drawings. These figures are merely schematic representations based on convenience and the ease of demonstrating the present disclosure, and are, therefore, not intended to define or limit the scope of the exemplary embodiments. [0026] Although specific terms are used in the following description for the sake of clarity, these terms are intended to refer only to the particular structure of the embodiments selected for illustration in the drawings, and are not intended to define or limit the scope of the disclosure. In the drawings and the following description below, it is to be understood that like numeric designations refer to components of like function. [0027] The present disclosure relates to a pointing or spotting device that can be worn on the head of the user. As previously noted, such a pointing device can be useful for a trainer surgeon/trainer of surgical procedures who is working with a surgical resident or trainee. Teaching in the operating room is particularly difficult in laparoscopic cases, because it is difficult to demonstrate on the laparoscopic instrument screen where the trainee should direct their attention or where they should operate, when the trainer&#39;s hands are busy. The pointing device can be used to visually indicate a particular location to the surgical resident instead of through spoken words. [0028] However, the pointing device cannot simply be an always-on device. For example, the trainer may wish to indicate a location where the surgical resident should dissect (i.e. cut). However, with an always-on device, the surgical resident may continue dissecting at the indicated location when the trainer wishes dissection to stop. A switch is required to deactivate the pointing device. However, the hands of the trainer surgeon are sterile, and the feet of the trainer surgeon may be operating other instruments. Thus, a different switching mechanism must be used. [0029] FIG. 1 is a right side perspective view of a prototype of the head-mounted pointing device of the present disclosure. FIG. 2 is a top view of the prototype device. FIG. 3 is a front view of the prototype device. This device may also be considered to be a laser headlight, or a hands-free device, or a head-mounted laser pointer, or headgear with a mounted pointing device. [0030] The head-mounted pointing device 100 includes a frame formed from a circumferential headband 110 and a cross strap 120. The circumferential headband extends around the wearer&#39;s head, and has an interior surface 112 and an exterior surface 114 (see FIG. 2 for a better view of these two surfaces). The cross strap 120 extends between opposite sides (usually the left side 102 and the right side 104 ) of the circumferential headband, and passes over the wearer&#39;s head. It is contemplated that the cross strap passes between the ears of the user, for comfort. The cross strap 120 also has an interior surface 122 and an exterior surface 124 (see FIG. 3 for a better view of these two surfaces). The cross strap may be described as a half circle, and the circumferential headband may be described as a full circle. The frame can be made in several different ways. The size of the circumferential headband can be adjusted; for example, as illustrated here, a dial 116 is present on the rear side 108 of the circumferential headband to control its circumference. Similarly, the size of the cross strap can also be adjusted. These allow the frame to be fitted to the head of the user and worn comfortably. The frame can be made of any suitable material. For example, the frame can be made of plastic, cloth, etc. here, a padding 118 is present on the front side 106 of the circumferential headband. The circumferential headband on the cross strap may be made as one integral piece, or may be made as separate components that are later joined together. [0031] It is contemplated that additional attachment means may be present on the frame for holding other tools or equipment. For example, also visible on the front side 106 of the frame is a mount 130 that extends outwardly from the exterior surface 114 of the circumferential headband. The mount includes an arm 134 and a grip 132 at the end of the arm. The arm is adjustable at both ends 136 , 138 for positioning the grip as desired. It is contemplated that, for example an illumination light can be held by the grip to provide illumination to the user. This light (not shown) is usually oriented in a different direction from that of the laser pointer. As another example, a longitudinally-oriented molded catch 129 is also present on either side of the cross strap 120 , and can be used to hold additional items as desired by the user. As yet another example, also visible in FIG. 2 are two vertically oriented molded catches 119 located on the rear side 108 of the circumferential headband. However, it should be clear that embodiments are contemplated in which these additional attachment means are not present. [0032] A laser pointer 140 is mounted to one side of the circumferential headband. As illustrated here, the laser pointer is mounted on the right side 104 of the frame, where the cross strap 120 connects to the headband 110. The laser pointer 140 is mounted to one side of the circumferential headband, i.e. on the left side 102 or right side 104 of the user&#39;s head, rather than directly in front (i.e. on the user&#39;s forehead). The laser pointer typically emits a red or green color, which provides for visual distinction against the background. The power of the laser pointer is very low, usually 5 miiliwatts (mW) or less. The laser pointer can be mounted to the circumferential headband using generally known means such as hook-and-loop fasteners, adhesive, etc. As illustrated here, the laser pointer 140 includes a base 142 and a muzzle 144. The muzzle points in the direction in which the laser light will be emitted, towards the front of the frame. [0033] A battery pack 150 is included to provide power to the laser pointer. A wire 152 connects the battery pack 150 to the laser pointer 140. As illustrated here, the battery pack is placed at the center 125 of the cross strap, i.e. on top of the user&#39;s head, for balance. However, it is possible for the battery pack to be mounted anywhere on the headband 110 or the cross strap 120. For example, the battery pack could be mounted on the side of the circumferential headband opposite the laser pointer. Alternatively, the battery pack could be attached to the circumferential headband behind the laser pointer 140. Desirably, the battery pack is placed to minimize neck strain. The battery pack contains standard batteries, e.g. AA, AAA. C, D, 9-volt, button/coin cells, etc. [0034] A pneumatically controlled switch 160 is used to turn the laser pointer 141 on or off. The switch includes a pressure transducer (not visible) and a straw 162 which extends from the laser pointer down towards and off to one side of the users mouth. The straw is detachable (for replacement as needed) and flexible (for customization to the user). A mouthpiece 164 is located at the free end of the straw. As illustrated here, the pressure transducer is located within the base of the laser pointer, and the straw 162 and mouthpiece 164 are visible. [0035] It is contemplated that the laser pointer can be activated or controlled by blowing into the straw to toggle the laser pointer on and off. This can be done using a binary control, where the on/off state of the laser pointer is stored and switched with each breath registered by the switch. Alternatively, a “sip-and-puff” style of control may be used. For example, a higher-than-normal atmospheric air pressure can be produced by puffing and blowing into the straw, and this higher air pressure could be used to turn on the laser pointer. A lower-than-normal atmospheric air pressure can be produced by sipping or sucking against the straw, and this lower air pressure could be used to turn off the laser pointer. This pneumatically controlled switch may also be referred to as a blow switch. The pneumatically controlled switch operates by detecting a change in pressure exerted by the users breathing. [0036] In other embodiments, it is also contemplated that the laser pointer is able to produce multiple colors, or that two or more laser pointers emitting different colors are placed on the head-mounted pointing device. To control the different laser pointers, additional pneumatically controlled switches may be present as well. For example, in one variation, a red laser pointer is mounted on the right side of the frame, and a green laser pointer is mounted on the left side of the frame. Two pneumatically controlled switches are provided, one on each side of the users head. Each switch would control a separate laser pointer. For example, the red laser pointer could be controlled by blowing to the right, and the green laser pointer could be controlled by blowing to the left. This type of control would permit both a red dot and a green dot to be on the target simultaneously. If desired, the red laser pointer and the green laser pointer could be placed on the same side of the frame, as long as the pneumatically controlled switches are located on opposite sides of the frame. Alternatively, a multicolor laser pointer could be mounted on the frame along with two pneumatically controlled switches. One switch would toggle the laser pointer on and off, and the other switch would control which color was being generated by the laser pointer. [0037] FIG. 4 is a circuit diagram showing the control of the laser pointer via the pneumatically controlled switch. Beginning at the left side, Switch 1 is an on/off switch that determines whether the laser pointer can be activated at all. This on/off switch may be located on the laser pointer or on the battery pack, and is usually electromechanical in nature. Switch 2 is the pneumatically controlled switch. The pneumatically controlled switch operates by sensing the difference in pressure between a high port and a low port, and operates based on the time period for which a differential pressure above a specified threshold level is applied. The threshold level can be adjusted by changing the leftmost capacitor in the diagram. A data or delay (D) flip-flop circuit is used to control the laser emission. When Switch 1 is closed, the laser pointer is in the ON state, or in other words is able to receive user input and be toggled on/off. Switch 2 provides the toggle function. Initially, blowing into the blow switch closes Switch 2 and turns the laser on to emit the laser beam. After the pressure is removed, Switch 2 is opened, and the laser beam is emitted until Switch 2 is closed again. Put another way, Switch 1 controls whether the laser pointer device is ON or OFF. Switch 2 changes the state of the laser beam (from ON to OFF, or from OFF to ON). An inverting Schmitt trigger is used to add hysteresis and prevent unwanted rapid switching of the laser emission/debounce the circuit. The input voltage to the circuit must fall below a threshold value before the laser pointer is toggled on/off.', 'query': 'What are the design features and functions of a head-mounted laser pointer intended for surgical training?,', 'positive': \"The present development relates to an illumination device that can be affixed to the head of an operator. It is highly applicable for use in functions such as mechanical workshops or construction sites, as well as any situation where hands-free illumination is beneficial. [0005] The discussed illumination device is designed to be mounted on a user's head and consists of a LED light source that emits a bright beam to illuminate a specific work area as directed by the user. An operator-controlled mechanical switch is incorporated for easy toggling of the light source without direct hand contact. The device also includes a harness system that integrates a headband and securing straps for stable mounting. [0006] Revealed in embodiments is a customizable head-mounted illumination device, which comprises a flexible headband; a perpendicular strap bridging two sides of the headband; a LED light fixture attached at one lateral side of the headband; a power source unit; and a mechanical flip switch for operating the light. The LED light is an electrical apparatus that transforms supplied energy into a focused beam of visible light, aiding the operator in targeting specific areas upon triggering. [0007] The power source could be positioned at the rear of the perpendicular strap for ergonomic balance. Alternatively, it could be located on the side of the headband opposite the light fixture, or even placed behind it. [0008] The LED light might produce white or yellow light, and options for varying light strengths or strobe effects are also envisioned. [0009] An adjustment mechanism like a knob or buckle may be present at the back of the headband to modify its size for a snug fit. [0010] At times, the illumination device would also have a bracket on its anterior side, featuring an arm and a clasp for additional equipment. Plus, there can be slots situated along the perpendicular strap and lateral clips on the headband to securely hold supplementary tools or devices. [0011] The light fixture could have a casing and a directional lens. The mechanical switch may consist of a lever or dial that can be manipulated without manual contact, such as by a nod or tilting of the head. [0012] Also outlined is an illumination device for the head having a frame made from a stretchable headband and a perpendicular strap; a centralized power source on the strap; a LED light attached to one flank of the headband, complete with casing and lens; a mechanical flip switch for light operation; and possible size adjustments for both the headband and strap, as well as a frontal bracket designed with an arm and a clasp. [0013] Procedures for utilizing a head-mounted illumination device during mechanical or construction tasks are disclosed. The operator wears the device and activates or turns off the LED light by maneuvering the mechanical switch without using their hands, allowing them to shed light precisely where needed.\\n\\n\", 'negative': 'The disclosure concerns a headgear equipped with a visual guidance system. The system has particular utility in instructional settings for medical apprenticeship and is applicable where visual cues are provided without the use of hands. The gear includes a light-emitting apparatus fixed on a head-supporting structure and is manipulatable via respiratory maneuvers of a wearer. The light-emitting apparatus casts a visible mark to suggest an action point to a learner. A respiratory gesture-based controller allows activation or deactivation of the light mark through inhalation and exhalation patterns. Additionally, the headgear consists of a tension-adjustable loop and intersecting strap for secure placement on the cranium. The light-emitting apparatus may radiate a beam in varying shades such as red or green to convey distinct signals. Aimed adjustments of the circumference of the loop are feasible via a modulating mechanism situated on the backside of the loop. Optionally, the gear may accompany attachments for carrying supplementary instruments or light sources in variable orientations.\\n\\n'}\n"
          ]
        }
      ]
    },
    {
      "cell_type": "markdown",
      "source": [
        "## Prepro"
      ],
      "metadata": {
        "id": "txJbOaObR1s9"
      }
    },
    {
      "cell_type": "code",
      "source": [
        "data = pd.DataFrame(data)"
      ],
      "metadata": {
        "id": "A1GIqHD-LBUc"
      },
      "execution_count": null,
      "outputs": []
    },
    {
      "cell_type": "code",
      "source": [
        "def truncate(row):\n",
        "    row_lower = row.lower()\n",
        "    point = next((p for p in (\n",
        "        row_lower.find('technical field'),\n",
        "        row_lower.find('invention'),\n",
        "        row_lower.find('disclosure'),\n",
        "        row_lower.find('this application')\n",
        "    ) if p != -1), None)\n",
        "\n",
        "    if point is not None:\n",
        "        return row[point:]\n",
        "    else:\n",
        "        print(\"No match found in:\", row)\n",
        "        return None\n",
        "\n",
        "data['prepro_anchor'] = data['anchor'].apply(truncate)"
      ],
      "metadata": {
        "id": "dlh__Qc4LYk9"
      },
      "execution_count": null,
      "outputs": []
    },
    {
      "cell_type": "code",
      "source": [
        "l_prepro,l  = data['prepro_anchor'].apply(lambda x : len(x)),data['anchor'].apply(lambda x : len(x))\n",
        "plt.figure(figsize=(10, 5))\n",
        "plt.hist(l_prepro, bins=50, color= 'red')\n",
        "plt.hist(l, bins=50, color = 'blue')\n",
        "\n",
        "plt.xlabel(\"Nombre de mots\")\n",
        "plt.ylabel(\"Nombre de documents\")\n",
        "plt.grid(True)\n",
        "plt.show()"
      ],
      "metadata": {
        "colab": {
          "base_uri": "https://localhost:8080/",
          "height": 465
        },
        "id": "lEfyXNE2NX-W",
        "outputId": "cf225ea5-fced-4080-81b1-93ba179dbb68"
      },
      "execution_count": null,
      "outputs": [
        {
          "output_type": "display_data",
          "data": {
            "text/plain": [
              "<Figure size 1000x500 with 1 Axes>"
            ],
            "image/png": "[encoded data removed]"
          },
          "metadata": {}
        }
      ]
    },
    {
      "cell_type": "code",
      "source": [
        "l_prepro,l  = data['positive'].apply(lambda x : len(x)),data['negative'].apply(lambda x : len(x))\n",
        "plt.figure(figsize=(10, 5))\n",
        "plt.hist(l_prepro, bins=50, color= 'green')\n",
        "plt.hist(l, bins=50, color = 'purple')\n",
        "\n",
        "plt.xlabel(\"Nombre de mots\")\n",
        "plt.ylabel(\"Nombre de documents\")\n",
        "plt.grid(True)\n",
        "plt.show()"
      ],
      "metadata": {
        "colab": {
          "base_uri": "https://localhost:8080/",
          "height": 465
        },
        "id": "ywNcZYKzTnh-",
        "outputId": "f58cd3e4-5688-4754-e666-e8b07e828da0"
      },
      "execution_count": null,
      "outputs": [
        {
          "output_type": "display_data",
          "data": {
            "text/plain": [
              "<Figure size 1000x500 with 1 Axes>"
            ],
            "image/png": "[encoded data removed]"
          },
          "metadata": {}
        }
      ]
    },
    {
      "cell_type": "markdown",
      "source": [
        "## Test avec la concaténation :"
      ],
      "metadata": {
        "id": "cI5FTC5_OCq3"
      }
    },
    {
      "cell_type": "code",
      "source": [
        "device = torch.device(\"cuda\" if torch.cuda.is_available() else \"cpu\")"
      ],
      "metadata": {
        "id": "-i1ru_fdLH-c"
      },
      "execution_count": null,
      "outputs": []
    },
    {
      "cell_type": "code",
      "source": [
        "model_name = \"bert-base-uncased\"\n",
        "bert_tokenizer = BertTokenizer.from_pretrained(model_name)\n",
        "bert = BertModel.from_pretrained(model_name)\n",
        "\n",
        "bert = bert.to(device)"
      ],
      "metadata": {
        "id": "rSZy7gQmLbeo",
        "colab": {
          "base_uri": "https://localhost:8080/",
          "height": 340,
          "referenced_widgets": [
            "c7e9ec5d9e8d42b09597e11dc5c027a9",
            "0a29a627bc744a678aba19dd8f9d5932",
            "44167e441fe84971a265a197d647f817",
            "9b0ee9bc0ba745f1937fb651b0050fbd",
            "09e7c89eeddf419e9d8b21b14dfd280f",
            "3001dc6c3ce647d78d68670b20fefb80",
            "2476e856c2bf49a5a519ad26536a1f6f",
            "dfbf8db78dba40bbba9160b4a3ca6e5c",
            "bea0e51ceca24b24a11d7495c2e1c264",
            "f5108fdc14b249d780960a80cc810cfa",
            "159efbfb7ba4455fbf127b2410db5ce9",
            "cbcd97ea355f4e459b8321c857749440",
            "8cc35b8416c848558ca1efc1261c4cd8",
            "e4aafb8273eb4aa580489f195926b918",
            "9c9f79eab29943c6b334b6f6ee3a461d",
            "3dcee982e4544029b3ed4458922c7813",
            "7e242c3b3f3e45289bc06670e08e6dff",
            "1149e3fef76b4994b589814c3c3aa8b5",
            "229985f304a44137a21e8aef382fe464",
            "a16f541123f74482b45a71f55073ca04",
            "238ffb8eb05f4cf7bb33807727d976db",
            "0250bbf9ccac4a9ebd21fc1b0ad777b3",
            "cd97c758b8894873b9532809656f4ec8",
            "a64bd5087a2f40999352d1ee3753f0fe",
            "d735815063b74f6ea7b1ff7680cc8930",
            "6f9fc25a6fc145d0ac1fb2eec160bdb3",
            "0c06b0a862a743f597da8f8b20d56522",
            "f5ebb5c81baa4b0daa9297b7c06b6344",
            "bbcd5329d89349d4a38a357e456983e9",
            "884491e1643e4592bc079b08a673136c",
            "0d3f396c587c400f934c0f474f1e76d1",
            "79272f27e5584506ac8a55fcc74aca8a",
            "c2a05cbb9b1e4a89ac76c2d1762e15fc",
            "053552a27ba34513b75baecaf8ab26a6",
            "0ab32a82a0a0442cab5a7631d44a9151",
            "b7adfe78ba3d453aa210f536a903866d",
            "f787b33b487f42799c4fe107fb714426",
            "db97620d3d144968b50b7c19a9cc83e8",
            "bb3b0f8b6cb14eb3be56fb0dd4a03ea5",
            "cd7bdc02e86a45b483bdd7c1bf53bd6a",
            "f24a2ae4ee474298b875ef0e4435d87d",
            "5ff39a5307c8434b9fdd42901421ff47",
            "44c218f2a3d8407b909514f47e37a9f2",
            "70e796c19b45431092dd39d3263a0e54",
            "1b9add2753594af69786f7cee1ca4294",
            "3327bb71dd384b16a58dbd78a864e261",
            "9e2a142601a343a5b72b81352d71fbf2",
            "045ef2dfe7cb4dd2b4e8d4080b8ee8df",
            "07092c5e6c1648ec95d739622814eb94",
            "6d343c58e26d401a967630f53fad4414",
            "cde86c0ddf304acfa909fa341e5f87db",
            "8408c6adebea4af49eb01bf16fbe584c",
            "c8a3e84e2d6f4d7a8fc3f5e65b65d66e",
            "13be5326e9b34cbf9d6e2f1e1e56b9c6",
            "fb6c70f61dda42128ad44b737b38fe1f"
          ]
        },
        "outputId": "7b6f4492-6d12-4f42-c49d-1b5ab8ec6a61"
      },
      "execution_count": null,
      "outputs": [
        {
          "output_type": "stream",
          "name": "stderr",
          "text": [
            "/usr/local/lib/python3.11/dist-packages/huggingface_hub/utils/_auth.py:94: UserWarning: \n",
            "The secret `HF_TOKEN` does not exist in your Colab secrets.\n",
            "To authenticate with the Hugging Face Hub, create a token in your settings tab (https://huggingface.co/settings/tokens), set it as secret in your Google Colab and restart your session.\n",
            "You will be able to reuse this secret in all of your notebooks.\n",
            "Please note that authentication is recommended but still optional to access public models or datasets.\n",
            "  warnings.warn(\n"
          ]
        },
        {
          "output_type": "display_data",
          "data": {
            "text/plain": [
              "tokenizer_config.json:   0%|          | 0.00/48.0 [00:00<?, ?B/s]"
            ],
            "application/vnd.jupyter.widget-view+json": {
              "version_major": 2,
              "version_minor": 0,
              "model_id": "c7e9ec5d9e8d42b09597e11dc5c027a9"
            }
          },
          "metadata": {}
        },
        {
          "output_type": "display_data",
          "data": {
            "text/plain": [
              "vocab.txt:   0%|          | 0.00/232k [00:00<?, ?B/s]"
            ],
            "application/vnd.jupyter.widget-view+json": {
              "version_major": 2,
              "version_minor": 0,
              "model_id": "cbcd97ea355f4e459b8321c857749440"
            }
          },
          "metadata": {}
        },
        {
          "output_type": "display_data",
          "data": {
            "text/plain": [
              "tokenizer.json:   0%|          | 0.00/466k [00:00<?, ?B/s]"
            ],
            "application/vnd.jupyter.widget-view+json": {
              "version_major": 2,
              "version_minor": 0,
              "model_id": "cd97c758b8894873b9532809656f4ec8"
            }
          },
          "metadata": {}
        },
        {
          "output_type": "display_data",
          "data": {
            "text/plain": [
              "config.json:   0%|          | 0.00/570 [00:00<?, ?B/s]"
            ],
            "application/vnd.jupyter.widget-view+json": {
              "version_major": 2,
              "version_minor": 0,
              "model_id": "053552a27ba34513b75baecaf8ab26a6"
            }
          },
          "metadata": {}
        },
        {
          "output_type": "stream",
          "name": "stderr",
          "text": [
            "Xet Storage is enabled for this repo, but the 'hf_xet' package is not installed. Falling back to regular HTTP download. For better performance, install the package with: `pip install huggingface_hub[hf_xet]` or `pip install hf_xet`\n",
            "WARNING:huggingface_hub.file_download:Xet Storage is enabled for this repo, but the 'hf_xet' package is not installed. Falling back to regular HTTP download. For better performance, install the package with: `pip install huggingface_hub[hf_xet]` or `pip install hf_xet`\n"
          ]
        },
        {
          "output_type": "display_data",
          "data": {
            "text/plain": [
              "model.safetensors:   0%|          | 0.00/440M [00:00<?, ?B/s]"
            ],
            "application/vnd.jupyter.widget-view+json": {
              "version_major": 2,
              "version_minor": 0,
              "model_id": "1b9add2753594af69786f7cee1ca4294"
            }
          },
          "metadata": {}
        }
      ]
    },
    {
      "cell_type": "code",
      "source": [
        "#generate a response of our query given the anchor\n",
        "tokenizer = T5Tokenizer.from_pretrained('t5-small')\n",
        "model = T5ForConditionalGeneration.from_pretrained('t5-small')\n",
        "\n",
        "T5 = model.to(device)"
      ],
      "metadata": {
        "id": "vf_ujhODLd34"
      },
      "execution_count": null,
      "outputs": []
    },
    {
      "cell_type": "markdown",
      "source": [
        "### Some other lil tests"
      ],
      "metadata": {
        "id": "UJfuGXLmGdkt"
      }
    },
    {
      "cell_type": "code",
      "source": [
        "def get_bert_embedding(text,bert):\n",
        "\n",
        "    tokens = tokenizer(text, padding=True, truncation=True, return_tensors=\"pt\")\n",
        "    bert.to(device)\n",
        "    tokens = {key: value.to(device) for key, value in tokens.items()}\n",
        "    with torch.no_grad():\n",
        "        outputs = bert(**tokens)\n",
        "\n",
        "    sentence_embedding = outputs.last_hidden_state[:, 0, :]\n",
        "    return sentence_embedding.cpu().numpy()"
      ],
      "metadata": {
        "id": "EVjrbF_ZLdGd"
      },
      "execution_count": null,
      "outputs": []
    },
    {
      "cell_type": "code",
      "source": [
        "def generate_T5(row):\n",
        "  inputs = tokenizer(row, return_tensors=\"pt\", padding=True,max_length=512).to(device)\n",
        "  output = T5.generate(\n",
        "      **inputs,\n",
        "      num_beams=4,\n",
        "      max_length = 512,\n",
        "      early_stopping=True\n",
        "  )\n",
        "  response = tokenizer.decode(output[0], skip_special_tokens=True)\n",
        "  print(row)\n",
        "  return response"
      ],
      "metadata": {
        "id": "WiVYXz_uNmfx"
      },
      "execution_count": null,
      "outputs": []
    },
    {
      "cell_type": "code",
      "source": [
        "data = data[:20]"
      ],
      "metadata": {
        "id": "ZPaz17ws_xRq"
      },
      "execution_count": null,
      "outputs": []
    },
    {
      "cell_type": "code",
      "source": [
        "data['inputs'] = \"Question : \" + data['query'] + 'Context : ' + data['prepro_anchor']"
      ],
      "metadata": {
        "id": "8u9kooqlG8ej",
        "colab": {
          "base_uri": "https://localhost:8080/"
        },
        "outputId": "9b78336d-44cf-456d-e27f-a7febd5515b8"
      },
      "execution_count": null,
      "outputs": [
        {
          "output_type": "stream",
          "name": "stderr",
          "text": [
            "<ipython-input-67-d54791602472>:1: SettingWithCopyWarning: \n",
            "A value is trying to be set on a copy of a slice from a DataFrame.\n",
            "Try using .loc[row_indexer,col_indexer] = value instead\n",
            "\n",
            "See the caveats in the documentation: https://pandas.pydata.org/pandas-docs/stable/user_guide/indexing.html#returning-a-view-versus-a-copy\n",
            "  data['inputs'] = \"Question : \" + data['query'] + 'Data : ' + data['prepro_anchor']\n"
          ]
        }
      ]
    },
    {
      "cell_type": "code",
      "source": [
        "generate_T5(data.iloc[0]['inputs'])"
      ],
      "metadata": {
        "colab": {
          "base_uri": "https://localhost:8080/",
          "height": 163
        },
        "id": "QPWgKsHvFRHO",
        "outputId": "54352b7d-c07e-4ba2-d920-1d8d594721a3"
      },
      "execution_count": null,
      "outputs": [
        {
          "output_type": "stream",
          "name": "stderr",
          "text": [
            "/usr/local/lib/python3.11/dist-packages/transformers/tokenization_utils_base.py:2718: UserWarning: `max_length` is ignored when `padding`=`True` and there is no truncation strategy. To pad to max length, use `padding='max_length'`.\n",
            "  warnings.warn(\n"
          ]
        },
        {
          "output_type": "stream",
          "name": "stdout",
          "text": [
            "Question : What are the key advantages and applications of an implantable stimulator system that uses a passive magnetostrictive electroactive sensor for power harvesting in a non-vibration rich environment?,Data : INVENTION This invention relates to apparatus and methods for harvesting energy from the environment and other sources external to the harvester and converting it to useful electrical energy. The present invention generally relates to implantable stimulator systems and methods, and more particularly relates to implantable stimulator systems and methods utilizing one or more implantable microstimulators for direct electrical current. Specifically outlined is the use of PME for the delivery of microstimulation through applied external magnetic field technology. The delivered therapy will be effective for continuous or temporary, as needed (PRN) therapeutic intervention. BACKGROUND OF THE INVENTION Energy harvesters are known that convert vibrational energy into electrical energy. The electrical energy produced can then be stored or used by other devices. For example, the vibrations of an air conditioning duct can be converted into electrical energy by an energy harvester and the electrical energy then used to power a sensor that measures the air temperature in the duct. The sensor does not require electrical wiring to a remote source of power or periodic battery changes. There are a variety of such devices for generating electrical power from vibrations, oscillations or other mechanical motions. Generally such devices are categorized as inductive, capacitive, and/or piezoelectric devices. While each of the known types of vibrational energy harvesters have different advantages, they also have drawbacks such as: the need for heavy, powerful permanent magnets (in the case of inductive energy harvesters) to produce a sufficiently large flux density; an auxiliary source of power, such as a battery (in the case of capacitive harvesters); the need for large vibration frequencies and/or a heavy inertial mass to generate sufficient vibrational energy for harvesting (for all types of vibration energy harvesters); undesirable levels of damping and noise generation from interaction between the locally generated magnetic field and nearby metallic parts (for inductive harvesters); and other disadvantages such as size or weight that make them unsuitable for use in a remote or generally inaccessible location. As shown in FIG. 1 , a typical magnetic device 2 to harvest vibrational energy consists of a permanent magnet 3 (an internal local field source) attached to a housing 7 and connected by a spring 4 to a passive magnetic field sensor 5 (e.g., an induction coil or a passive magnetostrictive/electroactive field sensor). External vibrations cause a relative motion of the magnet 3 and sensor 5 , producing an electrical voltage across a load 8 and a current through the load. In addition to requiring a local magnetic field source (e.g., a permanent magnet disposed adjacent to the field sensor), these devices also typically include an inertial mass 6 (also known as a proof mass) to increase the vibrational energy generated. The inertial mass may be rigidly attached to the sensor (as shown), may be the same or separate from the permanent magnet, or may comprise part of the sensor itself. As a further alternative, the magnet may comprise part of the moving proof mass, as opposed to being fixed to the housing. In each case, the inertial mass and the permanent magnet increase the size and weight of the device. It would be desirable to provide a magnetic energy harvester that does not require a local magnetic field source as part of the device itself. It would also be beneficial to provide a magnetic energy harvester that does not require a source of vibrational or other mechanical motion. SUMMARY OF THE INVENTION In accordance with various embodiments of the present invention, an apparatus is provided for harvesting energy from the environment or other remote sources and converting it to useful electrical energy. The harvester does not contain a permanent magnet or other local field source but instead relies on the earth&#39;s magnetic field or another source of a magnetic field that is external to the sensing device. One advantage of these new harvesters is that they can be made smaller and lighter than energy harvesters that contain a magnet. Another advantage is that they do not require vibrational energy to function. According to various embodiments of the invention disclosed herein, the harvester differs from those of the prior art by the absence of a permanent magnet or other local (internal) field source. In these new devices, a change in the state of magnetization of the sensing element may be achieved in one (or both) of two general ways: 1. The magnetic flux density in the sensing element may be altered by changes in the orientation of the sensor (movement of the sensor) with respect to a static (non-changing) external field. For example, the magnetization vector M of the sensing element may rotate due to changes in the orientation of the sensing element with respect to the earth&#39;s field. Such movement of the sensing element may be achieved by attaching the sensing element to a piece of rotating machinery or a rotating part on a vehicle. Alternatively, the sensing element may be suspended on its axis and allowed to rotate (due to external vibrations), the rotation causing a change in its orientation in the earth&#39;s field. 2. Alternatively, the sensing element may remain stationary and be operated on by a remote changing magnetic field from any of a variety of sources. The remote changing magnetic field can be produced by an electrical transformer, motor, electronic device, moving machinery or inductive wire or coil which is relatively remote (acting at a distance or through a non-magnetic barrier) on the sensing element. The changing (e.g., alternating) magnetic field source can be designed to couple with a remote sensing element efficiently in terms of frequency, distance, field orientation and magnitude to deliver power remotely to the sensing element. When operating from the earth&#39;s magnetic field, the power harvested may be less than that achieved with a prior art vibrational energy harvester having a built-in magnetic field. The power harvested from a remote field source will be measured in microwatts per centimeter cubed (μW/cm 3 ), as opposed to milliwatts per centimeter cubed (mW/cm 3 ) for energy harvesters that include a strong magnet. However, for certain applications the power delivered by such a small, lightweight and simple energy harvester will be sufficient and enable new applications. When operating near some man-made external sources of alternating magnetic fields, or when such an external field source is brought near to the energy harvester, the power harvested can be considerably greater because the strength of such fields is often considerably greater than the earth&#39;s magnetic field (H earth is approximately 0.3 Oe or 3 micro-Tesla). A preferred sensing element for use in the present invention is based on a class of passive magnetostrictive electroactive (PME) magnetic field sensors that produce a voltage when exposed to a changing magnetic field. The sensing element is preferably a layered structure (e.g., sandwich) of magnetostrictive material bonded to an electroactive material, the latter being poled in a direction preferably parallel to the plane of the magnetostrictive layer(s). An external magnetic field causes a magnetization change in the magnetostrictive layer(s), which respond(s) with a magnetoelastic stress. Part of the stress is transferred to the electroactive layer that responds by producing a voltage given by V i =g ij σ j L i. Here, L i is the distance between the electrodes across which the voltage V i is measured, σ j is the stress transferred to the electroactive component, and g ij is the stress-voltage coupling coefficient. The voltage is greatest when the direction i=j. However, in different applications the principal stress and induced voltage may lie in orthogonal directions (e.g., 1-3 operation), or the principal stress and voltage may act along different axes (e.g., 1-5 operation). The energy harvester of the present invention is more than a simple passive magnetostrictive/electroactive (PME) field sensor. A simple PME field sensor is comprised of materials and dimensions designed preferably to produce a large voltage across a high impedance circuit, the voltage being indicative of the field of interest. The electronic circuit for a simple PME sensor is designed to register a field value. In contrast, the PME energy harvester of the present invention is comprised of materials and dimensions designed preferably to produce a voltage and current that match the impedance of the load to be driven. The PME energy harvester is coupled to an electronic circuit that converts the PME output to power for immediate use or storage. The PME element is preferably optimized to respond to the field strength of the intended environment, which would generally be much greater than that of a pure field sensor. This new type of energy harvester can be simpler, lighter and/or more compact than those requiring a permanent magnet as a field source, and also those requiring an inertial mass for enhancing vibrational energy. For example, suitable applications may include wireless monitoring applications, wherein wireless monitoring is meant to include self powered sensing of local conditions and processing of the sensor output and self powered wireless communication to a central data processing point. Other suitable applications might include wireless transfer of electrical power over a small distance to a location inaccessible via electrical leads or not convenient for battery replacement. More specifically, these applications may include supplying power for: wireless health monitoring or condition based maintenance; supplementing power or recharging batteries without physically accessing them; elimination of wiring of electrical devices remote from a power source; wireless monitoring of temperature, airflow, humidity and gas content in heating, ventilation and air conditioning (HVAC) systems; wireless monitoring of traffic flow, turbulence, noise or personnel movement; wireless, self powered security systems; powering of mobile electronic instruments; passive detection of creep or crack propagation in structures for condition based maintenance; and powering of devices implanted in a living body (or to another inaccessible location) for purposes of sensing, transmitting, or actuating (e.g., motors, pumps, switches, valves, electrodes), as well as for accomplishing therapy or other functions that require a voltage and/or current. Furthermore, applications of the new energy harvester are not limited to vibration rich environments. A simple repetitive motion or rotation of the more sensitive PME devices as described herein allows them to operate from the earth&#39;s magnetic field. They can be placed in physically inaccessible locations and activated from a remote field source that is either present in the environment or placed there for the purpose of energizing the device. In one embodiment of the invention: an energy harvester without a local field source comprises: a magnetic field sensing element including one or more layers of magnetostrictive material having a magnetization vector that responds to variations in an applied magnetic field by generating a stress, and one or more layers of electroactive material, mechanically bonded to the layer of magnetostrictive material, that responds to the stress by generating a voltage; and a circuit coupled to the sensing element that converts the voltage to electrical power for immediate use or storage, wherein the sensing element either: a) moves relative to a remote static external magnetic field, such that changes in orientation of the sensing element with respect to the external field generates the voltage; or b) is stationary with respect to a remote changing external magnetic field, wherein the changing external field causes the sensing element to generate the voltage. In Various Embodiments the electrical power comprises a voltage and current suitable for an intended application; the magnetostrictive material layer has a magnetization vector that responds to variations in the magnetic field by rotating in a plane and wherein the electroactive material is poled in a direction substantially parallel to the plane in which the magnetization vector rotates; the sensing element is mounted to an object that moves relative to the applied magnetic field; the variations in the applied external field are in one or more of magnitude and direction of the field; the sensing element is mounted such that local vibration changes its orientation with respect to the applied magnetic field; the sensing element includes electrodes for measuring the voltage generated and wherein the electrodes are configured such that the distance between the electrodes and cross sectional area between the electrodes are tailored to produce a desired electrical power; the magnetization vector rotates relative to the electrode axis due to changes in the orientation of the sensor in the applied external field; local vibrations also change the orientation of the sensor with respect to the applied external field; the remote magnetic field is generated by one or more of an electrical transformer, motor, actuator, switch, electronic device, moving machinery or inductor; the inductor is a wire or coil through which an alternating current is flowing, to produce the remote changing external magnetic field; the sensing element is rigidly attached to an inertial mass; the sensing element includes an inertial mass; the changing external field or sensing element movement is at vibration or power transmission frequencies of no greater than 1 kHz; the changing external field is at a resonance frequency in the range of that of the sensing element; the changing external field is in a range of 20 to 50 kHz; the external field frequency is equal to or close to the resonance frequency of the sensor, which varies roughly according to the equation fr ≈ 1 2 ⁢ L ⁢ E eff ρ eff where L is a characteristic length of the sensor and E eff and ρ eff are the elastic modulus and mass density appropriate to describe the composite magnetostrictive/electroactive sensor properties; the changing external field and sensing element are within a resonant frequency range; the circuit is within the resonant frequency range; the external changing field is outside a human or other animal body and the sensing element is inside the body. In another embodiment of the invention, a method of harvesting energy comprises: providing a magnetic field sensing element including one or more layers of magnetostrictive material having a magnetization vector that responds to variations in an applied magnetic field by generating a stress, and one or more layers of an electroactive material, mechanically bonded to the layer of magnetostrictive material, that responds to the stress by generating a voltage; wherein the voltage is generated by either: moving the sensing element relative to a remote static external magnetic field, such that changes in orientation in the sensing element with respect to the external field generates the voltage; or the sensing element is stationary with respect to a remote changing external magnetic field, and the changing external field causes the sensing elemenet to generate the voltage; and converting the generated voltage to electrical power for immediate use or storage. The invention disclosed and claimed herein addresses the above and other needs and provides means and systems for acutely stimulating a nerve root(s), spinal nerve(s), organs, soft tissue, incision site or similar, with a miniature implantable neurostimulator(s) that can be implanted via a minimal surgical procedure and powered by an external magnetic field. This invention describes a means of delivering power wirelessly from outside the body to inside the body for the therapies described above. The means of wireless power delivery consists of a passive magnetostrictive/electro-active (PME) magnetic-field sensor as the main component of a small implantable device that will receive a changing magnetic field from an external alternating magnetic field source external to the body. This field source may be a hand-held device or a small antenna affixed to the wearer&#39;s skin, clothing or accessories. Alternatively, the external field may be generated by a source planted in a chair, desk, car seat or table that the recipient frequents. The AC magnetic field excites the implanted PME sensor, which generates a voltage and current that can be used to provide therapeutic relief by stimulating nerve. The therapeutic system can also be used to minimize tissue damage, reduce tumor size and burden, or stimulate bone or cartilage growth in the appropriate space. An AC magnetic field is a more efficient means of transmitting power than an AC electric field because of the greater attenuation of electric fields by body fluids. The proposed system would include an external source of alternating magnetic field close to the recipient or in a wearable device that is made up of a power source (line power, battery, rechargeable battery or energy harvester) and electronics to control the signal generated by the wearable antenna. The antenna is connected to the wearable device with a wire and affixed to the skin or cloth in the area of interest to perform two functions: First, the antenna transmits data to communicate with the implanted devices. Second, the antenna transmits a signal that is converted by the implanted PME sensor/harvester (part of the implanted device) into useful power for the entire implanted device. The implanted PME provides a tiny implant that may be millimeter scale in size that can be driven by an external magnetic field applied only on an as needed basis. For example, patients with migraine headaches can be treated with therapeutic electricity applied to the occipital nerve. The patient does not however express this headache chronically, rather the headache appears only on an intermittently acute basis. Therefore applying the magnetic field during the earliest (prodromal) period of the headache can prevent conversion to a migraine headache. This would be one therapeutic embodiment of the technology. Stimulation and control parameters of the implanted micro-stimulator are preferably adjusted to levels that are safe and efficacious with minimal patient discomfort. Different stimulation parameters generally have different effects on neural tissue, and parameters are thus chosen to target specific neural populations and to exclude others.\n"
          ]
        },
        {
          "output_type": "execute_result",
          "data": {
            "text/plain": [
              "'is a small implantable device that uses a passive magnetostrictive/electroactive (PME) magnetic field sensor. the device is preferably a layered structure (e.g., sandwich) of magnetostrictive material having a magnetization vector. the sensing element is rigidly attached to an object that moves relative to the applied field. the sensing element is stationary with respect to a remote changing external magnetic field.'"
            ],
            "application/vnd.google.colaboratory.intrinsic+json": {
              "type": "string"
            }
          },
          "metadata": {},
          "execution_count": 84
        }
      ]
    },
    {
      "cell_type": "code",
      "source": [
        "data.iloc[0]['query']"
      ],
      "metadata": {
        "colab": {
          "base_uri": "https://localhost:8080/",
          "height": 53
        },
        "id": "b_kfvwmGFvOU",
        "outputId": "44088e3f-b3b2-4fcb-a18d-7318bb8406aa"
      },
      "execution_count": null,
      "outputs": [
        {
          "output_type": "execute_result",
          "data": {
            "text/plain": [
              "'What are the key advantages and applications of an implantable stimulator system that uses a passive magnetostrictive electroactive sensor for power harvesting in a non-vibration rich environment?,'"
            ],
            "application/vnd.google.colaboratory.intrinsic+json": {
              "type": "string"
            }
          },
          "metadata": {},
          "execution_count": 85
        }
      ]
    },
    {
      "cell_type": "code",
      "source": [
        "data['respose'] = data['inputs'].apply(generate_T5)"
      ],
      "metadata": {
        "id": "R_8qrf7pInk_",
        "colab": {
          "base_uri": "https://localhost:8080/"
        },
        "outputId": "35e7fbb2-691f-4a63-fee9-d1d33c98e7e4"
      },
      "execution_count": null,
      "outputs": [
        {
          "output_type": "stream",
          "name": "stdout",
          "text": [
            "Question : What are the key advantages and applications of an implantable stimulator system that uses a passive magnetostrictive electroactive sensor for power harvesting in a non-vibration rich environment?,Data : INVENTION This invention relates to apparatus and methods for harvesting energy from the environment and other sources external to the harvester and converting it to useful electrical energy. The present invention generally relates to implantable stimulator systems and methods, and more particularly relates to implantable stimulator systems and methods utilizing one or more implantable microstimulators for direct electrical current. Specifically outlined is the use of PME for the delivery of microstimulation through applied external magnetic field technology. The delivered therapy will be effective for continuous or temporary, as needed (PRN) therapeutic intervention. BACKGROUND OF THE INVENTION Energy harvesters are known that convert vibrational energy into electrical energy. The electrical energy produced can then be stored or used by other devices. For example, the vibrations of an air conditioning duct can be converted into electrical energy by an energy harvester and the electrical energy then used to power a sensor that measures the air temperature in the duct. The sensor does not require electrical wiring to a remote source of power or periodic battery changes. There are a variety of such devices for generating electrical power from vibrations, oscillations or other mechanical motions. Generally such devices are categorized as inductive, capacitive, and/or piezoelectric devices. While each of the known types of vibrational energy harvesters have different advantages, they also have drawbacks such as: the need for heavy, powerful permanent magnets (in the case of inductive energy harvesters) to produce a sufficiently large flux density; an auxiliary source of power, such as a battery (in the case of capacitive harvesters); the need for large vibration frequencies and/or a heavy inertial mass to generate sufficient vibrational energy for harvesting (for all types of vibration energy harvesters); undesirable levels of damping and noise generation from interaction between the locally generated magnetic field and nearby metallic parts (for inductive harvesters); and other disadvantages such as size or weight that make them unsuitable for use in a remote or generally inaccessible location. As shown in FIG. 1 , a typical magnetic device 2 to harvest vibrational energy consists of a permanent magnet 3 (an internal local field source) attached to a housing 7 and connected by a spring 4 to a passive magnetic field sensor 5 (e.g., an induction coil or a passive magnetostrictive/electroactive field sensor). External vibrations cause a relative motion of the magnet 3 and sensor 5 , producing an electrical voltage across a load 8 and a current through the load. In addition to requiring a local magnetic field source (e.g., a permanent magnet disposed adjacent to the field sensor), these devices also typically include an inertial mass 6 (also known as a proof mass) to increase the vibrational energy generated. The inertial mass may be rigidly attached to the sensor (as shown), may be the same or separate from the permanent magnet, or may comprise part of the sensor itself. As a further alternative, the magnet may comprise part of the moving proof mass, as opposed to being fixed to the housing. In each case, the inertial mass and the permanent magnet increase the size and weight of the device. It would be desirable to provide a magnetic energy harvester that does not require a local magnetic field source as part of the device itself. It would also be beneficial to provide a magnetic energy harvester that does not require a source of vibrational or other mechanical motion. SUMMARY OF THE INVENTION In accordance with various embodiments of the present invention, an apparatus is provided for harvesting energy from the environment or other remote sources and converting it to useful electrical energy. The harvester does not contain a permanent magnet or other local field source but instead relies on the earth&#39;s magnetic field or another source of a magnetic field that is external to the sensing device. One advantage of these new harvesters is that they can be made smaller and lighter than energy harvesters that contain a magnet. Another advantage is that they do not require vibrational energy to function. According to various embodiments of the invention disclosed herein, the harvester differs from those of the prior art by the absence of a permanent magnet or other local (internal) field source. In these new devices, a change in the state of magnetization of the sensing element may be achieved in one (or both) of two general ways: 1. The magnetic flux density in the sensing element may be altered by changes in the orientation of the sensor (movement of the sensor) with respect to a static (non-changing) external field. For example, the magnetization vector M of the sensing element may rotate due to changes in the orientation of the sensing element with respect to the earth&#39;s field. Such movement of the sensing element may be achieved by attaching the sensing element to a piece of rotating machinery or a rotating part on a vehicle. Alternatively, the sensing element may be suspended on its axis and allowed to rotate (due to external vibrations), the rotation causing a change in its orientation in the earth&#39;s field. 2. Alternatively, the sensing element may remain stationary and be operated on by a remote changing magnetic field from any of a variety of sources. The remote changing magnetic field can be produced by an electrical transformer, motor, electronic device, moving machinery or inductive wire or coil which is relatively remote (acting at a distance or through a non-magnetic barrier) on the sensing element. The changing (e.g., alternating) magnetic field source can be designed to couple with a remote sensing element efficiently in terms of frequency, distance, field orientation and magnitude to deliver power remotely to the sensing element. When operating from the earth&#39;s magnetic field, the power harvested may be less than that achieved with a prior art vibrational energy harvester having a built-in magnetic field. The power harvested from a remote field source will be measured in microwatts per centimeter cubed (μW/cm 3 ), as opposed to milliwatts per centimeter cubed (mW/cm 3 ) for energy harvesters that include a strong magnet. However, for certain applications the power delivered by such a small, lightweight and simple energy harvester will be sufficient and enable new applications. When operating near some man-made external sources of alternating magnetic fields, or when such an external field source is brought near to the energy harvester, the power harvested can be considerably greater because the strength of such fields is often considerably greater than the earth&#39;s magnetic field (H earth is approximately 0.3 Oe or 3 micro-Tesla). A preferred sensing element for use in the present invention is based on a class of passive magnetostrictive electroactive (PME) magnetic field sensors that produce a voltage when exposed to a changing magnetic field. The sensing element is preferably a layered structure (e.g., sandwich) of magnetostrictive material bonded to an electroactive material, the latter being poled in a direction preferably parallel to the plane of the magnetostrictive layer(s). An external magnetic field causes a magnetization change in the magnetostrictive layer(s), which respond(s) with a magnetoelastic stress. Part of the stress is transferred to the electroactive layer that responds by producing a voltage given by V i =g ij σ j L i. Here, L i is the distance between the electrodes across which the voltage V i is measured, σ j is the stress transferred to the electroactive component, and g ij is the stress-voltage coupling coefficient. The voltage is greatest when the direction i=j. However, in different applications the principal stress and induced voltage may lie in orthogonal directions (e.g., 1-3 operation), or the principal stress and voltage may act along different axes (e.g., 1-5 operation). The energy harvester of the present invention is more than a simple passive magnetostrictive/electroactive (PME) field sensor. A simple PME field sensor is comprised of materials and dimensions designed preferably to produce a large voltage across a high impedance circuit, the voltage being indicative of the field of interest. The electronic circuit for a simple PME sensor is designed to register a field value. In contrast, the PME energy harvester of the present invention is comprised of materials and dimensions designed preferably to produce a voltage and current that match the impedance of the load to be driven. The PME energy harvester is coupled to an electronic circuit that converts the PME output to power for immediate use or storage. The PME element is preferably optimized to respond to the field strength of the intended environment, which would generally be much greater than that of a pure field sensor. This new type of energy harvester can be simpler, lighter and/or more compact than those requiring a permanent magnet as a field source, and also those requiring an inertial mass for enhancing vibrational energy. For example, suitable applications may include wireless monitoring applications, wherein wireless monitoring is meant to include self powered sensing of local conditions and processing of the sensor output and self powered wireless communication to a central data processing point. Other suitable applications might include wireless transfer of electrical power over a small distance to a location inaccessible via electrical leads or not convenient for battery replacement. More specifically, these applications may include supplying power for: wireless health monitoring or condition based maintenance; supplementing power or recharging batteries without physically accessing them; elimination of wiring of electrical devices remote from a power source; wireless monitoring of temperature, airflow, humidity and gas content in heating, ventilation and air conditioning (HVAC) systems; wireless monitoring of traffic flow, turbulence, noise or personnel movement; wireless, self powered security systems; powering of mobile electronic instruments; passive detection of creep or crack propagation in structures for condition based maintenance; and powering of devices implanted in a living body (or to another inaccessible location) for purposes of sensing, transmitting, or actuating (e.g., motors, pumps, switches, valves, electrodes), as well as for accomplishing therapy or other functions that require a voltage and/or current. Furthermore, applications of the new energy harvester are not limited to vibration rich environments. A simple repetitive motion or rotation of the more sensitive PME devices as described herein allows them to operate from the earth&#39;s magnetic field. They can be placed in physically inaccessible locations and activated from a remote field source that is either present in the environment or placed there for the purpose of energizing the device. In one embodiment of the invention: an energy harvester without a local field source comprises: a magnetic field sensing element including one or more layers of magnetostrictive material having a magnetization vector that responds to variations in an applied magnetic field by generating a stress, and one or more layers of electroactive material, mechanically bonded to the layer of magnetostrictive material, that responds to the stress by generating a voltage; and a circuit coupled to the sensing element that converts the voltage to electrical power for immediate use or storage, wherein the sensing element either: a) moves relative to a remote static external magnetic field, such that changes in orientation of the sensing element with respect to the external field generates the voltage; or b) is stationary with respect to a remote changing external magnetic field, wherein the changing external field causes the sensing element to generate the voltage. In Various Embodiments the electrical power comprises a voltage and current suitable for an intended application; the magnetostrictive material layer has a magnetization vector that responds to variations in the magnetic field by rotating in a plane and wherein the electroactive material is poled in a direction substantially parallel to the plane in which the magnetization vector rotates; the sensing element is mounted to an object that moves relative to the applied magnetic field; the variations in the applied external field are in one or more of magnitude and direction of the field; the sensing element is mounted such that local vibration changes its orientation with respect to the applied magnetic field; the sensing element includes electrodes for measuring the voltage generated and wherein the electrodes are configured such that the distance between the electrodes and cross sectional area between the electrodes are tailored to produce a desired electrical power; the magnetization vector rotates relative to the electrode axis due to changes in the orientation of the sensor in the applied external field; local vibrations also change the orientation of the sensor with respect to the applied external field; the remote magnetic field is generated by one or more of an electrical transformer, motor, actuator, switch, electronic device, moving machinery or inductor; the inductor is a wire or coil through which an alternating current is flowing, to produce the remote changing external magnetic field; the sensing element is rigidly attached to an inertial mass; the sensing element includes an inertial mass; the changing external field or sensing element movement is at vibration or power transmission frequencies of no greater than 1 kHz; the changing external field is at a resonance frequency in the range of that of the sensing element; the changing external field is in a range of 20 to 50 kHz; the external field frequency is equal to or close to the resonance frequency of the sensor, which varies roughly according to the equation fr ≈ 1 2 ⁢ L ⁢ E eff ρ eff where L is a characteristic length of the sensor and E eff and ρ eff are the elastic modulus and mass density appropriate to describe the composite magnetostrictive/electroactive sensor properties; the changing external field and sensing element are within a resonant frequency range; the circuit is within the resonant frequency range; the external changing field is outside a human or other animal body and the sensing element is inside the body. In another embodiment of the invention, a method of harvesting energy comprises: providing a magnetic field sensing element including one or more layers of magnetostrictive material having a magnetization vector that responds to variations in an applied magnetic field by generating a stress, and one or more layers of an electroactive material, mechanically bonded to the layer of magnetostrictive material, that responds to the stress by generating a voltage; wherein the voltage is generated by either: moving the sensing element relative to a remote static external magnetic field, such that changes in orientation in the sensing element with respect to the external field generates the voltage; or the sensing element is stationary with respect to a remote changing external magnetic field, and the changing external field causes the sensing elemenet to generate the voltage; and converting the generated voltage to electrical power for immediate use or storage. The invention disclosed and claimed herein addresses the above and other needs and provides means and systems for acutely stimulating a nerve root(s), spinal nerve(s), organs, soft tissue, incision site or similar, with a miniature implantable neurostimulator(s) that can be implanted via a minimal surgical procedure and powered by an external magnetic field. This invention describes a means of delivering power wirelessly from outside the body to inside the body for the therapies described above. The means of wireless power delivery consists of a passive magnetostrictive/electro-active (PME) magnetic-field sensor as the main component of a small implantable device that will receive a changing magnetic field from an external alternating magnetic field source external to the body. This field source may be a hand-held device or a small antenna affixed to the wearer&#39;s skin, clothing or accessories. Alternatively, the external field may be generated by a source planted in a chair, desk, car seat or table that the recipient frequents. The AC magnetic field excites the implanted PME sensor, which generates a voltage and current that can be used to provide therapeutic relief by stimulating nerve. The therapeutic system can also be used to minimize tissue damage, reduce tumor size and burden, or stimulate bone or cartilage growth in the appropriate space. An AC magnetic field is a more efficient means of transmitting power than an AC electric field because of the greater attenuation of electric fields by body fluids. The proposed system would include an external source of alternating magnetic field close to the recipient or in a wearable device that is made up of a power source (line power, battery, rechargeable battery or energy harvester) and electronics to control the signal generated by the wearable antenna. The antenna is connected to the wearable device with a wire and affixed to the skin or cloth in the area of interest to perform two functions: First, the antenna transmits data to communicate with the implanted devices. Second, the antenna transmits a signal that is converted by the implanted PME sensor/harvester (part of the implanted device) into useful power for the entire implanted device. The implanted PME provides a tiny implant that may be millimeter scale in size that can be driven by an external magnetic field applied only on an as needed basis. For example, patients with migraine headaches can be treated with therapeutic electricity applied to the occipital nerve. The patient does not however express this headache chronically, rather the headache appears only on an intermittently acute basis. Therefore applying the magnetic field during the earliest (prodromal) period of the headache can prevent conversion to a migraine headache. This would be one therapeutic embodiment of the technology. Stimulation and control parameters of the implanted micro-stimulator are preferably adjusted to levels that are safe and efficacious with minimal patient discomfort. Different stimulation parameters generally have different effects on neural tissue, and parameters are thus chosen to target specific neural populations and to exclude others.\n",
            "Question : How does a magnetic energy harvester operate without an internal permanent magnet or local field source?,Data : INVENTION This invention relates to apparatus and methods for harvesting energy from the environment and other sources external to the harvester and converting it to useful electrical energy. The present invention generally relates to implantable stimulator systems and methods, and more particularly relates to implantable stimulator systems and methods utilizing one or more implantable microstimulators for direct electrical current. Specifically outlined is the use of PME for the delivery of microstimulation through applied external magnetic field technology. The delivered therapy will be effective for continuous or temporary, as needed (PRN) therapeutic intervention. BACKGROUND OF THE INVENTION Energy harvesters are known that convert vibrational energy into electrical energy. The electrical energy produced can then be stored or used by other devices. For example, the vibrations of an air conditioning duct can be converted into electrical energy by an energy harvester and the electrical energy then used to power a sensor that measures the air temperature in the duct. The sensor does not require electrical wiring to a remote source of power or periodic battery changes. There are a variety of such devices for generating electrical power from vibrations, oscillations or other mechanical motions. Generally such devices are categorized as inductive, capacitive, and/or piezoelectric devices. While each of the known types of vibrational energy harvesters have different advantages, they also have drawbacks such as: the need for heavy, powerful permanent magnets (in the case of inductive energy harvesters) to produce a sufficiently large flux density; an auxiliary source of power, such as a battery (in the case of capacitive harvesters); the need for large vibration frequencies and/or a heavy inertial mass to generate sufficient vibrational energy for harvesting (for all types of vibration energy harvesters); undesirable levels of damping and noise generation from interaction between the locally generated magnetic field and nearby metallic parts (for inductive harvesters); and other disadvantages such as size or weight that make them unsuitable for use in a remote or generally inaccessible location. As shown in FIG. 1 , a typical magnetic device 2 to harvest vibrational energy consists of a permanent magnet 3 (an internal local field source) attached to a housing 7 and connected by a spring 4 to a passive magnetic field sensor 5 (e.g., an induction coil or a passive magnetostrictive/electroactive field sensor). External vibrations cause a relative motion of the magnet 3 and sensor 5 , producing an electrical voltage across a load 8 and a current through the load. In addition to requiring a local magnetic field source (e.g., a permanent magnet disposed adjacent to the field sensor), these devices also typically include an inertial mass 6 (also known as a proof mass) to increase the vibrational energy generated. The inertial mass may be rigidly attached to the sensor (as shown), may be the same or separate from the permanent magnet, or may comprise part of the sensor itself. As a further alternative, the magnet may comprise part of the moving proof mass, as opposed to being fixed to the housing. In each case, the inertial mass and the permanent magnet increase the size and weight of the device. It would be desirable to provide a magnetic energy harvester that does not require a local magnetic field source as part of the device itself. It would also be beneficial to provide a magnetic energy harvester that does not require a source of vibrational or other mechanical motion. SUMMARY OF THE INVENTION In accordance with various embodiments of the present invention, an apparatus is provided for harvesting energy from the environment or other remote sources and converting it to useful electrical energy. The harvester does not contain a permanent magnet or other local field source but instead relies on the earth&#39;s magnetic field or another source of a magnetic field that is external to the sensing device. One advantage of these new harvesters is that they can be made smaller and lighter than energy harvesters that contain a magnet. Another advantage is that they do not require vibrational energy to function. According to various embodiments of the invention disclosed herein, the harvester differs from those of the prior art by the absence of a permanent magnet or other local (internal) field source. In these new devices, a change in the state of magnetization of the sensing element may be achieved in one (or both) of two general ways: 1. The magnetic flux density in the sensing element may be altered by changes in the orientation of the sensor (movement of the sensor) with respect to a static (non-changing) external field. For example, the magnetization vector M of the sensing element may rotate due to changes in the orientation of the sensing element with respect to the earth&#39;s field. Such movement of the sensing element may be achieved by attaching the sensing element to a piece of rotating machinery or a rotating part on a vehicle. Alternatively, the sensing element may be suspended on its axis and allowed to rotate (due to external vibrations), the rotation causing a change in its orientation in the earth&#39;s field. 2. Alternatively, the sensing element may remain stationary and be operated on by a remote changing magnetic field from any of a variety of sources. The remote changing magnetic field can be produced by an electrical transformer, motor, electronic device, moving machinery or inductive wire or coil which is relatively remote (acting at a distance or through a non-magnetic barrier) on the sensing element. The changing (e.g., alternating) magnetic field source can be designed to couple with a remote sensing element efficiently in terms of frequency, distance, field orientation and magnitude to deliver power remotely to the sensing element. When operating from the earth&#39;s magnetic field, the power harvested may be less than that achieved with a prior art vibrational energy harvester having a built-in magnetic field. The power harvested from a remote field source will be measured in microwatts per centimeter cubed (μW/cm 3 ), as opposed to milliwatts per centimeter cubed (mW/cm 3 ) for energy harvesters that include a strong magnet. However, for certain applications the power delivered by such a small, lightweight and simple energy harvester will be sufficient and enable new applications. When operating near some man-made external sources of alternating magnetic fields, or when such an external field source is brought near to the energy harvester, the power harvested can be considerably greater because the strength of such fields is often considerably greater than the earth&#39;s magnetic field (H earth is approximately 0.3 Oe or 3 micro-Tesla). A preferred sensing element for use in the present invention is based on a class of passive magnetostrictive electroactive (PME) magnetic field sensors that produce a voltage when exposed to a changing magnetic field. The sensing element is preferably a layered structure (e.g., sandwich) of magnetostrictive material bonded to an electroactive material, the latter being poled in a direction preferably parallel to the plane of the magnetostrictive layer(s). An external magnetic field causes a magnetization change in the magnetostrictive layer(s), which respond(s) with a magnetoelastic stress. Part of the stress is transferred to the electroactive layer that responds by producing a voltage given by V i =g ij σ j L i. Here, L i is the distance between the electrodes across which the voltage V i is measured, σ j is the stress transferred to the electroactive component, and g ij is the stress-voltage coupling coefficient. The voltage is greatest when the direction i=j. However, in different applications the principal stress and induced voltage may lie in orthogonal directions (e.g., 1-3 operation), or the principal stress and voltage may act along different axes (e.g., 1-5 operation). The energy harvester of the present invention is more than a simple passive magnetostrictive/electroactive (PME) field sensor. A simple PME field sensor is comprised of materials and dimensions designed preferably to produce a large voltage across a high impedance circuit, the voltage being indicative of the field of interest. The electronic circuit for a simple PME sensor is designed to register a field value. In contrast, the PME energy harvester of the present invention is comprised of materials and dimensions designed preferably to produce a voltage and current that match the impedance of the load to be driven. The PME energy harvester is coupled to an electronic circuit that converts the PME output to power for immediate use or storage. The PME element is preferably optimized to respond to the field strength of the intended environment, which would generally be much greater than that of a pure field sensor. This new type of energy harvester can be simpler, lighter and/or more compact than those requiring a permanent magnet as a field source, and also those requiring an inertial mass for enhancing vibrational energy. For example, suitable applications may include wireless monitoring applications, wherein wireless monitoring is meant to include self powered sensing of local conditions and processing of the sensor output and self powered wireless communication to a central data processing point. Other suitable applications might include wireless transfer of electrical power over a small distance to a location inaccessible via electrical leads or not convenient for battery replacement. More specifically, these applications may include supplying power for: wireless health monitoring or condition based maintenance; supplementing power or recharging batteries without physically accessing them; elimination of wiring of electrical devices remote from a power source; wireless monitoring of temperature, airflow, humidity and gas content in heating, ventilation and air conditioning (HVAC) systems; wireless monitoring of traffic flow, turbulence, noise or personnel movement; wireless, self powered security systems; powering of mobile electronic instruments; passive detection of creep or crack propagation in structures for condition based maintenance; and powering of devices implanted in a living body (or to another inaccessible location) for purposes of sensing, transmitting, or actuating (e.g., motors, pumps, switches, valves, electrodes), as well as for accomplishing therapy or other functions that require a voltage and/or current. Furthermore, applications of the new energy harvester are not limited to vibration rich environments. A simple repetitive motion or rotation of the more sensitive PME devices as described herein allows them to operate from the earth&#39;s magnetic field. They can be placed in physically inaccessible locations and activated from a remote field source that is either present in the environment or placed there for the purpose of energizing the device. In one embodiment of the invention: an energy harvester without a local field source comprises: a magnetic field sensing element including one or more layers of magnetostrictive material having a magnetization vector that responds to variations in an applied magnetic field by generating a stress, and one or more layers of electroactive material, mechanically bonded to the layer of magnetostrictive material, that responds to the stress by generating a voltage; and a circuit coupled to the sensing element that converts the voltage to electrical power for immediate use or storage, wherein the sensing element either: a) moves relative to a remote static external magnetic field, such that changes in orientation of the sensing element with respect to the external field generates the voltage; or b) is stationary with respect to a remote changing external magnetic field, wherein the changing external field causes the sensing element to generate the voltage. In Various Embodiments the electrical power comprises a voltage and current suitable for an intended application; the magnetostrictive material layer has a magnetization vector that responds to variations in the magnetic field by rotating in a plane and wherein the electroactive material is poled in a direction substantially parallel to the plane in which the magnetization vector rotates; the sensing element is mounted to an object that moves relative to the applied magnetic field; the variations in the applied external field are in one or more of magnitude and direction of the field; the sensing element is mounted such that local vibration changes its orientation with respect to the applied magnetic field; the sensing element includes electrodes for measuring the voltage generated and wherein the electrodes are configured such that the distance between the electrodes and cross sectional area between the electrodes are tailored to produce a desired electrical power; the magnetization vector rotates relative to the electrode axis due to changes in the orientation of the sensor in the applied external field; local vibrations also change the orientation of the sensor with respect to the applied external field; the remote magnetic field is generated by one or more of an electrical transformer, motor, actuator, switch, electronic device, moving machinery or inductor; the inductor is a wire or coil through which an alternating current is flowing, to produce the remote changing external magnetic field; the sensing element is rigidly attached to an inertial mass; the sensing element includes an inertial mass; the changing external field or sensing element movement is at vibration or power transmission frequencies of no greater than 1 kHz; the changing external field is at a resonance frequency in the range of that of the sensing element; the changing external field is in a range of 20 to 50 kHz; the external field frequency is equal to or close to the resonance frequency of the sensor, which varies roughly according to the equation fr ≈ 1 2 ⁢ L ⁢ E eff ρ eff where L is a characteristic length of the sensor and E eff and ρ eff are the elastic modulus and mass density appropriate to describe the composite magnetostrictive/electroactive sensor properties; the changing external field and sensing element are within a resonant frequency range; the circuit is within the resonant frequency range; the external changing field is outside a human or other animal body and the sensing element is inside the body. In another embodiment of the invention, a method of harvesting energy comprises: providing a magnetic field sensing element including one or more layers of magnetostrictive material having a magnetization vector that responds to variations in an applied magnetic field by generating a stress, and one or more layers of an electroactive material, mechanically bonded to the layer of magnetostrictive material, that responds to the stress by generating a voltage; wherein the voltage is generated by either: moving the sensing element relative to a remote static external magnetic field, such that changes in orientation in the sensing element with respect to the external field generates the voltage; or the sensing element is stationary with respect to a remote changing external magnetic field, and the changing external field causes the sensing elemenet to generate the voltage; and converting the generated voltage to electrical power for immediate use or storage. The invention disclosed and claimed herein addresses the above and other needs and provides means and systems for acutely stimulating a nerve root(s), spinal nerve(s), organs, soft tissue, incision site or similar, with a miniature implantable neurostimulator(s) that can be implanted via a minimal surgical procedure and powered by an external magnetic field. This invention describes a means of delivering power wirelessly from outside the body to inside the body for the therapies described above. The means of wireless power delivery consists of a passive magnetostrictive/electro-active (PME) magnetic-field sensor as the main component of a small implantable device that will receive a changing magnetic field from an external alternating magnetic field source external to the body. This field source may be a hand-held device or a small antenna affixed to the wearer&#39;s skin, clothing or accessories. Alternatively, the external field may be generated by a source planted in a chair, desk, car seat or table that the recipient frequents. The AC magnetic field excites the implanted PME sensor, which generates a voltage and current that can be used to provide therapeutic relief by stimulating nerve. The therapeutic system can also be used to minimize tissue damage, reduce tumor size and burden, or stimulate bone or cartilage growth in the appropriate space. An AC magnetic field is a more efficient means of transmitting power than an AC electric field because of the greater attenuation of electric fields by body fluids. The proposed system would include an external source of alternating magnetic field close to the recipient or in a wearable device that is made up of a power source (line power, battery, rechargeable battery or energy harvester) and electronics to control the signal generated by the wearable antenna. The antenna is connected to the wearable device with a wire and affixed to the skin or cloth in the area of interest to perform two functions: First, the antenna transmits data to communicate with the implanted devices. Second, the antenna transmits a signal that is converted by the implanted PME sensor/harvester (part of the implanted device) into useful power for the entire implanted device. The implanted PME provides a tiny implant that may be millimeter scale in size that can be driven by an external magnetic field applied only on an as needed basis. For example, patients with migraine headaches can be treated with therapeutic electricity applied to the occipital nerve. The patient does not however express this headache chronically, rather the headache appears only on an intermittently acute basis. Therefore applying the magnetic field during the earliest (prodromal) period of the headache can prevent conversion to a migraine headache. This would be one therapeutic embodiment of the technology. Stimulation and control parameters of the implanted micro-stimulator are preferably adjusted to levels that are safe and efficacious with minimal patient discomfort. Different stimulation parameters generally have different effects on neural tissue, and parameters are thus chosen to target specific neural populations and to exclude others.\n",
            "Question : How does an energy harvester operate without a local magnetic field source or vibrational energy?,Data : INVENTION This invention relates to apparatus and methods for harvesting energy from the environment and other sources external to the harvester and converting it to useful electrical energy. The present invention generally relates to implantable stimulator systems and methods, and more particularly relates to implantable stimulator systems and methods utilizing one or more implantable microstimulators for direct electrical current. Specifically outlined is the use of PME for the delivery of microstimulation through applied external magnetic field technology. The delivered therapy will be effective for continuous or temporary, as needed (PRN) therapeutic intervention. BACKGROUND OF THE INVENTION Energy harvesters are known that convert vibrational energy into electrical energy. The electrical energy produced can then be stored or used by other devices. For example, the vibrations of an air conditioning duct can be converted into electrical energy by an energy harvester and the electrical energy then used to power a sensor that measures the air temperature in the duct. The sensor does not require electrical wiring to a remote source of power or periodic battery changes. There are a variety of such devices for generating electrical power from vibrations, oscillations or other mechanical motions. Generally such devices are categorized as inductive, capacitive, and/or piezoelectric devices. While each of the known types of vibrational energy harvesters have different advantages, they also have drawbacks such as: the need for heavy, powerful permanent magnets (in the case of inductive energy harvesters) to produce a sufficiently large flux density; an auxiliary source of power, such as a battery (in the case of capacitive harvesters); the need for large vibration frequencies and/or a heavy inertial mass to generate sufficient vibrational energy for harvesting (for all types of vibration energy harvesters); undesirable levels of damping and noise generation from interaction between the locally generated magnetic field and nearby metallic parts (for inductive harvesters); and other disadvantages such as size or weight that make them unsuitable for use in a remote or generally inaccessible location. As shown in FIG. 1 , a typical magnetic device 2 to harvest vibrational energy consists of a permanent magnet 3 (an internal local field source) attached to a housing 7 and connected by a spring 4 to a passive magnetic field sensor 5 (e.g., an induction coil or a passive magnetostrictive/electroactive field sensor). External vibrations cause a relative motion of the magnet 3 and sensor 5 , producing an electrical voltage across a load 8 and a current through the load. In addition to requiring a local magnetic field source (e.g., a permanent magnet disposed adjacent to the field sensor), these devices also typically include an inertial mass 6 (also known as a proof mass) to increase the vibrational energy generated. The inertial mass may be rigidly attached to the sensor (as shown), may be the same or separate from the permanent magnet, or may comprise part of the sensor itself. As a further alternative, the magnet may comprise part of the moving proof mass, as opposed to being fixed to the housing. In each case, the inertial mass and the permanent magnet increase the size and weight of the device. It would be desirable to provide a magnetic energy harvester that does not require a local magnetic field source as part of the device itself. It would also be beneficial to provide a magnetic energy harvester that does not require a source of vibrational or other mechanical motion. SUMMARY OF THE INVENTION In accordance with various embodiments of the present invention, an apparatus is provided for harvesting energy from the environment or other remote sources and converting it to useful electrical energy. The harvester does not contain a permanent magnet or other local field source but instead relies on the earth&#39;s magnetic field or another source of a magnetic field that is external to the sensing device. One advantage of these new harvesters is that they can be made smaller and lighter than energy harvesters that contain a magnet. Another advantage is that they do not require vibrational energy to function. According to various embodiments of the invention disclosed herein, the harvester differs from those of the prior art by the absence of a permanent magnet or other local (internal) field source. In these new devices, a change in the state of magnetization of the sensing element may be achieved in one (or both) of two general ways: 1. The magnetic flux density in the sensing element may be altered by changes in the orientation of the sensor (movement of the sensor) with respect to a static (non-changing) external field. For example, the magnetization vector M of the sensing element may rotate due to changes in the orientation of the sensing element with respect to the earth&#39;s field. Such movement of the sensing element may be achieved by attaching the sensing element to a piece of rotating machinery or a rotating part on a vehicle. Alternatively, the sensing element may be suspended on its axis and allowed to rotate (due to external vibrations), the rotation causing a change in its orientation in the earth&#39;s field. 2. Alternatively, the sensing element may remain stationary and be operated on by a remote changing magnetic field from any of a variety of sources. The remote changing magnetic field can be produced by an electrical transformer, motor, electronic device, moving machinery or inductive wire or coil which is relatively remote (acting at a distance or through a non-magnetic barrier) on the sensing element. The changing (e.g., alternating) magnetic field source can be designed to couple with a remote sensing element efficiently in terms of frequency, distance, field orientation and magnitude to deliver power remotely to the sensing element. When operating from the earth&#39;s magnetic field, the power harvested may be less than that achieved with a prior art vibrational energy harvester having a built-in magnetic field. The power harvested from a remote field source will be measured in microwatts per centimeter cubed (μW/cm 3 ), as opposed to milliwatts per centimeter cubed (mW/cm 3 ) for energy harvesters that include a strong magnet. However, for certain applications the power delivered by such a small, lightweight and simple energy harvester will be sufficient and enable new applications. When operating near some man-made external sources of alternating magnetic fields, or when such an external field source is brought near to the energy harvester, the power harvested can be considerably greater because the strength of such fields is often considerably greater than the earth&#39;s magnetic field (H earth is approximately 0.3 Oe or 3 micro-Tesla). A preferred sensing element for use in the present invention is based on a class of passive magnetostrictive electroactive (PME) magnetic field sensors that produce a voltage when exposed to a changing magnetic field. The sensing element is preferably a layered structure (e.g., sandwich) of magnetostrictive material bonded to an electroactive material, the latter being poled in a direction preferably parallel to the plane of the magnetostrictive layer(s). An external magnetic field causes a magnetization change in the magnetostrictive layer(s), which respond(s) with a magnetoelastic stress. Part of the stress is transferred to the electroactive layer that responds by producing a voltage given by V i =g ij σ j L i. Here, L i is the distance between the electrodes across which the voltage V i is measured, σ j is the stress transferred to the electroactive component, and g ij is the stress-voltage coupling coefficient. The voltage is greatest when the direction i=j. However, in different applications the principal stress and induced voltage may lie in orthogonal directions (e.g., 1-3 operation), or the principal stress and voltage may act along different axes (e.g., 1-5 operation). The energy harvester of the present invention is more than a simple passive magnetostrictive/electroactive (PME) field sensor. A simple PME field sensor is comprised of materials and dimensions designed preferably to produce a large voltage across a high impedance circuit, the voltage being indicative of the field of interest. The electronic circuit for a simple PME sensor is designed to register a field value. In contrast, the PME energy harvester of the present invention is comprised of materials and dimensions designed preferably to produce a voltage and current that match the impedance of the load to be driven. The PME energy harvester is coupled to an electronic circuit that converts the PME output to power for immediate use or storage. The PME element is preferably optimized to respond to the field strength of the intended environment, which would generally be much greater than that of a pure field sensor. This new type of energy harvester can be simpler, lighter and/or more compact than those requiring a permanent magnet as a field source, and also those requiring an inertial mass for enhancing vibrational energy. For example, suitable applications may include wireless monitoring applications, wherein wireless monitoring is meant to include self powered sensing of local conditions and processing of the sensor output and self powered wireless communication to a central data processing point. Other suitable applications might include wireless transfer of electrical power over a small distance to a location inaccessible via electrical leads or not convenient for battery replacement. More specifically, these applications may include supplying power for: wireless health monitoring or condition based maintenance; supplementing power or recharging batteries without physically accessing them; elimination of wiring of electrical devices remote from a power source; wireless monitoring of temperature, airflow, humidity and gas content in heating, ventilation and air conditioning (HVAC) systems; wireless monitoring of traffic flow, turbulence, noise or personnel movement; wireless, self powered security systems; powering of mobile electronic instruments; passive detection of creep or crack propagation in structures for condition based maintenance; and powering of devices implanted in a living body (or to another inaccessible location) for purposes of sensing, transmitting, or actuating (e.g., motors, pumps, switches, valves, electrodes), as well as for accomplishing therapy or other functions that require a voltage and/or current. Furthermore, applications of the new energy harvester are not limited to vibration rich environments. A simple repetitive motion or rotation of the more sensitive PME devices as described herein allows them to operate from the earth&#39;s magnetic field. They can be placed in physically inaccessible locations and activated from a remote field source that is either present in the environment or placed there for the purpose of energizing the device. In one embodiment of the invention: an energy harvester without a local field source comprises: a magnetic field sensing element including one or more layers of magnetostrictive material having a magnetization vector that responds to variations in an applied magnetic field by generating a stress, and one or more layers of electroactive material, mechanically bonded to the layer of magnetostrictive material, that responds to the stress by generating a voltage; and a circuit coupled to the sensing element that converts the voltage to electrical power for immediate use or storage, wherein the sensing element either: a) moves relative to a remote static external magnetic field, such that changes in orientation of the sensing element with respect to the external field generates the voltage; or b) is stationary with respect to a remote changing external magnetic field, wherein the changing external field causes the sensing element to generate the voltage. In Various Embodiments the electrical power comprises a voltage and current suitable for an intended application; the magnetostrictive material layer has a magnetization vector that responds to variations in the magnetic field by rotating in a plane and wherein the electroactive material is poled in a direction substantially parallel to the plane in which the magnetization vector rotates; the sensing element is mounted to an object that moves relative to the applied magnetic field; the variations in the applied external field are in one or more of magnitude and direction of the field; the sensing element is mounted such that local vibration changes its orientation with respect to the applied magnetic field; the sensing element includes electrodes for measuring the voltage generated and wherein the electrodes are configured such that the distance between the electrodes and cross sectional area between the electrodes are tailored to produce a desired electrical power; the magnetization vector rotates relative to the electrode axis due to changes in the orientation of the sensor in the applied external field; local vibrations also change the orientation of the sensor with respect to the applied external field; the remote magnetic field is generated by one or more of an electrical transformer, motor, actuator, switch, electronic device, moving machinery or inductor; the inductor is a wire or coil through which an alternating current is flowing, to produce the remote changing external magnetic field; the sensing element is rigidly attached to an inertial mass; the sensing element includes an inertial mass; the changing external field or sensing element movement is at vibration or power transmission frequencies of no greater than 1 kHz; the changing external field is at a resonance frequency in the range of that of the sensing element; the changing external field is in a range of 20 to 50 kHz; the external field frequency is equal to or close to the resonance frequency of the sensor, which varies roughly according to the equation fr ≈ 1 2 ⁢ L ⁢ E eff ρ eff where L is a characteristic length of the sensor and E eff and ρ eff are the elastic modulus and mass density appropriate to describe the composite magnetostrictive/electroactive sensor properties; the changing external field and sensing element are within a resonant frequency range; the circuit is within the resonant frequency range; the external changing field is outside a human or other animal body and the sensing element is inside the body. In another embodiment of the invention, a method of harvesting energy comprises: providing a magnetic field sensing element including one or more layers of magnetostrictive material having a magnetization vector that responds to variations in an applied magnetic field by generating a stress, and one or more layers of an electroactive material, mechanically bonded to the layer of magnetostrictive material, that responds to the stress by generating a voltage; wherein the voltage is generated by either: moving the sensing element relative to a remote static external magnetic field, such that changes in orientation in the sensing element with respect to the external field generates the voltage; or the sensing element is stationary with respect to a remote changing external magnetic field, and the changing external field causes the sensing elemenet to generate the voltage; and converting the generated voltage to electrical power for immediate use or storage. The invention disclosed and claimed herein addresses the above and other needs and provides means and systems for acutely stimulating a nerve root(s), spinal nerve(s), organs, soft tissue, incision site or similar, with a miniature implantable neurostimulator(s) that can be implanted via a minimal surgical procedure and powered by an external magnetic field. This invention describes a means of delivering power wirelessly from outside the body to inside the body for the therapies described above. The means of wireless power delivery consists of a passive magnetostrictive/electro-active (PME) magnetic-field sensor as the main component of a small implantable device that will receive a changing magnetic field from an external alternating magnetic field source external to the body. This field source may be a hand-held device or a small antenna affixed to the wearer&#39;s skin, clothing or accessories. Alternatively, the external field may be generated by a source planted in a chair, desk, car seat or table that the recipient frequents. The AC magnetic field excites the implanted PME sensor, which generates a voltage and current that can be used to provide therapeutic relief by stimulating nerve. The therapeutic system can also be used to minimize tissue damage, reduce tumor size and burden, or stimulate bone or cartilage growth in the appropriate space. An AC magnetic field is a more efficient means of transmitting power than an AC electric field because of the greater attenuation of electric fields by body fluids. The proposed system would include an external source of alternating magnetic field close to the recipient or in a wearable device that is made up of a power source (line power, battery, rechargeable battery or energy harvester) and electronics to control the signal generated by the wearable antenna. The antenna is connected to the wearable device with a wire and affixed to the skin or cloth in the area of interest to perform two functions: First, the antenna transmits data to communicate with the implanted devices. Second, the antenna transmits a signal that is converted by the implanted PME sensor/harvester (part of the implanted device) into useful power for the entire implanted device. The implanted PME provides a tiny implant that may be millimeter scale in size that can be driven by an external magnetic field applied only on an as needed basis. For example, patients with migraine headaches can be treated with therapeutic electricity applied to the occipital nerve. The patient does not however express this headache chronically, rather the headache appears only on an intermittently acute basis. Therefore applying the magnetic field during the earliest (prodromal) period of the headache can prevent conversion to a migraine headache. This would be one therapeutic embodiment of the technology. Stimulation and control parameters of the implanted micro-stimulator are preferably adjusted to levels that are safe and efficacious with minimal patient discomfort. Different stimulation parameters generally have different effects on neural tissue, and parameters are thus chosen to target specific neural populations and to exclude others.\n",
            "Question : How can buffer blocks for ruminant animals be produced to ensure stability and palatability while delivering appropriate amounts of buffering ingredients?,Data : INVENTION I. Field of the Invention This invention relates to feed supplements for ruminant animals and, more particularly, to buffers used for dairy cattle and other bovines. II. Description of the Prior Art It is well known that the milk yields, dry matter consumption and the health of lactating dairy cows suffer when the animals are fed acidotic rations (e.g. high starch rations) over a period of time. These rations, which contain a high level of concentrate (grains, supplements, etc.) and low fiber, reduce the secretion of saliva and the rumen liquor pH that is normally at almost the neutral level (6.0-6.5). The variation of the rumen pH is principally attributable to increased ruminal fermentation leading to the production of organic acids (acetic acid, butyric acid, propionic acid, etc.). Moreover, the highly concentrated diet reduces the chewing and mastication time, thus reducing the production of alkaline saliva which normally assists in stabilizing the rumen pH since it contains natural buffers like bicarbonates. The ruminal pH may be brought back to the natural level by feeding an alkaline material, such as sodium carbonate, sodium bicarbonate or sodium sesquicarbonate, to the animals and, when this is done, milk yields return to normal. It has been found to be particularly beneficial to combine one or more of these ingredients with magnesium oxide to prevent milk and fat depression attributable to a high concentrate ration. Unfortunately, in order to affect rumen pH sufficiently, quite large amounts of alkaline materials of these kinds must be fed to the animals. For example, a cow having a high level of milk production can produce the equivalent of one to two kilograms of sodium bicarbonate in her saliva each day, which illustrates the type of quantities involved. Even though, in practice, such large quantities do not have to be served to the animals, even smaller amounts such as 300 to 400 grams of buffers are unappealing to the animals, particularly when magnesium oxide is present because this material seems to be particularly unpalatable to cattle. If attempts are made to make cattle &#34;swallow&#34; great quantities of magnesium oxide and buffers in this way, the animals usually refuse to eat the mineral and accompanying feedstuffs. Consequently, if the buffers are mixed with the regular feedstuffs, there may be a reduction in the consumption the feed, which can lead to obvious problems, and the animals may have difficulty adapting to the treated feedstuffs. In order to overcome this problem, attempts have been made to make the buffer ingredients more appealing to the animals by pelletizing the ingredients with molasses, corn, by-products and flavors. Nevertheless, the animals almost have to be &#34;force fed&#34; to get them to accept the buffers in significant amounts. Even if the products are made to have an appealing smell, they still obviously retain an unacceptable taste for the animals. The buffers treated in this way are normally offered &#34;top-dressed&#34; on the ration or mixed in the concentrate and delivered in controlled quantities. Consequently, if the animals do not eat the buffers, they do not eat their normal ration. Sometimes the buffers are offered on a free choice basis, e.g. loose in an auger or manger. However, because the buffers are unpalatable to a greater or lesser extent depending on individual preferences, many animals do not consume the required amounts. Moreover, since the buffers are highly hygroscopic, animal saliva and ambient humidity cause caking and the formation of clods, thus making the buffers unpalatable and unusable, and resulting in unacceptable losses of useful material. It would therefore be highly desirable to produce a palatable free-choice block containing buffers as a convenient way to supply adequate amounts of these elements to dairy cattle or other bovines in order to prevent or alleviate acidosis attributable to high energy, low fiber diets or diets containing humid and fermented acid feeds. The advantage of free-choice blocks is that the blocks cause the buffering ingredients to dissolve on the animals&#39; tongues, stimulating salivation and thus producing a double antacid effect: firstly by delivering the buffering agents, and secondly by promoting secretion of saliva, which itself contains natural buffers. Since the buffer blocks are offered free-choice, they are not force-fed to the animals, so there is no negative impact on the consumption of the feed rations. Moreover, when the buffers are presented in block form, the ingredients are consumed over a long period of time, allowing the buffers to stabilize the rumen pH all day long. Furthermore, in solid block form, the problem of caking of powdered ingredients is avoided and the buffer is easier to use. Overconsumption of buffers is also prevented by self-regulation by the animals, based on the homeostatic system to maintain the blood pH and the whole system in a neutral environment and to maintain the acid-base balance. For example, an animal having a severe deficiency of sodium can experience an intense craving for salt and can manifest pica by licking and chewing various objects. The same is believed to be true of buffers, since animals experiencing severe deficiencies of buffers will tend to ingest soil containing grit as a physical conditioner. Since such severe deficiencies will lower the productivity of the animal, it is better to prevent this condition and to provide the necessary buffers in the form of a palatable block that will result in free-choice consumption of the proper amounts of buffer. One way of producing such blocks is by the so-called poured block technique. Poured blocks are usually formed by mixing the buffer ingredients, and other materials such as vitamins, minerals and flavors, etc., with liquid ingredients such as molasses, pouring the resulting slurry or paste into a mold and then either heating the mixture to remove excess water or allowing it to dry or gel and harden over time. A method of forming free choice buffer blocks is disclosed, for example, in U.S. Pat. No. 4,729,896 to Sawhill issued Mar.8, 1988. This is a typical example of the gelled or poured block technique in which feed solution, e.g. molasses in the form of a thin or thick syrup, in an amount of 30-95% by weight of the final mixture, is solidified or gelled by the addition of sodium carbonate/bicarbonate (8-25% by weight) and magnesium oxide (2-5% by weight). However, the resulting blocks contain a large proportion of molasses or other sugar solution and only small proportions of the buffer ingredients. Canadian patent 1,126,568 to Skoch issued Jan. 29, 1982 also discloses a block containing a large amount (18-74% by weight) of molasses formed by molding and solidifying a liquid mixture. Since these buffer blocks contain only relatively small amounts of buffer equivalent (e.g. 16% by weight in the case of the preferred Sawhill blocks), animals have to ingest large quantities of the block. To obtain the equivalent of 200 grams of bicarbonate/carbonate by day, animals will have to consume 1.25 kg of these blocks, which is a large amount for a block offered on a free choice basis and thus the blocks may not be able to deliver sufficient amounts of the buffers. Poured or gelled blocks also suffer from the disadvantages that the method of preparation is slow and uneconomical and that the blocks are rather soft, but dry out over time and tend to crack. OBJECTS OF THE INVENTION It is therefore an object of the present invention to provide a buffer block by a novel method, which block remains stable over a period of time without undue hardening or cracking or other problems when exposed to the elements. Another object of the invention is provide a buffer block which is relatively palatable to the animals. Another object of the invention is to provide a buffer block which is capable of delivering large quantities of buffering ingredients to animals when presented on a free choice basis. Another object of the invention is to provide a process for producing buffer blocks in a rapid and economical manner. SUMMARY OF THE INVENTION The present invention is based on the unexpected finding that a relatively palatable buffer block can be formed after sufficient conditioning, by adequate compression of a specific mixture containing a large proportion of the buffer ingredients and a small proportion of a sugar-containing binder. The resulting block not only has the advantage of containing a large proportion of the buffer ingredients, and thus of making these ingredients available in suitable quantities for consumption by the animals, but also has the advantage of being physically and chemically stable over time both when stored and when exposed to the elements during use. The block also has optimal hardness, in that it is sufficiently hard to be physically and chemically stable, but not so hard that delivery of large quantities of buffer ingredients to the animals over a limited period of time is prevented. More particularly, according to the invention, there is provided a process for producing a buffer block for ruminant animals, which comprises forming a mixture containing at least about 60% by weight of at least one solid buffer material other than magnesium oxide, at least about 20% by weight of magnesium oxide, and no more than about 16% by weight of a sugar-containing binder (e.g. molasses), and shaping and compressing the mixture at a pressure of at least about 2800 pounds per square inch for at least about 8 seconds to form a solid block. According to another aspect of the invention, there is provided a buffer block for ruminant animals produced by the above process. The invention makes it possible to produce, in an economical and rapid manner, palatable solid buffer blocks of suitable physical properties having high contents of buffer ingredients. It is surprisingly found that animals are willing to consume such blocks on a free choice basis in relatively large amounts (up to 500 g/head/day), even though the blocks contain large proportions of unpalatable ingredients (including magnesium oxide), without any adaptation period or other negative effects. The normal intake of the solid is in the region of 100 to 200 grams per head per day. DETAILED DESCRIPTION OF THE PREFERRED EMBODIMENTS While blocks containing buffers (including magnesium oxide) and molasses have been produced in the past, the total concentration of buffers in such blocks has been much lower and the fabrication procedure has involved wet molding techniques (poured or gelled block procedures) with the attendant disadvantages mentioned above. The process of the present invention makes it possible not only to increase the proportion of buffer ingredients but also to produce the block by a rapid compression molding technique. This is possible, even though it is surprising that a &#34;dry&#34; mixture containing such a small proportion of a binder and liquid ingredients and a high proportion of solid buffer ingredients can be formed into a stable solid block by compression. The block produced according to this invention contains magnesium oxide and one or more other solid buffer materials. Examples of the other buffer material include, for example, potassium chloride, potassium carbonate and potassium bicarbonate. However, these materials are relatively expensive and it is much more preferable to use sodium carbonate, sodium bicarbonate, sodium sesquicarbonate or mixtures thereof. It is, in fact, most preferable to use a mixture of sodium bicarbonate and sodium sesquicarbonate containing at least 1% of sodium bicarbonate and at least 1% of sodium sesquicarbonate. That is to say, the mixture may contain as much to 59% of sodium bicarbonate and as little as 1% of sodium sesquicarbonate, or alternatively as much as 59% of sodium sesquicarbonate and as little as 1% of sodium bicarbonate. Together these compounds add up to the required 60% by weight or more. Standard commercial grades of these compounds are generally employed, e.g. as obtained from Church &amp; Dwight, USA. The magnesium oxide used in the invention may be any available kind, e.g. a standard commercial grade product. It is usually present in the minimum required amount of about 20% by weight, although more may be employed, if desired. The block contains less than about 16% by weight of a sugar-containing binder. The sugar containing binder is preferably a concentrated or viscous liquid containing at least about 45% by weight of sugars and up to about 25% by weight of water. However, at least part of the sugar-containing binder may be in the form of a solid sugar-containing mixture. Molasses is the preferred sugar-containing binder, but liquid whey and other waste sugar solutions or mixtures could be used, if desired. When molasses is used as the binder, it is preferably to use a combination of dry molasses and liquid molasses. These products are well known in the industry. Liquid molasses is a product containing about 25% by weight of water. More precisely, liquid molasses from sugar cane generally comprises, by weight, 48-56% of sugars, 9-12% of non-sugar organic matter, about 25% water and 10-12% inorganic material (sulfated ash). The sugar content is generally 30-40% sucrose, 15-20% invert sugar, and 2-4% unfermentable sugars. Liquid molasses from sugar beet contains similar ingredients. Liquid molasses of various kinds is available commercially from numerous sources. Dry molasses is a dehydrated liquid molasses generally containing about 5% by weight of water. A suitable product can be obtained from Westway Trading Corporation, Canada. Lignosulfonate is also preferably used as an additional binder in the mixture of the present invention in order to complement the effect of the sugars in making the ingredients bind together to the required extent. This ingredient is a by-product of the paper mill industry. It is a soluble derivative from lignin, constituting 20 to 35% by weight of dry wood. Lignosulfonate contains gums, sugars and other agents which, when humidified, act as a binder or glue for the other ingredients. The material is generally available in dry form, but may also be available in liquid form. Both the dry form and the liquid form have suitable binding properties. A small amount of animal vegetable feeding fat of any suitable type is also preferably used in the mixture to make the resulting buffer block more waterproof and consequently better able to resist swelling or dissolution by rain without making the ingredients insoluble when licked by the animals. Animal vegetable feeding fat is a commercial product readily available to animal feed producers. Standard vitamins are also preferably added to the mixture in order to improve the nutritional effect of the block. For example, a mixture of Vitamin A, Vitamin D-3 and Vitamin E may be used. It should be noted that the liquid contents in the buffer block mixture, e.g. the total of the sugar-containing binder, if present as an aqueous solution, and the animal vegetable feeding fat, should preferably amount to at least 4% by weight of the total mixture in order to ensure proper binding and humidification. It is found that if the amount of the liquid ingredients is too high (e.g. more than about 18% by weight), a soft, dripping wet block is formed. On the other hand, if the amount of the liquid ingredients is too low (e.g. less than 4% by weight), the ingredients may not stick together properly. In fact, the mixture normally contains at least 6% by weight of a concentrated aqueous sugar solution used as a binder and at least 1% by weight of the animal vegetable feeding fat, making a total of at least 7% by weight of liquid ingredients. A particularly preferred mixture for use in the process of the invention contains at least the following ingredients in the following relative amounts used for the effects stated below: ______________________________________ % BYINGREDIENT EFFECT WEIGHT______________________________________Sodium bicarbonate Buffer at least 60and/or sodiumsesquicarbonateMagnesium oxide Buffer at least 20 Dry molasses Binder 2 to 8 Maximum 16Liquid molasses Binder 4 to 10Lignosulfonate Binder 2 to 4Animal vegetable Water 1 to 2feeding fat proofing effectVitamin premix Nutritional up to 0.1 effect______________________________________ The mixture used in the present invention may optionally contain additional ingredients, as required. Preferred additional ingredients and possible substitutes therefor are shown below: ______________________________________OPTIONAL SUBSTITUTEINGREDIENT MATERIAL % BY WEIGHT______________________________________Wheat middlings Ground corn 0-10Calcium carbonate Any other mineral 0-5Magnesium sulfate Any other mineral 0-5Potassium sulfate Any other mineral 0-5Flavor (e.g. vanilla -- 0-0.10flavor)Iron oxide any other mineral 0-0.20______________________________________ A particularly preferred composition for use in the present invention is the following: ______________________________________ APPROXIMATE AMOUNTINGREDIENT IN % BY WEIGHT______________________________________Wheat middlings 5Animal vegetable 1feeding fat Liquid molasses 4-10 Total 16% MaximumDry molasses 2-8Calcium carbonate 0.15 Sodium bicarbonate 1-59 Total 60% MinimumSodium sesquicarbonate 59-1Magnesium oxide 20 Magnesium sulfate + 1.5potassium sulfateIron oxide 0.20Flavor 0.05Lignosulfonate 2Vitamin Premix 0.10TOTAL 100______________________________________ The ingredients of the buffer block are thoroughly mixed together without added water or other solvent in a suitable mixer, e.g. a twin shaft paddle mixer and in a double ribbon mixer, to form an homogenous mixture. This procedure is usually carried out by first mixing the solids over a period of about 2-3 minutes, and then mixing in the &#34;liquids&#34; (sugar solution and animal vegetable feeding fat) over a further period of about 2 minutes. Incidentally, the fat, if solid at ambient temperatures, is generally heated to make it liquid before use in the method of the present invention and may be stored in heated vats to make it available for immediate use. The resulting mixture is then subjected to a conditioning step in which it is agitated, e.g. in a double ribbon mixer, at ambient temperature for a period of about 15-20 minutes, during which time the liquid ingredients humidify the mixture (i.e. the liquid components permeate the mixture) and reaction commences between the sugars of the binder and the magnesium oxide or other minerals. During this conditioning step, the temperature of the mixture rises from ambient to about 110°-120° F. (43°-49° C.) without application of external heat. The temperature rise is believed to be due to the effect of exothermic reactions taking place within the mixture and partly possibly due to internal friction caused by the mixing procedure. The mixture is then shaped and compressed in a suitable press, such as an hydraulic block press, which also increases the temperature of the mixture, possibly due to internal friction.\n",
            "Question : What advancements does the described patent provide for magnetically suspended impeller pumps used in blood handling medical devices?,Data : INVENTION 1. Field of the Invention The present invention relates to pumps for pumping fluids such as blood that are sensitive to mechanical working or shear stress. More particularly, the present invention relates to a pump apparatus having an impeller that is magnetically suspended and rotated by electric and permanent magnets with no mechanical contact between the impeller and any other part of the pump. 2. State of the Art There are many types of fluid pumps suitable for use in a wide range of applications, all performing the same basic function of moving fluid from one point to another, or moving a fluid from one energy level to another. However, pumps for pumping sensitive fluids, such as blood, introduce special design requirements. Additionally, pumps for implantation in a human patient for long or short-term use as ventricular assist devices (VAD&#39;s) or complete heart replacement, add additional size, weight, durability, and other requirements. The design problems associated with sensitive fluids, including blood, generally relate to problems caused by contact of the fluid with mechanical parts and other substances present in the pump. Problem contact areas for sensitive fluids may include 1) contact with materials and structures in rotating fluid seals, 2) contact with mechanical bearing assemblies that are exposed to the fluid, and 3) use in bearing structures that depend on a layer of fluid between moving surfaces to provided reduced friction, such as hydrodynamic bearings. For example, it is well known that rotating shaft seals are notoriously susceptible to wear, failure, and even attack by some fluids. Many types of pumps may also increase mechanical working of the fluid and precipitate detrimental processes such as chemical reactions or blood clotting. It is also well known that pumps for corrosive fluids, blood, and fluids used in food processing require careful design of the flow passages to avoid fluid damage, contamination, and other undesirable conditions. For example, ball bearing and other rolling element bearings must in general be used with some type of shaft seal to isolate the fluid from the bearing for the above mentioned cases. This may be needed to prevent damage to the bearing by caustic fluids, or to prevent damage to the fluid by the rolling elements of the bearing. For example rolling element bearings can crush and destroy the living cells in blood. Thus, rolling element bearings are generally not practical for blood pumps. Finally, the size, weight, biocompatibility, and operating durability and reliability of blood pumps are a major concern where VAD&#39;s and heart replacement pumps are concerned. It would be desirable to have a VAD or heart replacement pump that can operate reliably for 20 or 30 years despite the normal bumping and jarring of everyday life, including unexpected impact such as from falling, yet is small enough to implant easily in a patient&#39;s chest. It is also desirable to reduce the power requirements of such a pump so as to increase mobility of the patient. To address these problems, pumps with magnetically suspended impellers have been developed. For example, Oshima et. al. (U.S. Pat. No. 5,111,202) discloses a pump in which the impeller is magnetically suspended or levitated within the pump housing, and is magnetically, not mechanically, coupled to the pump housing. The pump employs permanent magnets rotating on a motor external to the pumping chamber, with the external permanent magnets magnetically coupled to opposing permanent magnets on the impeller. Magnetically suspended pumps are well adapted to pumping sensitive fluids because they eliminate the mechanical bearing structure or rotating seals which can damage or be damaged by the fluid. However, such pumps that are currently known in the art present several drawbacks. First, an external motor with its own means of bearing support (ball bearings) is still required to rotate the impeller. It is the external bearing support that maintains the position of the rotor in such a pump. Though the motor is sealed from contact with blood and other bodily fluids, and is magnetically coupled to the suspended impeller, it still employs bearings which produce heat and pose the potential of failure. Naturally, such pumps tend to be bulky in part because of the size of the electric motor. These pumps are frequently unsuitable for implantation in a human patient because of size, weight, power consumption, and durability problems. Other methods of magnetically supporting a rotating pump impeller have been developed. Olsen, et. al. (U.S. Pat. No. 4,688,998) teaches a fully suspended pump rotor employing permanent magnet rings on the rotor magnetized along the axis of rotation, and actively controlled electromagnets on the stator that create a magnetic field to stabilize the position of the rotor. This approach also leaves certain problems unsolved. While the manufacture of permanent magnets has advanced substantially, there are still significant process variations. These variations include repeatability from one magnet to the next, and homogeneity of the material within one magnet. The position and stability of the rotor in the Olsen invention is entirely dependent on the homogeneity of the permanent magnet rings. These problems are well known by designers of electro-mechanical devices, where significant steps are normally taken to reduce the dependency of device performance on homogeneous magnets. In the field of permanent magnet motors, this is a well known source of torque ripple. It would therefore be desirable to have a pumping apparatus with a magnetically suspended impeller that is suitable for pumping blood and other sensitive fluids, and which is small, lightweight, durable, reliable, and has a low power consumption, without using an external motor to drive the impeller. It would also be desirable to have a magnetically suspended pump that has reduced sensitivity to manufacturing process variations in permanent magnets. It would also be desirable to have a magnetically suspended pump that requires no additional sensors for pump status monitoring. OBJECTS AND SUMMARY OF THE INVENTION It is therefore an object of the present invention to provide a pumping apparatus with a magnetically suspended impeller that is suitable for pumping blood and other sensitive fluids, by handling the fluid in a gentle manner with very low heating of the fluid. It is another object of the present invention to provide a motor for a magnetically levitated pump impeller having a flux gap on one or both sides of the impeller that generates low attractive force between the rotor and stator relative to prior art systems. It is another object of the present invention to provide a pumping apparatus of relatively compact size to allow implantation in the human body as either a heart assist device or as a total heart replacement. It is another object of the present invention to provide a pump apparatus and system with parameters available for measurement that are inherently available without adding additional sensors, such as magnetic bearing current and/or motor current sensors, that can be used as an indicator of required flow and pressure when the pump is implanted in the human body, or can be used to keep the impeller controlled by the magnetic bearing. It is still another object of the present invention to provide a pump apparatus with a long product life which requires minimal maintenance. It is still another object of the present invention to provide a pump apparatus that can provide flow in either a constant manner or a flow that pulses on a periodic basis. It is yet another object of the present invention to provide a pump apparatus which is configured to cause an acute change in direction of the fluid in one or more of the conduits while still handling the sensitive fluid in a gentle manner. It is another object of the present invention to provide a blood pump in which all blood-contacting surfaces are coated with a biocompatible ceramic coating. The above and other objects of the invention are realized in specific illustrated embodiments of an implantable centrifugal blood pump with hybrid magnetic bearings. The pump comprises a generally cylindrical pump housing, a generally cylindrical impeller disposed within the pump housing, a magnetic bearing system for supporting and stabilizing the impeller in five degrees of freedom, and a conformally shaped motor for rotating the impeller in the remaining degree of freedom, with no mechanical contact between the impeller and any other structure. The pump thus reduces damage to the fluid from the pump and damage to the pump from the fluid. The pump impeller, housing, and other components are also configured such that flow patterns are as smooth and laminar as possible, and eddies, flow separation, and re-circulation are reduced. The magnetic bearing system and motor advantageously comprise both electromagnets and permanent magnets for stability and control of the impeller, and to reduce size, weight, and pump power consumption. The permanent and electromagnets are disposed on the pump housing and on the impeller, such that by controlling electric current through the electromagnets on the housing, the magnetically suspended impeller functions as the rotor, and the housing as the stator of a D.C. motor. A controller linked to the electromagnets allows for sensing of relative impeller position and dynamic properties without the need for additional sensors. It also allows for the adjustment of the impeller position by modification of the current flow to the electromagnets. The pump thus forms a lightweight, dependable, and compact unit suitable for short or long-term implantation as a ventricular assist device or a complete replacement heart in a human patient. BRIEF DESCRIPTION OF THE DRAWINGS The above and other objects, features and advantages of the invention will become apparent from a consideration of the following detailed description presented in connection with the accompanying drawings in which: FIG. 1 shows a pictorial view of the preferred embodiment of the implantable centrifugal blood pump with hybrid magnetic bearings of the present invention. FIG. 2 provides an exploded pictorial view of the preferred blood pump of FIG. 1 ; FIG. 3 provides a cross sectional view of the inner workings of the preferred embodiment pump; FIG. 4 shows a three-dimensional view of the pump impeller with the vane shroud removed; FIG. 5A is a view of the front of the pump motor assembly; FIG. 5B is a cross sectional view of the pump motor assembly; FIG. 5C provides a view of the back of the pump motor assembly; FIG. 6A is a view of the front of the motor rotor assembly; FIG. 6B is a cross sectional view of the motor rotor assembly; FIG. 6C depicts the polarity of the permanent magnets on the motor rotor in one embodiment; FIG. 7A is a detailed front view of the motor coils on the stator; FIG. 7B is a cross sectional view of the stator; FIG. 7C is a view of the back of the stator; FIG. 8 is a pictorial view of a hybrid EM/PM magnetic bearing ring; FIG. 9 is a cutaway view of part of a hybrid EM/PM magnetic bearing ring showing the flux paths for one permanent magnet; FIG. 10 depicts a preferred embodiment of the magnetic suspension actuator similar to FIG. 9 , but including the coils. FIG. 11 is a cutaway view of part of a hybrid EM/PM magnetic bearing ring showing the flux paths for two electromagnets; FIG. 12 shows an exploded pictorial view of the four bearing sets of poles, air gaps, and targets; FIG. 13 shows a block diagram of an electronic controller for providing control of the magnetic bearing actuator; FIG. 14 shows a representative applied voltage waveform and resulting representative current waveforms for two different positions of the rotating impeller; FIG. 15 shows one implementation of the self-sensing electronic circuit; and FIG. 16 shows a magnetic saturation link inserted into the PM circuit. DETAILED DESCRIPTION OF THE PREFERRED EMBODIMENT Reference will now be made to the drawings in which the various elements of the present invention will be given numeral designations and in which the invention will be discussed so as to enable one skilled in the art to make and use the invention. It is to be understood that the following description is only exemplary of the principles of the present invention, and should not be viewed as narrowing the pending claims. A pictorial view of the assembled pump of the preferred embodiment is shown in FIG. 1. The pump generally comprises a housing 4 with an inlet 1 , flow turning structure 2 , and outlet 3. The flow turning structure 2 is configured to redirect incoming fluid flow through an acute angle in a gentle, low thermal manner using a compact structure. The turning structure is configured such that flow swirls around the inlet in a logarithmic spiral configuration, equalizing the flow rate and pressure entering the inlet. Additionally, this spiral inlet configuration reduces flow eddies and other disruptions in the flow that are detrimental to pump efficiency. The redirection of flow is thus accomplished in a gentle manner with low fluid stress that is consistent with use in a pump for sensitive fluids. A motor, magnetic bearings, and impeller are disposed inside the pump housing 4 , and will be more particularly described hereafter. An exploded view of the assembly of the preferred embodiment is shown in FIG. 2. In this view the pump inlet 1 , flow turning structure 2 , and pump outlet 3 are clearly visible as in FIG. 1. This figure also shows the upper half 4 A and lower half 4 B of the pump housing 4. The pump further comprises an inlet side magnetic bearing actuator 5 , and an outlet side magnetic bearing actuator 6. The impeller assembly 7 is disposed between the magnetic bearing actuators 5 and 6 , and comprises the rotating part of the pump. The impeller 7 is designed to function as the rotor of a motor, and includes soft iron magnetic material structures 9 and 10 that act as targets on the rotor for the magnetic bearing actuators 5 and 6. These and other features of the impeller will be more apparent from the discussion of FIG. 3. The eye of the impeller 8 provides an opening for the inlet of flow into the pump vanes in the preferred embodiment. Advantageously, the motor stator 11 is incorporated in the outlet side or lower half 4 B of the pump housing 4. FIG. 3 shows a two-dimensional cross sectional view of the inner workings of the preferred embodiment of the invention. In this view the combination of electromagnets (EM) and permanent magnets (PM) becomes visible. Advantageously, the impeller assembly 7 is the only moving part in the system, and forms a curved, conical ring disposed adjacent to the motor stator 11 , and between the upper and lower bearing actuators 5 and 6. The impeller assembly 7 comprises a shroud 13 disposed above a plurality of vanes 15 , and a hub 54 which supports the vanes and the elements of the motor rotor. The housing 4 is formed to provide curved fluid gaps 12 around the rotating impeller 7. The gaps 12 are configured to work in conjunction with the impeller 7 to accommodate flow without damaging blood or other sensitive fluids. This is accomplished by making the flow passage clearances 12 short in length, yet with large bending radii to allow gentle backflow around the shroud 13 and hub 54. The vanes 15 of the impeller 7 drive the fluid from adjacent the inlet 2 into the pump volute 14 , which is formed around the perimeter of the inner space of the housing 4. The volute 14 is formed in a logarithmic spiral shape, more evident in FIG. 2 , which spirals out from the center of the pump, gathering the flow from the impeller vanes 15 , and directing it to the tangentially aligned outlet 3 ( FIG. 1 ). This configuration adds to the advantages of the invention through minimizing damage to blood or other sensitive fluids by gradually redirecting the flow across the vanes 15 from the inflow 2 to the pump volute 14 , where the flow is then directed to the outlet 3. As depicted in FIG. 3 , the fluid gaps 12 in the pump are advantageously configured to accommodate sensitive fluid flow by being short in length and arcuate in shape with large bending radii to minimize sharp turns in the flow passages. This design also helps to reduce potential stagnation and shear of the fluid. Notably, the gap 12 between the rotating impeller 7 and the stationary housing in the vicinity of the motor 11 is neither radial nor axial as in conventional motor designs, but is conformally shaped to accommodate the particular requirements of the flow paths and the motor design. By virtue of its conformal shape, the curved upper surface of the motor 11 advantageously provides an axial force on the impeller/rotor 7 , while simultaneously powering its rotation. As shown, the arcuate flow passageways 12 are thus integrated directly into the motor design, as will be described in more detail below. This integrated approach of motor design with pump design is not reflected in prior art pumps. It will be apparent that the invention is not restricted to the motor shape shown in this or other figures, but may be otherwise configured and still provide the advantages of conformal design. The same approach to motor design and fabrication can be employed to make a variety of motors with conformally shaped gaps between the rotating and stationary parts. FIG. 4 shows a pictorial view of the impeller 7 with the vane shroud 13 removed. In this view the plurality of arcuate vanes or blades 15 are clearly visible. The impeller vane layout is designed to provide a smooth transition from the inlet blade angle to the discharge blade angle. It will be apparent from this figure that the inlet blade angle θ varies continuously from hub to shroud, with a greater angle θ near the inlet 2 , and an angle approaching zero near the outlet (measured relative to a line perpendicular to the plane of the impeller), to reduce the incidence of flow angles over the entire blade length.\n",
            "Question : What advancements does the new stent delivery catheter offer in terms of safety and efficiency?,Data : INVENTION [0003] 1. Field of the Invention [0004] This invention concerns apparatus suitable for delivery of stents to body cavities. The present invention is particularly directed to improved arrangements for releasably securing the stent to the catheter to prevent snagging of portions of the stent while the stent is being advanced through the tortuous confines of a body vessel. By way of the present invention a stent is held in place on the catheter and its ends and strut elements are kept from flaring outward by means of at least one sleeve, or sock, abutting the ends of the stent. In addition, the present invention is directed to the use of a membrane which may be disposed about a region of the stent which may be between or may overlap the portions of the stent secured by the end sleeves. Prior to stent delivery, the membrane may be retracted, may be configured so as to dissolve or otherwise degrade within the vessel, or may optionally be deployed along with the stent. [0005] 2. Description of the Related Art [0006] Stents are tubular devices designed to maintain the patency of a bodily vessel. Stents have been used in a number of different parts of the body including the vasculature, the urinary system, the biliary ducts and the esophagus. A stent is typically delivered to a desired bodily location via a stent delivery system such as a catheter. The stent, disposed about the distal end of the catheter, is inserted in a bodily vessel and delivered to the desired bodily location where it is then deployed. [0007] Stents may be self-expanding, mechanically expandable or hybrids. Examples of self-expanding stents include coil stents and stents made from shape memory materials such as NITINOL. One such stent is disclosed in copending, commonly assigned U.S. application Ser. No. 08/511076. Mechanically expandable stents are most often expanded by medical balloons. Such stents are typically made of metals such as stainless steel. An example of the latter is disclosed in U.S. Pat. No. 6,033,433. Hybrid stents may be mechanically expandable in part and self-expanding in part. An example of such a stent is disclosed in copending, commonly assigned U.S. application Ser. No. 09/087526. [0008] Stents delivered to a restricted coronary artery, for example, may be expanded to a larger diameter by the balloon catheter, and left in place in the artery at the site of a dilated lesion are shown in U.S. Pat. No. 4,740,207 to Kreamer and U.S. Pat. No. 5,007,926 to Derbyshire. [0009] Palmaz et al., 156 Radiology 73 (1985) and U.S. Pat. No. 4,733,665 describe introduction of a stent over a balloon catheter. [0010] The stent delivery apparatus of the present invention may also utilize a self-expanding stent, which is well known in the art. A well known self-expanding stent is the woven braided stent disclosed in U.S. Pat. Nos. 4,655,771 (Wallsten); 4,954,126 (Wallsten) and 5,061,275 (Wallsten), although any type of self-expanding stent may be deployed using the inventive delivery system and method. The delivery system of the present invention may also be used to deliver a balloon expanded stent and may also deliver stent grafts, which are well known in the art. [0011] As is commonly known in the art, stents may have numerous elements such as struts and other members which may flex or shift in a variety of manners during advancement of the catheter prior to stent delivery. Such flexing may result in some elements protruding outward from the catheter, which could interfere with the vessel wall or otherwise prevent further advancement of the catheter, especially in those regions of a vessel which are particularly tortuous. As a result it would be desirable to provide a covering for the stent which is extremely flexible, has a low profile and which provides sufficient coverage of the stent to prevent stent elements from protruding outward from the catheter during advancement. [0012] The delivery systems for stents are generally comprised of catheters with the stent axially surrounding the distal end of the catheter. In many stent delivery catheters the stent is retained on the balloon catheter with a radially disposed sleeve or sheath which may be retracted or otherwise removed to release the stent. More recently stent delivery systems have included one or more stent retaining sleeves or socks disposed about the respective ends of the stent to hold the stent in the reduced configuration on the delivery catheter. [0013] Inflation expandable stent delivery and deployment assemblies are known which utilize restraining means that overlie the stent during delivery. U.S. Pat. No. 4,950,227 to Savin et al., relates to an inflation expandable stent delivery system in which a sleeve overlaps the distal or proximal margin (or both) of the stent during delivery. During inflation of the stent at the deployment site, the stent margins are freed of the protective sleeve(s). U.S. Pat. No. 5,403,341 to Solar, relates to a stent delivery and deployment assembly which uses retaining sheaths positioned about opposite ends of the compressed stent. The retaining sheaths of Solar are adapted to tear under pressure as the stent is radially expanded, thus releasing the stent from engagement with the sheaths. U.S. Pat. No. 5,108,416 to Ryan et al., describes a stent introducer system which uses one or two flexible end caps and an annular socket surrounding the balloon to position the stent during introduction to the deployment site. [0014] Other patents which describe sleeves, and material used therefor, include Blaeser et al. U.S. Pat. No. 5,944,726 issued Aug. 31, 1999; Dusbabek et al. U.S. Pat. No. 5,968,069, issued Dec. 19, 1999; and Cornelius et al., U.S. Pat. No. 6,068,634, issued May 30, 2000, both of which are incorporated by reference in their entirety. [0015] In addition, co-pending application Ser. Nos. 08/701979; 08/702149; 09/273520; 09/549286; 09/552807; 09/668496; 09/664267; 09/664268; all relate to stent retaining sleeves or socks. [0016] As indicated above, in addition to employing end sleeves or socks for retaining the ends of the stent on the catheter prior to stent delivery, the present invention also employs a centrally disposed sheath which may be retracted off of the stent prior to delivery or which may be expanded along with the stent into a body vessel as desired. [0017] An example of a method and use of a sheath to retain a stent on a catheter is respectively disclosed in U.S. Pat. No. 5,071,407 (Termin) and U.S. Pat. No. 5,064,435 (Porter), both of which use a silicon rubber sheath to compress the stent on the catheter. A similar technique is disclosed in U.S. Pat. No. 5,026,377 (Burton) and U.S. Pat. No. 5,078,720 (Burton). [0018] A variation on surrounding the stent with a sheath is disclosed in U.S. Pat. No. 4,732,152 (Wallsten); U.S. Pat. No. 4,848,343 (Wallsten) and U.S. Pat. No. 4,875,480 (Imbert), all of which disclose using a sleeve formed of a doubled-over section of membrane to compress and contain the stent. [0019] U.S. Pat. No. 5,234,457 discloses using a sheath to surround a mesh stent of the type disclosed in U.S. Pat. No. 4,922,405. However, in this patent the sheath is not used to compress the stent, but is used to prevent fluid from accessing the stent. The stent is impregnated with a pure gelatin or other dissolvable material which, when cured, has sufficient strength to hold the stent in its reduced delivery configuration. Other examples of sheaths for use in retaining and delivery of a stent with a stent delivery catheter are known. [0020] The use of a sheath in conjunction with a single end sleeve or sock is also known. Co-pending application Ser. Nos. 09/228,097 and 09/332,914 include the use of a stent retaining sock or sleeve which may be placed over the distal end of the stent and secured to the catheter. A sheath may be employed to cover the entire stent including the distal end. [0021] One drawback of using a sheath to retain a stent on a catheter, is that the sheath must inherently be retracted or otherwise removed from the stent. Such retraction typically requires movement of the entire sheath or exterior catheter in order effect release of the stent. This can be seen in Wallsten U.S. Pat. No. 4,655,771 and Wallsten U.S. Pat. No. 4,954,126 in which tubular member 23 is moved forward from position 22 to position 30. In Termin U.S. Pat. No. 5,071,407 the sheath 32 is withdrawn proximally with respect to the stent. In Porter U.S. Pat. No. 5,064,435 the sheath 38 is withdrawn proximally with respect to the stent. Burton U.S. Pat. No. 5,026,377 also moves an outer sleeve backwards relative to the stent. In Wallsten U.S. Pat. No. 4,732,152; Wallsten U.S. Pat. No. 4,848,343, and Imbert U.S. Pat. No. 4,875,480, a hose 5 is connected to a maneuvering tube 8 which runs the length of the catheter. Finally, in Heyn, finger grip 5, connected to section 58 causes outer catheter 20 and sleeve 24 to move proximally relative to the stent. [0022] In all of the cases discussed in the preceding paragraph, movement occurs over the entire length of the catheter between the proximal end controlled by the physician and the distal end where the stent is released. This catheter movement in the vessel creates several problems. First, catheter movement can disturb or move the introducer sheath at the wound site where the catheter is inserted into the vessel. Secondly, in tortuous anatomy the added friction caused by rubbing the outer catheter against the vessel, as well as the added friction created between the inner/outer layer interface, can make deployment difficult. The translation of control movements from the proximal to the distal end is imprecise, jerky and in some instances impossible due to the increased friction caused by tortuosity. Thirdly, it can create trauma to the endothelium over the entire length of the catheter. [0023] Another drawback to the prior art stent delivery systems discussed above is that requiring an extra sheath layer, sleeve layer or layered catheters (Heyn) increases the profile of the catheter, which is undesirable. The Heyn device described in U.S. Pat. No. 5,201,757 has a profile of 0.12 inches (3.048 mm). A reduction in profile is considered significant to those skilled in the art. [0024] In light of the above, it would be desirable to employ a stent covering which functions to help retain the stent on the catheter but which could optionally be left on the catheter during stent delivery so as to avoid damaging the stent or causing undesirable movement of the stent during sheath retraction. It would be desirable to provide for a covering which is flexible and which sufficiently covers a stent so as to prevent stent elements from protruding outward from the catheter and interfering with a vessel wall prior to delivery. It would also be desirable to provide a covering which does not increase the profile of the stent delivery catheter beyond its profile without the covering. [0025] All US patents, applications and all other published documents mentioned anywhere in this application are incorporated herein by reference in their entirety. BRIEF SUMMARY OF THE INVENTION [0026] In light of the above, this invention provides for a stent delivery catheter employing one or more socks or sleeves to retain the stent on the catheter. In addition a unique membrane or stent covering is employed between the stent retaining sleeves to provide complete or selective coverage of the stent therebetween. The membrane of the present invention is sufficiently flexible to provide for adequate trackability of the catheter through the extremely tortuous confines of a body vessel. However, the membrane is of sufficient strength to prevent stent elements from lifting outward from the catheter surface thereby preventing such elements from interfering with a vessel wall during catheter advancement. [0027] In at least one embodiment of the invention the membrane may be a single continuous membrane which covers a substantial portion of the stent between a pair of end sleeves. [0028] In at least one embodiment of the invention the membrane may be a series of selectively placed membranes which cover selected portions of the stent. [0029] In at least one embodiment of the invention the membrane has a thickness which is equal to or less than thickness of the stent end retaining sleeve(s) which may be between 0.001 and 0.004 inches in thickness. [0030] In at least one embodiment of the invention, the membrane is approximately 0.002 inches thick. [0031] In at least one embodiment of the invention the membrane may be retracted from the stent prior to stent delivery. [0032] In at least one embodiment of the invention the membrane may be soluble. [0033] In at least one embodiment the membrane may be used for drug delivery. [0034] In at least one embodiment of the invention the membrane may be expanded with the stent. BRIEF DESCRIPTION OF THE SEVERAL VIEWS OF THE DRAWINGS [0035] A detailed description of the invention is hereafter described with specific reference being made to the drawings in which: [0036] [0036]FIG. 1 is a side view of an embodiment of the invention; [0037] [0037]FIG. 2 is a side view of an embodiment of the invention; [0038] [0038]FIG. 3 is a side view of an embodiment of the invention; [0039] [0039]FIG. 4 is a side view of an embodiment of the invention in the expanded state; and [0040] [0040]FIG. 5 is a side view of an embodiment of the invention. DETAILED DESCRIPTION OF THE INVENTION [0041] As may be seen in FIG. 1, the present invention is directed to a stent delivery catheter, indicated generally at 10 , which includes a catheter shaft 12 and an inflatable portion or balloon 14 mounted thereon. A medical device, such as a stent 16 is disposed about at least a portion of the balloon 14. The ends 18 and 20 of stent 16 are retained in an unexpanded state by stent retaining sleeves 22 and 24. In addition, overlying the portion of the stent between the sleeves 22 and 24 is a membrane 26. [0042] As is generally known, catheters, including present catheter 10 , may be embodied in a variety of configurations and types such as rapid exchange, over the wire, and many other types of catheter arrangements. The present catheter 10 may be any type of catheter suitable for use in a medical device delivery procedure. [0043] The balloon 14 may similarly be embodied in a variety of balloon types. As is know balloons for delivery of medical devices may be composed of one or more materials which may have a variety of material characteristics such as being compliant, non-compliant, elastic, non-elastic, etc. Balloon 14 may be comprised out of any known material or combination of materials, having any variety of characteristics which are suitable for use is medical device delivery. As such the specific materials for constructing the balloon 14 or portions thereof may be, but are not limited to, any of the following materials: thermoplastic polymers, thermoplastic elastomers, polyethylene (high density, low density, intermediate density, linear low density), various co-polymers and blends of polyethylene, ionomers, polyesters, polyurethanes, polycarbonates, polyamides, poly-vinyl chloride, acrylonitrile-butadiene-styrene copolymers, polyetherolyester copolymers, and polyetherpolyamide copolymers. Other suitable materials include a copolymer polyolefin material available from E. I. DuPont de Nemours and Co. (Wilmington, Del.), under the trade name SURLYN™ Ionomer and a polyether block amide available under the trade name PEBAX™. Non-compliant materials include relatively rigid of stiff high pressure polymeric materials, such as thermoplastic polymers and thermoset polymeric materials, poly(ethylene terephthalate) (commonly referred to as PET), polyimide, thermoplastic polyimide, polyamides, polyesters, polycarbonates, polyphenylene sulfides, polypropylene, rigid polyurethanes, Nylon and polyamides. [0044] Stents are well known and understood. In the present invention, stent 16 may be any type of stent. Preferably, stent 16 is a balloon expandable stent, but the invention is directed to the use of self-expanding and hybrid stents as well. [0045] The sleeves 22 and 24 may be manufactured from a variety of materials and may optionally employ a variety of characteristics including holes such as is shown in copending application Ser. No. 09/549,286 as well as others. The sleeves 22 and 24 may optionally employ a wide variety of coatings such as are discussed in copending application Ser. No. 09/427,805. As is known a wide variety of materials may be employed for the manufacture of socks or sleeves depending on the particular characteristics of the delivery device they are to be used with. In the present invention the sleeves 22 and 24 may be made out of any known sleeve material, including but not limited to urethane elastomers. [0046] In the various embodiments shown, the catheter 10 employs a pair of sleeves 22 and 24. However, the present invention may also employ a single sleeve which is associated with a portion of the catheter shaft 14 adjacent to either end 18 or 20 of the stent. Such a sleeve may extend in whole or in-part over the stent 16. [0047] The membrane 26 is a thin layer of material disposed about the stent 16. In the embodiment shown in FIG. 1 the membrane 26 covers the entire surface of the stent 16 which lies between the sleeves 22 and 24. As may be seen from the various figures, the membrane is preferably thinner than the sleeves 22 and 24. Typically, stent retaining sleeves have a thickness less than 0.005 inches. Preferably, the membrane 26 has a thickness less than 0.004 inches and more preferably less than 0.003 inches. In the embodiment shown the thickness of the membrane 26 is 0.002 inches. [0048] Despite the relatively thin character of the membrane 26 , the membrane 26 has sufficient strength to retain elements of the stent such as struts, cross-members, and other potentially protruding elements (represented in general by reference numeral 30 ) from outwardly protruding from the catheter when in the unexpanded state. [0049] Some suitable materials for manufacturing the membrane 26 , include but are not limited to thermoplastic elastomers such as KRATON, polystyrene, polyurethanes and any combinations thereof.\n",
            "Question : What improvements does the described invention offer in the delivery and deployment of stents through tortuous body vessels using a catheter?,Data : INVENTION [0003] 1. Field of the Invention [0004] This invention concerns apparatus suitable for delivery of stents to body cavities. The present invention is particularly directed to improved arrangements for releasably securing the stent to the catheter to prevent snagging of portions of the stent while the stent is being advanced through the tortuous confines of a body vessel. By way of the present invention a stent is held in place on the catheter and its ends and strut elements are kept from flaring outward by means of at least one sleeve, or sock, abutting the ends of the stent. In addition, the present invention is directed to the use of a membrane which may be disposed about a region of the stent which may be between or may overlap the portions of the stent secured by the end sleeves. Prior to stent delivery, the membrane may be retracted, may be configured so as to dissolve or otherwise degrade within the vessel, or may optionally be deployed along with the stent. [0005] 2. Description of the Related Art [0006] Stents are tubular devices designed to maintain the patency of a bodily vessel. Stents have been used in a number of different parts of the body including the vasculature, the urinary system, the biliary ducts and the esophagus. A stent is typically delivered to a desired bodily location via a stent delivery system such as a catheter. The stent, disposed about the distal end of the catheter, is inserted in a bodily vessel and delivered to the desired bodily location where it is then deployed. [0007] Stents may be self-expanding, mechanically expandable or hybrids. Examples of self-expanding stents include coil stents and stents made from shape memory materials such as NITINOL. One such stent is disclosed in copending, commonly assigned U.S. application Ser. No. 08/511076. Mechanically expandable stents are most often expanded by medical balloons. Such stents are typically made of metals such as stainless steel. An example of the latter is disclosed in U.S. Pat. No. 6,033,433. Hybrid stents may be mechanically expandable in part and self-expanding in part. An example of such a stent is disclosed in copending, commonly assigned U.S. application Ser. No. 09/087526. [0008] Stents delivered to a restricted coronary artery, for example, may be expanded to a larger diameter by the balloon catheter, and left in place in the artery at the site of a dilated lesion are shown in U.S. Pat. No. 4,740,207 to Kreamer and U.S. Pat. No. 5,007,926 to Derbyshire. [0009] Palmaz et al., 156 Radiology 73 (1985) and U.S. Pat. No. 4,733,665 describe introduction of a stent over a balloon catheter. [0010] The stent delivery apparatus of the present invention may also utilize a self-expanding stent, which is well known in the art. A well known self-expanding stent is the woven braided stent disclosed in U.S. Pat. Nos. 4,655,771 (Wallsten); 4,954,126 (Wallsten) and 5,061,275 (Wallsten), although any type of self-expanding stent may be deployed using the inventive delivery system and method. The delivery system of the present invention may also be used to deliver a balloon expanded stent and may also deliver stent grafts, which are well known in the art. [0011] As is commonly known in the art, stents may have numerous elements such as struts and other members which may flex or shift in a variety of manners during advancement of the catheter prior to stent delivery. Such flexing may result in some elements protruding outward from the catheter, which could interfere with the vessel wall or otherwise prevent further advancement of the catheter, especially in those regions of a vessel which are particularly tortuous. As a result it would be desirable to provide a covering for the stent which is extremely flexible, has a low profile and which provides sufficient coverage of the stent to prevent stent elements from protruding outward from the catheter during advancement. [0012] The delivery systems for stents are generally comprised of catheters with the stent axially surrounding the distal end of the catheter. In many stent delivery catheters the stent is retained on the balloon catheter with a radially disposed sleeve or sheath which may be retracted or otherwise removed to release the stent. More recently stent delivery systems have included one or more stent retaining sleeves or socks disposed about the respective ends of the stent to hold the stent in the reduced configuration on the delivery catheter. [0013] Inflation expandable stent delivery and deployment assemblies are known which utilize restraining means that overlie the stent during delivery. U.S. Pat. No. 4,950,227 to Savin et al., relates to an inflation expandable stent delivery system in which a sleeve overlaps the distal or proximal margin (or both) of the stent during delivery. During inflation of the stent at the deployment site, the stent margins are freed of the protective sleeve(s). U.S. Pat. No. 5,403,341 to Solar, relates to a stent delivery and deployment assembly which uses retaining sheaths positioned about opposite ends of the compressed stent. The retaining sheaths of Solar are adapted to tear under pressure as the stent is radially expanded, thus releasing the stent from engagement with the sheaths. U.S. Pat. No. 5,108,416 to Ryan et al., describes a stent introducer system which uses one or two flexible end caps and an annular socket surrounding the balloon to position the stent during introduction to the deployment site. [0014] Other patents which describe sleeves, and material used therefor, include Blaeser et al. U.S. Pat. No. 5,944,726 issued Aug. 31, 1999; Dusbabek et al. U.S. Pat. No. 5,968,069, issued Dec. 19, 1999; and Cornelius et al., U.S. Pat. No. 6,068,634, issued May 30, 2000, both of which are incorporated by reference in their entirety. [0015] In addition, co-pending application Ser. Nos. 08/701979; 08/702149; 09/273520; 09/549286; 09/552807; 09/668496; 09/664267; 09/664268; all relate to stent retaining sleeves or socks. [0016] As indicated above, in addition to employing end sleeves or socks for retaining the ends of the stent on the catheter prior to stent delivery, the present invention also employs a centrally disposed sheath which may be retracted off of the stent prior to delivery or which may be expanded along with the stent into a body vessel as desired. [0017] An example of a method and use of a sheath to retain a stent on a catheter is respectively disclosed in U.S. Pat. No. 5,071,407 (Termin) and U.S. Pat. No. 5,064,435 (Porter), both of which use a silicon rubber sheath to compress the stent on the catheter. A similar technique is disclosed in U.S. Pat. No. 5,026,377 (Burton) and U.S. Pat. No. 5,078,720 (Burton). [0018] A variation on surrounding the stent with a sheath is disclosed in U.S. Pat. No. 4,732,152 (Wallsten); U.S. Pat. No. 4,848,343 (Wallsten) and U.S. Pat. No. 4,875,480 (Imbert), all of which disclose using a sleeve formed of a doubled-over section of membrane to compress and contain the stent. [0019] U.S. Pat. No. 5,234,457 discloses using a sheath to surround a mesh stent of the type disclosed in U.S. Pat. No. 4,922,405. However, in this patent the sheath is not used to compress the stent, but is used to prevent fluid from accessing the stent. The stent is impregnated with a pure gelatin or other dissolvable material which, when cured, has sufficient strength to hold the stent in its reduced delivery configuration. Other examples of sheaths for use in retaining and delivery of a stent with a stent delivery catheter are known. [0020] The use of a sheath in conjunction with a single end sleeve or sock is also known. Co-pending application Ser. Nos. 09/228,097 and 09/332,914 include the use of a stent retaining sock or sleeve which may be placed over the distal end of the stent and secured to the catheter. A sheath may be employed to cover the entire stent including the distal end. [0021] One drawback of using a sheath to retain a stent on a catheter, is that the sheath must inherently be retracted or otherwise removed from the stent. Such retraction typically requires movement of the entire sheath or exterior catheter in order effect release of the stent. This can be seen in Wallsten U.S. Pat. No. 4,655,771 and Wallsten U.S. Pat. No. 4,954,126 in which tubular member 23 is moved forward from position 22 to position 30. In Termin U.S. Pat. No. 5,071,407 the sheath 32 is withdrawn proximally with respect to the stent. In Porter U.S. Pat. No. 5,064,435 the sheath 38 is withdrawn proximally with respect to the stent. Burton U.S. Pat. No. 5,026,377 also moves an outer sleeve backwards relative to the stent. In Wallsten U.S. Pat. No. 4,732,152; Wallsten U.S. Pat. No. 4,848,343, and Imbert U.S. Pat. No. 4,875,480, a hose 5 is connected to a maneuvering tube 8 which runs the length of the catheter. Finally, in Heyn, finger grip 5, connected to section 58 causes outer catheter 20 and sleeve 24 to move proximally relative to the stent. [0022] In all of the cases discussed in the preceding paragraph, movement occurs over the entire length of the catheter between the proximal end controlled by the physician and the distal end where the stent is released. This catheter movement in the vessel creates several problems. First, catheter movement can disturb or move the introducer sheath at the wound site where the catheter is inserted into the vessel. Secondly, in tortuous anatomy the added friction caused by rubbing the outer catheter against the vessel, as well as the added friction created between the inner/outer layer interface, can make deployment difficult. The translation of control movements from the proximal to the distal end is imprecise, jerky and in some instances impossible due to the increased friction caused by tortuosity. Thirdly, it can create trauma to the endothelium over the entire length of the catheter. [0023] Another drawback to the prior art stent delivery systems discussed above is that requiring an extra sheath layer, sleeve layer or layered catheters (Heyn) increases the profile of the catheter, which is undesirable. The Heyn device described in U.S. Pat. No. 5,201,757 has a profile of 0.12 inches (3.048 mm). A reduction in profile is considered significant to those skilled in the art. [0024] In light of the above, it would be desirable to employ a stent covering which functions to help retain the stent on the catheter but which could optionally be left on the catheter during stent delivery so as to avoid damaging the stent or causing undesirable movement of the stent during sheath retraction. It would be desirable to provide for a covering which is flexible and which sufficiently covers a stent so as to prevent stent elements from protruding outward from the catheter and interfering with a vessel wall prior to delivery. It would also be desirable to provide a covering which does not increase the profile of the stent delivery catheter beyond its profile without the covering. [0025] All US patents, applications and all other published documents mentioned anywhere in this application are incorporated herein by reference in their entirety. BRIEF SUMMARY OF THE INVENTION [0026] In light of the above, this invention provides for a stent delivery catheter employing one or more socks or sleeves to retain the stent on the catheter. In addition a unique membrane or stent covering is employed between the stent retaining sleeves to provide complete or selective coverage of the stent therebetween. The membrane of the present invention is sufficiently flexible to provide for adequate trackability of the catheter through the extremely tortuous confines of a body vessel. However, the membrane is of sufficient strength to prevent stent elements from lifting outward from the catheter surface thereby preventing such elements from interfering with a vessel wall during catheter advancement. [0027] In at least one embodiment of the invention the membrane may be a single continuous membrane which covers a substantial portion of the stent between a pair of end sleeves. [0028] In at least one embodiment of the invention the membrane may be a series of selectively placed membranes which cover selected portions of the stent. [0029] In at least one embodiment of the invention the membrane has a thickness which is equal to or less than thickness of the stent end retaining sleeve(s) which may be between 0.001 and 0.004 inches in thickness. [0030] In at least one embodiment of the invention, the membrane is approximately 0.002 inches thick. [0031] In at least one embodiment of the invention the membrane may be retracted from the stent prior to stent delivery. [0032] In at least one embodiment of the invention the membrane may be soluble. [0033] In at least one embodiment the membrane may be used for drug delivery. [0034] In at least one embodiment of the invention the membrane may be expanded with the stent. BRIEF DESCRIPTION OF THE SEVERAL VIEWS OF THE DRAWINGS [0035] A detailed description of the invention is hereafter described with specific reference being made to the drawings in which: [0036] [0036]FIG. 1 is a side view of an embodiment of the invention; [0037] [0037]FIG. 2 is a side view of an embodiment of the invention; [0038] [0038]FIG. 3 is a side view of an embodiment of the invention; [0039] [0039]FIG. 4 is a side view of an embodiment of the invention in the expanded state; and [0040] [0040]FIG. 5 is a side view of an embodiment of the invention. DETAILED DESCRIPTION OF THE INVENTION [0041] As may be seen in FIG. 1, the present invention is directed to a stent delivery catheter, indicated generally at 10 , which includes a catheter shaft 12 and an inflatable portion or balloon 14 mounted thereon. A medical device, such as a stent 16 is disposed about at least a portion of the balloon 14. The ends 18 and 20 of stent 16 are retained in an unexpanded state by stent retaining sleeves 22 and 24. In addition, overlying the portion of the stent between the sleeves 22 and 24 is a membrane 26. [0042] As is generally known, catheters, including present catheter 10 , may be embodied in a variety of configurations and types such as rapid exchange, over the wire, and many other types of catheter arrangements. The present catheter 10 may be any type of catheter suitable for use in a medical device delivery procedure. [0043] The balloon 14 may similarly be embodied in a variety of balloon types. As is know balloons for delivery of medical devices may be composed of one or more materials which may have a variety of material characteristics such as being compliant, non-compliant, elastic, non-elastic, etc. Balloon 14 may be comprised out of any known material or combination of materials, having any variety of characteristics which are suitable for use is medical device delivery. As such the specific materials for constructing the balloon 14 or portions thereof may be, but are not limited to, any of the following materials: thermoplastic polymers, thermoplastic elastomers, polyethylene (high density, low density, intermediate density, linear low density), various co-polymers and blends of polyethylene, ionomers, polyesters, polyurethanes, polycarbonates, polyamides, poly-vinyl chloride, acrylonitrile-butadiene-styrene copolymers, polyetherolyester copolymers, and polyetherpolyamide copolymers. Other suitable materials include a copolymer polyolefin material available from E. I. DuPont de Nemours and Co. (Wilmington, Del.), under the trade name SURLYN™ Ionomer and a polyether block amide available under the trade name PEBAX™. Non-compliant materials include relatively rigid of stiff high pressure polymeric materials, such as thermoplastic polymers and thermoset polymeric materials, poly(ethylene terephthalate) (commonly referred to as PET), polyimide, thermoplastic polyimide, polyamides, polyesters, polycarbonates, polyphenylene sulfides, polypropylene, rigid polyurethanes, Nylon and polyamides. [0044] Stents are well known and understood. In the present invention, stent 16 may be any type of stent. Preferably, stent 16 is a balloon expandable stent, but the invention is directed to the use of self-expanding and hybrid stents as well. [0045] The sleeves 22 and 24 may be manufactured from a variety of materials and may optionally employ a variety of characteristics including holes such as is shown in copending application Ser. No. 09/549,286 as well as others. The sleeves 22 and 24 may optionally employ a wide variety of coatings such as are discussed in copending application Ser. No. 09/427,805. As is known a wide variety of materials may be employed for the manufacture of socks or sleeves depending on the particular characteristics of the delivery device they are to be used with. In the present invention the sleeves 22 and 24 may be made out of any known sleeve material, including but not limited to urethane elastomers. [0046] In the various embodiments shown, the catheter 10 employs a pair of sleeves 22 and 24. However, the present invention may also employ a single sleeve which is associated with a portion of the catheter shaft 14 adjacent to either end 18 or 20 of the stent. Such a sleeve may extend in whole or in-part over the stent 16. [0047] The membrane 26 is a thin layer of material disposed about the stent 16. In the embodiment shown in FIG. 1 the membrane 26 covers the entire surface of the stent 16 which lies between the sleeves 22 and 24. As may be seen from the various figures, the membrane is preferably thinner than the sleeves 22 and 24. Typically, stent retaining sleeves have a thickness less than 0.005 inches. Preferably, the membrane 26 has a thickness less than 0.004 inches and more preferably less than 0.003 inches. In the embodiment shown the thickness of the membrane 26 is 0.002 inches. [0048] Despite the relatively thin character of the membrane 26 , the membrane 26 has sufficient strength to retain elements of the stent such as struts, cross-members, and other potentially protruding elements (represented in general by reference numeral 30 ) from outwardly protruding from the catheter when in the unexpanded state. [0049] Some suitable materials for manufacturing the membrane 26 , include but are not limited to thermoplastic elastomers such as KRATON, polystyrene, polyurethanes and any combinations thereof.\n",
            "Question : What are the properties and pharmaceutical applications of 1,4-di-substituted piperidines as described in the given patent description?,Data : INVENTION The present invention relates to 1,4-di-substituted piperidines, wherein the 4-position substituent is attached through an ether linkage, which compounds are useful in the treatment of cognitive disorders, pharmaceutical compositions containing the compounds, methods of treatment using the compounds, and to the use of said compounds in combination with acetyicholinesterase inhibitors. Alzheimer&#39;s disease and other cognitive disorders have received much attention lately, yet treatments for these diseases have not been very successful. According to Melchiorre et al. (J. Med. Chem. (1993), 36, 3734-3737), compounds that selectively antagonize M2 muscarinic receptors, especially in relation to M1 muscarinic receptors, should possess activity against cognitive disorders. Baumgold et al. (Eur. J. of Pharmacol., 251, (1994) 315-317) disclose 3-α-chloroimperialine as a highly selective m2 muscarinic antagonist. The present invention relates to a class of 1,4-di-substituted piperidines, some of which have m2 selectivity even higher than that of 3-α-chloroimperialine. Logemann et al (Brit. J. Pharmacol. (1961), 17, 286-296) describe certain di-N-substituted piperazines, but these are different from the inventive compounds of the present invention. Furthermore, the compounds of Logemann et al. are not disclosed to have activity against cognitive disorders. SUMMARY OF THE INVENTION The present invention relates to compounds according to the structural formula I, ##STR2## or an isomer, pharmaceutically acceptable salt, ester or solvate thereof, wherein X is a bond, --O--, --S--, --SO--, --SO 2 --, --CO--, --C(OR 7 ) 2 --, --CH 2 --O--, --O-- CH 2 --, --CH═CH--, --CH 2 --, --CH(C 1 -C 6 alkyl)-, --C(C 1 -C 6 alkyl) 2 -, --CONR 17 --, --NR 17 CO--, --O--C(O)NR 17 --, --NR 17 C(O)--O--, --SO 2 NR 17 -- or --NR 17 SO 2 --; R is C 3 -C 6 cycloalkyl, ##STR3## n is 1, 2 or 3; R 2 is H, C 2 -C 7 alkyl, C 3 -C 7 cycloalkyl, C 3 -C 7 cycloalkyl substituted by 1 to 4 groups independently selected from R 18 , C 3 -C 6 cycloalkenyl, t-butoxycarbonyl or ##STR4## R 3 and R 4 are independently selected from the group consisting of H, halo, --CF 3 , C 1 -C 6 alkyl, C 1 -C 6 alkoxy and --OH; R 5 and R 6 are independently selected from the group consisting of H, C 1 -C 6 alkyl, --CF 3 , C 1 -C 6 alkoxy, --OH, C 1 -C 6 alkylcarbonyl, C 1 -C 6 alkoxycarbonyl, R 13 CONH--, (R 13 ) 2 NCO--, R 13 OCONH--, R 13 NHCONH-- and NH 2 CONR 13 --; R 7 is independently selected from the group consisting of C 1 -C 6 alkyl; or the two R 7 groups may be joined to form --(C(R 14 ) 2 ) p -- wherein p is an integer from 2 to 4; R 8 , R 9 , R 10 , R 11 and R 12 are independently selected from the group consisting of H, halo, C 1 -C 6 alkyl, C 1 -C 6 alkoxy, benzyloxy, benzyloxy substituted by --NO 2 or --N(R 14 ), halo C 1 -C 6 alkyl, polyhalo C 1 -C 6 alkyl, --NO 2 , --CN, --SO 2 , --OH, --NH 2 , --N(R 14 ) 2 , --CHO, polyhalo C 1 -C 6 alkoxy, acyloxy, (C 1 -C 4 alkyl) 3 Si--, (C 1 -C 6 alkyl)SO 0-2 , arylsulfonyl, heteroaryl-sulfonyl, acyl, (C 1 -C 6 alkoxy)CO--, --OCON(R 14 ) 2 , --NHCOO--(C 1 -C 6 )alkyl, --NHCO--(C 1 -C 6 alkyl), phenyl, hydroxy(C 1 -C 6 alkyl) or morpholino; R 13 is independently selected from the group consisting of H, C 1 -C 6 alkyl, C 3 -C 6 cycloalkyl, --(C 1 -C 6 alkyl)COOR 15 , aryl, heteroaryl, -(C 1 -C 6 alkyl)aryl, -(C 1 -C 6 alkyl)heteroaryl and adamantyl; R 14 is independently selected from the group consisting of H and C 1 -C 6 alkyl; R 15 is independently selected from the group consisting of H, C 1 -C 20 alkyl, C 3 -C 6 cycloalkyl, aryl substituted by 1 to 3 groups independently selected from R 3 and heteroaryl substituted by 1 to 3 groups independently selected from R 3 ; R 16 is H, C 1 -C 6 alkyl, --COR 20 , C 1 -C 6 alkoxycarbonyl, --CON(R 14 ) 2 , --CONH(R 3 -aryl), --SO 1-2 --R 15 , --SO 1-2 --(CH 2 ) m --R 21 , --SON(R 14 ) 2 , --COSR 14 or ##STR5## R 17 is H, C 1 -C 6 alkyl, aryl or heteroaryl; R 18 is independently selected from the group consisting of halo, --CF 3 , C 1 -C 6 alkyl, C 1 -C 6 alkoxy, --OH, ═O, --CON(R 14 ) 2 and --N(R 14 )COR 15 ; R 19 is H, --OH, C 1 -C 20 alkyl, C 3 -C 6 cycloalkyl, aryl substituted by 1 to 3 groups independently selected from R 3 or heteroaryl substituted by 1 to 3 groups independently selected from R 3 ; R 20 is H, C 1 -C 20 alkyl, C 1 -C 6 alkoxy(C 1 -C 6 )alkyl, C 3 -C 6 cycloalkyl, aryl, aryl(C 1 -C 6 alkyl)-, aryloxy, aryloxy(C 1 -C 6 alkyl)-, tetrahydrofuranyl or heteroaryl, wherein the aryl or heteroaryl group is substituted by 1 to 3 groups independently selected from R 3 ; m is 0 to 3; and R 21 is C 7 -C 10 bridged cycloalkyl or C 7 -C 10 bridged cycloalkyl wherein the cycloalkyl portion is substituted by 1 or 2 substituents selected from the group consisting of C 1 -C 6 alkyl or ═O. Preferred compounds of formula I are those wherein X is --S--, --SO--, --SO 2 -- or --CH 2 --, with --SO 2 -- and --CH 2 -- being more preferred. Also preferred are compounds of formula I wherein R is R 8 , R 9 , R 10 , R 11 , R 12 -substituted phenyl, preferably alkoxyphenyl, or 3,4-methylenedioxyphenyl, with 3,4-methylenedioxyphenyl being more preferred. R 3 and R 4 are preferably each hydrogen. R 2 is preferably cycloalkyl or ##STR6## wherein R 16 is preferably --COR 20 , C 1 -C 6 alkoxycarbonyl or --SO 2 R 21 , especially --COR 20 wherein R 20 is R 3 -substituted aryl. When R 20 is R 3 -substituted aryl, it is preferably R 3 -substituted phenyl, especially 2-substituted phenyl wherein the substituent is methyl or halo. R 5 and R 6 are preferably independently hydrogen and --CH 3. Another aspect of the invention is a pharmaceutical composition comprising a compound having structural formula I in combination with a pharmaceutically acceptable carrier. Another aspect of the invention is the use of a compound of formula I for the preparation of a pharmaceutical composition useful in the treatment of cognitive disorders and neurodegenerative diseases such as Alzheimer&#39;s disease. Another aspect of this invention is a method for treating a cognitive or neurodegenerative disease comprising administering to a patient suffering from said disease an effective amount of a compound of formula I. Another aspect of this invention is a method for treating cognitive and neurodegenerative diseases, such as Alzheimer&#39;s disease with a compound of formula I in combination with an acetylcholinesterase inhibitor. Another aspect of this invention is a method for treating a cognitive or neurodegenerative disease comprising administering to a patient suffering from said disease an effective amount of a combination of a compound of formula I as defined above, including stereoisomers, pharmaceutically acceptable salts, esters and solvates thereof, said compound being capable of enhancing acetylcholine (ACh) release (preferably an m2 or m4 selective muscarinic antagonist) with an acetycholinesterase (ACh&#39;ase) inhibitor. Another aspect of this invention is a kit comprising in separate containers in a single package pharmaceutical compounds for use in combination to treat cognitive disorders in one container a compound of formula I capable of enhancing acetylcholine release (preferably an m2 or m4 selective muscarinic antagonist) in a pharmaceutically acceptable carrier and in a second container an cetylcholinesterase inhibitor in a pharmaceutically acceptable carrier, the ombined quantities being an effective amount. DETAILED DESCRIPTION Except where stated otherwise, the following definitions apply throughout the specification and claims. These definitions apply whether a term is used by itself or in combination with other terms. Alkenyl represents a straight or branched hydrocarbon chain of 2 to 6 carbon atoms having at least one carbon-to-carbon double bond. Cycloalkyl represents a saturated carbocyclic ring having 3 to 6 carbon atoms. Bridged cycloalkyl represents a C 7 -C 11 saturated carbocyclic ring comprised of a C 3 -C 6 cycloalkyl ring and a C 1 -C 6 alkylene chain joined at each end to non-adjacent carbon atoms of the ring; when substituted, the cycloalkyl ring can have 1 to 2 substitutents selected from the group conisisting of C 1 -C 6 alkyl and ═O. Examples of optionally substituted bridged cycloalkyl groups are 7,7-dimethyl-5-oxo-bicyclo[2.2.1]hept-4(R)-yl (which, when the group R 16 is --SO 2 --(CH 2 ) m --R 21 and m is 1, forms a camphorsulfonyl group), adamantyl, mrytanyl, noradamantyl, norbornyl, bicyclo[2.2.1]heptyl, 6,6-dimethylbicyclo[3.1.1]-heptyl, bicyclo[3.2.1]octyl and biclcylo[2.2.2]octyl. Cycloalkenyl represents a carbocyclic ring having from 3 to 6 carbon atoms and at least one carbon-to-carbon double bond in the ring. Halo represents fluoro, chloro, bromo or iodo. Aryl represents optionally substituted phenyl or optionally substituted naphthyl, wherein the substituents are 1 to 3 groups as defined in R 8. Heteroaryl represents optionally substituted heteroaryl groups, wherein the substituents are 1 to 3 groups as defined in R 8 , and the heteroaryl group is pyridinyl, pyrimidinyl, pyrazinyl, pyridazinyl, thiophenyl, furanyl or pyrolyl. Polyhalo represent substitution of at least 2 halo atoms to the group modified by the term &#34;polyhalo&#34;. Sulfonyl represents a group of the formula --SO 2 --. Sulfinyl represents a group of the formula --SO--. When a variable appears more than once in the structural formula, for example R 7 when X is --C(OR 7 ) 2 --, the identity of each variable appearing more than once may be independently selected from the definition for that variable. Variables R 5 and R 6 can be attached independently to substitutable carbon atoms in the piperidinyl ring, or both variables can be attached to the same ring carbon atom. Similarly, when R 2 is R 18 -substituted cycloalkyl and R 18 is alkyl, two substituents or one ═O group may be attached to any of the methylene ring members. In the definition of R 20 , any of the substituents having an aryl or heteroaryl portion can be substituted by 1 to 3 R 3 groups on substitutable ring carbon atoms of said aryl or heteroaryl groups. Compounds of this invention may exist in at least two stereo configurations on the carbon to which R 5 and/or R 6 are attached, except when R 5 and R 6 are attached to the same carbon and are identical. Further stereoisomerism is present when X is SO, or C(OR 7 ) 2 (when the two R 7 groups are not the same). Also within formula I there are numerous other possibilities for stereoisomerism. All possible stereoisomers of formula I are within the scope of the invention. Compound of formula I can exist in unsolvated as well as solvated forms, including hydrated forms. In general, the solvated forms, with pharmaceutically acceptable solvents such as water, ethanol and the like, are equivalent to the unsolvated forms for purposes of this invention. A compound of formula I may form pharmaceutically acceptable salts with organic and inorganic acids. Examples of suitable acids for salt formation are hydrochloric, sulfuric, phosphoric, acetic, citric, malonic, salicylic, malic, fumaric, succinic, ascorbic, maleic, methanesulfonic and other mineral and carboxylic acids well known to those skilled in the art. The salts are prepared by contacting the free base forms with a sufficient amount of the desired acid to produce a salt in the conventional manner. The free base forms may be regenerated by treating the salt with a suitable dilute aqueous base solution such as dilute aqueous sodium hydroxide, potassium carbonate, ammonia or sodium bicarbonate. The free base forms differ from their respective salt forms somewhat in certain physical properties, such as solubility in polar solvents, but the salts are otherwise equivalent to their respective free base forms for purposes of the invention. Compounds of formula I are prepared by processes known to those skilled in the art as exemplified by the following reaction procedures: ##STR7## A substituted 4-piperidinone 1 is reduced with NaBH 4 and the resulting 4-piperidinol 2 is reacted with a 4-iodophenol derivative, 3a, in the presence of an activator such as diethyl azodicarboxylate (DEAD) and a phosphine such as triphenylphosphine (PPh 3 ), to give a phenyl ether 4. The phenyl ether is reacted with a compound R--X--H, wherein R and X are as defined above, in the presence of a catalyst such as copper iodide to give a compound of formula I. Alternatively, the following procedure can be used: ##STR8## A compound of formula 2 is reacted with a phenol, 3b, in the presence of an activator such as DEAD and a phosphine PPh 3 to give a compound of formula I. This alternate route is preferred when X is not S, O, or N. ##STR9## Compounds of formula I-A, wherein X is S, can be converted to compounds of formula I-B, wherein X is S(O) 1-2 , by treatment with an oxidant such as m-chloroperbenzoic acid (MCPBA) in the presence of an organic acid such as methanesulfonic acid. ##STR10## Compounds of formula I-C (prepared by Method A and/or B), wherein Y is a suitable nitrogen protecting group, can be transformed into compounds of formula I by removal of the protecting group under standard conditions, followed by reacting the resulting piperidine with a ketone 5, where R A and R B together with the attached carbon form R 2. The reaction is preferably carried out in the presence of a Lewis acid such as titanium tetraisopropoxide. The resulting iminium ion is treated with a reducing agent such as NaCNBH 3 to give a compound of formula I. ##STR11## Compounds of the formula I-D, wherein Y is a protecting group, are prepared according to methods A, B, and/or C. Compounds of formula I-D are converted to compounds of formula I-E by deprotection under standard conditions, followed by treatment with a reagent G, wherein G is R 16a L, wherein R 16a is as defined above for R 16 , except it is not H, and L is a leaving group such as Cl or Br; or G is R 15a NCO, wherein R 15a is as defined above for R 15 , except it is not H. ##STR12## Compounds of formula I-F, wherein Q is --CO-- or --SO 2 --, are prepared by first preparing a compound of formula 5 using the procedures described in steps 1 and 2 of method A. The compound of formula 5 is then hydrolyzed to an aniline with strong acid such as 6N HCl. The aniline derivative is acylated or sulfonated with an activated reagent (RCO) 2 O or RQ-L, where R is as previously defined, Q is as defined above, and L is a leaving group such as halogen or imidazolyl. Examples of activated reagents include RCO-halogen, RCOOCOCH 3 , ROCO-halogen and RSO 2 -halogen. As indicated, in the above processes it is sometimes desirable and/or necessary to protect certain groups during the reactions. Conventional protecting groups, familiar to those skilled in the art, are operable. The above reactions may be followed if necessary or desired by one or more of the following steps; (a) removing any protective groups from the compound so produced; (b) converting the compound so-produced to a pharmaceutically acceptable salt, ester and/or solvate; (c) converting a compound in accordance with formula I so produced to another compound in accordance with formula I, and (d) isolating a compound of formula I, including separating stereoisomers of formula I. Based on the foregoing reaction sequence, those skilled in the art will be able to select starting materials needed to produce any compound in accordance with formula I. The compounds of formula I exhibit selective m2 and/or m4 muscarinic antagonizing activity, which has been correlated with pharmaceutical activity for treating cognitive disorders such as Alzheimers disease and senile dementia. The compounds of formula I display pharmacological activity in test procedures designated to indicate m1, m2 and m4 muscarinic antagonist activity. The compounds are non-toxic at pharmaceutically therapeutic doses. For preparing pharmaceutical compositions from the compounds of formula I capable of enhancing ACh release, and ACh&#39;ase inhibitors, pharmaceutically acceptable inert carriers are admixed with the active compounds. The pharmaceutically acceptable carriers may be either solid or liquid. Solid form preparations include powders, tablets, dispersible granules, capsules, cachets and suppositories. A solid carrier can be one or more substances which may also act as dilutents, flavoring agents, solubilizers, lubricants, suspending agents, binders or tablet disintegrating agents; it may also be an encapsulating material. Liquid form preparations include solutions, suspensions and emulsions. As an example may be mentioned water or water-propylene glycol solutions for parenteral injection. Also included are solid form preparations which are intended to be converted, shortly before use, to liquid form preparations for either oral or parentertal administration. Such liquid forms include solutions, suspensions and emulsions. These particular solid form preparations are most conveniently provided in unit dose form and as such are used to provide a single liquid dosage unit. The invention also contemplates alternative delivery systems including, but not necessarily limited to, transdermal delivery. The transdermal compositions can take the form of creams, lotions and/or emulsions and can be included in a transdermal patch of the matrix or reservoir type as are conventional in the art for this purpose. Preferably, the pharmaceutical preparation is in unit dosage form. In such form, the preparation is subdivided into unit doses containing appropriate quantities of the active components. The unit dosage form can be a packaged preparation, the package containing discrete quantities of preparation such as packeted tablets, capsules and powders in vials or ampules.\n",
            "Question : What system employs thermal ablation for tissue treatment using cryoprobes and integrates procedure data for real-time monitoring and adjustment?,Data : INVENTION The present invention relates to planning, monitoring and regulation of temperature gradients, or isotherms, for thermal treatment of tissue, and in particular, the cryoablation of tissue. Thermal treatment of tissues has become an increasingly effective method of treatment for a variety of pathological cases. For example, malignancies in body organs such as liver, lungs, kidney, prostate, breast, and other organs are successfully treated by thermal ablation when heat or cold irreversibly destroys pathological tissue. Target temperatures are generally emphasized since irreversible changes that destroy a cell occur more reliably at those levels, but the time that those target temperatures are maintained are also important. For example, consistent cell death using heat usually requires temperatures greater than 50° C. for over one (1) minute, while tissue freezing usually requires two (2) cycles of target tissue temperatures less than −20° C. for greater than three (3) minutes each, interspaced by a passive thaw of greater than three (3) minutes. These general assumptions are variable depending upon local tissue conditions of: 1) adjacent blood vessels, or vasculature, acting as heat sinks; 2) tissue perfusion from blood flow of the micro vasculature, and; 3) the overall thermal characteristics of the tissue, such as thermal conductivity and capacity, which appear related to the ratio of fluid and/or fibrous content. In connection with cryo-treatments, the localized anatomy surrounding a target area to be treated (e.g., frozen), or tumor, may be assessed by various imaging techniques such as ultrasound (US), X-ray, computed tomography (CT) or magnetic resonance imaging (MRI). Ultrasound clearly shows only the bright echoes from the leading edge of the ice closest to the ultrasound probe. The interface between frozen and non-frozen tissue has marked sound speed differences. Nearly all echoes are reflected with minimal signal penetrating the iceball. This causes marked shadowing behind the leading ice edge, obscuring all posterior structures. Plain X-ray technique is only capable of showing the border of the lower density frozen tissue. This is possible, however, only if the tissue is sufficiently compressed to allow detection of the density difference as a projected shadow that is perpendicular to the main axis of the x-ray. Both ultrasound and x-ray techniques thus provide only partial information concerning the size and position of three-dimensional frozen tissue, and cannot define the full three-dimensional cryoablation volume contained within the frozen tissue. CT and MRI techniques are preferred over ultrasound and x-ray since they can produce a reconstructed tissue volume from the usual sequence of axial images. In addition, they can be performed before, during and after intravenous contrast enhancement to assess the vascularity of the target tumor relative to the surrounding tissues. CT is more readily available than interventional MR units within the community and doesn&#39;t have metal incompatibility issues. However, MRI can provide greater contrast between the different soft and/or frozen tissues than CT and has temperature-sensitive imaging sequences. Unlike CT, MRI uses no ionizing radiation, but uses a powerful magnetic field and pulsed radiofrequency fields to cause the hydrogen nuclei to produce a rotating magnetic field detectable by the scanner. These signals can be manipulated by additional magnetic fields to build up enough information to construct a volumetric image of the target object. U.S. Pat. Nos. 6,773,408 and 6,904,305 relate to MRI medical interventional procedures and therapies, applying ablation energy to the target tissues, and further relate to monitoring such therapy by magnetic resonance application. The technology described in the &#39;408 and &#39;305 patents are partially based on the fact that certain known MRI sequences are temperature sensitive, so that magnetic resonance data acquired using these procedures will indicate changes in the temperature of the tissues. For example, a magnetic resonance parameter referred to as T1 (spin-lattice relaxation time) will vary with temperature. If a magnetic resonance imaging apparatus is actuated to acquire T1 for various volume elements within the subject, the data for different elements will vary with temperature, at least within a tissue having generally the same composition. The data can be displayed as a visible image, and hence different temperatures can be shown by the differences in brightness or color within the displayed image. Unfortunately, this approach can only display the degree of the heating within a location within the body being heated. These procedures have been well known but have not been widely adopted in the medical practice. Magnetic resonance imaging instruments include large, precise magnets which are arranged to impose a high magnetic field but also severely limit access to the target subject. Moreover, the MRI instruments must be such so as to be substantially unaffected by the MRI system&#39;s powerful magnetic field. Medical instruments constructed of non-MRI-compatible materials may be subjected to powerful undesired forces generated by magnetic interaction between the instrument and the MRI magnetic field that may distort the MRI image. Additionally, electrical circuits used within the MRI environment must be shielded because they may be subject to induced currents generated within the electrical circuitry. Induced current can lead to uncontrolled processes such as distortion of data or control signals. Electric currents induced by an external magnetic field interacting with components of electronic circuitry could have a distorting effects during its normal operation. For example, electronic circuits with switching components which are switching at high frequencies (e.g., computers) and with potential for emission of electromagnetic fields must be strictly shielded. Another shortcoming of MRI is that commercially available MRI systems do not detect and display temperatures within frozen tissue. Research has been done evaluating ultrashort echo-times to assess the R 2 * parameter and generate temperature assessment within the iceball but these sequences are complex and specialized to limited centers. What is needed is a system that provides capability of direct identification or localization of the isotherms within frozen tissue with reliable identification of the external border of the ablation volume. What is further needed is a system that is capable of providing accurate estimation of the size and position of an ablation volume in cryosurgery, since it is a goal to ablate all pathological tissue while damaging as little as possible of healthy tissue surrounding the pathological tissue. What is further needed is to enable a physician, during a procedure, to have accurate information of what tissues have been frozen. What is further needed is a system adapted to render the border of the ablation volume, or alternatively a system facilitating accurate estimation of the size and position of such a border, to decrease danger of surgical complications and avoid various deleterious consequences to the long-term health and quality of life of the recovering patient. Attempts to provide systems for MRI-guided cryosurgery are described in U.S. Pat. No. 5,978,697 and US Pat. Application No. 2006/0155268. The &#39;697 patent describes a system with inner and outer modules for MRI-guided cryosurgery comprising an MRI magnet having an opening for enabling access of a surgeon to the patient who is accommodated inside the MRI room, a line member of a surgical device extending through MRI magnet channel, a surgical device itself including: (a) an operating member for operating the patient; (b) a control member for controlling the operating member, the control member being positioned externally to the MRI room; (c) a line member having a first end connectable to the operating member and a second end connectable to said control member, wherein a portion of the line member is received within the channel of the MRI magnet. The line member includes an underground portion extending through an underground channel. The operating member is a cryogenic probe including a Joule-Thomson heat exchanger, and the line member is a gas tube. The control member includes a microprocessor for controlling the operation of cryosurgical device. A display member is positioned within the MRI room, the display member being electrically connected to the microprocessor for providing information relating to the operation. The cryogenic probe includes a thermal sensor electrically connected to the microprocessor. A disadvantage of the system described in the &#39;697 patent is the separation of control functions into inner and outer modules that requires two operators of the surgical equipment, a first operator being a surgeon positioned within the inner module, i.e., within magnetic field of the MRI equipment, and a second operator whose function includes inputting gas control commands and reporting to the surgeon the cryosurgery system status which the surgeon from his position into inner module cannot see and estimate for-himself, and cannot directly control. Another disadvantage of the system described in the &#39;697 patent is an impossibility to display and control temperatures within ablated frozen tissue because the thermal sensor placed at the distal end of the cryoprobe can provide only information about temperature in the central point of ablation volume. Application No. 2006/0155268 describes an MRI-guided and compatible cryosurgery system that comprises a cryoprobe operable to be cooled by expansion of high-pressure cooling gas though a Joule-Thomson orifice. This schematically presented system enable a surgeon positioned next to a patient and within an MRI magnetic environment both to monitor progress of an intervention by observing MR images of the intervention in real time, and to fully control aspects of operation of a cryosurgery. The apparatus described may remotely control a fluid supply source positioned external to the magnetic environment thereby enabling real-time MRI-guided control of a cryoablation process. A schematically presented embodiment enables calculation and display of borders of an ablation volume surrounding a cooled cryoprobe, and further enables automated control of elements of a cryoablation procedure, which elements are triggered when shape and position of the calculated ablation volume are found. The schematic intervention module may comprise a plurality of cryoprobes, an MRI-compatible template operable to guide insertion of the cryoprobe into the body of the patient, and a thermal sensor operable to be positioned at a selected position within the body. The cryoprobe may comprise a thermal sensor operable to report temperatures within the cryoprobe or to report temperature external to the cryo probe. A shortcoming of Application No. 2006/0155268 is that complete information about temperature distribution within the frozen volume of ablation with thermal sensors is unavailable. Additionally, the described temperature distribution profile across a schematic frozen tissue formed by the tip of cryosurgical probe, to the external surface of the frozen volume, appears somewhat arbitrary and unrealistic. Thus, there is a need to have a thermal ablation system that can provide to a physician isotherm distribution within the target tissue in order to plan, monitor and control tissue ablation using thermal response for anatomic and tissue characterization. SUMMARY OF THE INVENTION A system for use with at least one cryoprobe for the treatment of biological tissue with thermal ablation includes receiving procedure data wherein the procedure data comprises an inflow temperature at a location along an inflow conduit of the probe, and an outflow temperature at a location along the outflow conduit. The processor calculates a procedure signature or profile based on the procedure data and compares the procedure signature to a planning signature based on previously acquired image data and or model of the tissue. In another embodiment the planning signature is a planning isotherm volume of tissue and the procedure signature is a tissue isotherm volume obtained during the intervention, or cryoablation. In another embodiment the processor is further operative to compare the information and automatically regulate the flowrate of a cryogen to the cryoprobe. In another embodiment, a method is described for treatment of a target volume of biological tissue using at least one thermal tissue ablation apparatus. The method comprises a number of steps: 1) receiving procedure data, the procedure data comprising an inlet temperature of the fluid within the inlet conduit and at a location within the tissue treatment portion of the apparatus and an outlet temperature of the fluid within the outlet conduit and at a location within the tissue treatment portion of the apparatus; 2) determining a procedure signature based on the procedure data; and 3) comparing the procedure signature to a previously determined planning signature. In another aspect of the invention, the method further comprises automatically applying an amount of thermal energy to the tissue based on the comparing step. In another aspect of the invention, the method further comprises the step of providing the thermal ablation apparatus wherein the fluid is a cold liquid with a freezing point less than −90° C. another aspect of the invention, the cold liquid is one liquid selected from the group of propane, perfluropropane, R-124, and R-1270. In another aspect of the invention, the comparing step is performed substantially continuously during the treatment and the amount of thermal energy being applied is adjusted based on real time information determined by the comparing step. In one embodiment, a computer includes a feedback loop and calculates the difference between the two signatures and determines the amount of adjustment to the power parameters of the cryoprobe to force the procedure signature to match or converge with the planned signature. According to one aspect of the invention a method of treatment planning comprises observing a marker, or seed, that is deposited prior to treatment within the target volume and well-visualized by US, CT or MRI. The well-visualized marker is used at the beginning of the treatment session to confirm location of tumor margins and vascularity in relation to actual probe placement. The marker is then used to validate anatomic location of tumor margins and vascularity in relation to developing treatment margins during treatment, thus serving as one of the inputs to continuously adjusted probe power during treatment protocol. According to a further aspect of the invention there is provided a method which allows monitoring of tissue response to thermal changes induced by probes inserted into the target treatment region, whereby that tissue thermal response is reflected in the difference between the inlet temperature of substance entering the exchange chamber at the probe tip and the outlet temperature as it exits the chamber. The disclosure and invention specifically include combination of features of various embodiments as well as combinations of the various embodiments where possible. The description, objects and advantages of the present invention will become apparent from the detailed description to follow, together with the accompanying drawings. BRIEF DESCRIPTION OF THE DRAWINGS FIG. 1 a is an illustration of a tissue ablation control system in accordance with one embodiment of the present invention. FIG. 1 b is a flow chart showing the steps of a method in accordance with one embodiment of the present invention. FIG. 2 a is a schematic view showing a plurality of cryoprobes distributed within a tumor without adjacent vascularity. FIG. 2 b is a schematic view showing an isotherm distribution for the tumor shown in FIG. 2 a. FIG. 3 a is a schematic view showing a plurality of cryoprobes distributed within a tumor with adjacent vascularity. FIG. 3 b is schematic view showing an isotherm distribution for the tumor shown in FIG. 3 a. FIG. 4 a is a graph showing a heatload difference provided by probe for peri-vascular (solid line) and non-vascular target tissue (dashed line). FIG. 4 b is a graph showing heatload difference between two stages of freeze (first freeze=solid line; second=dashed line) of target tissue with high water content and without adjacent vascularity. FIG. 5 is a graph showing a heatload difference for two stages of freeze of a fibrous target tissue without adjacent vascularity. DETAILED DESCRIPTION OF THE INVENTION FIG. 1 a illustrates a thermal ablation control system in accordance with one embodiment of the invention. Computer 100 is shown in communication with one or more cryoprobes 110 a - f. Computer 100 may be a general purpose computer including a processor. Computer is also in communication with (or has incorporated therein) a controller (not shown) to power the cryoprobes. In the case of a cryoprobe, the controller may control such parameters as flowrate of a cryogen liquid to the cryoprobe, temperature of the cryogen, actuate valves, etc. Additionally, a cryogen tank, refrigerator, pump, electrical supply, and other equipment may be housed in cabinet 120. The probe 110 a includes a handle 112 and a tissue treatment portion 114 or freeze zone. The tissue treatment portion is shown as a rigid shaft having a pointed tip. However, the shaft may be flexible and atraumatic in other embodiments. Additionally, although this embodiment is directed to a cryoprobe, other probes are contemplated and intended to be within the scope of the invention except where excluded by the scope of the appended claims. In use, the shaft 114 is inserted into the target tissue. This may be performed in, for example, percutaneous or open procedures. The tissue treatment portion encloses an exchange chamber fed by a fluid inlet conduit. The shape of the exchange chamber may vary widely and in one embodiment, comprises an elongate cavity. A fluid outlet conduit is fluidly joined to the exchange chamber to return the fluid to the fluid source or reservoir tank (not shown). The tissue treatment portion applies energy to the tissue, and in the case of a cryo-treatment, freezes the tissue in the vicinity of the tissue treatment portion. An example of a cryoprobe and system that can provide a cryotherapy is described in U.S. Publication No. 20090270851 to Babkin et al., the entirety of which is incorporated by reference. In another embodiment the cryoprobe does not have an exchange chamber per se. The conduit follows a path leading to and from the tissue treatment portion. More than one conduit may be provided and the conduit&#39;s cross section may vary in shape and size. As mentioned above, the present invention includes use of temperature data from the probe. To this end, probes that are useful with the system of the present invention include a sensor within each the fluid inlet conduit and fluid outlet conduit. Preferably, the sensors, such as thermocouples, are located in the tissue treatment portion or freeze zone of the probe and in some cases, in the most distal portion of the tip.\n",
            "Question : What advancements in thermal ablation systems for tissue treatment are described in the context of cryotherapy and real-time MRI guidance?,Data : INVENTION The present invention relates to planning, monitoring and regulation of temperature gradients, or isotherms, for thermal treatment of tissue, and in particular, the cryoablation of tissue. Thermal treatment of tissues has become an increasingly effective method of treatment for a variety of pathological cases. For example, malignancies in body organs such as liver, lungs, kidney, prostate, breast, and other organs are successfully treated by thermal ablation when heat or cold irreversibly destroys pathological tissue. Target temperatures are generally emphasized since irreversible changes that destroy a cell occur more reliably at those levels, but the time that those target temperatures are maintained are also important. For example, consistent cell death using heat usually requires temperatures greater than 50° C. for over one (1) minute, while tissue freezing usually requires two (2) cycles of target tissue temperatures less than −20° C. for greater than three (3) minutes each, interspaced by a passive thaw of greater than three (3) minutes. These general assumptions are variable depending upon local tissue conditions of: 1) adjacent blood vessels, or vasculature, acting as heat sinks; 2) tissue perfusion from blood flow of the micro vasculature, and; 3) the overall thermal characteristics of the tissue, such as thermal conductivity and capacity, which appear related to the ratio of fluid and/or fibrous content. In connection with cryo-treatments, the localized anatomy surrounding a target area to be treated (e.g., frozen), or tumor, may be assessed by various imaging techniques such as ultrasound (US), X-ray, computed tomography (CT) or magnetic resonance imaging (MRI). Ultrasound clearly shows only the bright echoes from the leading edge of the ice closest to the ultrasound probe. The interface between frozen and non-frozen tissue has marked sound speed differences. Nearly all echoes are reflected with minimal signal penetrating the iceball. This causes marked shadowing behind the leading ice edge, obscuring all posterior structures. Plain X-ray technique is only capable of showing the border of the lower density frozen tissue. This is possible, however, only if the tissue is sufficiently compressed to allow detection of the density difference as a projected shadow that is perpendicular to the main axis of the x-ray. Both ultrasound and x-ray techniques thus provide only partial information concerning the size and position of three-dimensional frozen tissue, and cannot define the full three-dimensional cryoablation volume contained within the frozen tissue. CT and MRI techniques are preferred over ultrasound and x-ray since they can produce a reconstructed tissue volume from the usual sequence of axial images. In addition, they can be performed before, during and after intravenous contrast enhancement to assess the vascularity of the target tumor relative to the surrounding tissues. CT is more readily available than interventional MR units within the community and doesn&#39;t have metal incompatibility issues. However, MRI can provide greater contrast between the different soft and/or frozen tissues than CT and has temperature-sensitive imaging sequences. Unlike CT, MRI uses no ionizing radiation, but uses a powerful magnetic field and pulsed radiofrequency fields to cause the hydrogen nuclei to produce a rotating magnetic field detectable by the scanner. These signals can be manipulated by additional magnetic fields to build up enough information to construct a volumetric image of the target object. U.S. Pat. Nos. 6,773,408 and 6,904,305 relate to MRI medical interventional procedures and therapies, applying ablation energy to the target tissues, and further relate to monitoring such therapy by magnetic resonance application. The technology described in the &#39;408 and &#39;305 patents are partially based on the fact that certain known MRI sequences are temperature sensitive, so that magnetic resonance data acquired using these procedures will indicate changes in the temperature of the tissues. For example, a magnetic resonance parameter referred to as T1 (spin-lattice relaxation time) will vary with temperature. If a magnetic resonance imaging apparatus is actuated to acquire T1 for various volume elements within the subject, the data for different elements will vary with temperature, at least within a tissue having generally the same composition. The data can be displayed as a visible image, and hence different temperatures can be shown by the differences in brightness or color within the displayed image. Unfortunately, this approach can only display the degree of the heating within a location within the body being heated. These procedures have been well known but have not been widely adopted in the medical practice. Magnetic resonance imaging instruments include large, precise magnets which are arranged to impose a high magnetic field but also severely limit access to the target subject. Moreover, the MRI instruments must be such so as to be substantially unaffected by the MRI system&#39;s powerful magnetic field. Medical instruments constructed of non-MRI-compatible materials may be subjected to powerful undesired forces generated by magnetic interaction between the instrument and the MRI magnetic field that may distort the MRI image. Additionally, electrical circuits used within the MRI environment must be shielded because they may be subject to induced currents generated within the electrical circuitry. Induced current can lead to uncontrolled processes such as distortion of data or control signals. Electric currents induced by an external magnetic field interacting with components of electronic circuitry could have a distorting effects during its normal operation. For example, electronic circuits with switching components which are switching at high frequencies (e.g., computers) and with potential for emission of electromagnetic fields must be strictly shielded. Another shortcoming of MRI is that commercially available MRI systems do not detect and display temperatures within frozen tissue. Research has been done evaluating ultrashort echo-times to assess the R 2 * parameter and generate temperature assessment within the iceball but these sequences are complex and specialized to limited centers. What is needed is a system that provides capability of direct identification or localization of the isotherms within frozen tissue with reliable identification of the external border of the ablation volume. What is further needed is a system that is capable of providing accurate estimation of the size and position of an ablation volume in cryosurgery, since it is a goal to ablate all pathological tissue while damaging as little as possible of healthy tissue surrounding the pathological tissue. What is further needed is to enable a physician, during a procedure, to have accurate information of what tissues have been frozen. What is further needed is a system adapted to render the border of the ablation volume, or alternatively a system facilitating accurate estimation of the size and position of such a border, to decrease danger of surgical complications and avoid various deleterious consequences to the long-term health and quality of life of the recovering patient. Attempts to provide systems for MRI-guided cryosurgery are described in U.S. Pat. No. 5,978,697 and US Pat. Application No. 2006/0155268. The &#39;697 patent describes a system with inner and outer modules for MRI-guided cryosurgery comprising an MRI magnet having an opening for enabling access of a surgeon to the patient who is accommodated inside the MRI room, a line member of a surgical device extending through MRI magnet channel, a surgical device itself including: (a) an operating member for operating the patient; (b) a control member for controlling the operating member, the control member being positioned externally to the MRI room; (c) a line member having a first end connectable to the operating member and a second end connectable to said control member, wherein a portion of the line member is received within the channel of the MRI magnet. The line member includes an underground portion extending through an underground channel. The operating member is a cryogenic probe including a Joule-Thomson heat exchanger, and the line member is a gas tube. The control member includes a microprocessor for controlling the operation of cryosurgical device. A display member is positioned within the MRI room, the display member being electrically connected to the microprocessor for providing information relating to the operation. The cryogenic probe includes a thermal sensor electrically connected to the microprocessor. A disadvantage of the system described in the &#39;697 patent is the separation of control functions into inner and outer modules that requires two operators of the surgical equipment, a first operator being a surgeon positioned within the inner module, i.e., within magnetic field of the MRI equipment, and a second operator whose function includes inputting gas control commands and reporting to the surgeon the cryosurgery system status which the surgeon from his position into inner module cannot see and estimate for-himself, and cannot directly control. Another disadvantage of the system described in the &#39;697 patent is an impossibility to display and control temperatures within ablated frozen tissue because the thermal sensor placed at the distal end of the cryoprobe can provide only information about temperature in the central point of ablation volume. Application No. 2006/0155268 describes an MRI-guided and compatible cryosurgery system that comprises a cryoprobe operable to be cooled by expansion of high-pressure cooling gas though a Joule-Thomson orifice. This schematically presented system enable a surgeon positioned next to a patient and within an MRI magnetic environment both to monitor progress of an intervention by observing MR images of the intervention in real time, and to fully control aspects of operation of a cryosurgery. The apparatus described may remotely control a fluid supply source positioned external to the magnetic environment thereby enabling real-time MRI-guided control of a cryoablation process. A schematically presented embodiment enables calculation and display of borders of an ablation volume surrounding a cooled cryoprobe, and further enables automated control of elements of a cryoablation procedure, which elements are triggered when shape and position of the calculated ablation volume are found. The schematic intervention module may comprise a plurality of cryoprobes, an MRI-compatible template operable to guide insertion of the cryoprobe into the body of the patient, and a thermal sensor operable to be positioned at a selected position within the body. The cryoprobe may comprise a thermal sensor operable to report temperatures within the cryoprobe or to report temperature external to the cryo probe. A shortcoming of Application No. 2006/0155268 is that complete information about temperature distribution within the frozen volume of ablation with thermal sensors is unavailable. Additionally, the described temperature distribution profile across a schematic frozen tissue formed by the tip of cryosurgical probe, to the external surface of the frozen volume, appears somewhat arbitrary and unrealistic. Thus, there is a need to have a thermal ablation system that can provide to a physician isotherm distribution within the target tissue in order to plan, monitor and control tissue ablation using thermal response for anatomic and tissue characterization. SUMMARY OF THE INVENTION A system for use with at least one cryoprobe for the treatment of biological tissue with thermal ablation includes receiving procedure data wherein the procedure data comprises an inflow temperature at a location along an inflow conduit of the probe, and an outflow temperature at a location along the outflow conduit. The processor calculates a procedure signature or profile based on the procedure data and compares the procedure signature to a planning signature based on previously acquired image data and or model of the tissue. In another embodiment the planning signature is a planning isotherm volume of tissue and the procedure signature is a tissue isotherm volume obtained during the intervention, or cryoablation. In another embodiment the processor is further operative to compare the information and automatically regulate the flowrate of a cryogen to the cryoprobe. In another embodiment, a method is described for treatment of a target volume of biological tissue using at least one thermal tissue ablation apparatus. The method comprises a number of steps: 1) receiving procedure data, the procedure data comprising an inlet temperature of the fluid within the inlet conduit and at a location within the tissue treatment portion of the apparatus and an outlet temperature of the fluid within the outlet conduit and at a location within the tissue treatment portion of the apparatus; 2) determining a procedure signature based on the procedure data; and 3) comparing the procedure signature to a previously determined planning signature. In another aspect of the invention, the method further comprises automatically applying an amount of thermal energy to the tissue based on the comparing step. In another aspect of the invention, the method further comprises the step of providing the thermal ablation apparatus wherein the fluid is a cold liquid with a freezing point less than −90° C. another aspect of the invention, the cold liquid is one liquid selected from the group of propane, perfluropropane, R-124, and R-1270. In another aspect of the invention, the comparing step is performed substantially continuously during the treatment and the amount of thermal energy being applied is adjusted based on real time information determined by the comparing step. In one embodiment, a computer includes a feedback loop and calculates the difference between the two signatures and determines the amount of adjustment to the power parameters of the cryoprobe to force the procedure signature to match or converge with the planned signature. According to one aspect of the invention a method of treatment planning comprises observing a marker, or seed, that is deposited prior to treatment within the target volume and well-visualized by US, CT or MRI. The well-visualized marker is used at the beginning of the treatment session to confirm location of tumor margins and vascularity in relation to actual probe placement. The marker is then used to validate anatomic location of tumor margins and vascularity in relation to developing treatment margins during treatment, thus serving as one of the inputs to continuously adjusted probe power during treatment protocol. According to a further aspect of the invention there is provided a method which allows monitoring of tissue response to thermal changes induced by probes inserted into the target treatment region, whereby that tissue thermal response is reflected in the difference between the inlet temperature of substance entering the exchange chamber at the probe tip and the outlet temperature as it exits the chamber. The disclosure and invention specifically include combination of features of various embodiments as well as combinations of the various embodiments where possible. The description, objects and advantages of the present invention will become apparent from the detailed description to follow, together with the accompanying drawings. BRIEF DESCRIPTION OF THE DRAWINGS FIG. 1 a is an illustration of a tissue ablation control system in accordance with one embodiment of the present invention. FIG. 1 b is a flow chart showing the steps of a method in accordance with one embodiment of the present invention. FIG. 2 a is a schematic view showing a plurality of cryoprobes distributed within a tumor without adjacent vascularity. FIG. 2 b is a schematic view showing an isotherm distribution for the tumor shown in FIG. 2 a. FIG. 3 a is a schematic view showing a plurality of cryoprobes distributed within a tumor with adjacent vascularity. FIG. 3 b is schematic view showing an isotherm distribution for the tumor shown in FIG. 3 a. FIG. 4 a is a graph showing a heatload difference provided by probe for peri-vascular (solid line) and non-vascular target tissue (dashed line). FIG. 4 b is a graph showing heatload difference between two stages of freeze (first freeze=solid line; second=dashed line) of target tissue with high water content and without adjacent vascularity. FIG. 5 is a graph showing a heatload difference for two stages of freeze of a fibrous target tissue without adjacent vascularity. DETAILED DESCRIPTION OF THE INVENTION FIG. 1 a illustrates a thermal ablation control system in accordance with one embodiment of the invention. Computer 100 is shown in communication with one or more cryoprobes 110 a - f. Computer 100 may be a general purpose computer including a processor. Computer is also in communication with (or has incorporated therein) a controller (not shown) to power the cryoprobes. In the case of a cryoprobe, the controller may control such parameters as flowrate of a cryogen liquid to the cryoprobe, temperature of the cryogen, actuate valves, etc. Additionally, a cryogen tank, refrigerator, pump, electrical supply, and other equipment may be housed in cabinet 120. The probe 110 a includes a handle 112 and a tissue treatment portion 114 or freeze zone. The tissue treatment portion is shown as a rigid shaft having a pointed tip. However, the shaft may be flexible and atraumatic in other embodiments. Additionally, although this embodiment is directed to a cryoprobe, other probes are contemplated and intended to be within the scope of the invention except where excluded by the scope of the appended claims. In use, the shaft 114 is inserted into the target tissue. This may be performed in, for example, percutaneous or open procedures. The tissue treatment portion encloses an exchange chamber fed by a fluid inlet conduit. The shape of the exchange chamber may vary widely and in one embodiment, comprises an elongate cavity. A fluid outlet conduit is fluidly joined to the exchange chamber to return the fluid to the fluid source or reservoir tank (not shown). The tissue treatment portion applies energy to the tissue, and in the case of a cryo-treatment, freezes the tissue in the vicinity of the tissue treatment portion. An example of a cryoprobe and system that can provide a cryotherapy is described in U.S. Publication No. 20090270851 to Babkin et al., the entirety of which is incorporated by reference. In another embodiment the cryoprobe does not have an exchange chamber per se. The conduit follows a path leading to and from the tissue treatment portion. More than one conduit may be provided and the conduit&#39;s cross section may vary in shape and size. As mentioned above, the present invention includes use of temperature data from the probe. To this end, probes that are useful with the system of the present invention include a sensor within each the fluid inlet conduit and fluid outlet conduit. Preferably, the sensors, such as thermocouples, are located in the tissue treatment portion or freeze zone of the probe and in some cases, in the most distal portion of the tip.\n",
            "Question : How does the synchronization of the breathing cycle with the natural heart rate variability cycle enhance physiological and psychological harmony?,Data : INVENTION The present invention relates to human physiology, and in particular to a method and system of biofeedback allowing a human subject to consciously control physiological processes, more particularly, it allows a human subject to achieve synchronization of one&#39;s breathing cycle with one&#39;s natural heart rate cycle. BACKGROUND OF THE INVENTION The human heart is known to have its own nervous system and its own natural tendency toward rhythm. For purposes of this invention, there are two primary aspects to this rhythm, the heartbeat rate, and the rate at which the heartbeat rate changes otherwise known as heart rate variability. Heartbeat rate is usually specified in absolute number of heartbeats occurring during a specified period. Heartbeat rate variability, otherwise know as heart rate variability is the change in heartbeat rate as occurs during a specified period. Henceforth, heartbeat rate variability will be referred to as heart rate variability. While the heart has its own tendency toward rhythm, it is closely coupled to breathing. The relationship is such that as inhalation occurs, the heartbeat rate tends to increase and as exhalation occurs, the heartbeat rate tends to decrease. It is important to note that while the heartbeat rate and breathing rate influence each other, the relationship is an asynchronous one, that is, they are independent rhythms that influence but do not directly control each other. It is generally recognized that heart rate variability is an indicator of physiological and emotional state, that is, irregular incoherent heart rate variability indicates a condition of physiological/psychological stress. Alternatively, highly coherent heart rate variability is indicative of a condition of physiological/psychological harmony. Accordingly, it is highly desirable to achieve and maintain a highly coherent heart rate variability as life circumstances permit. This having been said, with proper training and the application of the method and apparatus of the present invention, it is possible for a human subject to rapidly achieve the desired state of high coherence of heart rate variability and to monitor and reinforce the accuracy and performance of said coherence on an ongoing basis. The present invention takes advantage of the relationship between the breathing cycle and the natural heart rate variability cycle to bring heart rate variability to the desired state of coherence and the human subject to the resultant state of physiological and emotional harmony. It accomplishes this via conscious synchronization of the breathing cycle with the natural heart rate variability cycle. SUMMARY OF THE INVENTION As previously described, a relationship exists between the heartbeat rate specified in terms of heart rate variability, and the breathing cycle. While the heart has its own tendency toward a natural variable rhythm, there is a strong correlation with breathing according to this specific relationship: as inhalation occurs, there is a tendency for the heartbeat rate to increase, as exhalation occurs, there is a tendency for the heartbeat rate to decrease. It is important to note that the relationship between the natural heart rate variability cycle and the breathing cycle is indirect. This is to say that while the heart rate variability cycle/breathing cycle relationship exists, in untrained subjects, their alignment appears highly random. Consequently, these same subjects exhibit a highly incoherent heart rate variability pattern. As previously stated, maximal coherence of the heart rate variability is achieved when the cycle of breathing is synchronized with the natural heart variability cycle in time and amplitude. The most direct and effective manner of achieving this alignment is for the human subject to consciously align them via biofeedback, i.e., present the human subject with a biofeedback signal that indicates exactly when to inhale and exactly when to exhale such that the breathing cycle achieves exacting alignment with the natural heart rate variability cycle. The present invention achieves this by asserting a biofeedback signal to exhale just after the peak positive heartbeat rate has been reached and a biofeedback signal to inhale just after the peak negative heartbeat rate has been reached. Closely aligning the natural heart rate peaks with breathing peaks is critical to achieving an overall synchronization and resulting high degree of coherence of the heart rate variability pattern. For purposes of the present invention, we can consider the cycles of heart rate variability, the periodicity of increasing and decreasing of heartbeat rate, and the breathing cycle, the periodicity of inhalation and exhalation, to be two independent cycles as depicted in FIG. 1. The relative synchronization of these cycles can vary between 0 and 180 degrees. When these cycles are completely out of phase, heart rate variability is maximally incoherent, when these cycles are completely in phase heart rate variability is maximally coherent. The invention defines the system and method of the application of biofeedback for purposes of providing a human subject the ability to consciously control their inhalation and exhalation so as to achieve the desired coherence of heart rate variability. A present objective is to achieve maximal alignment. As this is an emerging field of inquiry, it is entirely likely that applications of value will be found for other alignments, for example maximal misalignment, 45 degree out of phase, etc. It is understood that these alternative alignments are also within the scope of the present invention. Because the heart rate variability signal of the untrained subject is typically highly erratic and synchrony of said signal may be difficult to detect, a specific instructive method employing other biofeedback devices and methods is specified. Via the application of this instructive method, the human subject is led to achieve a detectable level of synchrony of their heart rate variability signal. Once detected, the present invention can be readily used to achieve optimal alignment of the subject&#39;s breathing cycle with their natural heart rate variability cycle. BRIEF DESCRIPTION OF THE DRAWING FIGURES The accompanying drawing figures incorporated in and forming a part of this specification illustrate several aspects of the invention, and together with the description serve to explain the principles of the invention. FIG. 1 depicts the relative relationship between the natural heart rate cycle and breathing cycle. FIG. 2 depicts the natural heart rate cycle and breathing cycle moving from misalignment to alignment and resultant heart rate variability pattern. FIG. 3 depicts a primary example of the moment of biofeedback signal generation according to a preferred embodiment of the present invention. FIG. 4 depicts specific criterion for biofeedback signal generation associated with the primary example of the moment of biofeedback signal generation of FIG. 3. FIG. 5 depicts the physical system of the preferred embodiment of the present invention. FIG. 6 depicts the algorithm for the preferred embodiment of the present invention. DETAILED DESCRIPTION OF THE PREFERRED EMBODIMENTS The embodiments set forth below represent the necessary information to enable those skilled in the art to practice the invention and illustrate the best mode of practicing the invention. Upon reading the following description in light of the accompanying drawing figures, those skilled in the art will understand the concepts of the invention and will recognize applications of these concepts not particularly addressed herein. It should be understood that these concepts and applications fall within the scope of the disclosure and the accompanying claims. The present invention allows a human subject to achieve maximal regularity and coherence of heart rate variability by synchronizing the breathing cycle with the natural heart rate variability cycle. This is accomplished by providing a biofeedback signal in the form of an audible, visual, or sensory stimulus, to indicate when the subject should begin inhalation and a second signal to indicate when the subject should begin exhalation. These signals are unique so the subject is able to clearly distinguish the beginning of inhalation from the beginning of exhalation. With reference to FIG. 1 , the heart has its own nervous system and a tendency toward its own natural rhythm. FIG. 1 depicts the heart rate variability cycle, 101 , and the breathing cycle, 102. The positive peak of the heart rate variability cycle, 103 , indicates peak positive heart rate or the maximum number of heart beats per minute. For the purposes of discussion the peak positive rhythm is defined as 80 beat per minute (BPM). The negative peak of the heart rate variability cycle, 104 , indicates peak negative heart rate or the minimum number of heart beats per minute. For the purposes of discussion the peak positive rhythm is defined as 50 beat per minute (BPM). Let it be clear that 80 beats per minute as the positive peak and 50 beats per minute as the negative peak are merely used for purposes of example. The breath is under control of the human central nervous system and operates with a largely independent rhythm. Yet, there is a strong correlation between the breath cycle and the natural heart rate variability cycle as described prior. FIG. 2 depicts the breathing cycle 201 and the natural heart rate cycle 202 moving from misalignment to alignment and the resultant heart rate variability cycle 203 moving from incoherence 204 to coherence 205. The synchrony between the natural heart rate variability cycle and the cycle of breathing is highly variable ranging from being highly synchronous (in-phase) to being highly asynchronous (out of phase). This results in a highly periodic and coherent heart rate variability pattern 205 vs. a highly aperiodic and incoherent heart rate variability pattern 204 , respectively. A primary yet not limiting application of the present invention is to lead a human subject to the preferred state of highly periodic and coherent heart rate variability both in time and amplitude. FIG. 3 , depicts the natural heart rate cycle and the moments of biofeedback signal generation indicating exhalation 301 and inhalation 302. The desired state of highly periodic and coherent heart rate variability is brought about by aligning the cycle of breathing with the natural heart rate cycle. This is accomplished by monitoring the heart rate signal and providing biofeedback to the human subject so as to allow the subject to synchronize their inhalation and exhalation so as to be in phase with their heart rate pattern. This requires that the human subject begin inhaling as the natural heart rate signal begins increasing from its negative peak, and conversely, to begin exhaling as the natural heart rate begins decreasing from its positive peak. It should be noted that for purposes of biofeedback generation, the exact moment of alerting occurs slightly after the positive and negative peaks are reached. This will be explained in greater detail below. It must be further explained that while FIG. 3 depicts the primary application of the present invention, that being the maximal alignment of the heart rate variability cycle and the breathing cycle, all other alignments are also provided for and are within the scope of the present invention. FIG. 4 depicts the exacting means of identifying positive and negative heart rate peaks. With reference to FIG. 4 , in order to achieve maximal desired effect, it is necessary to achieve a very exacting timing. Here it is important to point out that via biofeedback, the human subject is trained to identify the subjective state and associated sensation that relates to maximal alignment. If the human subject begins either inhaling or exhaling just slightly before the natural heart rate begins to increase or decrease respectively, the periodicity and coherence of the resulting heart rate variability pattern is significantly degraded. This suboptimal coherence of heart rate variability can be consciously perceived by the practitioner. To address this matter of accuracy, in this example, the “exhale” biofeedback signal is generated just after the positive peak, in this case 80 beats per minute (BPM), when the signal drops to 79 beats per minute (BPM) 401. Likewise, the “inhale” biofeedback signal is generated just after the negative peak, in this case 50 beats per minute (BPM), when the signal increases to 51 beats per minute (BPM) 402. Because, in order to achieve the desired maximal effect this timing must be exacting, the present invention allows for the exact moment of biofeedback to be adjusted so that timing may be optimized on a personal basis. This would allow for slightly differing physiologies if such differences are found to exist. Programmability of biofeedback signal generation is also provided to accommodate other useful alignments of the natural heart rate cycle and breathing cycle should such useful alignments be found to exist. With reference to FIG. 5 , the primary physical system of the preferred embodiment of the present invention is quite simple consisting of a human subject 500 , a pulse sensor of adequate accuracy 502 , a pulse monitor of adequate accuracy 504 , a positive and negative peak rate detector 507 , a function for setting feedback criterion and comparing it 509 , and a function for generating feedback signals to the human subject 512. A detailed discussion of the physical system will now ensue. Human subject 500 is outfitted with a pulse sensor 502 of any adequately accurate variety, via connection 501. Sensor 502 and associated connection 501 may be of any adequately accurate type including electronic, pneumatic, acoustic, etc. The sensor may be any style of device such as a wristband, a finger cradle, an ear clip, etc. The only requirement is that it be able to accurately sense and transmit individual heart beat pulses to pulse monitor 504 via connection 503. Connection 503 may also be of any adequately performing type including electronic, pneumatic, acoustic, optical, radio frequency, etc. Pulse monitor 504 monitors real time rate and count. Heartbeat count is used as an alternative means of feedback for purposes of allowing the human subject to synchronize their breathing based on heartbeat count as opposed to a predetermined threshold. For example, instead of using the inhale/exhale signal as the basis of controlling the breathing cycle, a human subject may desire to count 1-2-3-4-5-6-begin exhaling-1-2-3-4-5-begin inhaling, etc. Pulse monitor 504 sends this information to positive and negative peak rate detector 507 via connector 505 and to feedback and criteria settings and comparator 509. Positive and negative peak rate detector 507 detects when peak pulse rate occurs, and signals to feedback criteria settings and comparator 509 via connector 508 that, a) peak pulse rate has occurred and b) the value of the peak pulse rate. Based on the receipt of the peak pulse rate signal via connector 508 , criteria settings and comparator 509 , begins comparing peak pulse rate vs. present pulse rate against previously established settings to determine the moment when the biofeedback signal associated with the positive peak or negative peak should be asserted to audible, visual, or sensory stimulus function 512 , via connectors 510 and 511 , 510 relating to positive peak and 511 relating to negative peak. Upon receipt of positive peak signal via connector 510 , audible, visual, or sensory stimulus generator 512 , generates a biofeedback signal to human subject 500 via positive peak connector 514 indicating exhale. Likewise, upon receipt of negative peak signal via connector 511 , audible, visual, or sensory stimulus generator 512 , generates a biofeedback signal to human subject 500 via negative peak connector 513 indicating “inhale”. This system applies to any adequately accurrate analog or digital method of sensing, measuring, decision making, and feedback generation. Programmability of biofeedback signal generation occurs on the basis of peak positive and peak negative heart beat rates and on the basis of peak positive and peak negative heart beat rates plus respective offsets. Programmable offsets are provided on the basis of the present heart beat rate as a percentage of the peak heart beat rate, on the basis of the present heart beat rate vs. peak heart beat rate, on the basis of the absolute number of heart beats since peak heart beat rate, and on the basis of individual heart beats. Unique programmability applies to positive negative peaks, that is, to exhalation and inhalation phases, respectively. With reference to FIG. 6 , for clarity, the algorithm of the preferred embodiment of the present invention shall now be discussed. The heartbeat rate of a human subject 600 is sensed via sensor 602 via connector 601. Sensor 602 detects the heartbeat rate and transmits its analog or digital equivalent with adequate accuracy to monitor 604 via connector 603. Monitor 604 derives the real time heartbeat rate, heartbeat count, and transmits its analog or digital equivalent to peak rate detector 607 and settings and comparator function 611 via connectors 605 and 606 respectively. Peak rate detector 607 determines the exact moment of peak rate by analyzing the present rate for maximum positive rate minus 1 heart beat per minute (BPM) and maximum negative rate plus 1 heart beat per minute (BPM) for positive and negative peaks respectively. At the moment of detection, peak rate detector 607 sends the rate 608 and a flag 609 to the settings and comparator function 612. Upon receipt of the flag 609 , the settings and comparator function 612 begins comparing manual settings 610 via 611 with the peak rate 608 vs. present rate 606. When the threshold is achieved, settings and comparator function 612 sends a positive peak threshold signal 613 or a negative peak threshold signal 614 to audible, visual, or sensory stimulus generator 615. This threshold is totally programmable and may be programmed in: a) number of heartbeats or, b) percent of peak rate. Upon receipt, audible, visual, or sensor stimulus generator 615 generates a signal to exhale 617 or signal to inhale 616 respectively. This programmability is provided for both positive and negative peaks. This is to say, that offsets associated with the positive peak and with beginning exhalation and offsets associated with the negative peak and with the beginning of inhalation are individually programmable. For example, the offset associated with the positive peak may be “zero” and the offset associated with the negative peak may be 10%. Instructive Method: Typically, the heart rate variability pattern of the untrained subject is highly irregular and may resemble random noise.\n",
            "Question : What are the key aspects of a topical drying composition containing encapsulated trehalose for sweat removal?,Data : INVENTION The present invention relates generally to topical drying compositions and is particularly related to topical drying compositions containing an effective amount of encapsulated trehalose. In one aspect, this inspection relates to a topical drying composition containing an effective amount of encapsulated trehalose for enhancing drying of the skin when it is applied to the skin of persons, such as athletes, after perspiration due to exercise such as playing tennis, golf, jogging, running, basketball, or other sweat-producing aerobic activities. In another aspect, the present invention relates to topical composition containing encapsulated trehalose and known aluminum compounds or aluminum-zirconium compounds. The invention also relates to a method of using such topical drying compositions. BACKGROUND OF THE INVENTION Trehalose is a known non-reducing disaccharide composed of D + glucose units. It is a white, odorless, sweet-tasting powder and, like maltose, is about 45% as sweet as sugar and has a very low hydroscopicity (moisture attraction). Trehalose is found in honey, bread, beer and seafood and there are several prior art patents relating to various uses of trehalose. For example, U.S. Pat. No. 4,839,164 discloses cosmetic compositions containing Trehalose which increase the penetration of certain therapeutically beneficial ingredients into the skin thereby enhancing the therapeutic effects of those ingredients on the skin. The trehalose is used in a pharmaceutically acceptable carrier and several trehalose-containing formulations are disclosed in said patent, such as shampoo formulations, hair-conditioning formulations, skin care gel formulations, lotions, and skin care creams. U.S. Pat. No. 5,543,513 discloses the use of anhydrous trehalose as a desiccant for dehydrating various products such as dehydrated food as well as dehydrated pharmaceuticals. High-quality food products having reduced moisture content can be prepared by incorporating anhydrous trehalose into food products having relatively high moisture content thereby converting the anhydrous trehalose into hydrous crystalline trehalose. U.S. Pat. No. 6,555,526 discloses an ophthalmic pharmaceutical composition comprising trehalose as the effective ingredient. As disclosed in said patent, there are three types of optical isomers of trehalose, i.e., ∝,∝-trehalose, ∝,β-trehalose and β,β-trehalose. All isomers exert therapeutic and/or prophylactic effect on signs of Sjorgen syndrome. U.S. Pat. No. 6,723,170 discloses a crystalline trehalose dihydrate with low hydroscopicity. Variety of uses are disclosed for the crystalline trehalose dihydrate, including its use as a sweetener, taste-improving agent, in feeds and pet foods for animals, in soaps, skin creams, body shampoos, hair creams, moisture-controlling agent and a host of other uses disclosed in said patent. Notwithstanding a variety of uses of trehalose disclosed in the prior art patents, none of them recognize the efficacy of trehalose for use in topical drying composition. In a commonly assigned, copending application Ser. No. 12/214,863 filed Jun. 24, 2008, there is described a topical drying composition containing an effective amount of trehalose, in hydrous or anhydrous form. The composition described therein, whether in aqueous solution form or a cream, when applied to the area of the skin which is vulnerable to perspiration, was effective in drying the perspiration resulting from aerobic or other vigorous sweat-producing exercises. The aforementioned copending application discloses several trehalose-containing formulations which are effective topical drying compositions. Neither of the prior art patents, nor the aforementioned patent application disclose the use of encapsulated trehalose in formulations used for topical drying compositions and sweat removal. Therefore, it is an object of the present invention to use encapsulated trehalose in topical drying compositions. It is a further object of the present invention to provide a more effective drying composition which includes encapsulated trehalose as the effective ingredient for sweat removal. It is another object of the present invention to provide a topical drying composition which contains encapsulated trehalose and known aluminum compounds used in lesser quantities than have heretofore been used in the prior art sweat removing drying compositions using only known aluminum compounds. It is also an object of the present invention to provide a method of using these compositions for topical drying and sweat removal. The foregoing and other objects and advantages of the present invention will be appreciated from the ensuing detailed description and the illustrative examples. SUMMARY OF THE INVENTION A topical drying composition is provided for removal of sweat from the skin in areas which are vulnerable to sweating after sweat producing exercises such as playing tennis, golf, running, basketball, etc. The composition of this invention comprises, as its effective component, encapsulated trehalose wherein trehalose particles are encapsulated in a suitable medium such as a solution of dimethicone 200. A suitable effective composition comprises the following ingredients: trehalose, dimethicone, distilled water, Carbopol Ultrex 10, tetra sodium ethylene diamine tetra acetic acid, sorbitan monolaurate, cocoa butter, polysorbate 20 (Tween 20), Germal II (antibacterial agent), hyamine, bovine collagen (2% acqueous), elastin 2% acqueous (natural) and 10% sodium hydroxide to a pH of 6.4. Another suitable composition which is effective for sweat removal includes aluminum zirconium compound which contains far less aluminum than has heretofore been used in prior art compositions. The drastic reduction in the amount of aluminum is due to the use of encapsulated trehalose in the composition. The application of an effective amount of composition containing encapsulated trehalose, with or without an aluminum compound, results in sweat removal from the skin. Volunteers applying an effective amount of the composition of this invention have experienced far less sweating after strenuous, normally sweat producing exercises. DETAILED DESCRIPTION OF THE INVENTION In accordance with this invention more effective sweat removal can be realized by using a composition which contains encapsulated trehalose as hereinafter described. The application of the composition of this invention to the sweating area of the skin effects removal of the sweat or perspiration in a controlled and longer acting manner due to controlled rate of release of trehalose. In the following description, the invention will be described and its effectiveness will be shown by several examples which are intended to be illustrative but without limiting the invention. In order to prepare a composition which is useful for the purpose of this invention, the encapsulated trehalose is first prepared separately as described below, wherein all parts are by weight. An aqueous alginate solution of 1% by weight concentration is prepared by dissolving 0.25 sodium alginate in 25 grams distilled water. Thereafter, 25 grams of trehalose (obtained from Sigma Aldrich, St. Louis, Mo.) was added to the sodium alginate solution and dissolved at 45° C. to form a 50% concentrated trehalose in the alginate solutions (solution A). Thereafter an aqueous calcium chloride solution was prepared by dissolving 0.5 gm of calcium chloride in 50 gms distilled water to form 1% weight solution (solution B). 25 grams of this calcium chloride solution was subjected to high shear mixing, at 1000 rpm, using a rotator type homogenizer (Fisher Powergen 125, Fisher Scientific, Pittsburgh, Pa.). 50 grams of solution A was added to solution B under the same high shear agitation to form a finely divided dispersed slurry of gelled particles of trehalose/calcium alginate in a continuous aqueous phase. 75 grams of this aqueous slurry is slowly added to 50 grams of silicone fluid, DC200, having a viscosity of 100 centistokes (Dow Corning, Midland, Mich.) under the same high shear agitation to form water-in-oil dispersion. The formation of the dispersion was facilitated by adding 3 grams of sorbitan monooleate (Cogni, Cincinnati, Ohio) into the silicone fluid prior to addition of the aqueous compound. The resulting dispersion was further dispersed in water and encapsulated as follows. An aqueous solution of sodium carboxymethylcellulose CMC, Akucell AF 1703 (Akzo Nobel, Netherlands) was prepared by dissolving 0.2 gm of CMC in 106.8 grams of distilled water. To this CMC solution was added 2.5 grams of Tween 20, polyoxyethylene 20 sorbitan monolaurate (Croda, Edison, N.J.) and 2.5 grams of sorbitan monooleate and the solution was stirred in a magnetic stirrer at 500 rpm. Thereafter, the entire 128 gms of the trehalose/alginate/silicone dispersion is added to the CMC solution to form a dispersion of silicone phase wherein droplets of silicone oil contain dispersed particles of trehalose/alginate. The resulting trehalose encapsulated composition is as follows: Component Weight (g) Weight % Sodium Alginate 1% soln 25.0 10.00% Trehalose 25.0 10.00% Calcium Chloride 1% soln 25.0 10.00% Dimethicone 200 50.0 20.00% Span 80 5.5 2.20% Sodium carboxymethylcellulose 0.2 0.08% Tween 20 2.5 1.00% Cetrimonium chloride 1% soln 10.0 4.00% Water 106.8 42.72% Total 250 100.00 Independently from preparation of the encapsulated trehalose, the following mixture was prepared and mixed with encapsulated trehalose. 450 grams of distilled water was charged to a reaction vessel equipped with a stirrer, at room temperature and combined pressure and 3.4 gram of Ultrex 10, a polyacrylic acid thickener, available from B.F. Goodrich Co., was added to the reaction vessel and mixed thoroughly with the water. Thereafter, 2 grams of tetra sodium ethylene diamine tetra acetic acid was added to the reaction vessel with continuous agitation. The result was a gel which was heated to 50° C. Another mixture was also prepared containing 38 gm sorbitan monolaureate and 11.4 grams of polysorbate 20 and 31 grams cocoa butter, and the mixture heated to 50° C. with continuous agitation. The above two mixtures were then combined slowly forming a creamy homogenous mixture and cooled to room temperature. The creamy mixture had the following composition: Ingredients Weight gm Weight % Distilled water 450 84 Carbapol Ultrex 10 (1) 3.4 0.63 Tetra Sodium (DETA) 2.0.37 Cocoa butter 31 5.78 Sorbitan monolaurate 38 7.09 Polysorbate 20 (Tween 20) 11.4 2.13 TOTAL WEIGHT 535.8 100.00 (1) carboxy polymethylene The encapsulated composition which was formed as previously described was the then mixed with the above creamy composition. The final encapsulated formula has the following composition. Ingredients Weight % Trehalose 3.30 Dimethicone 6.60 Distilled water 79.36 Carbopol Ultrex 10.20 Tetra sodium ethylene diamine tetra acetic acid.13 Sorbitan monolaurate 2.50 Cocoa butter 2.00 Polysorbate 20 (Tween 20).76 Germal II (antibacterial agent).15 Hyamine 2.10 Bovine collagen 2% aqueous 2.00 Elastin 2% acqueous (natural) 1.00 10% sodium hydroxide to a pH of 6.4 TOTAL 100 Clinical Test The encapsulated formula hereinbefore described was tested for its sweat removal efficacy. Three males and three female volunteers were tested. The ages and weight of the males and females are listed below. All subjects cleaned their armpits thoroughly and then applied the composition as a cream to both armpits using their finger tips. Each volunteer was given six-one gram sample and instructed to apply the cream to the armpit and report the degree of sweating and odor after exercise. Males Females 1. Age 25, weight 165 lbs. 1. Age 24, weight 110 lbs. 2. Age 42, weight 185 lbs. 2. Age 35, weight 125 lbs. 3. Age 51, weight 250 lbs. 3. Age 50, weight 150 lbs. Results in Males 1. No sweating or odor was reported by volunteer #1 after 2 hours of weight lifting followed by 15 minutes in a sauna 2. Insignificant sweating was observed after running for 5 miles in 70° F. weather. 3. Minimal sweating and odor were reported by volunteer #3 after three hours outdoors in hot, humid weather (85° F.). Results in Females 1. Minimal sweating but some odor was reported after running 3 miles on a treadmill. 2. Some sweating was reported with no odor after performing strenuous aerobic exercise for 45 minutes. Minimal sweating and odor on second day. 3. No sweating was observed after working from 9:00 A.M. to 5:00 PM, and no tackiness reported. In another embodiment of this invention aluminum may be added to the encapsulated formulation hereinbefore described. The aluminum is added as aluminum compound or aluminum-zirconium compound such as, for example, aluminum chlorohydrate, aluminum chlorohydrex polyethylene glycol, aluminum chlorohydrex propylene glycol, aluminum dichlorohydrate, aluminum dichlorohydrex polyethylene glycol, aluminum dichlorohydrex propylene glycol, aluminum sesquichlorohydrate, aluminum sesquichlorohydrex polyethylene glycol, aluminum sesquichlorohydrex propylene glycol, aluminum zirconium octachlorohydrate, aluminum zirconium otachlorohydrex gly, aluminum zirconium pentachlorohydrate, aluminum zirconium pentachlorohydrex gly, aluminum zirconium tetrachlorohydrate, aluminum zirconium tetrachlorohydrex gly, aluminum zirconium trichlorohydrate, aluminum zirconium trichlorohydrex gly, buffered aluminum sulfate, potassium aluminum, sodium aluminum, chlorohydroxy lactate aluminum sesquichlorohydrates, sodium aluminum lactate, or mixtures thereof. The use of small amounts of aluminum in the composition of this invention reduces the required quantity of trehalose without adversely affecting the sweat removal efficacy of the composition. The following examples describe the preparation of such aluminum-containing compositions, these examples are intended to be illustrative without limiting the invention. The aluminum compound used in these examples was pharmaceutical grade aluminum zirconium tetrachlorohydrox gly. EXAMPLE 1 2.8 grams of the aluminum compound and 0.7 gm of hyamine were dissolved in distilled water and the solution was then combined with 121 gins of the encapsulated composition previously described, forming a homogenous cream. 20 percent sodium hydroxide solution was then added to the mixture to achieve a pH of 6.4. The resulting composition is set forth below: Ingredients Wt. gm Wt. % Microencapsulated composition 121.0 89.90 Aluminum compound 2.8 2.08 Distilled water 10.0 7.50 Hyamine 1.7 0.52 20% solution NaOH to pH 6.4 134.5 100.00 The aluminum compound used in this example as well as in examples 2-5 was aluminum zirconian tetrachlorohydroxy gly having aluminum to zirconium ratio of about 3.40 to 3.80. Following the same procedure in Example 1, four additional formulations were prepared having the following compositions: EXAMPLE 2 Ingredients Wt. gm Wt. % Microencapsulated composition 100 82.64 Aluminum compound 4.6 3.80 Distilled water 14.2 11.75 Hyamine 2.21 1.81 20% solution NaOH to pH 6.4 121 100.00 EXAMPLE 3 Ingredients Wt. gm Wt. % Microencapsulated composition 87.5 74.21 Aluminum compound 3.5 2.96 Distilled water 10 8.49 Hyamine 0.9.77 Trehalose hydrous sigma corp 16.0 13.57 20% solution NaOH to pH 6.4 117.9 100.00 EXAMPLE 4 Ingredients Wt. gm Wt. % Microencapsulated composition 88 85.93 Aluminum compound 3.5 3.41 Distilled water 10 9.76 Hyamine 0.5.90 20% solution NaOH to pH 6.4 102 100.00 EXAMPLE 5 Ingredients Wt. gm Wt. % Microencapsulated composition 121 89.83 Aluminum compound 2.8 2.08 Distilled water 10 7.42 Hyamine.9.67 20% solution NaOH to pH 6.4 134.7 100.00 The foregoing compositions were tested clinically for their anti-sweating efficacy and the results are discussed below. All volunteers were instructed not to use antiperspirants, deodorants or bath salts for (48) hours prior to the test. They were also instructed to wash their body clean by shower or bath. Each was instructed to apply by hand a generous amount of the composition to the normally sweaty skin area. Results for example 1: Three male volunteers ages 25, 36 and 40 applied the compositions to each axilla of their armpit and to their forehead before exercising. After jogging for three miles each reported minimal sweating. A second test was performed on these volunteers the next day in a sauna maintained at 100° F. and 60% humidity, for 15 minutes. At the end of the tests their entire body was covered with sweat but their armpits were dry. Results of example 2: Four volunteers, three males, ages 29, 33 and 35 and one female age 35 were tested. The three males jogged for three miles and the female jogged for one mile. All had applied a generous amount of the composition to their underarms. No sweating was reported by any of the volunteers. Clinical tests were also conducted on other volunteers using the compositions of the other examples with substantially the same results confirming either no sweating or minimal amount of sweating when applying the compositions to the normally sweaty area after exercise. In the foregoing detailed description and the illustrative examples, the ingredients of the composition of this invention have been described with a certain degree to specificity, both as to the type of ingredients as well as the quantity of each ingredients. It is to be understood, however that the amount of said ingredient may vary within effective range, and the other known equivalent ingredients may be substituted for those specifically mentioned. Thus, when no aluminum compound is used, the amounts of the different ingredients can vary as set forth below, all percentages being on weight basis. Trehalose about 2 to about 4% Dimethicone about 1 to about 8% Ultrex 10 about 1 to about 3% Tetra sodium EDTA about 1 to about 2% Sorbitan monolaurate about 2 to about 3% Cocoa butter about 1.2 to about 2.5% Polysorbate 20 about 0.6 to about 0.9% Germal about 0.1 to about 3% Hyamine about 1 to about 3% Bovine Collagen 2% aqueous about 1 to about 3% Elastin 2% aqueous about 0.5 to about 4% Distilled water sufficient to 100% Add 10% to NaOH solution to pH of about 6-7, preferably about 6.4 When using aluminum-zirconium compound in the composition, the amount of this compound may vary from about 1 to about 4 weight percent of the composition. As it was previously mentioned the encapsulated trehalose is formed separately and thereafter mixed with the remaining ingredients. Instead of sodium alginate, other soluble salts of alginate may be used such as, e.g., potassium or amonium alginate. Also, instead of calcium chloride, other water soluble calcium salts can be used. Other ingredients of the composition may vary. For example, instead of sorbitan monolaurate be substituted by sorbitan monopalmitate, sorbitan monostearate, sorbitan tristearate, sorbitan monooleate, sorbitan sesquioleate, sorbitan trioleate; cocoa butter may be substituted by cocoa powder, olive oil, beeswax, having aloe; bovine collagen may be substituted by marine collagen or ATP (adenine triphosphate, disodium EDTA and trisodium EDTA may be used in lieu of tetra sodium EDTA; and the following may be substituted for carbopol ultrex 10 thickener; non benzene carbopol polymer such as carbopol 5984 and ultrex 10 NF polymers, carbopol 974P NF polymer, carbopol 980 NF and ultrex 10 NF polymers, carbopol 71G NF, 971P NF and 981 NF polymers, pemulen TR-1 and TR-2 NF polymers or benzene grade carbopol polymers such as carbopol 934 NF polymer, carbopol 934P NF polymer, carbopol 940 NF polymer, carbopol 941 NF polymer, carbopol 1342 NF polymer. Substitution of different ingredients for those specified in the foregoing composition are generally known to those skilled in the art from the detailed description.\n",
            "Question : What are the properties and applications of encapsulated trehalose in topical drying compositions for athletic use?,Data : INVENTION The present invention relates generally to topical drying compositions and is particularly related to topical drying compositions containing an effective amount of encapsulated trehalose. In one aspect, this inspection relates to a topical drying composition containing an effective amount of encapsulated trehalose for enhancing drying of the skin when it is applied to the skin of persons, such as athletes, after perspiration due to exercise such as playing tennis, golf, jogging, running, basketball, or other sweat-producing aerobic activities. In another aspect, the present invention relates to topical composition containing encapsulated trehalose and known aluminum compounds or aluminum-zirconium compounds. The invention also relates to a method of using such topical drying compositions. BACKGROUND OF THE INVENTION Trehalose is a known non-reducing disaccharide composed of D + glucose units. It is a white, odorless, sweet-tasting powder and, like maltose, is about 45% as sweet as sugar and has a very low hydroscopicity (moisture attraction). Trehalose is found in honey, bread, beer and seafood and there are several prior art patents relating to various uses of trehalose. For example, U.S. Pat. No. 4,839,164 discloses cosmetic compositions containing Trehalose which increase the penetration of certain therapeutically beneficial ingredients into the skin thereby enhancing the therapeutic effects of those ingredients on the skin. The trehalose is used in a pharmaceutically acceptable carrier and several trehalose-containing formulations are disclosed in said patent, such as shampoo formulations, hair-conditioning formulations, skin care gel formulations, lotions, and skin care creams. U.S. Pat. No. 5,543,513 discloses the use of anhydrous trehalose as a desiccant for dehydrating various products such as dehydrated food as well as dehydrated pharmaceuticals. High-quality food products having reduced moisture content can be prepared by incorporating anhydrous trehalose into food products having relatively high moisture content thereby converting the anhydrous trehalose into hydrous crystalline trehalose. U.S. Pat. No. 6,555,526 discloses an ophthalmic pharmaceutical composition comprising trehalose as the effective ingredient. As disclosed in said patent, there are three types of optical isomers of trehalose, i.e., ∝,∝-trehalose, ∝,β-trehalose and β,β-trehalose. All isomers exert therapeutic and/or prophylactic effect on signs of Sjorgen syndrome. U.S. Pat. No. 6,723,170 discloses a crystalline trehalose dihydrate with low hydroscopicity. Variety of uses are disclosed for the crystalline trehalose dihydrate, including its use as a sweetener, taste-improving agent, in feeds and pet foods for animals, in soaps, skin creams, body shampoos, hair creams, moisture-controlling agent and a host of other uses disclosed in said patent. Notwithstanding a variety of uses of trehalose disclosed in the prior art patents, none of them recognize the efficacy of trehalose for use in topical drying composition. In a commonly assigned, copending application Ser. No. 12/214,863 filed Jun. 24, 2008, there is described a topical drying composition containing an effective amount of trehalose, in hydrous or anhydrous form. The composition described therein, whether in aqueous solution form or a cream, when applied to the area of the skin which is vulnerable to perspiration, was effective in drying the perspiration resulting from aerobic or other vigorous sweat-producing exercises. The aforementioned copending application discloses several trehalose-containing formulations which are effective topical drying compositions. Neither of the prior art patents, nor the aforementioned patent application disclose the use of encapsulated trehalose in formulations used for topical drying compositions and sweat removal. Therefore, it is an object of the present invention to use encapsulated trehalose in topical drying compositions. It is a further object of the present invention to provide a more effective drying composition which includes encapsulated trehalose as the effective ingredient for sweat removal. It is another object of the present invention to provide a topical drying composition which contains encapsulated trehalose and known aluminum compounds used in lesser quantities than have heretofore been used in the prior art sweat removing drying compositions using only known aluminum compounds. It is also an object of the present invention to provide a method of using these compositions for topical drying and sweat removal. The foregoing and other objects and advantages of the present invention will be appreciated from the ensuing detailed description and the illustrative examples. SUMMARY OF THE INVENTION A topical drying composition is provided for removal of sweat from the skin in areas which are vulnerable to sweating after sweat producing exercises such as playing tennis, golf, running, basketball, etc. The composition of this invention comprises, as its effective component, encapsulated trehalose wherein trehalose particles are encapsulated in a suitable medium such as a solution of dimethicone 200. A suitable effective composition comprises the following ingredients: trehalose, dimethicone, distilled water, Carbopol Ultrex 10, tetra sodium ethylene diamine tetra acetic acid, sorbitan monolaurate, cocoa butter, polysorbate 20 (Tween 20), Germal II (antibacterial agent), hyamine, bovine collagen (2% acqueous), elastin 2% acqueous (natural) and 10% sodium hydroxide to a pH of 6.4. Another suitable composition which is effective for sweat removal includes aluminum zirconium compound which contains far less aluminum than has heretofore been used in prior art compositions. The drastic reduction in the amount of aluminum is due to the use of encapsulated trehalose in the composition. The application of an effective amount of composition containing encapsulated trehalose, with or without an aluminum compound, results in sweat removal from the skin. Volunteers applying an effective amount of the composition of this invention have experienced far less sweating after strenuous, normally sweat producing exercises. DETAILED DESCRIPTION OF THE INVENTION In accordance with this invention more effective sweat removal can be realized by using a composition which contains encapsulated trehalose as hereinafter described. The application of the composition of this invention to the sweating area of the skin effects removal of the sweat or perspiration in a controlled and longer acting manner due to controlled rate of release of trehalose. In the following description, the invention will be described and its effectiveness will be shown by several examples which are intended to be illustrative but without limiting the invention. In order to prepare a composition which is useful for the purpose of this invention, the encapsulated trehalose is first prepared separately as described below, wherein all parts are by weight. An aqueous alginate solution of 1% by weight concentration is prepared by dissolving 0.25 sodium alginate in 25 grams distilled water. Thereafter, 25 grams of trehalose (obtained from Sigma Aldrich, St. Louis, Mo.) was added to the sodium alginate solution and dissolved at 45° C. to form a 50% concentrated trehalose in the alginate solutions (solution A). Thereafter an aqueous calcium chloride solution was prepared by dissolving 0.5 gm of calcium chloride in 50 gms distilled water to form 1% weight solution (solution B). 25 grams of this calcium chloride solution was subjected to high shear mixing, at 1000 rpm, using a rotator type homogenizer (Fisher Powergen 125, Fisher Scientific, Pittsburgh, Pa.). 50 grams of solution A was added to solution B under the same high shear agitation to form a finely divided dispersed slurry of gelled particles of trehalose/calcium alginate in a continuous aqueous phase. 75 grams of this aqueous slurry is slowly added to 50 grams of silicone fluid, DC200, having a viscosity of 100 centistokes (Dow Corning, Midland, Mich.) under the same high shear agitation to form water-in-oil dispersion. The formation of the dispersion was facilitated by adding 3 grams of sorbitan monooleate (Cogni, Cincinnati, Ohio) into the silicone fluid prior to addition of the aqueous compound. The resulting dispersion was further dispersed in water and encapsulated as follows. An aqueous solution of sodium carboxymethylcellulose CMC, Akucell AF 1703 (Akzo Nobel, Netherlands) was prepared by dissolving 0.2 gm of CMC in 106.8 grams of distilled water. To this CMC solution was added 2.5 grams of Tween 20, polyoxyethylene 20 sorbitan monolaurate (Croda, Edison, N.J.) and 2.5 grams of sorbitan monooleate and the solution was stirred in a magnetic stirrer at 500 rpm. Thereafter, the entire 128 gms of the trehalose/alginate/silicone dispersion is added to the CMC solution to form a dispersion of silicone phase wherein droplets of silicone oil contain dispersed particles of trehalose/alginate. The resulting trehalose encapsulated composition is as follows: Component Weight (g) Weight % Sodium Alginate 1% soln 25.0 10.00% Trehalose 25.0 10.00% Calcium Chloride 1% soln 25.0 10.00% Dimethicone 200 50.0 20.00% Span 80 5.5 2.20% Sodium carboxymethylcellulose 0.2 0.08% Tween 20 2.5 1.00% Cetrimonium chloride 1% soln 10.0 4.00% Water 106.8 42.72% Total 250 100.00 Independently from preparation of the encapsulated trehalose, the following mixture was prepared and mixed with encapsulated trehalose. 450 grams of distilled water was charged to a reaction vessel equipped with a stirrer, at room temperature and combined pressure and 3.4 gram of Ultrex 10, a polyacrylic acid thickener, available from B.F. Goodrich Co., was added to the reaction vessel and mixed thoroughly with the water. Thereafter, 2 grams of tetra sodium ethylene diamine tetra acetic acid was added to the reaction vessel with continuous agitation. The result was a gel which was heated to 50° C. Another mixture was also prepared containing 38 gm sorbitan monolaureate and 11.4 grams of polysorbate 20 and 31 grams cocoa butter, and the mixture heated to 50° C. with continuous agitation. The above two mixtures were then combined slowly forming a creamy homogenous mixture and cooled to room temperature. The creamy mixture had the following composition: Ingredients Weight gm Weight % Distilled water 450 84 Carbapol Ultrex 10 (1) 3.4 0.63 Tetra Sodium (DETA) 2.0.37 Cocoa butter 31 5.78 Sorbitan monolaurate 38 7.09 Polysorbate 20 (Tween 20) 11.4 2.13 TOTAL WEIGHT 535.8 100.00 (1) carboxy polymethylene The encapsulated composition which was formed as previously described was the then mixed with the above creamy composition. The final encapsulated formula has the following composition. Ingredients Weight % Trehalose 3.30 Dimethicone 6.60 Distilled water 79.36 Carbopol Ultrex 10.20 Tetra sodium ethylene diamine tetra acetic acid.13 Sorbitan monolaurate 2.50 Cocoa butter 2.00 Polysorbate 20 (Tween 20).76 Germal II (antibacterial agent).15 Hyamine 2.10 Bovine collagen 2% aqueous 2.00 Elastin 2% acqueous (natural) 1.00 10% sodium hydroxide to a pH of 6.4 TOTAL 100 Clinical Test The encapsulated formula hereinbefore described was tested for its sweat removal efficacy. Three males and three female volunteers were tested. The ages and weight of the males and females are listed below. All subjects cleaned their armpits thoroughly and then applied the composition as a cream to both armpits using their finger tips. Each volunteer was given six-one gram sample and instructed to apply the cream to the armpit and report the degree of sweating and odor after exercise. Males Females 1. Age 25, weight 165 lbs. 1. Age 24, weight 110 lbs. 2. Age 42, weight 185 lbs. 2. Age 35, weight 125 lbs. 3. Age 51, weight 250 lbs. 3. Age 50, weight 150 lbs. Results in Males 1. No sweating or odor was reported by volunteer #1 after 2 hours of weight lifting followed by 15 minutes in a sauna 2. Insignificant sweating was observed after running for 5 miles in 70° F. weather. 3. Minimal sweating and odor were reported by volunteer #3 after three hours outdoors in hot, humid weather (85° F.). Results in Females 1. Minimal sweating but some odor was reported after running 3 miles on a treadmill. 2. Some sweating was reported with no odor after performing strenuous aerobic exercise for 45 minutes. Minimal sweating and odor on second day. 3. No sweating was observed after working from 9:00 A.M. to 5:00 PM, and no tackiness reported. In another embodiment of this invention aluminum may be added to the encapsulated formulation hereinbefore described. The aluminum is added as aluminum compound or aluminum-zirconium compound such as, for example, aluminum chlorohydrate, aluminum chlorohydrex polyethylene glycol, aluminum chlorohydrex propylene glycol, aluminum dichlorohydrate, aluminum dichlorohydrex polyethylene glycol, aluminum dichlorohydrex propylene glycol, aluminum sesquichlorohydrate, aluminum sesquichlorohydrex polyethylene glycol, aluminum sesquichlorohydrex propylene glycol, aluminum zirconium octachlorohydrate, aluminum zirconium otachlorohydrex gly, aluminum zirconium pentachlorohydrate, aluminum zirconium pentachlorohydrex gly, aluminum zirconium tetrachlorohydrate, aluminum zirconium tetrachlorohydrex gly, aluminum zirconium trichlorohydrate, aluminum zirconium trichlorohydrex gly, buffered aluminum sulfate, potassium aluminum, sodium aluminum, chlorohydroxy lactate aluminum sesquichlorohydrates, sodium aluminum lactate, or mixtures thereof. The use of small amounts of aluminum in the composition of this invention reduces the required quantity of trehalose without adversely affecting the sweat removal efficacy of the composition. The following examples describe the preparation of such aluminum-containing compositions, these examples are intended to be illustrative without limiting the invention. The aluminum compound used in these examples was pharmaceutical grade aluminum zirconium tetrachlorohydrox gly. EXAMPLE 1 2.8 grams of the aluminum compound and 0.7 gm of hyamine were dissolved in distilled water and the solution was then combined with 121 gins of the encapsulated composition previously described, forming a homogenous cream. 20 percent sodium hydroxide solution was then added to the mixture to achieve a pH of 6.4. The resulting composition is set forth below: Ingredients Wt. gm Wt. % Microencapsulated composition 121.0 89.90 Aluminum compound 2.8 2.08 Distilled water 10.0 7.50 Hyamine 1.7 0.52 20% solution NaOH to pH 6.4 134.5 100.00 The aluminum compound used in this example as well as in examples 2-5 was aluminum zirconian tetrachlorohydroxy gly having aluminum to zirconium ratio of about 3.40 to 3.80. Following the same procedure in Example 1, four additional formulations were prepared having the following compositions: EXAMPLE 2 Ingredients Wt. gm Wt. % Microencapsulated composition 100 82.64 Aluminum compound 4.6 3.80 Distilled water 14.2 11.75 Hyamine 2.21 1.81 20% solution NaOH to pH 6.4 121 100.00 EXAMPLE 3 Ingredients Wt. gm Wt. % Microencapsulated composition 87.5 74.21 Aluminum compound 3.5 2.96 Distilled water 10 8.49 Hyamine 0.9.77 Trehalose hydrous sigma corp 16.0 13.57 20% solution NaOH to pH 6.4 117.9 100.00 EXAMPLE 4 Ingredients Wt. gm Wt. % Microencapsulated composition 88 85.93 Aluminum compound 3.5 3.41 Distilled water 10 9.76 Hyamine 0.5.90 20% solution NaOH to pH 6.4 102 100.00 EXAMPLE 5 Ingredients Wt. gm Wt. % Microencapsulated composition 121 89.83 Aluminum compound 2.8 2.08 Distilled water 10 7.42 Hyamine.9.67 20% solution NaOH to pH 6.4 134.7 100.00 The foregoing compositions were tested clinically for their anti-sweating efficacy and the results are discussed below. All volunteers were instructed not to use antiperspirants, deodorants or bath salts for (48) hours prior to the test. They were also instructed to wash their body clean by shower or bath. Each was instructed to apply by hand a generous amount of the composition to the normally sweaty skin area. Results for example 1: Three male volunteers ages 25, 36 and 40 applied the compositions to each axilla of their armpit and to their forehead before exercising. After jogging for three miles each reported minimal sweating. A second test was performed on these volunteers the next day in a sauna maintained at 100° F. and 60% humidity, for 15 minutes. At the end of the tests their entire body was covered with sweat but their armpits were dry. Results of example 2: Four volunteers, three males, ages 29, 33 and 35 and one female age 35 were tested. The three males jogged for three miles and the female jogged for one mile. All had applied a generous amount of the composition to their underarms. No sweating was reported by any of the volunteers. Clinical tests were also conducted on other volunteers using the compositions of the other examples with substantially the same results confirming either no sweating or minimal amount of sweating when applying the compositions to the normally sweaty area after exercise. In the foregoing detailed description and the illustrative examples, the ingredients of the composition of this invention have been described with a certain degree to specificity, both as to the type of ingredients as well as the quantity of each ingredients. It is to be understood, however that the amount of said ingredient may vary within effective range, and the other known equivalent ingredients may be substituted for those specifically mentioned. Thus, when no aluminum compound is used, the amounts of the different ingredients can vary as set forth below, all percentages being on weight basis. Trehalose about 2 to about 4% Dimethicone about 1 to about 8% Ultrex 10 about 1 to about 3% Tetra sodium EDTA about 1 to about 2% Sorbitan monolaurate about 2 to about 3% Cocoa butter about 1.2 to about 2.5% Polysorbate 20 about 0.6 to about 0.9% Germal about 0.1 to about 3% Hyamine about 1 to about 3% Bovine Collagen 2% aqueous about 1 to about 3% Elastin 2% aqueous about 0.5 to about 4% Distilled water sufficient to 100% Add 10% to NaOH solution to pH of about 6-7, preferably about 6.4 When using aluminum-zirconium compound in the composition, the amount of this compound may vary from about 1 to about 4 weight percent of the composition. As it was previously mentioned the encapsulated trehalose is formed separately and thereafter mixed with the remaining ingredients. Instead of sodium alginate, other soluble salts of alginate may be used such as, e.g., potassium or amonium alginate. Also, instead of calcium chloride, other water soluble calcium salts can be used. Other ingredients of the composition may vary. For example, instead of sorbitan monolaurate be substituted by sorbitan monopalmitate, sorbitan monostearate, sorbitan tristearate, sorbitan monooleate, sorbitan sesquioleate, sorbitan trioleate; cocoa butter may be substituted by cocoa powder, olive oil, beeswax, having aloe; bovine collagen may be substituted by marine collagen or ATP (adenine triphosphate, disodium EDTA and trisodium EDTA may be used in lieu of tetra sodium EDTA; and the following may be substituted for carbopol ultrex 10 thickener; non benzene carbopol polymer such as carbopol 5984 and ultrex 10 NF polymers, carbopol 974P NF polymer, carbopol 980 NF and ultrex 10 NF polymers, carbopol 71G NF, 971P NF and 981 NF polymers, pemulen TR-1 and TR-2 NF polymers or benzene grade carbopol polymers such as carbopol 934 NF polymer, carbopol 934P NF polymer, carbopol 940 NF polymer, carbopol 941 NF polymer, carbopol 1342 NF polymer. Substitution of different ingredients for those specified in the foregoing composition are generally known to those skilled in the art from the detailed description.\n",
            "Question : What features does the geared cam expandable spinal implant include to reduce undesirable effects during expansion within patient's disc space?,Data : INVENTION [0001] The present invention relates to a spinal implant, and a method for implanting the implant in a patient&#39;s disc space between two adjacent vertebral bodies. More particularly, the present invention relates to an expandable spinal implant including geared cams, configured to expand within the patient&#39;s disc space, from a collapsed position to an expanded position. DESCRIPTION OF THE RELATED ART [0002] Expandable spinal implants are known. Existing expandable spinal implants use conventional “4-bar” and “crank slider” expansion mechanisms. Following insertion, while in the collapsed position, into a surgically-enhanced disc space, the existing expandable spinal implants are expanded. The existing expandable implants have been known at least to (1) apply an undesirable excessive initial expansion force to the disc space, (2) apply an irregular expansion force to the disc space, (3) occasionally inadvertently back out of the disc space, and (4) lack a reliable capability for fine adjustment. Existing expandable implants also lack different configurations at the distal tip of the implant, which often could be advantageous, e.g., to ensure engagement between the distal tip and the adjacent vertebral bodies. SUMMARY OF THE INVENTION [0003] It is an object of the present invention to provide an expandable spinal implant which obviates one or more of the shortcomings of the related art. [0004] It is another object of the present invention to provide an expandable spinal implant for insertion into a patient&#39;s disc space between an upper vertebral body and a lower vertebral body. The implant has a proximal end and a distal end defining a mid-longitudinal axis therebetween, and is expandable between a collapsed position, a partially-expanded position, and a fully-expanded position. [0005] The implant includes an upper endplate. The upper endplate has a proximal end, a distal end, an outer surface, first and second side surfaces, and an inner surface. A portion of the inner surface includes an upper rack portion. The upper rack portion includes downwardly-projecting teeth intermediate the proximal end and the distal end of the upper endplate, and at least one distal-most downwardly-projecting tooth proximate the distal end of the upper endplate. The implant further includes a lower endplate. The lower endplate has a proximal end, a distal end, an outer surface, first and second side surfaces, and an inner surface. A portion of the inner surface includes a lower rack portion. The lower rack portion includes upwardly-projecting teeth intermediate the proximal end and the distal end of the lower endplate, and at least one distal-most upwardly-projecting tooth proximate the distal end of the lower endplate. The proximal end of the lower endplate is pivotally connected to the proximal end of the upper endplate. [0006] A chassis portion is mounted within the implant between the upper endplate and the lower endplate. The chassis portion has a proximal end and a distal end. The proximal end has an opening defined therein. [0007] A yoke is movably mounted within the chassis portion. The yoke has a proximal end and a distal end. The yoke is defined by first and second parallel spaced-apart walls extending from the proximal end to the distal end. A distal cross-piece, transverse to the longitudinal axis, connects the distal ends of the first and second walls of the yoke. [0008] A rotating portion is rotatably mounted within the chassis portion. The rotating portion has a proximal end and a distal end. The distal end is configured to contact the distal cross-piece of the yoke. The proximal end has an opening defined therein, configured to receive a distal end of an implant expansion tool. [0009] At least one first spur gear is rotatably mounted on a distal end of one of the first and second walls of the yoke. The at least one first spur gear has teeth configured to engage the downwardly-projecting teeth of the upper rack portion. At least one second spur gear is rotatably mounted on a distal end of one of the first and second walls of the yoke. The at least one second spur gear has teeth configured to engage the upwardly-projecting teeth of the lower rack portion. [0010] The rotating portion is configured to translate rotational motion thereof to linear motion of the yoke. The yoke translates the linear motion to rotation of the spur gears with respect to the yoke, causing the spur gears to walk along the upper rack gear teeth and lower rack gear teeth, respectively, toward the distal end of the implant, thereby moving the implant through the partially-expanded position. When the spur gear teeth abut against the distal-most teeth, respectively of the upper rack or the lower rack, the implant has reached the fully-expanded position. [0011] One or more spikes are pivotally mounted in pockets within the implant. The linear motion of the yoke pushes distal ends of the spikes into contact with ramped surfaces defined in openings in the upper and lower endplates. Contact with the ramped surfaces causes the one or more spikes to pivot to fully-deployed positions, with distal edges of the one or more spikes engaging the upper and lower vertebral bodies. This engagement between the distal edges of the one or more spikes, and the upper and lower vertebral bodies prevents the implant, in the fully-expanded position, from inadvertently backing out of the disc space. [0012] First and second flaps are attached to the respective first and second side surfaces of the upper endplate and the lower endplate. The flaps can be made of porous, semi-porous, or solid materials, depending on the application. When the implant is in the collapsed position, the flaps can either be stretched tight between the respective side surfaces, or hang loosely between the respective side surfaces. When the implant is fully expanded, the flaps are stretched tight between the respective side surfaces, functioning as a barrier to prevent bone graft material from leaking out of the sides of the fully expanded implant. [0013] It is a further object of the present invention to provide a method of implanting the expandable spinal implant described above into a patient&#39;s disc space between an upper vertebral body and a lower vertebral body. The method includes inserting the implant into a surgically-prepared disc space, in the collapsed position, using an implant insertion tool, rotating the rotating portion, defining a rotational motion, translating the rotational motion of the rotating portion into a linear motion of the yoke toward the distal end of the implant, rotating the spur gears with respect to the yoke, thereby walking the spur gears along the projecting teeth of the respective upper and lower racks, and expanding the implant through the partially-expanded position to the fully-expanded position. The linear motion of the yoke also translates into pivotal motion of the one or more spikes mounted in the implant. The one or more spikes pivot from a collapsed position in the implant to a fully-deployed position with distal ends in engagement with upper and lower vertebral bodies adjacent the disc space. The fully-deployed spikes, in engagement with the upper and lower vertebral bodies, prevent the fully-expanded implant from backing out of the disc space. The insertion tool includes an outer hollow shaft, an inner hollow shaft configured to pass through the outer shaft, and an elongated driver configured to pass through the inner hollow shaft. The elongated driver has a blunt distal end configured to contact a portion of the implant. Application of a movement to the elongated driver is transferred to the implant, forcing the implant into the disc space. After removal of the elongated driver, bone growth material can be routed through the inner shaft and into the implant. The one or more fully-deployed spikes, in engagement with the upper and lower vertebral bodies, prevent the fully-expanded implant from inadvertently backing out of the disc space. [0014] These and other objects of the present invention will be apparent from review of the following specification and the accompanying drawings. BRIEF DESCRIPTION OF THE DRAWINGS [0015] FIG. 1 is an upper perspective view of a geared cam expandable spinal implant in accordance with the invention, in a collapsed position; [0016] FIG. 2 is an upper perspective view of a geared cam expandable spinal implant in accordance with the invention, in a partially expanded position; [0017] FIG. 3 is an upper perspective view of a geared cam expandable spinal implant in accordance with the invention, in a partially expanded position; [0018] FIG. 4 is an upper perspective view of a geared cam expandable spinal implant in accordance with the invention, in a fully expanded position; [0019] FIG. 5 is an upper perspective view of a geared cam expandable spinal implant in accordance with the invention, in a fully expanded position; [0020] FIG. 6 is an exploded parts view of a geared cam expandable spinal implant in accordance with the invention; [0021] FIG. 7 is an upper perspective view of a lower endplate, chassis portion, yoke, rotating portion, and spur gears, of a geared cam expandable spinal implant in accordance with the invention; [0022] FIG. 8 is a cross-sectional side view of a geared cam expandable spinal implant in accordance with the invention, in a collapsed position; [0023] FIG. 9 is a cross-sectional side view of a geared cam expandable spinal implant in accordance with the invention, in a fully-expanded position; [0024] FIGS. 10-16 are side schematic views of a multi-stage expansion mechanism used in one preferred embodiment of a geared cam expandable spinal implant in accordance with the invention; [0025] FIG. 17 is an upper perspective view of a geared cam expandable spinal implant in accordance with the invention, in a collapsed position; [0026] FIG. 18 is an upper perspective view of a geared cam expandable spinal implant in accordance with the invention, in a fully open position; [0027] FIG. 19 is an upper perspective view of a geared cam expandable spinal implant in accordance with the invention, in a partially expanded position; [0028] FIG. 20 is an upper perspective view of a geared cam expandable spinal implant in accordance with the invention, in a fully expanded position; [0029] FIG. 21 is a side cross-sectional view of a geared cam expandable spinal implant in accordance with the invention, in a partially expanded position; [0030] FIG. 22 is a side cross-sectional view of a geared cam expandable spinal implant in accordance with the invention, in a fully expanded position; [0031] FIG. 23 is an upper perspective view of another embodiment of a geared cam expandable spinal implant in accordance with the invention, in a collapsed position; [0032] FIG. 24 is an upper perspective view of the embodiment of FIG. 23 , in a fully expanded position; [0033] FIG. 25 is an exploded parts view of a geared cam expandable implant in accordance with the invention; [0034] FIG. 26 is a side cross-sectional view of a geared cam expandable spinal implant in accordance with the invention, in a collapsed position; [0035] FIG. 27 is a side cross-sectional view of a geared cam expandable spinal implant in accordance with the invention in a fully expanded position; [0036] FIGS. 28 and 29 are rear views of a geared cam expandable spinal implant in accordance with the invention; [0037] FIG. 30 is a side cross-sectional view of a geared cam expandable spinal implant in accordance with the invention in a collapsed position; [0038] FIG. 31 is a side cross-sectional view of a geared cam expandable spinal implant in accordance with the invention in a fully expanded position; [0039] FIGS. 32-34 are side schematic views of a spur gear and rack in a one-stage expansion mechanism; [0040] FIG. 35 is an upper perspective view of a geared cam expandable spinal implant in accordance with the invention in a collapsed position; [0041] FIG. 36 is an upper perspective view of a geared cam expandable spinal implant in accordance with the invention in a fully expanded position; [0042] FIG. 37 is an upper perspective view of a geared cam expandable spinal implant in accordance with the invention in a fully expanded position; [0043] FIG. 38 is an upper perspective cross-sectional view of an implant insertion tool in accordance with the invention connected to a geared cam expandable spinal implant in accordance with the invention; [0044] FIG. 39 is an upper perspective view of an implant insertion tool in accordance with the invention connected to a geared cam expandable spinal implant in accordance with the invention, depicting insertion of the implant into a disc space; [0045] FIG. 40 is an upper perspective cross-sectional view of an implant insertion tool in accordance with the invention connected to a geared cam expandable spinal implant in accordance with the invention; [0046] FIG. 41 is an upper perspective cross-sectional view of a geared cam expandable implant attached to an implant insertion tool in accordance with the invention; [0047] FIG. 42 is an upper perspective cross sectional view of a geared cam expandable implant in accordance with the invention being inserted into a disc space by an implant insertion tool in accordance with the invention; [0048] FIG. 43 is an upper perspective cross sectional view of a geared cam expandable implant in accordance with the invention being inserted into a disc space by an implant insertion tool in accordance with the invention; [0049] FIG. 44 is an upper perspective cross sectional view of a geared cam expandable implant inserted into the disc space, following removal of the implant insertion tool; [0050] FIG. 45 is an upper perspective view of a geared cam expandable implant in accordance with the invention being supported by a lower vertebral body; [0051] FIG. 46 is an upper perspective view depicting points of attachment between a geared cam expandable implant in accordance with the invention, and an implant insertion tool in accordance with the invention. [0052] FIG. 47 is a side cross-sectional view of a geared cam expandable spinal implant in accordance with the invention; [0053] FIG. 48 is a side cross-sectional view of a geared cam expandable spinal implant in accordance with the invention; [0054] FIG. 49 is a partial upper perspective view depicting a lower endplate, chassis, yoke, lower spur gear, and cylinder with circumferential ratchet teeth; [0055] FIG. 50 is a perspective view of a geared cam expandable implant in accordance with the invention, including deployable spikes, pivotally attached to the implant, in a fully-expanded position; [0056] FIG. 51 is a perspective view depicting a chassis portion, a yoke, a rotating portion, spur gears, and deployable spikes pivotally attached to the yoke, of a geared cam expandable implant in accordance with the invention; [0057] FIG. 52 is a side view of a geared cam expandable implant in accordance with the invention, including deployable spikes, pivotally attached to the implant, in a collapsed position; [0058] FIG. 53 is a side view of a geared cam expandable implant in accordance with the invention, including deployable spikes, pivotally attached to the implant in a partially expanded position; [0059] FIG. 54 is a side view of a geared cam expandable implant in accordance with the invention, including deployable spikes, pivotally attached to the implant, in a fully expanded position; [0060] FIG. 55 is a side view of a geared cam expandable implant in accordance with the invention, including deployable spikes, pivotally attached to the implant, and including apertures defined through internal parts, in a fully expanded position; [0061] FIG. 56 is a side view of a geared cam expandable implant in accordance with the invention, in a collapsed position, including deployable spikes, pivotally attached to the implant, and including lateral openings to allow flow of bone graft material out of sides of the implant, and further including a planar portion in the upper endplate to distribute load forces, in a fully expanded position; [0062] FIG. 57 is a front view of a geared cam expandable implant in accordance with the invention, including flaps attached to sides of the implant, in a closed position; [0063] FIG. 58 is an upper view of a geared cam expandable implant in accordance with the invention, including flaps attached to sides of the implant, in a closed position; [0064] FIG. 59 is a side view of a geared cam expandable implant in accordance with the invention, including flaps attached to sides of the implant, in a closed position; [0065] FIG. 60 is a side cross-sectional view of a geared cam expandable implant in accordance with the invention, in a collapsed position, with a bone graft insertion apparatus connected to a proximal end of the implant; [0066] FIG. 61 is a side cross-sectional view of a geared cam expandable implant in accordance with the invention, in a fully expanded position, with a bone graft insertion apparatus connected to a proximal end of the implant; and [0067] FIG. 62 is a side cross-sectional view of a geared cam expandable implant in accordance with the invention, in a fully expanded position, with a bone graft insertion apparatus connected to a proximal end of the implant, and a graft insertion tube filled with bone graft material provided within the bone graft insertion apparatus. DETAILED DESCRIPTION OF THE PREFERRED EMBODIMENTS [0068] A geared cam expandable spinal implant 10 is configured to be inserted in a surgically-enhanced disc space between an upper vertebral body and an adjacent lower vertebral body. The implant 10 includes a proximal end 12 and a distal end 14 , defining a mid-longitudinal axis L-L therebetween. [0069] In one embodiment, the implant 10 includes an upper endplate 16. As depicted in FIGS. 6, 8, and 9 , the upper endplate 16 includes a proximal end 18 , a distal end 20 , side surfaces 22 , and an inner surface 24. The inner surface 24 includes an upper rack portion 26 , which includes downwardly-projecting teeth 28 , and a distal-most downwardly-projecting tooth 29. [0070] In one embodiment, the implant 10 includes a lower endplate 30. The lower endplate 30 includes a proximal end 32 , a distal end 34 , side surfaces 36 , and an inner surface 38.\n",
            "Question : What innovations does the tube unit of the present invention provide in the medical device field for connecting internal and external equipment?,Data : INVENTION [0001] 1. Field of the Invention [0002] The present invention relates to a tube unit for connecting equipment (hereafter referred to as the “internal equipment”) that is implanted in a living body and equipment (hereafter referred to as the “external equipment”) that is located outside the living body. The present invention also relates to a tub unit that is used to connect a blood pump and a controller that controls the blood pump. The present invention further relates to an artificial internal organ system and a blood pump system that include such a tube unit. [0003] 2. Background Art [0004] Internal equipment and external equipment are conventionally connected by tubes and cables that are separately provided between the internal equipment and the external equipment. When this method is used, an excessive bending or pulling at the connecting parts of the tubes or cables due to the application of an external force can cause deformation in the tubes and can cause the cables to break. This creates problems with the connections between the internal equipment and the external equipment, which affect the functioning of the internal equipment. When tubes and cables are used to connect an artificial internal organ, each of such tubes and cables contact the tissue of the living body. As a result, each tube and cable needs to be made using a biocompatible material. Also, when a tube suffers deformation or a cable breaks, there is the further problem of the risk of life-threatening injury. [0005] However, to overcome the problems described above, a tube unit that encloses the tubes and cables in another tube has not yet been developed. Such a tube unit can protect the tubes from deformation and the cables from breakages due to the application of an external force, and so can stop problems occurring for the connections between the internal equipment and the external equipment. Also yet to be developed is a tube unit where only an outer tube enclosing the tubes and cables is made using a biocompatible material, thereby making the tube unit compact and limiting the effect of the connections on a living body. [0006] The present invention was conceived to overcome the problems described above, and has an object of providing a compact tube unit where tubes and cables for connecting internal equipment and external equipment are collectively enclosed in a separate tube so as to avoid deformations of the tubes and breakages in the cables due to the application of an external force, the separate tube being produced using a biocompatible material so as to lessen the effects of the tube unit on a living body and the tube unit stopping the movement of the living body and external forces from affecting the living body or the functioning of the internal equipment. SUMMARY OF THE INVENTION [0007] The tube unit of the present invention is used for connecting internal equipment and external equipment, and includes an inner tube which lets liquid flow between the internal equipment and the external equipment, a cable including an electric wire connected to the internal equipment, and an outer tube which accommodates the inner tube and the cable. [0008] For the tube unit of the present invention, the expression “internal equipment” can refer to a part of equipment, such as an artificial internal organ that can take the place of an internal organ of a living body or an artificial assist device that can assist the functioning of an internal organ of a living body, that is implanted in a living body, or equipment that is implanted in a living body by medical treatment. The expression “external equipment” can refer to equipment, out of equipment that is used as artificial internal organs, an artificial assist device, or equipment used in medical treatment, that is placed outside of a living body. [0009] With the tube unit of the present invention, the inner tube and the cable are enclosed within an outer tube, so that the inner tube and the cable are not directly stretched or bent due to movements of the living body or the application of an external force. This protects the inner tube from deformation and the cable from breakages. [0010] For the tube unit of the present invention, it is especially preferable for the outer tube to be made of a biocompatible material. It is also preferable for a biocompatible material to be used for the inner tube. [0011] When the tube unit of the present invention is used with internal equipment such as an artificial internal organ, it is not necessary to use a biocompatible material for at least the cable. Also, with the tube unit of the present invention, only one entry point into the living body is required, thereby lessening the influence on the living body. [0012] With the tube unit of the present invention, the cable that is enclosed in the outer tube can include a power cable for driving the internal equipment or a cable that can transmit a signal for controlling the internal equipment and/or a signal that has been detected by the internal equipment. [0013] With the tube unit of the present invention, the inner tube enclosed in the outer tube can be a tube for supplying medication to an affected part, a tube for supplying the internal equipment with a lubricant and/or coolant that is/are required for proper operation of the internal equipment, a tube for circulating blood, or a tube for circulating air, or the like. [0014] With the tube unit of the present invention, more than one cable and more than one inner tube may be enclosed in the outer tube. Even when a plurality of cables and inner tubes are used, there is still only one entry point into the living body, which lessens the influence of such cables and inner tubes on the living body. [0015] For the tube unit of the present invention, the inner tube can form a closed channel through which a liquid can flow. As a result, the circulation of a coolant for the internal equipment or the circulation of a lubricant can be performed efficiently. [0016] A wire to prevent elongation of the inner tube and the cable may also be enclosed on the inside of the tube unit of the present invention. When this construction is used, elongation of the inner tube and the cable is prevented by the wire, so that deformation of the inner tube and breakages of the cable can be effectively prevented. [0017] The tube unit of the present invention may also include caps that are respectively attached to an outside of an engaging part where one end of the outer tube engages a socket for the internal equipment and to an outside of an engaging part where another end of the outer tube engages a socket for the external equipment. When this construction is used, the parts where the outer tube engages each socket are protected by the caps, so that problems, such as the outer tube being pulled off due to movement of the body or the application of an external force, can be avoided. [0018] The tube unit of the present invention may also include protective tubes that engage the caps, are formed of an elastic material, and are attached to an outside of the outer tube. When this construction is used, the protective tubes protect the outer tube against extreme bending, so that the movement of the body or the application of an external force can be prevented from affecting the inner tubes and the cable inside the outer tube. [0019] The outer tube of the present invention is preferably used for connecting the internal equipment and external equipment in an artificial internal organ system including internal equipment implanted in a living body and external equipment located outside the living body. [0020] The expression “artificial internal organ system” here refers to equipment such as an artificial internal organ or artificial assist device, (e.g., a blood pump provided inside a living body to assist the functioning of the heart), a driving apparatus for driving the artificial internal organ or artificial assist device, a cooling apparatus for suppressing heat generated by the driving apparatus, a control apparatus for controlling the operation of the other apparatuses, a filter apparatus for removing impurities and the like from blood that is circulating, a monitor apparatus for monitoring the operating states of the other apparatuses, a warning apparatus for reporting abnormalities when they occur, and a communication apparatus for informing a doctor or a hospital). By collectively enclosing the tubes and cables for connecting these apparatuses in a single tube unit, a large decrease in the effect on a living body of such tubes and cables can be achieved. [0021] Another tube unit according to the present invention is a tube unit used for connecting a blood pump and a controller for controlling the blood pump, including an inner tube for circulating a liquid between the blood pump and the controller, a cable including an electric wire connected to the blood pump, and an outer tube which accommodates the inner tube and the cable. [0022] With this other tube unit of the present invention, the inner tube and cables are protected against elongation and bending due to movement of the living body or the application of an external force, thereby preventing deformation of the inner tube and breakages of the cable. [0023] For this other tube unit of the present invention, it is especially preferable for the outer tube to be made of a biocompatible material. It is also preferable for a biocompatible material to be used for the inner tube. However, with the other tube unit of the present invention, it is not necessary to use a biocompatible material for at least the cable, making the tube unit economical. [0024] With this other tube unit of the present invention, the inner tube and the cable are enclosed in the outer tube, so that only one entry point into the living body is required. This lessens the influence of tube and the cable on the living body. [0025] With this other tube unit of the present invention, more than one cable and more than one inner tube may be enclosed in the outer tube. Even when a plurality of cables and inner tubes are used, there is still only one entry point into the living body, which lessens the influence of such cables and inner tubes on the living body. [0026] It is preferable for this other tube unit of the present invention to include two inner tubes. When two inner tubes are included, there is a definite potential for circulating a liquid between the blood pump and the controller. [0027] With this other tube unit of the present invention, it is preferable for the liquid circulated by the inner tube to be one of water, a disinfectant, and a physiological saline solution. These liquids can function as a coolant for a motor unit in the blood pump, a lubricant for sliding parts, and as a sealant for forming a seal between the blood pump unit and the motor unit. By circulating such liquid between the blood pump and the controller, even if blood seeps into the motor, such blood is diluted by the circulating liquid, making it possible to effectively prevent the motor from stopping due to the coagulation of blood. By filtering the liquid, blood constituents can be removed, making the prevention of the motor stopping even more effective. Circulating a liquid is also effective in dissipating the heat produced in the blood pump. [0028] With this other tube unit of the present invention, it is preferable for the inner tube to be made of polycarbonate urethane, silicone, or polytetrafluoroethylene. Also, with the tube unit of the present invention, it is also preferable for the inner tube to be one of a double-layer tube that has polyvinylidene fluoride on an inside and thermoplastic polyurethane on an outside and a double-layer tube that has polyvinylidene fluoride on an inside and polycarbonate urethane on an outside. When the inner tube is formed using such highly biocompatible materials, even if the circulating liquid is expelled from the blood pump into the living body or if blood or another bodily fluid becomes mixed with the circulating liquid, the occurrence of a thrombus or coagulation of blood can be effectively avoided. [0029] With this other tube unit of the present invention, the electric wire may be one of an electric wire for driving the blood pump and a electric wire for transmitting a signal for controlling the blood pump and/or a signal detected at the blood pump. [0030] With this other tube unit of the present invention, it is preferable for the outer tube to be made of a biocompatible material, with polycarbonate urethane being especially preferable. [0031] With this other tube unit of the present invention, it is preferable for the surface of the outer tube to be subjected to a flocking process. When the surface has been flocked, it becomes easy for the living body and the tube unit to adhere to one another, which is effective in preventing infections from occurring by stopping bacteria from getting between the living body and the outer tube. This also makes it difficult for the tube unit to be pulled out of the living body. Here, the expression “flocking process” refers to covering the outside of the outer tube with flocking (for example, polyester fabric (cloth)). [0032] With this other tube unit of the present invention, it is preferable for the inside of the outer tube to be filled with silicone gel. By doing so, liquid that is circulating in the inner tube and has passed through the material of the inner tube can be effectively prevented from evaporating and dispersing. [0033] The blood pump system of the present invention includes a blood pump, a controller for controlling the blood pump, and the other tube unit described above. [0034] As a result the blood pump system of the present invention has the effects of the blood pump described above, making it a superior blood pump system. BRIEF DESCRIPTION OF THE DRAWINGS [0035] [0035]FIG. 1 shows the appearance of a tube unit according to a first embodiment of the present invention. [0036] [0036]FIG. 2A is a partial cross-sectional view of the internal equipment-end of a tube unit according to the first embodiment of the present invention and FIG. 2B shows a cross-section taken along the line A-A. [0037] [0037]FIG. 3A is a partial cross-sectional view of the external equipment-end of a tube unit according to the first embodiment of the present invention and FIG. 3B shows a cross-section taken along the line B-B. [0038] [0038]FIG. 4 shows the appearance of a blood pump system according to a second embodiment of the present invention. [0039] [0039]FIG. 5 is a cross-sectional figure showing a tube unit according to a second embodiment of the present invention. [0040] [0040]FIG. 6 is a cross-sectional figure showing another tube unit according to a second embodiment of the present invention. DESCRIPTION OF THE PREFERRED EMBODIMENTS [0041] First Embodiment [0042] [0042]FIG. 1 shows the appearance of a tube unit according to a first embodiment of the present invention. As shown in FIG. 1, a tube unit 1 includes an outer tube 5 that internally encloses a plurality of inner tubes, a power cable and a wire (that are not shown in the drawing), an internal equipment-end socket 6 that holds the outer tube 5 , a external equipment-end socket (not shown in the drawings), caps 8 that are attached to an outside of the outer tube 5 at positions where the outer tube 5 engages the respective sockets, protective tubes 9 that engage the caps 8 , are attached to the outside of the outer tube 5 and are made of an elastic material, an internal equipment-end connecting member 10 that engages the socket 6 and connects the tube unit 1 to internal equipment 20 , and external equipment 21 that connects to an external equipment-end connecting member that engages the socket that is not shown in the drawings. [0043] [0043]FIG. 2A is a partial cross-sectional view of the internal equipment end of a tube unit according to the first embodiment of the present invention and FIG. 2B shows a cross-section taken along the line A-A. In FIG. 2A and FIG. 2B component 1 is a tube unit, components 2 are a plurality of inner tubes for allowing a liquid to flow between the internal equipment and the external equipment, component 3 is a power cable for supplying electrical power to the internal equipment, component 4 is a wire for preventing elongation of the plurality of inner tubes 2 and the power cable 3 , component 5 is an outer tube for collectively enclosing the plurality of inner tubes 2 , the power cable 3 , and the wire 4 , component 6 is an internal equipment-end socket for engaging the end of the wire 4 , for holding the plurality of inner tubes 2 and the power cable 3 , and engaging the outer tube 5 , component 8 is a cap that is attached to an outside of the outer tube 5 at a part where the socket 6 engages the outer tube 5 , component 9 is a protective tube that engages the cap 8 , is attached to the outside of the outer tube 5 , and is made of an elastic material, component 10 is a connecting member that engages the plurality of inner tubes 2 and the power cable 3 and is attached to the socket 6 , and component 20 is the internal equipment that is connected to the connecting member 10. [0044] [0044]FIG. 3A is a partial cross-sectional view of the external equipment end of a tube unit according to the first embodiment of the present invention and FIG. 3B shows a cross-section taken along the line B-B.\n",
            "Question : What are the novel features of the improved fluid delivery device that accommodates both basal and bolus delivery of medicaments?,Data : INVENTION 1. Field of the Invention The present invention relates generally to fluid delivery devices. More particularly, the invention concerns an improved fluid delivery apparatus for precise delivery over time of medicinal liquids to an ambulatory patient, the device including a bolus injection site for bolus delivery of medicinal liquids as from time to time may be required. 2. Discussion of the Invention A number of different types of liquid dispensers for dispensing medicaments to ambulatory patients have been suggested. Many of the devices seek either to improve or to replace the traditional hypodermic syringe which has been the standard for delivery of liquid medicaments such as insulin solution. Those patients that require frequent injections of the same or different amounts of medicament, find the use of the hypodermic syringe both inconvenient and unpleasant. Further, for each injection, it is necessary to first draw the injection dose into the syringe, then check the dose and, after making certain that all air has been expelled from the syringe, finally, inject the dose. This cumbersome and tedious procedure creates an unacceptable probability of debilitating complications, particularly for the elderly and the infirm. One example of the urgent need for an improved liquid delivery device for ambulatory patients can be found in the stringent therapeutic regimens used by insulin-dependent diabetics. The therapeutic objective for diabetics is to consistently maintain blood glucose levels within a normal range much as the normally functioning pancreas would do by secreting a very low level of extremely fast-acting insulin at a basal rate into the blood stream throughout the day and night. Consider the normal individual who doesn&#39;t have diabetes. A normal individual&#39;s cells require energy throughout the day just to maintain a basal metabolic rate. This energy is supplied to the cells by glucose that is transported from the bloodstream to the cells by insulin. When food is consumed, the blood glucose level rises and the pancreas responds by releasing a surge of fast-acting insulin. To mimic this natural process with individual injections, the individual would have to administer minuscule amounts of fast-acting insulin every few minutes throughout the day and night. Conventional therapy usually involves injecting, separately, or in combination, fast-acting and slower-acting insulin by syringe several times a day, often coinciding with meals. The dose must be calculated based on glucose levels present in the blood. Slower-acting insulin is usually administered in the morning and evening to take advantage of longer periods of lower level glucose uptake. Fast-acting insulin is usually injected prior to meals. If the dosage of fast-acting insulin is off, the bolus administered may lead to acute levels of either glucose or insulin resulting in complications, including unconsciousness or coma. Over time, high concentrations of glucose in the blood can also lead to a variety of chronic health problems, such as vision loss, kidney failure, heart disease, nerve damage, and amputations. A recently completed study sponsored by the National Institutes of Health (NIH) investigated the effects of different therapeutic regimens on the health outcomes of insulin-dependent diabetics. This study revealed some distinct advantages in the adoption of certain therapeutic regimens. Intensive therapy that involved intensive blood glucose monitoring and more frequent administration of insulin by conventional means, for example, syringes, throughout the day saw dramatic decreases in the incidence of debilitating complications. The NIH study also raises the question of practicality and patient adherence to an intensive therapy regimen. A bona fide improvement in insulin therapy management must focus on the facilitation of patient comfort and convenience as well as dosage and administration schemes. Basal rate delivery of insulin by means of a convenient and reliable delivery device over an extended period of time represents one means of improving insulin management. Basal rate delivery involves the delivery of very small volumes of fluid (for example, 0.3-3 mL. depending on body mass) over comparatively long periods of time (18-24) hours). As will be appreciated from the discussion which follows, the apparatus of the present invention is uniquely suited to provide precise fluid delivery management at a low cost in those cases where a variety of precise dosage schemes are of utmost importance. An additional important feature of the apparatus of the present invention is the provision of a bolus injection site which permits, in addition to the basal rate, a bolus delivery of medication on an as-needed basis. For example, if the apparatus is being used for basal delivery of insulin over an extended period of time, should a bolus delivery of medication be required to manage an anticipated increase in blood sugar, such a bolus delivery can be quickly and easily accomplished using the device&#39;s bolus injection site and eliminates the need for a direct subdermal injection at an alternate site on the individual&#39;s body. With regard to the prior art, one of the most versatile and unique fluid delivery apparatus developed in recent years is that developed by one of the present inventors and described in U.S. Pat. No. 5,205,820. The component of this novel fluid delivery apparatus generally include: a base assembly, an elastomeric membrane serving as a stored energy means, fluid flow channels for filling and delivery, flow control means, a cover, and an ullage which comprises a part of the base assembly. The ullage in these devices is provided in the form of a semi-rigid structure having flow channels leading from the top of the structure through the base to inlet or outlet ports of the device. Since the inventions described herein represent improvements over those described in U.S. Pat. No. 5,205,820, this patent is hereby incorporated by reference as though fully set forth herein. In the rigid ullage configuration described in U.S. Pat. No. 5,205,820, the stored energy means of the device must be superimposed over the ullage to form the fluid-containing reservoir from which fluids are expelled at a controlled rate by the elastomeric membrane of the stored energy means tending to return to a less distended configuration in the direction toward the ullage. With these constructions, the stored energy membrane is typically used at higher extensions over a significantly large portion of the pressure-deformation curve. For good performance, the elastomeric membrane materials selected for construction of the stored energy membrane must have good memory characteristics under conditions of extension; low stress relaxation; good resistance to chemical and radiological degradation; and appropriate gas permeation characteristics depending upon the end application to be made of the device. Once an elastomeric membrane material is chosen that will optimally meet the desired performance requirements, there still remain certain limitations to the level of refinement of the delivery tolerances that can be achieved using the rigid ullage configuration. These result primarily from the inability of the rigid ullage to conform to the changing geometry of the elastomeric membrane near the end of the delivery period. This nonconformity can lead to extended delivery rate tail-off and higher residual problems when extremely accurate delivery is required. For example, when larger volumes of fluid are to be delivered, the tail-off volume represents a smaller portion of the fluid amount delivered and therefore exhibits must less effect on the total fluid delivery profile, but in very small dosages, the tail-off volume becomes a larger portion of the total volume. This sometimes places severe physical limits on the range of delivery profiles that may easily be accommodated using the rigid ullage configuration. An additional penalty inherent in rigid ullage construction is the high Z axis height of the ullage that will be required to maintain acceptable flow tail off delivery requirements. As will be better appreciated from the discussion which follows, the apparatus of the present invention provides a unique and novel improvement for a disposable dispenser of simple but highly reliable construction that may be adapted to many applications of use. A particularly important aspect of the improved apparatus is the incorporation of conformable ullages made of yieldable materials which uniquely conform to the continuously changing geometry of the stored energy membrane during the delivery cycle. This novel construction will satisfy even the most stringent delivery tolerance requirements and elegantly overcomes the limitation of materials selection. Another useful liquid delivery device is that described in U.S. Pat. No. 5,226,896 issued to Harris. This device comprises a multidose syringe having the same general appearance as a pen or mechanical pencil. the device is specifically adapted to provide for multiple measured injections of materials such as insulin or human growth hormones. Still another type of liquid delivery device is disclosed in U.S. Pat. No. 4,592,745 issued to Rex et al. This device is, in principle, constructed as a hypodermic syringe, but differs in that it enables dispensing of a predetermined portion from the available medicine and in that it dispenses very accurate doses. The present invention seeks to significantly improve over the prior art by providing a novel fluid delivery device having one or more fluid reservoirs, which is low in profile, is compact, is easy to use by ambulatory patients, and is eminently capable of meeting the most stringent of fluid delivery tolerance requirements. Additionally, the device provides novel means for accomplishing immediate bolus delivery of medication on an as-needed basis. SUMMARY OF THE INVENTION It is an object of the present invention to provide an apparatus having a self-contained stored energy membrane for expelling fluids at a precisely controlled rate which is of a compact, extremely low profile, laminate construction. More particularly, it is an object of the invention to provide such an apparatus which is of very low profile so that it can conveniently be used for the precise delivery of pharmaceutical fluids, such as insulin solution and the like, into an ambulatory patient at controlled rates over extended periods of time. It is another object of the invention to provide an apparatus of the aforementioned character which is highly reliable and easy-to-use by lay persons in a non-hospital environment. It is another object of the invention to provide an apparatus as described in the preceding paragraphs which, can be used for both basal and bolus delivery of fluids. In this regard, the apparatus includes a novel and unique bolus injection site which can be used to deliver bolus doses of medication as may be required. Another object of the invention is to provide an apparatus which embodies a conformable mass which defines an ullage within the reservoir of the device which will closely conform to the shape of the stored energy membrane thereby effectively avoiding extended flow delivery rate tail-off at the end of the fluid delivery period and thus precisely controls the time of delivery. A further object of the invention is to provide a low profile, fluid delivery device of laminate construction which can meet even the most stringent basal fluid delivery tolerance requirements and at the same time permit bolus delivery of medicaments to the patient as may be required. Another object of the invention is to provide an apparatus of the character described which, due to its unique construction, can be manufactured inexpensively in large volume by automated machinery. Other objects of the invention are set forth in U.S. Pat. No. 5,205,820 which is incorporated herein by reference and still further objects will become apparent from the discussion which follows. BRIEF DESCRIPTION OF THE DRAWINGS FIG. 1 is a generally perspective, exploded view of one embodiment of the liquid delivery device of the present invention showing an ancillary syringe type device usable for bolus delivery of liquid medication via the bolus injection site of the device. FIG. 2 is a top plan view of the invention shown in FIG. 1 partly broken away to show internal construction. FIG. 3 is a cross-sectional view taken along lines 3--3 FIG. 2. FIG. 4 is an enlarged cross-sectional view taken along lines 4--4 of FIG. 2. FIG. 5 is a greatly enlarged, cross-sectional view taken along lines 5--5 of FIG. 2. FIG. 6 is an enlarged, cross-sectional view taken along lines 6--6 of FIG. 2. FIG. 7 is a greatly enlarged, fragmentary view of the liquid delivery port of the device and of the locking tabs for lockably interconnecting a quick connect delivery fitting with the base of the device. FIG. 8 is a generally perspective, exploded, view of the liquid delivery port of the device and of an infusion set usable with the device. FIG. 9 is a cross-sectional view of the quick connect delivery fitting shown in FIG. 8. FIG. 9A is an end view of the quick connect fitting shown in FIG. 9. FIG. 10 is a greatly enlarged cross-sectional view of the area designated as 10 in FIG. 3. FIG. 10A is a generally perspective, illustrative view showing one manner of filling the fluid reservoir of the device. FIG. 10B is a generally perspective, illustrative view showing the device of the invention attached to the patient and showing the patient engage in injecting a bolus dose of liquid medication. FIG. 11 is a generally perspective, exploded view of an alternate embodiment of the invention. FIG. 12 is a top view of the embodiment shown in FIG. 11 partly broken away to show internal construction. FIG. 13 is a side elevational, partly cross-sectional view taken along lines 13--13 of FIG. 12. FIG. 14 is a cross-sectional view taken along lines 14--14 of FIG. 13. FIG. 15 is a greatly enlarged, fragmentary, cross-sectional view of a portion of the base and cover of the device illustrating the manner in which the distendable membrane and the barrier membrane of the device are sealably clamped between the base and cover. FIG. 16 is a fragmentary, cross-sectional view of the flow control assembly of the device which is positioned within the base. FIG. 17 is an enlarged, generally perspective view of the flow control assembly shown in FIG. 16. FIG. 18 is a front view of yet another form of the fluid delivery device of the invention partly broken away to shown internal construction. FIG. 19 is a top view of the embodiment shown in FIG. 18 partly broken away to show internal construction. FIG. 20 is a cross-sectional view taken along lines 20--20 of FIG. 19. FIG. 21 is a cross-sectional view taken along lines 21--21 of FIG. 19. FIG. 21A is a fragmentary, cross-sectional view taken along lines 21A--21A of FIG. 21. FIG. 22 is a cross-sectional view taken along lines 22--22 of FIG. 19. FIG. 22A is a cross-sectional view similar to FIG. 22 but showing the fluid being expelled from the fluid reservoir into the body subdermal tissue. FIG. 23 is a cross-sectional, exploded view of this latest embodiment of the invention. FIG. 24 is an enlarged, generally perspective, exploded view of the bolus injection port of the device. FIG. 25 is a generally schematic view illustrating the various modes of operation of the apparatus of the invention. FIG. 26 is a generally perspective, exploded view of an alternate embodiment of the liquid delivery device of the present invention showing a dispensing and a fill assembly usable for filling the fluid reservoir of the dispensing assembly. FIG. 27 is a generally perspective, exploded view of one form of the fill assembly of the present invention. FIG. 28 is an enlarged cross-sectional view of the fill assembly illustrated in FIG. 27 as it appears in the assembled configuration. FIG. 29 is an enlarged, cross-sectional view taken along lines 29--29 of FIG. 28. FIG. 30 is a cross-sectional view similar to FIG. 28, but showing the appearance of the component parts of the fill assembly after the plunger of the container has been telescopically moved from a first to a second position. FIG. 31 is a generally perspective, exploded view of the apparatus of this latest form of the invention showing both the dispensing assembly and the fill assembly in an exploded configuration. FIG. 32 is a top plan view of the assembled apparatus of the invention shown in FIG. 26 partly broken away to show internal construction. FIG. 33 is a right-side view of the apparatus shown in FIG. 32. FIG. 34 is an enlarged, cross-sectional view taken along lines 34--34 of FIG. 32. FIG. 35 is an enlarged, cross-sectional view taken along lines 35--35 of FIG. 32. FIG. 36 is a view taken along lines 36--36 of FIG. 35. FIG. 37 is an enlarged, cross-sectional view taken along lines 37--37 of FIG. 32. FIG. 38 is an enlarged, cross-sectional view taken along lines 38--38 of FIG. 32. FIG. 39 is a greatly enlarged, fragmentary view of the liquid delivery port of the device and of the quick connect delivery fitting which is interconnectable with the base of the device. FIG. 40 is a cross-sectional view taken along lines 40--40 of FIG. 39. FIG. 41 is an enlarged, generally perspective view of the quick connect delivery fitting showing the locking tabs for lockably interconnecting the fitting with the base of the device. DESCRIPTION OF THE INVENTION Referring to the drawings and particularly to FIGS. 1 through 10, one form of the low profile fluid delivery device of the invention is there shown and generally designated by the numeral 10. The device comprises a base 12, having an upper surface 14 including a central convex portion 14a and a peripheral portion 14b circumscribing central portion 14a. As best seen in FIGS. 1 and 4, base 12 is also provided with a lower surface 16 to which a patient interconnection means or adhesive pad assembly 18 is connected. In a manner presently to be described, pad assembly 18 functions to releasably interconnect the device to the patient so as to hold it securely in place during the liquid delivery step. A stored energy means cooperates with the upper surface 14 of base 12 to form a reservoir 20 having an inlet port 22 which is in communication with a flow passageway 24 which, in turn, communicates with a filling means shown here as a septum assembly 26 (FIGS.\n",
            "Question : What improvements for a compact and reliable fluid delivery apparatus suitable for ambulatory patients does the invention described in U.S. Ser. No. 08/541,184, filed October 11, 1995, propose?,Data : INVENTION 1. Field of the Invention The present invention relates generally to fluid delivery devices. More particularly, the invention concerns an improved fluid delivery apparatus for precise delivery over time of medicinal liquids to an ambulatory patient, the device including a bolus injection site for bolus delivery of medicinal liquids as from time to time may be required. 2. Discussion of the Invention A number of different types of liquid dispensers for dispensing medicaments to ambulatory patients have been suggested. Many of the devices seek either to improve or to replace the traditional hypodermic syringe which has been the standard for delivery of liquid medicaments such as insulin solution. Those patients that require frequent injections of the same or different amounts of medicament, find the use of the hypodermic syringe both inconvenient and unpleasant. Further, for each injection, it is necessary to first draw the injection dose into the syringe, then check the dose and, after making certain that all air has been expelled from the syringe, finally, inject the dose. This cumbersome and tedious procedure creates an unacceptable probability of debilitating complications, particularly for the elderly and the infirm. One example of the urgent need for an improved liquid delivery device for ambulatory patients can be found in the stringent therapeutic regimens used by insulin-dependent diabetics. The therapeutic objective for diabetics is to consistently maintain blood glucose levels within a normal range much as the normally functioning pancreas would do by secreting a very low level of extremely fast-acting insulin at a basal rate into the blood stream throughout the day and night. Consider the normal individual who doesn&#39;t have diabetes. A normal individual&#39;s cells require energy throughout the day just to maintain a basal metabolic rate. This energy is supplied to the cells by glucose that is transported from the bloodstream to the cells by insulin. When food is consumed, the blood glucose level rises and the pancreas responds by releasing a surge of fast-acting insulin. To mimic this natural process with individual injections, the individual would have to administer minuscule amounts of fast-acting insulin every few minutes throughout the day and night. Conventional therapy usually involves injecting, separately, or in combination, fast-acting and slower-acting insulin by syringe several times a day, often coinciding with meals. The dose must be calculated based on glucose levels present in the blood. Slower-acting insulin is usually administered in the morning and evening to take advantage of longer periods of lower level glucose uptake. Fast-acting insulin is usually injected prior to meals. If the dosage of fast-acting insulin is off, the bolus administered may lead to acute levels of either glucose or insulin resulting in complications, including unconsciousness or coma. Over time, high concentrations of glucose in the blood can also lead to a variety of chronic health problems, such as vision loss, kidney failure, heart disease, nerve damage, and amputations. A recently completed study sponsored by the National Institutes of Health (NIH) investigated the effects of different therapeutic regimens on the health outcomes of insulin-dependent diabetics. This study revealed some distinct advantages in the adoption of certain therapeutic regimens. Intensive therapy that involved intensive blood glucose monitoring and more frequent administration of insulin by conventional means, for example, syringes, throughout the day saw dramatic decreases in the incidence of debilitating complications. The NIH study also raises the question of practicality and patient adherence to an intensive therapy regimen. A bona fide improvement in insulin therapy management must focus on the facilitation of patient comfort and convenience as well as dosage and administration schemes. Basal rate delivery of insulin by means of a convenient and reliable delivery device over an extended period of time represents one means of improving insulin management. Basal rate delivery involves the delivery of very small volumes of fluid (for example, 0.3-3 mL. depending on body mass) over comparatively long periods of time (18-24) hours). As will be appreciated from the discussion which follows, the apparatus of the present invention is uniquely suited to provide precise fluid delivery management at a low cost in those cases where a variety of precise dosage schemes are of utmost importance. An additional important feature of the apparatus of the present invention is the provision of a bolus injection site which permits, in addition to the basal rate, a bolus delivery of medication on an as-needed basis. For example, if the apparatus is being used for basal delivery of insulin over an extended period of time, should a bolus delivery of medication be required to manage an anticipated increase in blood sugar, such a bolus delivery can be quickly and easily accomplished using the device&#39;s bolus injection site and eliminates the need for a direct subdermal injection at an alternate site on the individual&#39;s body. With regard to the prior art, one of the most versatile and unique fluid delivery apparatus developed in recent years is that developed by one of the present inventors and described in U.S. Pat. No. 5,205,820. The component of this novel fluid delivery apparatus generally include: a base assembly, an elastomeric membrane serving as a stored energy means, fluid flow channels for filling and delivery, flow control means, a cover, and an ullage which comprises a part of the base assembly. The ullage in these devices is provided in the form of a semi-rigid structure having flow channels leading from the top of the structure through the base to inlet or outlet ports of the device. Since the inventions described herein represent improvements over those described in U.S. Pat. No. 5,205,820, this patent is hereby incorporated by reference as though fully set forth herein. In the rigid ullage configuration described in U.S. Pat. No. 5,205,820, the stored energy means of the device must be superimposed over the ullage to form the fluid-containing reservoir from which fluids are expelled at a controlled rate by the elastomeric membrane of the stored energy means tending to return to a less distended configuration in the direction toward the ullage. With these constructions, the stored energy membrane is typically used at higher extensions over a significantly large portion of the pressure-deformation curve. For good performance, the elastomeric membrane materials selected for construction of the stored energy membrane must have good memory characteristics under conditions of extension; low stress relaxation; good resistance to chemical and radiological degradation; and appropriate gas permeation characteristics depending upon the end application to be made of the device. Once an elastomeric membrane material is chosen that will optimally meet the desired performance requirements, there still remain certain limitations to the level of refinement of the delivery tolerances that can be achieved using the rigid ullage configuration. These result primarily from the inability of the rigid ullage to conform to the changing geometry of the elastomeric membrane near the end of the delivery period. This nonconformity can lead to extended delivery rate tail-off and higher residual problems when extremely accurate delivery is required. For example, when larger volumes of fluid are to be delivered, the tail-off volume represents a smaller portion of the fluid amount delivered and therefore exhibits must less effect on the total fluid delivery profile, but in very small dosages, the tail-off volume becomes a larger portion of the total volume. This sometimes places severe physical limits on the range of delivery profiles that may easily be accommodated using the rigid ullage configuration. An additional penalty inherent in rigid ullage construction is the high Z axis height of the ullage that will be required to maintain acceptable flow tail off delivery requirements. As will be better appreciated from the discussion which follows, the apparatus of the present invention provides a unique and novel improvement for a disposable dispenser of simple but highly reliable construction that may be adapted to many applications of use. A particularly important aspect of the improved apparatus is the incorporation of conformable ullages made of yieldable materials which uniquely conform to the continuously changing geometry of the stored energy membrane during the delivery cycle. This novel construction will satisfy even the most stringent delivery tolerance requirements and elegantly overcomes the limitation of materials selection. Another useful liquid delivery device is that described in U.S. Pat. No. 5,226,896 issued to Harris. This device comprises a multidose syringe having the same general appearance as a pen or mechanical pencil. the device is specifically adapted to provide for multiple measured injections of materials such as insulin or human growth hormones. Still another type of liquid delivery device is disclosed in U.S. Pat. No. 4,592,745 issued to Rex et al. This device is, in principle, constructed as a hypodermic syringe, but differs in that it enables dispensing of a predetermined portion from the available medicine and in that it dispenses very accurate doses. The present invention seeks to significantly improve over the prior art by providing a novel fluid delivery device having one or more fluid reservoirs, which is low in profile, is compact, is easy to use by ambulatory patients, and is eminently capable of meeting the most stringent of fluid delivery tolerance requirements. Additionally, the device provides novel means for accomplishing immediate bolus delivery of medication on an as-needed basis. SUMMARY OF THE INVENTION It is an object of the present invention to provide an apparatus having a self-contained stored energy membrane for expelling fluids at a precisely controlled rate which is of a compact, extremely low profile, laminate construction. More particularly, it is an object of the invention to provide such an apparatus which is of very low profile so that it can conveniently be used for the precise delivery of pharmaceutical fluids, such as insulin solution and the like, into an ambulatory patient at controlled rates over extended periods of time. It is another object of the invention to provide an apparatus of the aforementioned character which is highly reliable and easy-to-use by lay persons in a non-hospital environment. It is another object of the invention to provide an apparatus as described in the preceding paragraphs which, can be used for both basal and bolus delivery of fluids. In this regard, the apparatus includes a novel and unique bolus injection site which can be used to deliver bolus doses of medication as may be required. Another object of the invention is to provide an apparatus which embodies a conformable mass which defines an ullage within the reservoir of the device which will closely conform to the shape of the stored energy membrane thereby effectively avoiding extended flow delivery rate tail-off at the end of the fluid delivery period and thus precisely controls the time of delivery. A further object of the invention is to provide a low profile, fluid delivery device of laminate construction which can meet even the most stringent basal fluid delivery tolerance requirements and at the same time permit bolus delivery of medicaments to the patient as may be required. Another object of the invention is to provide an apparatus of the character described which, due to its unique construction, can be manufactured inexpensively in large volume by automated machinery. Other objects of the invention are set forth in U.S. Pat. No. 5,205,820 which is incorporated herein by reference and still further objects will become apparent from the discussion which follows. BRIEF DESCRIPTION OF THE DRAWINGS FIG. 1 is a generally perspective, exploded view of one embodiment of the liquid delivery device of the present invention showing an ancillary syringe type device usable for bolus delivery of liquid medication via the bolus injection site of the device. FIG. 2 is a top plan view of the invention shown in FIG. 1 partly broken away to show internal construction. FIG. 3 is a cross-sectional view taken along lines 3--3 FIG. 2. FIG. 4 is an enlarged cross-sectional view taken along lines 4--4 of FIG. 2. FIG. 5 is a greatly enlarged, cross-sectional view taken along lines 5--5 of FIG. 2. FIG. 6 is an enlarged, cross-sectional view taken along lines 6--6 of FIG. 2. FIG. 7 is a greatly enlarged, fragmentary view of the liquid delivery port of the device and of the locking tabs for lockably interconnecting a quick connect delivery fitting with the base of the device. FIG. 8 is a generally perspective, exploded, view of the liquid delivery port of the device and of an infusion set usable with the device. FIG. 9 is a cross-sectional view of the quick connect delivery fitting shown in FIG. 8. FIG. 9A is an end view of the quick connect fitting shown in FIG. 9. FIG. 10 is a greatly enlarged cross-sectional view of the area designated as 10 in FIG. 3. FIG. 10A is a generally perspective, illustrative view showing one manner of filling the fluid reservoir of the device. FIG. 10B is a generally perspective, illustrative view showing the device of the invention attached to the patient and showing the patient engage in injecting a bolus dose of liquid medication. FIG. 11 is a generally perspective, exploded view of an alternate embodiment of the invention. FIG. 12 is a top view of the embodiment shown in FIG. 11 partly broken away to show internal construction. FIG. 13 is a side elevational, partly cross-sectional view taken along lines 13--13 of FIG. 12. FIG. 14 is a cross-sectional view taken along lines 14--14 of FIG. 13. FIG. 15 is a greatly enlarged, fragmentary, cross-sectional view of a portion of the base and cover of the device illustrating the manner in which the distendable membrane and the barrier membrane of the device are sealably clamped between the base and cover. FIG. 16 is a fragmentary, cross-sectional view of the flow control assembly of the device which is positioned within the base. FIG. 17 is an enlarged, generally perspective view of the flow control assembly shown in FIG. 16. FIG. 18 is a front view of yet another form of the fluid delivery device of the invention partly broken away to shown internal construction. FIG. 19 is a top view of the embodiment shown in FIG. 18 partly broken away to show internal construction. FIG. 20 is a cross-sectional view taken along lines 20--20 of FIG. 19. FIG. 21 is a cross-sectional view taken along lines 21--21 of FIG. 19. FIG. 21A is a fragmentary, cross-sectional view taken along lines 21A--21A of FIG. 21. FIG. 22 is a cross-sectional view taken along lines 22--22 of FIG. 19. FIG. 22A is a cross-sectional view similar to FIG. 22 but showing the fluid being expelled from the fluid reservoir into the body subdermal tissue. FIG. 23 is a cross-sectional, exploded view of this latest embodiment of the invention. FIG. 24 is an enlarged, generally perspective, exploded view of the bolus injection port of the device. FIG. 25 is a generally schematic view illustrating the various modes of operation of the apparatus of the invention. FIG. 26 is a generally perspective, exploded view of an alternate embodiment of the liquid delivery device of the present invention showing a dispensing and a fill assembly usable for filling the fluid reservoir of the dispensing assembly. FIG. 27 is a generally perspective, exploded view of one form of the fill assembly of the present invention. FIG. 28 is an enlarged cross-sectional view of the fill assembly illustrated in FIG. 27 as it appears in the assembled configuration. FIG. 29 is an enlarged, cross-sectional view taken along lines 29--29 of FIG. 28. FIG. 30 is a cross-sectional view similar to FIG. 28, but showing the appearance of the component parts of the fill assembly after the plunger of the container has been telescopically moved from a first to a second position. FIG. 31 is a generally perspective, exploded view of the apparatus of this latest form of the invention showing both the dispensing assembly and the fill assembly in an exploded configuration. FIG. 32 is a top plan view of the assembled apparatus of the invention shown in FIG. 26 partly broken away to show internal construction. FIG. 33 is a right-side view of the apparatus shown in FIG. 32. FIG. 34 is an enlarged, cross-sectional view taken along lines 34--34 of FIG. 32. FIG. 35 is an enlarged, cross-sectional view taken along lines 35--35 of FIG. 32. FIG. 36 is a view taken along lines 36--36 of FIG. 35. FIG. 37 is an enlarged, cross-sectional view taken along lines 37--37 of FIG. 32. FIG. 38 is an enlarged, cross-sectional view taken along lines 38--38 of FIG. 32. FIG. 39 is a greatly enlarged, fragmentary view of the liquid delivery port of the device and of the quick connect delivery fitting which is interconnectable with the base of the device. FIG. 40 is a cross-sectional view taken along lines 40--40 of FIG. 39. FIG. 41 is an enlarged, generally perspective view of the quick connect delivery fitting showing the locking tabs for lockably interconnecting the fitting with the base of the device. DESCRIPTION OF THE INVENTION Referring to the drawings and particularly to FIGS. 1 through 10, one form of the low profile fluid delivery device of the invention is there shown and generally designated by the numeral 10. The device comprises a base 12, having an upper surface 14 including a central convex portion 14a and a peripheral portion 14b circumscribing central portion 14a. As best seen in FIGS. 1 and 4, base 12 is also provided with a lower surface 16 to which a patient interconnection means or adhesive pad assembly 18 is connected. In a manner presently to be described, pad assembly 18 functions to releasably interconnect the device to the patient so as to hold it securely in place during the liquid delivery step. A stored energy means cooperates with the upper surface 14 of base 12 to form a reservoir 20 having an inlet port 22 which is in communication with a flow passageway 24 which, in turn, communicates with a filling means shown here as a septum assembly 26 (FIGS.\n",
            "Question : What innovations does the new fingerprint identification method offer in terms of reliability and process time?,Data : TECHNICAL FIELD The present invention relates to a method and device for identifying fingerprints. BACKGROUND OF THE INVENTION As is known, the fact that no two fingerprints are alike and therefore represent a sort of identity card results in a wide range of applications. For example, in addition to being traditionally used in crime detection, it has also been suggested to use fingerprints as a sort of personal key or signature to improve the safety of credit cards and control access to security areas, computers or banking systems, and also as a substitute for cumbersome house or car keys. The difficulty in identifying fingerprints lies in defining a score assignable to a pair of fingerprint images and expressing the likelihood that both belong to the same person. Moreover, the two fingerprints for comparison are acquired at different times, one normally forming part of a data bank containing references to known persons, and the other being validated or identified by comparison with the first. Traditional fingerprint identification methods, which are normally performed manually by experts, comprise numerous classification steps. In recent times, however, automatic methods have been proposed, some of which comprise preclassification steps similar to those of traditional methods, while others dispense entirely with such steps and, commencing directly from the fingerprint image obtained, for example, by means of a scanner or sensor, provide for identification by appropriate processing. The present invention relates to the second type of approach. A fully automatic identification system is described, for example, in “Automatic Fingerprint Identification” by K. Asai, Y. Kato, Y. Hoshino and K. Kiji, Proceedings of the Society of Photo-Optical Instrumentation Engineers, vol. 182, Imaging Applications for Automated Industrial Inspection and Assembly, p. 49-56, 1979. According to this system, the significant points in the image (epidermal ridge terminations and bifurcations, known as “minutiae”) are determined directly from the image in tones of grey, and matching of the prints is determined on the basis of a ridge count and the direction of the minutiae, as in the manual method. In “Fingerprint Identification using Graph Matching” by D. K. Isenor and S. G. Zaky, Pattern Recognition, vol. 19, no. 2, p. 113-122, 1986, a graph matching method is presented whereby the epidermal ridges and grooves are located in the print image, the ridges being numbered and oriented, and the grooves forming the background; a degree of adjacency is defined indicating which ridge is adjacent to which other; any irregularities due to soiling or interrupted ridges due to the acquisition system are identified and corrected on the graph to obtain a final graph representing the print in coded form; and the similarity of the prints is determined by comparing the graphs. In “Automated Fingerprint Identification by Minutia-network Feature-Matching Processes” by K. Asai, Y. Hoshino and K. Kiji, Transaction of the Institute of Electronics, Information and Communication Engineers D-II, vol. J72D-II, no. 5, p. 733-740, May 1989 (in Japanese), use is made of a minutia-network containing termination and bifurcation points, and the epidermal ridges are counted to relate the significant adjacent points. The local direction of the epidermal ridges is also taken into consideration, and the pairs of matching points are obtained by coordinate transformation and similarity computation. Assessed using a few hundred known prints, the above systems do not yet provide for the degree of accuracy required for police work involving the comparison of millions of images. SUMMARY OF THE INVENTION It is an object of the present invention to provide an identification method and device affording a high degree of reliability—such as to minimize erroneous positive identifications or nonidentification—and rapid response time. A preferred embodiment of the invention is directed to a device and method for identifying fingerprints. The method acquires a test image formed by a number of test points characterized by different grey levels defining a test surface. The method determines significant points in the test image and verifies the similarity between regions surrounding the significant points and corresponding regions of a reference image whose points present different grey levels defining a reference surface. The similarity between the regions is verified by computing the integral norm of portions of the test and reference surfaces. Preferably, the integral norm is computed using flash cells programmed with a threshold value correlated to the value of the grey levels in the reference region, by biasing the flash cells with a voltage value correlated to the grey level in the test region. BRIEF DESCRIPTION OF THE DRAWINGS FIG. 1 shows a block diagram of a fingerprint identification device according to the present invention. FIG. 2 is a flowchart of a fingerprint identification method according to the present invention. FIG. 3 shows a simplified circuit diagram of a detail in FIG. 1 for performing some of the steps shown in FIGS. 2, 4 , and 5. FIG. 4 is a flowchart of the region similarity computation step of the method shown in FIG. 2. FIG. 5 is a flowchart of the segment similarity computation step of the method shown in FIG. 2. DETAILED DESCRIPTION OF THE INVENTION FIG. 1 shows a fingerprint identification device 1 that includes a sensor 2 for acquiring fingerprint images in the form of an array of dots characterized by different grey levels. A filter 3 , connected to the sensor 2 , filters the images detected by sensor 2. A reference memory 4 contains reference information relative to one or more reference images with which the image detected by sensor 2 is compared. A processing unit 5 , connected to the filter 3 and memory 4 , compares the filtered image with the reference image/s stored in the reference memory 4. A similarity computing unit 6 , connected to processing unit 5 , performs predetermined steps in the identification process as described in detail below. The device 1 also includes a work memory 7 connected to processing unit 5. The sensor 2 operates according to any known principle—e.g., optical, capacitive, piezoelectric, ultrasonic, thermal—to obtain images (test images) of, say, 512×512 dots (pixels). Filter 3 , which filters the images supplied by sensor 2 , may be formed in various ways, depending on the operating principle of sensor 2 , and, in some solutions, may comprise a digital software filter and be implemented directly by processing unit 5. Memory 4 , which may also be of any known type, stores information relative to a number of images associated with the application in question (one or a small number of images if the system is used as a personal key, or millions of images if the system is used for crime detection). Such reference information preferably comprises reference print images comprising a number of pixels characterized by different grey levels (like the images detected by sensor 2 ), as well as information derived by processing the reference print images and for direct or indirect comparison with information derived from the test image, according to the method described below, to reduce the amount of processing required each time to identify a print. Device 1 operates as described below with reference to FIGS. 2, 4 , and 5 relative to the comparison of a test and reference image. Obviously, to identify the test image from a number of reference images, the procedure described below is repeated for each reference image. To begin with, a test image is acquired by sensor 2 and filtered in known manner by filter 3 to obtain as regular an image as possible in tones of grey (step 20 ). The filtered image, memorized in working memory 7 , is processed by processing unit 5 to define the coordinates (Xi,Yi) of significant points represented by the terminations and bifurcations of the epidermal ridges, so called minutiae, (step 21 ). Such processing to determine the significant points may be performed in any known manner, e.g., as indicated in the above article “Automatic Fingerprint Identification”, 1979, by Asai, Kato, Hoshino and Kiji. The resulting significant points are then memorized in working memory 7 and compared by the similarity computing unit 6 with corresponding significant points in the reference image (extracted and memorized beforehand using the same significant point extraction procedure as for the test image). In particular, each significant point in the test image with coordinates (Xi,Yi) is compared with all the significant points in the reference image with coordinates (Xj,Yj) to establish a local similarity between the regions centered about the significant points. The local region similarity check procedure (step 22 in FIG. 2) is shown in the FIG. 4 flow-chart and described in detail later on. When an actual similarity is determined, the local region similarity check process generates a pair of significant points (one in the test image and one in the reference image) characterized by a local similarity (in terms of grey tones) of the regions surrounding them, and the pairs of significant points are memorized in working memory 7. In step 23 , a check is then made to determine whether the local region similarity check has been repeated for all the significant points in the test image. If it has not (NO output of step 23 ), it is repeated, and, when all the significant points in the image have been checked (YES output of interrogation step 23 ), a list of pairs of significant points is available. For each pair of significant points so obtained, a coordinate translation and rotation from the test image to the reference image is defined to match a second pair of significant points within a given tolerance (step 24 ), so that, for each two pairs of significant points, a linear rotation-translation transformation is identified on which to suppose matching of the print images. Having identified a rotation-translation as described above, the matching points of the other pairs of significant points are determined (step 25 ). In other words, applying the defined rotation-translation, a count is made of the significant points in the test image matching the significant points with which they are paired in the reference image. If there are fewer than K 1 matches (matching pairs of significant points—NO output of interrogation step 26 ), assumed matching of the test and reference prints with the current rotation-translation is rejected, and the rotation-translation definition and match count procedure is repeated for another two pairs of significant points, and so on until a rotation-translation resulting in more than the minimum required number of matches is defined (YES output of step 26 ) or until all the possible transformations have been checked (YES output of step 27 ), in which latter case, the prints are definitely considered nonmatching, and the test and reference image comparison is terminated negatively (step 28 ). Conversely, in the event of at least K 1 matching pairs of significant points in the test and reference images, real matching of the prints is determined (step 30 ) by appropriately comparing image segments connecting a first pair of significant points (one in the test image and one in the reference image) with all the other pairs of significant points, and by validating the first pair of significant points when a sufficient similarity is determined for at least a predetermined number of image segments as defined above. The procedure for defining the similarity of the segments and validating each pair of matching significant points is shown in the FIG. 5 flow-chart and described in detail below. At this point, a check is made to determine whether the similarity of the segments has been determined for all the matching significant points (step 31 ). If it has not (NO output of step 31 ), then step 30 is repeated. If it has (YES output of step 31 ), a check is made to determine whether the number K of validated matching significant points is greater than or equal to a given threshold, in this case equal to the minimum threshold K 1 for a given rotation-translation to be considered valid (interrogation step 32 ). In the event of a positive response (YES output of step 32 ), the print is considered identified (step 33 ); in the event of a negative response (NO output) step 32 goes back to step 24 to determine another rotation-translation. A description will now be given of the calculation of the similarity of the regions surrounding two significant points, one in the test image with coordinates (Xi,Yi), and one in the reference image with coordinates (Xj,Yj), according to step 22 of FIG. 2. Using the grey values of the test and reference images, a region M×M (e.g., 16×16) is defined about each test and reference point being compared. According to one aspect of the present invention, the similarity of the regions so defined is determined by calculating the value of the integral norm of two surfaces Si t and Sj r defined as: Si t ={x,y,z}:z =grey( x,y ) where Xi−8≦x&lt;Xi+8; Yi−8≦y&lt;Yi+8 for the test image points, and Sj r ×{x,y,z}:z =grey( x,y ) where Xj−8≦x&lt;Xj+8; Yj−8≦y&lt;Yj+8 for the reference image points, and wherein grey(x,y) is the grey tone of the test or reference image at point (x,y). The integral norm N of two surfaces Si t and Sj r equals: N=ƒƒ M×M |Sj r ( x,y )− Si t ( x,y )| dxdy (1) Since, in this case, the region M×M and the functions Si t , Sj r of which to compute the similarity are discrete, the double integral is converted into a double summation, and (1) becomes N=ΣΣ|Sj r ( x−Xi+Xj,y−Yi+Yj ) −Si t ( x,y )| (2) where Xi−8≦x&lt;Xi+8; Yi−8≦y&lt;Yi+8. Computing the above norm is particularly onerous in the application in question, which on average involves 100-150 significant points for each test and reference image, and wherein the coordinate of each significant point is definable within a tolerance of about five pixels (±2 in relation to the given coordinate) both horizontally and vertically. This therefore means that, for each pair of significant points for comparison, 25 norms would have to be computed, and the similarity verify step would require 25×T×S calculations as per equation (2) (given T significant points in the test image and S significant points in the reference image). Even reducing the operations required for each pair of significant points to compute the norm in only 9 of the 25 coordinate tolerance points, computing time would still be considerable and unacceptable in many applications. According to one aspect of the present invention, the above norm is computed using an array of analog flash cells, which is described in detail by A. Kramer, M. Sabatini, R. Canegallo, M. Chinosi, P. L. Rolandi and P. Zabberoni in an article entitled “Flash-Based Programmable Nonlinear Capacitor for Switched-Capacitor Implementations of Neural Networks” in IEDM Tech. Dig. p. 17.6.1-17.6.4, December 1994. The array of analog flash cells may be used to calculate the absolute difference between two values by connecting the source and drain regions of two flash cells to each other and to an input node of a charge integrator, supplying the gate terminal of a first cell with a voltage corresponding to the first value, memorizing in the same first cell, as the threshold voltage, the second value to be subtracted from the first, supplying the gate terminal of the second cell with a voltage complementary to that supplied to the first cell, and memorizing as the threshold voltage in the second cell a value complementary to the second value to be subtracted (see FIG. 3 in the above article). As stated in the article, it is also possible to calculate the sum of the difference between pairs of values by connecting the output nodes of different pairs of cells supplied (as threshold and input voltages) with the pairs of values to be added (see FIG. 4 in the article, relative to calculating the Manhattan distance between two vectors). Using the same principle, the above norm may be computed by parallel computing all the individual differences between the grey levels of pairs of corresponding points in the test and reference images to obtain the value of the norm directly at the output. One example of a flash cell array for computing the norm defined in equation (2) is shown in FIG. 3 and described below. FIG. 3 shows one possible structure of similarity computing unit 6 , which comprises an array 40 of M×M pairs of cells 41 (more specifically, in the case of 16×16 pixel regions, 16×16 pairs of cells are provided) arranged in M rows and M columns, and each corresponding to a pixel of the regions whose similarity is being computed (for the sake of simplicity, the addresses of pairs of cells 41 are therefore indicated using the same x and y coordinates as the pixels in the test image). Each pair of cells 41 comprises a first cell 42 and a second cell 43. Unit 6 also comprises a programming stage 45 connected to pairs of cells 41 and formed in known manner (e.g., as described in EP-A-O 621 603 entitled “Method and circuit for tunnel programming floating-gate MOSFET transistors” filed by the present Applicant); and a voltage source 46 connected to the gate terminals of all of cells 42 , 43. Stage 45 and source 46 are controlled by processing unit 5 , by which they are supplied with respective grey level values and commands as shown schematically by arrows 47 , 48 , and are connected to cells 42 , 43 by selecting and addressing means (not shown). The drain and source terminals of all of cells 42 , 43 are connected to each other and to a node 49 connected to the inverting input of a charge-integrating operational amplifier 50 , which therefore presents a grounded noninverting input and the output 51 connected to the inverted input via a capacitor 52. A reset switch 53 controlled by processing unit 5 (arrow 54 ) is connected in parallel with capacitor 52 ; and the output 51 of operational amplifier 50 defines the output of unit 6 , and is connected to processing unit 5 to supply a voltage V o.\n",
            "Question : What are the key features of the described fishing reel assembly patent that prevent injuries and improve operation?,Data : INVENTION 1. Field of the Invention This invention relates to a fishing reel assembly, preferably but not necessarily of the type used as fly reels and including both a direct drive mechanism and an anti-reversing structure each capable of being automatically operable without the need for manual actuation by the user of the reel and specifically wherein a crankarm allowing for manual forward rotation of the spool is automatically disengageable therefrom and maintainable in any position to prevent free reverse rotation thereof which would possibly cause inadvertent injury to the user of the reel assembly. 2. Description of the Prior Art Fishing reel assemblies existing in the prior art and commercially available vary widely in structural design and performance characteristics. However, certain problems are well recognized particularly among those who use certain types of fishing reels designed for a specific type of fishing. Such reels include but are not limited to &#34;fly reels&#34; which are specifically designed for the fly casting technique of fishing. Such fly reels are typically characterized by small, lightweight construction. However, the structural design and integrity of such fly reels must be such as to guarantee reliance in operation particularly under what may be considered harsh operating conditions. One problem associated with fishing reels is a certain safety feature involving the reverse, free rotation of the crankarm or crank handle of the fishing reel when the spool of the reel is forced to rotate in a reverse direction such as during line playout. This is common for instance when a fish takes the lure or bait and runs with such bait a significant distance at rapid speeds. Such reverse rotation of the reel, in many prior art devices will in turn cause rapid rotation of the crank arm which in turn could cause damage to the fingers of a fisherman if the fisherman&#39;s hands are not kept out of the rotary path of the freely rotating crankarm. Accordingly, an automatic anti-reversing feature associated with fishing reel assemblies, including fly reels woud be particularly desirable in order to avoid any inadvertent injury. Again, in a preferred structure, such anti-reversing capabilities should be activated automaticaly upon reverse rotation of the spool carrying the fishing line, such as when the line is being played out during casting or in the above-noted instant when the fish runs with the lure. Associated with such a preferred anti-reversing capability in a fishing reel would be a direct drive capability which is automatically activated by the forward rotation of the crankarm causing the fishing line to be taken up or reeled back onto the spool. However, and again in a preferred fishing reel assembly, automatic disengagement of such a direct drive mechanism would be highly advantageous particularly when associated with an automatic activation of the aforementioned and described anti-reversing mechanism. Another feature considered a necessity among sportsman would of course be the ability of the preferred reel assembly to operate in the above fashion and overcome the above set forth and well recognized problems without the structural components or mechanism associated with a preferred reel assembly from becoming jammed during operation over extended periods of use. The U.S. Pat. No. 4,461,435 is representative of certain prior art fishing reel assemblies, specifically of the fly reel type which, while operable for the intended function and method of performance, still may be considered to include certain disadvantages or lack certain advantageous performance characteristics when used as intended. It is obvious therefore that there is a recognized need for a fishing reel assembly capable of having &#34;dual mode&#34; operational characteristics including a direct drive mechanism which automatically disengages upon activation of an anti-reversing structure both associated with a preferred fishing reel assembly or structure. SUMMARY OF THE INVENTION The present invention relates to a reel assembly particularly but not necessarily of the type characterized as a fly reel and being specifically structured to operate in what may be referred to as a dual mode. The reel assembly of the present invention comprises a spool structured to have an extremely long length of fishing line continuously mounted thereon. The spool is rotatably mounted within a casing and more specifically, is rotatably supported on a centrally located crankshaft passing through a centrally disposed bore of the spool. The crankshaft is rotatably mounted on the reel for support and is manually operated by a crankarm secured to the distal end of the crankshaft. An important feature of the present invention is the incorporation therein of a direct drive mechanism which serves to interconnect the crankshaft with the spool for what may be referred to as forward rotation of the spool. Such forward rotation is considered rotation in a direction which will accomplish &#34;reeling in&#34; or takeup of the fishing line. To the contrary, reverse rotation of the spool may be defined herein as the direction of rotation serving to accomplish playout or removal of the line from the spool such as when casting or when a fish strikes the lure attached to the end of the line. Upon manual forward rotation of the crankshaft the drive mechanism will serve to automatically engage the spool causing its forward rotation and takeup of the fishing line. However, the drive mechanism of the subject invention is further structured to automatically disengage from its driving interconnection with the spool upon the spool being forced into a reverse direction of rotation, such as when casting, etc. However, another important feature of the present invention is the existence of an anti-reversing assembly associated with the subject reel construction wherein the crankshaft and crankarm are prevented from free rotation when the spool is forced into reverse rotation. To the contrary, the crankarm and crankshaft are maintained in whatever set position originally assumed when the spool began its reverse rotation. This in turn prevents possible injury and certainly inconvenience to the user of the subject fishing reel assembly since the crankarm will not be set into free, rapid rotation upon the reverse rotation of the spool. The fingers or hand of the fisherman will therefore not be injured as is common with certain prior art reel constructions. Other structural features of the present invention include bearing means serving to support and allow relative rotation of the spool relative to the coaxially disposed crankshaft. In addition, a drag setting means is particularly structured to adjustably regulate a biasing force tending to forceably engage a portion of the spool with a friction member which does not rotate with the spool. Accordingly, such frictional engagement between a friction member of the drag assembly and the spool itself impedes the reverse rotation of the spool therefore defining an adjustable drag being placed thereon which is easily regulatable by a drag setting member positioned on the same side of the reel frame and spool as the crankarm. The invention accordingly comprises the features of construction, combination of elements and arrangment of parts which will be exemplified in the construction hereinafter set forth, and the scope of the invention will be indicated in the claims. BRIEF DESCRIPTION OF THE DRAWINGS For a fuller understanding of the nature of the present invention, reference should be had to the following detailed description taken in connection with the accompanying drawings in which: FIG. 1 is a side elevation view of the reel assembly of the present invention. FIG. 2 is a rear elevation view of the embodiment of FIG. 1. FIG. 3 is an end view along line 3--3 of FIG. 1. FIG. 4 is a top plan view along line 4--4 of FIG. 3. FIG. 5 is a bottom plan view along line 5--5 of FIG. 1. FIG. 6 is a sectional view showing interior structural details of the present invention. FIG. 7 is a sectional view along line 7--7 of FIG. 6. FIG. 8 is a sectional view along line 8--8 of FIG. 6. FIG. 9 is a sectional view along line 9--9 of FIG. 6. FIG. 10 is a sectional view along line 10--10 of FIG. 6. FIG. 11 is a detail view of a direct drive structure of the present invention. Like reference numerals refer to like parts throughout the several views of the drawings. DETAILED DESCRIPTION OF THE PREFERRED EMBODIMENT As shown in the accompanying figures, the present invention relates to a reel assembly generally indicated as 10 including a reel frame 12 of rigid material construction. A connecting means 14 is secured to the reel frame as shown in FIGS. 1 through 6 and 9 and is of the type of substanlially conventional construction used to removably secure the reel assembly 10 to a fishing rod (not shown for purposes of clarity). A spool member 16 is mounted on what may be considered the interior of the frame 12 as at 18 and is adjacently positioned on the interior 18 of the spool 12 relative to end wall 20 of the reel 12. The spool 16 is designed to have opposed, spaced apart outwardly extending flanges to define a space 22 in which a fishing line is maintained in a continous rolled relation about itself as it is supported on a central hub 24 of spool 22. The spool 16 has a central bore 26 extending coaxially through the spool as best shown in FIG. 6. A crankshaft assembly is generally indicated as 28 and is mounted to extend through the bore 26 and is connected to the reel frame 12 at least partially by enlarged head 30 secured to closed end 20. The crankshaft assembly 28 is rotatably mounted relative to the reel frame 12, end wall 20 and also the spool 16. Bearing means 32 are disposed on the interior of the bore and are mounted exteriorly of the crankshaft 28 so as to rotatably support the spool 16 and specifically hub 24 about the crankshaft assembly 28. Further, as will be explained in greater detail hereinafter, the bearing means 32 are engageable with a recess or stepped portion 32&#39; and are movable relative to the crankshaft assembly 28, in turn causing at least minimal displacement of the spool 16 along the length of the crankshaft assembly 28. A crankarm 34 is secured to the exterior of the crankshaft assembly 28 at an outer or free end thereof by means of the externally threaded surface of the exterior of the crankshaft assembly 28 and further held in place by a nut member 35 and associated washer element 37. Accordingly, rotation of the crankarm by gripping and rotating the rotatable knobs or handles 38 causes rotation of the crankshaft assembly 28 only in the aforementioned and defined forward rotational direction. With reference primarily to FIGS. 6 through 9, the subject reel assembly 10 includes an anti-reversing assembly including a plate or disc element 40 secured to the crankshaft 28 as on the threaded outer surface as shown in FIG. 6 substantially adjacent the innermost end of crankshaft assembly 28 and also adjacent an inner face 42 of the spool 16. The disc element 40 is mounted in aligned registry with a slight recess portion 21 formed on the interior surface of the closed end 20 of the reel frame 12 (see FIGS. 6 and 7) and specifically has its outer periphery formed into a plurality of continuously formed teeth 44 configured and disposed in cooperative relation to a pawl member 46 pivotally secured to the interior surface of the closed end 20 of reel frame 12 by a connector member 48 and biased into engaging relation with the teeth 44 as clearly shown in FIGS. 6, 7 and 9. The biasing structure 50 may be secured to the reel frame 12 and positioned so as to force pawl 46 into abutting engagement with a leading portion 44&#39; of anyone of the teeth 44 so as to stop and insure that reverse rotation as indicated by directional arrow 51 will not occur. It should be further emphasized that the biasing means 50 associated with pawl 46 and the position and shape of pawl 46 allows for forward direction of the plate member 40 as indicated by directional arrow 53. It should be readily apparent therefore that forward rotation of the crankshaft assembly 28 by manual rotation of the crankarm 34 provides forward rotation also of the plate element 40 based on the cooperative configuration of the plurality of teeth 44 and the pawl member 46 in accordance with directional arrow 53. However, the position and relative configuration of the teeth 44 and pawl member 46 and its biasing engagement relative to the teeth 44 prevent rotation of the plate element 40, crankshaft assembly 28 and crankarm 34 in a reverse direction of rotation. Another important feature of the present invention is the incorporation of a direct drive mechanism including a drive arm assembly generally indicated as 54 mounted on plate 40 and a cooperatively positioned and structured lug assembly generally indicated as 56 integrally formed on the inner face 42 of the spool 16 as best shown in FIGS. 6, 9, 10 and 11. First with regard to FIG. 10, an integrally formed cutout portion 58 is defined in the innerface 42 of the reel 16. The periphery of this cutout portion is at least partially defined by a plurality of lugs 60 disposed in spaced relation to one another about the outer periphery 62 of the cutout portion 58 and extending radially inwardly from the outer periphery 62 as best shown in FIG. 10. The drive arm assembly 54 comprising the remainder of the direct drive mechanism comprises a plurality of drive arms 64 pivotally connected at one end as at 66 to the plate 40 such that the opposite end of the arms 64 as at 68 may be forced outwardly into engagement with anyone of a plurality of lugs 60 integrally formed on the inner face 42 of the reel 16. The outward travel of the drive arm 64 is accomplished by a forward rotational direction of the crankshaft assembly 28 causing a cam element 70 to rotate into the position generally represented in phantom lines as 70&#39;. As shown in FIG. 6, the cam element 70 and accordingly the drive arms 64 are located at least partially within the recess 58 such that the outward expansion or travel of the drive arms will cause direct driving, abutting engagement with a corresponding number of lugs and in turn, due to the forward rotation of the crankshaft 28 and disc element 40, the spool will be directly driven by the driving, abutting engagement of the drive arm 64 with the respective lugs 60 which are engaged by the drive arms. Another structural feature of the present invention as best shown in FIG. 11, is the inability of the drive arm 64 to extend outwardly beyond their point of engagement with the lug 60 so that they will not come into direct abutting engagement with the outer periphery portion 62. Therefore, there is no frictional or wedging action between the outer ends 68 of drive arms 64 and the outer peripheral portion 62 of the cutout portion 58, and thus jamming is prevented. Upon the stopping of forward rotation of the crankshaft 28, disc element 40 and drive assembly 54, the drive arms 64 will assume their inoperated or retracted position as shown in solid lines in FIG. 9 and out of engagement with the respective lugs 60 formed on the inner surface 42 of the spool 16. Therefore, the direct driving engagement between the direct drive mechanism or the drive arms 64 will be automatically disconnected and the spool 16 will be allowed to rotate relative to the crankshaft 28 and frame 12 in a reverse rotational direction so as to allow the fishing line thereon to playout. Such reverse rotation will occur while the crankshaft 28, disc element 40 and crankarm 34 remain stabilized. Direct driving engagement between the crankshaft 28, through the aforementioned direct drive means will be accomplished and re-established upon manual forward rotation of the crankarm 34, crankshaft assembly 28, disc element 40 and the immediate engagement of the drive arms 64 with the plurality of lugs 60. Also, with regard to FIGS. 8, 9 and 11, the rotation of the cam member 70 is limited due to the existence of a cam pin 90 secured to the cam 70 as shown in FIG. 9 and more specifically passing through an elongated curvilinear slot 92 integrally formed in the disc element 40. It should be apparent therefor that the rotation of the cam element 70 forcing the outward positioning or travel of the arm 64 such that their ends 68 engage correspondingly positioned lugs 60 is specifically limited so that the ends 68 of the arm 64 cannot come into direct and potentially jamming frictional engagement with the outer periphery 62 as shown in FIGS. 10 and 11. This outward movement of the arm 64 is limited by the limited displacement or rotation of cam element 70 in turn caused by the cam pin 90 only being allowed to travel between the ends of the curvilinear elongated slot 92 formed in disc element 40. Another feature of the present invention is the existence of a drag setting assembly including a drag setting element 78 mounted on the crankshaft assembly 28 or more specifically, the threaded outer surface thereof immediately adjacent to the crankarm 34 and in a readiy accessible position relative to the hand of the fisherman which is used to manually rotate the crankarm 34. A biasing means 80 preferably in the form of a coil spring or like element is disposed between the drag setting element 78 and the correspondingly positioned bearing means 32. Washer structures or appropriate elements as at 82 may be positioned in between the biasing spring 80 and the drag setting plate 78. Accordingly, the advancement of the drag setting member 78 towards the innermost end of the shaft assembly 28 will cause additional biasing force to be placed on the correspondingly positioned bearing means 32.\n",
            "Question : What technology assists in measuring and indicating probe rotation to prevent catheter entanglement during medical procedures?,Data : INVENTION The present invention relates generally to medical probes, and particularly to methods and systems for sensing and indicating probe rotation. BACKGROUND OF THE INVENTION When a physician manipulates a catheter during a medical procedure, the catheter may become twisted or tangled. Several methods and systems have been proposed in order to detect or avoid such situations. For example, U.S. Pat. No. 5,921,978, whose disclosure is incorporated herein by reference, describes a catheter that includes fluoroscopic marker components disposed in the catheter distal end, in order to provide enhanced fluoroscopic visibility. Some of the disclosed catheter configurations are used for providing visual information to the physician regarding the direction and degree of twist of the catheter distal end. U.S. Pat. No. 5,352,197, whose disclosure is incorporated herein by reference, describes a turn limiter for a catheter with a twistable tip. The catheter has a flexible wall for use in complex twisting anatomy, and contains a torque wire or a torquable guide wire lumen. The torque wire or torquable guide wire lumen extends through the length of the catheter and is attached to the catheter at or near the distal end thereof. The proximal end of the torque wire protrudes from the proximal end of the catheter and is attached to a turn limiter. The turn limiter allows limited rotation of the proximal end of the torque wire or torquable guide wire lumen without axial dislocation. SUMMARY OF THE INVENTION An embodiment of the present invention that is described herein provides a method, including: while an operator of an elongated probe, having proximal and distal ends, manipulates the proximal end so as to move the distal end within a body of a patient, automatically measuring a cumulative angle of rotation that is applied by the operator to the proximal end; and presenting an indication of the cumulative angle of rotation to the operator. In some embodiments, measuring the cumulative angle of rotation includes sensing the cumulative angle of rotation using a sensor that is coupled to the probe. In an embodiment, the sensor includes a magnetic position sensor, and measuring the cumulative angle of rotation includes sensing one or more externally-applied magnetic fields using the magnetic position sensor and estimating the cumulative angle of rotation responsively to the sensed magnetic fields. In a disclosed embodiment, the sensor includes an acceleration sensor, and measuring the cumulative angle of rotation includes sensing an angular acceleration with respect to a longitudinal axis of the probe using the acceleration sensor and estimating the cumulative angle of rotation responsively to the sensed angular acceleration. In some embodiments, the sensor is coupled to the proximal end of the probe. In alternative embodiments, the sensor is coupled to the distal end of the probe. In an embodiment, presenting the indication includes alerting the operator when the cumulative angle of rotation exceeds a predefined threshold. Additionally or alternatively, presenting the indication includes indicating to the operator a preferred rotation direction that would reduce the cumulative angle of rotation. Further additionally or alternatively, presenting the indication includes displaying the cumulative angle of rotation alphanumerically to the operator. There is additionally provided, in accordance with an embodiment of the present invention, apparatus, including: a processor, which is connected to an elongated probe having proximal and distal ends, and which is configured to measure a cumulative angle of rotation that is applied by an operator to the proximal end of the probe while the operator manipulates the proximal end so as to move the distal end within a body of a patient; and an output device, which is configured to present an indication of the cumulative angle of rotation to the operator. There is also provided, in accordance with an embodiment of the present invention, a computer software product operating in conjunction with an elongated probe having proximal and distal ends, the product including a computer-readable medium, in which program instructions are stored, which instructions, when read by a computer, cause the computer to measure a cumulative angle of rotation that is applied by an operator to the proximal end of the probe while the operator manipulates the proximal end so as to move the distal end within a body of a patient, and to present an indication of the cumulative angle of rotation to the operator. There is further provided, in accordance with an embodiment of the present invention, apparatus, including: a probe, including: an elongated body having distal and proximal end; and a sensor, which is coupled to the body and is configured to generate signals that are indicative of a rotation applied to the proximal end by an operator; and a processor, which is configured to estimate a cumulative angle of rotation responsively to the signals, and to present an indication of the cumulative angle of rotation to the operator. The present invention will be more fully understood from the following detailed description of the embodiments thereof, taken together with the drawings in which: BRIEF DESCRIPTION OF THE DRAWINGS FIGS. 1 and 2 are schematic, pictorial illustrations of a system for magnetic position tracking that uses a cardiac catheter, in accordance with an embodiment of the present invention; and FIG. 3 is a flow chart that schematically illustrates a method for preventing catheter entanglement, in accordance with an embodiment of the present invention. DETAILED DESCRIPTION OF EMBODIMENTS Overview In some medical procedures, a physician navigates the distal end of a catheter in a patient&#39;s body. The physician moves the distal end by manipulating the proximal end of the catheter, e.g., using a handle fitted at the proximal end. In particular, the physician sometimes rotates the catheter about the catheter&#39;s longitudinal axis, for example in order to adjust the viewing angle or bending direction of the catheter tip, or to navigate along certain paths. In most cases, either clockwise or counterclockwise rotation could be used to achieve the same result. In practice, however, a given physician tends to repeatedly rotate the catheter in the same direction (clockwise or counterclockwise). Excessive rotation in the same direction may cause the catheter body and/or interconnection cables to twist and entangle. This sort of twisting and entanglement may cause difficulty in maneuvering the catheter, and in some cases damage the catheter. In some cases the catheter cable has to be disconnected in order to untwist it. Embodiments of the present invention that are described hereinbelow provide methods and systems for preventing excessive catheter rotation. The disclosed techniques automatically measure the cumulative rotation angle applied to the catheter&#39;s proximal end, and present an indication of the cumulative rotation angle to the physician. In an example embodiment, the cumulative rotation angle is measured using a magnetic position sensor that is fitted in the distal end of the catheter. In an alternative embodiment, the cumulative rotation angle is measured using a magnetic position sensor or an acceleration sensor that is fitted in the proximal end of the catheter, e.g., in the catheter handle. Various indications can be presented to the physician based on the measured cumulative rotation angle. In one embodiment, the numerical value of the rotation angle is displayed to the physician on a monitor screen. In another embodiment, the physician is alerted when the cumulative rotation angle exceeds a maximum allowed value. In some embodiments, the physician is given an indication as to the preferred direction for subsequent rotation of the catheter (the direction that would reduce the cumulative rotation angle). When using the disclosed techniques, catheter twisting and entanglement are reduced. As a result, catheter damage is avoided, and the physician can maneuver the catheter without interference. Although the embodiments described herein refer mainly to cardiac catheters, the disclosed techniques can be used with various other types of medical probes, such as endoscopes. System Description FIG. 1 is a schematic, pictorial illustration of a system 20 for magnetic position tracking that uses a cardiac catheter, in accordance with an embodiment of the present invention. System 20 may be based, for example, on the CARTO™ system, produced by Biosense-Webster Inc. (Diamond Bar, Calif.). In system 20 , a physician 24 (or other operator) inserts a catheter 28 (or other probe) into the body of a patient 30. Catheter 28 has a proximal end that is handled by the physician, and a distal end 36 that is navigated through the patient body. Catheter 28 is connected to a control console 44 using a cable 32. In the embodiment described herein, catheter 28 is inserted into the patient&#39;s heart and used in creating electrophysiological maps of one or more heart chambers. Alternatively, catheter 28 may be used, mutatis mutandis, for other therapeutic and/or diagnostic purposes in the heart or in other body organs. Console 44 uses magnetic position sensing to determine position coordinates of distal end 36 inside the heart. To determine the position coordinates, a driver circuit in console 44 drives field generators 40 to generate magnetic fields within the body of patient 30. Typically, field generators 40 comprise coils, which are placed at known positions below the patient&#39;s torso. A magnetic position sensor within distal end 36 of catheter 28 (shown in detail in FIG. 2 below) generates electrical signals in response to these magnetic fields. A processor 48 in console 44 processes these signals in order to determine the position coordinates of distal end 36 , typically including both location and orientation coordinates. Magnetic position tracking methods of this sort are described in detail in U.S. Pat. Nos. 5,391,199, 6,690,963, 6,484,118, 6,239,724, 6,618,612 and 6,332,089, in PCT International Publication WO 96/05768, and in U.S. Patent Application Publications 2002/0065455, 2003/0120150 and 2004/0068178, whose disclosures are all incorporated herein by reference. Based on the signals received from catheter 28 , processor 44 drives a display 52 to present physician 24 with a map of cardiac electrophysiological activity, as well as providing visual feedback regarding the position of distal end 36 in the patient&#39;s body and status information and guidance regarding the procedure that is in progress. Processor 48 typically comprises a general-purpose computer, with suitable front end and interface circuits for receiving signals from catheter 28 and controlling the other components of console 44. Processor 48 may be programmed in software to carry out the functions that are described herein. The software may be downloaded to processor 48 in electronic form, over a network, for example, or it may be provided on non-transitory tangible media, such as optical, magnetic or electronic memory media. Alternatively, some or all of the functions of processor 48 may be carried out by dedicated or programmable digital hardware components. Detection and Prevention of Catheter Twisting and Entanglement When conducting the medical procedure, physician 24 sometimes rotates catheter 28 about its longitudinal axis, for example in order to adjust the viewing angle or bending direction of the catheter tip, or to navigate along certain paths in the heart or vascular system. In most cases, either clockwise or counterclockwise rotation can be applied to achieve the same result. In practice, however, the physician tends to repeatedly rotate the catheter in the same direction (clockwise or counterclockwise), e.g., because of habit or convenience. Excessive rotation of catheter 28 in the same direction may cause catheter 28 and/or cable 32 to twist and entangle. This sort of twisting and entanglement may cause difficulty in maneuvering the catheter, and in some cases damage the catheter or cable. In some embodiments of the present invention, system 20 comprises means for detecting over-rotation of catheter 28 in a certain direction, and for notifying physician 24 of the detected over-rotation. In some embodiments, processor 48 measures the cumulative rotation angle that is applied to the catheter by the physician, and presents an indication of the measured cumulative rotation angle to the physician. Using this indication, the physician can be alerted when the catheter is over-rotated, and can perform subsequent rotations in the opposite direction. The term “cumulative rotation angle” refers to the total net rotation applied in a given (e.g., clockwise) direction about the catheter&#39;s longitudinal axis. For example, two complete clockwise turns are regarded as a cumulative rotation angle of +720°. Two complete counterclockwise turns are regarded as a cumulative rotation angle of −720°. Applying a complete clockwise turn followed by a 45° counterclockwise rotation produces a cumulative rotation angle of +315°. The choice of representing clockwise rotations using positive angles and counterclockwise rotations using negative angles is arbitrary, and the opposite convention can also be used. FIG. 2 is a schematic, pictorial illustration of certain elements of system 20 , in accordance with an embodiment of the present invention. FIG. 2 shows catheter 28 and some of console 44 in greater detail. In the present embodiment, a handle 56 is fitted at the proximal end of catheter 28. The handle is used for maneuvering the catheter by the physician, and in particular for rotating the catheter about its axis. A connector 62 connects catheter 28 to cable 32. A magnetic position sensor 66 is fitted in distal end 36 of catheter 28 , in order to carry out magnetic position tracking of the distal end by system 20 , as explained above. In some embodiments, a sensor 64 , e.g., a magnetic position sensor or an acceleration sensor, is coupled to the proximal end of the catheter, for example fitted in handle 56 or connector 62. In some embodiments, processor 48 measures the cumulative rotation angle that the physician applies to catheter 28. In an example embodiment, processor 48 measures the cumulative rotation angle based on the signals produced by magnetic position sensor 66 in the distal end. In a typical application of this sort, system 20 measures the location and orientation coordinates of distal end 36 using the magnetic position tracking methods described above. In particular, processor 48 tracks the orientation of the distal end based on the signals produced by sensor 66 , and calculates the cumulative rotation angle of the catheter. In an alternative embodiment, processor 48 receives signals from sensor 64 in the proximal end of the catheter, and estimates the cumulative rotation angle based on these signals. In an example embodiment, sensor 64 comprises an acceleration sensor. In this embodiment, the signals are indicative of the angular acceleration of the catheter (in the present example of handle 56 ) about its longitudinal axis. Processor 48 processes these signals so as to estimate the cumulative rotation angle applied to the catheter. In an example embodiment, the processor integrates the measured angular acceleration to estimate the angular velocity of the catheter, and integrates the angular velocity to estimate the cumulative angle or rotation. In an alternative embodiment, sensor 64 comprises a magnetic position sensor, e.g., a sensor similar to sensor 66. In this embodiment, system 20 measures and tracks the position of sensor 64 similarly to the tracking of sensor 66. Using the signals produced by sensor 64 , processor 48 estimates the cumulative rotation angle applied to the catheter. In alternative embodiments, processor 48 may calculate the cumulative rotation angle based on inputs from two or more sensors, e.g., based on both sensor 66 at the distal end and sensor 64 at the proximal end. Further alternatively, processor 48 may measure or estimate the cumulative rotation angle applied to catheter 28 based on any other suitable sensor and using any other suitable method. Note that the disclosed techniques are in no way limited to use in magnetic position tracking systems such as system 20. For example, the methods described herein can be used with an acceleration sensor at the proximal end, without a position tracking system of any kind. Typically, the signals produced by the sensor or sensors in the catheter produce signals that are indicative of the absolute rotation angle of the catheter, and not of the cumulative rotation angle. Computation of the cumulative rotation angle based on these signals is performed by processor 48. In some embodiments, processor 48 presents an indication of the measured cumulative rotation angle to physician 24. In the example embodiment of FIG. 2 , processor 48 displays an alphanumeric field 67 showing the present value of the cumulative rotation angle on display 52. Alternatively, processor 48 may display the present value of the cumulative rotation angle using any other suitable alphanumeric or graphical method. In some embodiments, processor 48 alerts the physician when the cumulative rotation angle exceeds a predefined (positive or negative) threshold. This sort of alert enables the physician to start rotating the catheter in the opposite direction or otherwise avoid over-rotation of the catheter. Processor 48 may alert the physician using any suitable method, e.g., by displaying a certain message or icon on display 52 or by sounding an audible alert. In some embodiments, processor 48 notifies the physician of a preferable rotation direction for future rotations. In other words, the processor notifies the physician of the rotation direction that would reduce the cumulative rotation angle. Thus, if the present cumulative rotation angle is positive (clockwise), processor 48 may recommend to the physician to perform subsequent rotations in a counterclockwise manner, and vice versa. In the example of FIG. 2 , processor 48 displays an arrow 68 , which indicates the recommended rotation direction to the physician. Alternatively, any other suitable indication method can also be used. FIG. 3 is a flow chart that schematically illustrates a method for preventing catheter entanglement, in accordance with an embodiment of the present invention. The method begins with physician 24 maneuvering catheter 28 in the body of patient 30 as part of a medical procedure, at a catheter manipulation step 70. In particular, the physician applies rotation to the catheter. Processor 48 measures the cumulative rotation angle applied to the catheter during the procedure, at an angle measurement step 74.\n"
          ]
        }
      ]
    },
    {
      "cell_type": "code",
      "source": [
        "data.rename(columns={'respose':'response'},inplace=True)"
      ],
      "metadata": {
        "id": "OVQntV9WBmqp"
      },
      "execution_count": null,
      "outputs": []
    },
    {
      "cell_type": "code",
      "source": [
        "data['response_embedding'] = data['response'].apply(lambda x : get_bert_embedding(x,bert))"
      ],
      "metadata": {
        "id": "TdUhUnJJJX7k"
      },
      "execution_count": null,
      "outputs": []
    },
    {
      "cell_type": "code",
      "source": [
        "response_embedding = tf.convert_to_tensor(data['response_embedding'].tolist())\n",
        "response_embedding = tf.squeeze(response_embedding, axis=1)\n",
        "\n",
        "positive_embedding = tf.convert_to_tensor(data[\"positive\"])\n",
        "negative_embedding = tf.convert_to_tensor(data[\"negative\"])"
      ],
      "metadata": {
        "id": "Rst8TrSqLD6y"
      },
      "execution_count": null,
      "outputs": []
    },
    {
      "cell_type": "code",
      "source": [
        "triplet_loss = losses.TripletLoss(model=model, distance_metric=losses.SiameseDistanceMetric.COSINE_DISTANCE, margin=0.3)\n",
        "loss_value = triplet_loss.forward(response_embedding, positive_embedding, negative_embedding)\n",
        "\n",
        "print(\"Triplet Loss:\", loss_value.item())"
      ],
      "metadata": {
        "id": "05XWZR_wJcLr"
      },
      "execution_count": null,
      "outputs": []
    },
    {
      "cell_type": "markdown",
      "source": [
        "# TODO : Implémenter une version end-to-end différentiable\n",
        "## -> : inclure tous les calculs dans le graphe de calcul PyTorch pour permettre à la backpropagation\n",
        "##de remonter à travers toute la chaîne, y compris la génération T5 et l'encodage BERT.\n",
        "Aujourd'hui, seule la génération T5 est entraînée, et BERT est gelé (utilisé comme fonction de scoring externe).\n",
        "Dans cette version future, on envisagerait :\n",
        "   - soit d'intégrer l'encodage BERT au graphe pour éventuellement co-entraîner une fonction de scoring,\n",
        "   - soit de remplacer l'étape de génération (non différentiable) par un mécanisme differentiable (ex : sampling continu / softmax différentiable),\n",
        "   - soit d'utiliser une loss de type Reinforcement Learning (ex : REINFORCE ou reward-based learning) pour remonter la qualité d'une séquence générée,     même si elle passe par une étape non différentiable (comme decode + encode + score)."
      ],
      "metadata": {
        "id": "VPN_B-Z3DRlQ"
      }
    },
    {
      "cell_type": "markdown",
      "source": [
        "By including bert in the training loop, i feel like I’m drifting away from my initial goal, which is to generate a response that’s close to the positive example and far from the negative one. <br>\n",
        "\n",
        "\n",
        "It feels like I’m artificially lowering the loss, since the model is also learning how to represent those elements better <br>\n",
        "I was actually thinking of BERT more like an external evaluator, rather than something that’s truly part of the model being optimized."
      ],
      "metadata": {
        "id": "Yvdux9cAfN06"
      }
    },
    {
      "cell_type": "markdown",
      "source": [
        "#### BERT frozen version"
      ],
      "metadata": {
        "id": "ts5cq_OzOI3I"
      }
    },
    {
      "cell_type": "code",
      "source": [
        "from torch.utils.data import Dataset\n",
        "\n",
        "class TripletTextDataset(Dataset):\n",
        "    def __init__(self, dataframe):\n",
        "        self.anchors = dataframe['inputs'].tolist()\n",
        "        self.positives = dataframe['positive'].tolist()\n",
        "        self.negatives = dataframe['negative'].tolist()\n",
        "\n",
        "    def __len__(self):\n",
        "        return len(self.anchors)\n",
        "\n",
        "    def __getitem__(self, idx):\n",
        "        return {\n",
        "            'anchor': self.anchors[idx],\n",
        "            'positive': self.positives[idx],\n",
        "            'negative': self.negatives[idx]\n",
        "        }"
      ],
      "metadata": {
        "id": "6FKleIj1jtLF"
      },
      "execution_count": null,
      "outputs": []
    },
    {
      "cell_type": "code",
      "source": [
        "from torch.utils.data import Dataset, DataLoader\n",
        "import torch\n",
        "import json\n",
        "import pandas as pd\n",
        "from transformers import AutoTokenizer, BertModel, T5Tokenizer, T5ForConditionalGeneration\n",
        "from tqdm import tqdm\n",
        "\n",
        "class TripletTextDataset(Dataset):\n",
        "    def __init__(self, dataframe):\n",
        "        self.anchors = dataframe['inputs'].tolist()\n",
        "        self.positives = dataframe['positive'].tolist()\n",
        "        self.negatives = dataframe['negative'].tolist()\n",
        "\n",
        "    def __len__(self):\n",
        "        return len(self.anchors)\n",
        "\n",
        "    def __getitem__(self, idx):\n",
        "        return {\n",
        "            'anchor': self.anchors[idx],\n",
        "            'positive': self.positives[idx],\n",
        "            'negative': self.negatives[idx]\n",
        "        }\n",
        "\n",
        "class CustomModel:\n",
        "    def __init__(self, truncate=True, path='/content/dataset_big_patent_v3.json',\n",
        "                 bert_model_name=\"bert-base-uncased\", margin=0.3, device=None):\n",
        "\n",
        "        self.device = torch.device(\"cuda\" if torch.cuda.is_available() else \"cpu\") if device is None else device\n",
        "\n",
        "        self.tokenizer = AutoTokenizer.from_pretrained(bert_model_name)\n",
        "        self.bert = BertModel.from_pretrained(bert_model_name).to(self.device)\n",
        "\n",
        "        self.t5_tokenizer = T5Tokenizer.from_pretrained(\"t5-small\")\n",
        "        self.T5 = T5ForConditionalGeneration.from_pretrained(\"t5-small\").to(self.device)\n",
        "\n",
        "        self.triplet_loss_fn = torch.nn.TripletMarginLoss(margin=margin, p=2)\n",
        "\n",
        "        self.load_data(path)\n",
        "        if truncate:\n",
        "            self.data[\"anchor\"] = self.data[\"anchor\"].apply(self.truncate_text)\n",
        "\n",
        "        self.data['inputs'] = 'question: ' + self.data['query'] + '\\ncontext: ' + self.data['anchor']\n",
        "        self.dataset = TripletTextDataset(self.data)\n",
        "\n",
        "    def load_data(self, path):\n",
        "        with open(path, 'r', encoding='utf-8') as f:\n",
        "            data = json.load(f)\n",
        "        self.data = pd.DataFrame(data)\n",
        "\n",
        "    def truncate_text(self, text):\n",
        "        text_lower = text.lower()\n",
        "        point = next((p for p in (\n",
        "            text_lower.find('technical field'),\n",
        "            text_lower.find('invention'),\n",
        "            text_lower.find('disclosure'),\n",
        "            text_lower.find('this application')\n",
        "        ) if p != -1), None)\n",
        "        return text[point:] if point is not None else text\n",
        "\n",
        "    def get_embedding(self, text, requires_grad=False):\n",
        "        tokens = self.tokenizer(text, padding=True, truncation=True, return_tensors=\"pt\").to(self.device)\n",
        "        if requires_grad:\n",
        "            outputs = self.bert(**tokens)\n",
        "        else:\n",
        "            with torch.no_grad():\n",
        "                outputs = self.bert(**tokens)\n",
        "        return outputs.last_hidden_state[:, 0, :].squeeze(0)\n",
        "\n",
        "    def fit(self, optimizer, batch_size=8, epochs=10):\n",
        "        self.T5.train()\n",
        "        self.bert.eval()\n",
        "        dataloader = DataLoader(self.dataset, batch_size=batch_size, shuffle=True)\n",
        "\n",
        "        for epoch in range(epochs):\n",
        "            total_loss = 0.0\n",
        "            print(f\"\\nEpoch {epoch + 1}/{epochs}\")\n",
        "\n",
        "            for batch in tqdm(dataloader, desc=f\"Epoch {epoch + 1}\"):\n",
        "                input_texts = batch['anchor']\n",
        "                tokenized = self.t5_tokenizer(input_texts, return_tensors=\"pt\", padding=True, truncation=True).to(self.device)\n",
        "                generated_ids = self.T5.generate(\n",
        "                    **tokenized,\n",
        "                    num_beams=4,\n",
        "                    max_length=256,\n",
        "                    early_stopping=True\n",
        "                )\n",
        "                generated_texts = [self.t5_tokenizer.decode(g, skip_special_tokens=True) for g in generated_ids]\n",
        "\n",
        "                # Get anchor embeddings with grad\n",
        "                anchor_emb = torch.stack([self.get_embedding(text, requires_grad=True) for text in generated_texts])\n",
        "\n",
        "                # Get positive and negative embeddings without grad\n",
        "                positive_emb = torch.stack([self.get_embedding(p) for p in batch['positive']])\n",
        "                negative_emb = torch.stack([self.get_embedding(n) for n in batch['negative']])\n",
        "\n",
        "                optimizer.zero_grad()\n",
        "                loss = self.triplet_loss_fn(anchor_emb, positive_emb, negative_emb)\n",
        "                loss.backward()\n",
        "                optimizer.step()\n",
        "\n",
        "                total_loss += loss.item()\n",
        "\n",
        "            mean_loss = total_loss / len(dataloader)\n",
        "            print(f\"Mean triplet loss for epoch {epoch + 1}: {mean_loss:.4f}\")\n",
        "\n",
        "        return mean_loss"
      ],
      "metadata": {
        "id": "mu2p172tGp0c"
      },
      "execution_count": null,
      "outputs": []
    },
    {
      "cell_type": "code",
      "source": [
        "model = CustomModel(path='/content/dataset_big_patent_v3.json')\n",
        "optimizer = torch.optim.AdamW(model.T5.parameters(), lr=5e-5)"
      ],
      "metadata": {
        "id": "X4xQHyqncE3c"
      },
      "execution_count": null,
      "outputs": []
    },
    {
      "cell_type": "code",
      "source": [
        "mtorch.cuda.empty_cache()"
      ],
      "metadata": {
        "id": "Zf0cop_bvPrO"
      },
      "execution_count": null,
      "outputs": []
    },
    {
      "cell_type": "code",
      "source": [
        "model.fit(optimizer)"
      ],
      "metadata": {
        "colab": {
          "base_uri": "https://localhost:8080/"
        },
        "id": "5wrXUnW4qGsZ",
        "outputId": "5df5f703-3ab1-4b14-e17f-b649cc748199"
      },
      "execution_count": null,
      "outputs": [
        {
          "metadata": {
            "tags": null
          },
          "name": "stdout",
          "output_type": "stream",
          "text": [
            "\n",
            "Epoch 1/10\n"
          ]
        },
        {
          "metadata": {
            "tags": null
          },
          "name": "stderr",
          "output_type": "stream",
          "text": [
            "Epoch 1: 100%|██████████| 63/63 [01:14<00:00,  1.19s/it]\n"
          ]
        },
        {
          "metadata": {
            "tags": null
          },
          "name": "stdout",
          "output_type": "stream",
          "text": [
            "Mean triplet loss for epoch 1: 0.9568\n",
            "\n",
            "Epoch 2/10\n"
          ]
        },
        {
          "metadata": {
            "tags": null
          },
          "name": "stderr",
          "output_type": "stream",
          "text": [
            "Epoch 2: 100%|██████████| 63/63 [01:09<00:00,  1.10s/it]\n"
          ]
        },
        {
          "metadata": {
            "tags": null
          },
          "name": "stdout",
          "output_type": "stream",
          "text": [
            "Mean triplet loss for epoch 2: 0.9302\n",
            "\n",
            "Epoch 3/10\n"
          ]
        },
        {
          "metadata": {
            "tags": null
          },
          "name": "stderr",
          "output_type": "stream",
          "text": [
            "Epoch 3: 100%|██████████| 63/63 [01:05<00:00,  1.05s/it]\n"
          ]
        },
        {
          "metadata": {
            "tags": null
          },
          "name": "stdout",
          "output_type": "stream",
          "text": [
            "Mean triplet loss for epoch 3: 0.9451\n",
            "\n",
            "Epoch 4/10\n"
          ]
        },
        {
          "output_type": "stream",
          "name": "stderr",
          "text": [
            "Epoch 4: 100%|██████████| 63/63 [01:08<00:00,  1.08s/it]\n"
          ]
        },
        {
          "output_type": "stream",
          "name": "stdout",
          "text": [
            "Mean triplet loss for epoch 4: 0.9290\n",
            "\n",
            "Epoch 5/10\n"
          ]
        },
        {
          "output_type": "stream",
          "name": "stderr",
          "text": [
            "Epoch 5: 100%|██████████| 63/63 [01:05<00:00,  1.05s/it]\n"
          ]
        },
        {
          "output_type": "stream",
          "name": "stdout",
          "text": [
            "Mean triplet loss for epoch 5: 0.9210\n",
            "\n",
            "Epoch 6/10\n"
          ]
        },
        {
          "output_type": "stream",
          "name": "stderr",
          "text": [
            "Epoch 6: 100%|██████████| 63/63 [01:06<00:00,  1.05s/it]\n"
          ]
        },
        {
          "output_type": "stream",
          "name": "stdout",
          "text": [
            "Mean triplet loss for epoch 6: 0.9488\n",
            "\n",
            "Epoch 7/10\n"
          ]
        },
        {
          "output_type": "stream",
          "name": "stderr",
          "text": [
            "Epoch 7: 100%|██████████| 63/63 [01:06<00:00,  1.05s/it]\n"
          ]
        },
        {
          "output_type": "stream",
          "name": "stdout",
          "text": [
            "Mean triplet loss for epoch 7: 0.9467\n",
            "\n",
            "Epoch 8/10\n"
          ]
        },
        {
          "output_type": "stream",
          "name": "stderr",
          "text": [
            "Epoch 8: 100%|██████████| 63/63 [01:06<00:00,  1.05s/it]\n"
          ]
        },
        {
          "output_type": "stream",
          "name": "stdout",
          "text": [
            "Mean triplet loss for epoch 8: 0.9434\n",
            "\n",
            "Epoch 9/10\n"
          ]
        },
        {
          "output_type": "stream",
          "name": "stderr",
          "text": [
            "Epoch 9: 100%|██████████| 63/63 [01:07<00:00,  1.07s/it]\n"
          ]
        },
        {
          "output_type": "stream",
          "name": "stdout",
          "text": [
            "Mean triplet loss for epoch 9: 0.9256\n",
            "\n",
            "Epoch 10/10\n"
          ]
        },
        {
          "output_type": "stream",
          "name": "stderr",
          "text": [
            "Epoch 10: 100%|██████████| 63/63 [01:07<00:00,  1.08s/it]"
          ]
        },
        {
          "output_type": "stream",
          "name": "stdout",
          "text": [
            "Mean triplet loss for epoch 10: 0.9450\n"
          ]
        },
        {
          "output_type": "stream",
          "name": "stderr",
          "text": [
            "\n"
          ]
        },
        {
          "output_type": "execute_result",
          "data": {
            "text/plain": [
              "0.9450472839294918"
            ]
          },
          "metadata": {},
          "execution_count": 104
        }
      ]
    },
    {
      "cell_type": "markdown",
      "source": [
        "### Training T5 + BERT"
      ],
      "metadata": {
        "id": "tm7urPEzSndH"
      }
    },
    {
      "cell_type": "markdown",
      "source": [
        "Rq : .detach().cpu(). peut être utile pour stocker des éléments autre part que dans le gpu, et donc économiser de la mémoire pour des calculs vraiement utiles."
      ],
      "metadata": {
        "id": "Qy9FrhXZU52Y"
      }
    },
    {
      "cell_type": "code",
      "source": [
        "from torch.utils.data import Dataset\n",
        "\n",
        "class TripletTextDataset(Dataset):\n",
        "    def __init__(self, dataframe):\n",
        "        self.anchors = dataframe['inputs'].tolist()\n",
        "        self.positives = dataframe['positive'].tolist()\n",
        "        self.negatives = dataframe['negative'].tolist()\n",
        "\n",
        "    def __len__(self):\n",
        "        return len(self.anchors)\n",
        "\n",
        "    def __getitem__(self, idx):\n",
        "        return {\n",
        "            'anchor': self.anchors[idx],\n",
        "            'positive': self.positives[idx],\n",
        "            'negative': self.negatives[idx]\n",
        "        }"
      ],
      "metadata": {
        "id": "sWToQCEMSsbY"
      },
      "execution_count": 5,
      "outputs": []
    },
    {
      "cell_type": "code",
      "source": [
        "import torch\n",
        "import torch.nn as nn\n",
        "import torch.optim as optim\n",
        "from torch.utils.data import DataLoader\n",
        "from transformers import AutoTokenizer, AutoModel, T5Tokenizer, T5ForConditionalGeneration\n",
        "from sklearn.metrics import accuracy_score\n",
        "import json\n",
        "import pandas as pd\n",
        "from tqdm import tqdm\n",
        "\n",
        "class CustomModel(nn.Module):\n",
        "    def __init__(self, truncate=True, path='/content/dataset_big_patent_v3.json',\n",
        "                 bert_model_name=\"bert-base-uncased\", margin=0.3, device=None):\n",
        "        super().__init__()\n",
        "        self.device = torch.device(\"cuda\" if torch.cuda.is_available() else \"cpu\") if device is None else device\n",
        "\n",
        "        self.tokenizer = AutoTokenizer.from_pretrained(bert_model_name)\n",
        "        self.bert = AutoModel.from_pretrained(bert_model_name).to(self.device)\n",
        "\n",
        "        self.t5_tokenizer = T5Tokenizer.from_pretrained(\"t5-small\")\n",
        "        self.T5 = T5ForConditionalGeneration.from_pretrained(\"t5-small\").to(self.device)\n",
        "\n",
        "        self.triplet_loss_fn = torch.nn.TripletMarginLoss(margin=margin, p=2)\n",
        "\n",
        "        self.load_data(path)\n",
        "        if truncate:\n",
        "            self.data[\"anchor\"] = self.data[\"anchor\"].apply(self.truncate_text)\n",
        "\n",
        "        self.data['inputs'] = 'question: ' + self.data['query'] + '\\ncontext: ' + self.data['anchor']\n",
        "        self.dataset = TripletTextDataset(self.data)\n",
        "\n",
        "    def load_data(self, path):\n",
        "        with open(path, 'r', encoding='utf-8') as f:\n",
        "            data = json.load(f)\n",
        "        self.data = pd.DataFrame(data)\n",
        "\n",
        "    def truncate_text(self, text):\n",
        "        text_lower = text.lower()\n",
        "        point = next((p for p in (\n",
        "            text_lower.find('technical field'),\n",
        "            text_lower.find('invention'),\n",
        "            text_lower.find('disclosure'),\n",
        "            text_lower.find('this application')\n",
        "        ) if p != -1), None)\n",
        "        return text[point:] if point is not None else text\n",
        "\n",
        "    def get_embedding(self, text, requires_grad=True):\n",
        "        tokens = self.tokenizer(text, padding=True, truncation=True, return_tensors=\"pt\").to(self.device)\n",
        "        if requires_grad:\n",
        "            outputs = self.bert(**tokens)\n",
        "        else:\n",
        "            with torch.no_grad():\n",
        "                outputs = self.bert(**tokens)\n",
        "        return outputs.last_hidden_state[:, 0, :].squeeze(0)\n",
        "\n",
        "    def fit(self, optimizer, batch_size=32, epochs=20):\n",
        "        self.T5.train()\n",
        "        self.bert.train()  # Enable training for BERT\n",
        "\n",
        "        dataloader = DataLoader(self.dataset, batch_size=batch_size, shuffle=True)\n",
        "\n",
        "        for epoch in range(epochs):\n",
        "            total_loss = 0.0\n",
        "            print(f\"\\nEpoch {epoch + 1}/{epochs}\")\n",
        "\n",
        "            for batch in tqdm(dataloader, desc=f\"Epoch {epoch + 1}\"):\n",
        "                input_texts = batch['anchor']\n",
        "                tokenized = self.t5_tokenizer(input_texts, return_tensors=\"pt\", padding=True, truncation=True).to(self.device)\n",
        "                generated_ids = self.T5.generate(\n",
        "                    **tokenized,\n",
        "                    num_beams=4,\n",
        "                    max_length=512,\n",
        "                    early_stopping=True\n",
        "                )\n",
        "                generated_texts = [self.t5_tokenizer.decode(g, skip_special_tokens=True) for g in generated_ids]\n",
        "\n",
        "                # Get anchor embeddings with grad\n",
        "                anchor_emb = torch.stack([self.get_embedding(text, requires_grad=True) for text in generated_texts])\n",
        "\n",
        "                # Get positive and negative embeddings without grad\n",
        "                positive_emb = torch.stack([self.get_embedding(p) for p in batch['positive']])\n",
        "                negative_emb = torch.stack([self.get_embedding(n) for n in batch['negative']])\n",
        "\n",
        "                optimizer.zero_grad()\n",
        "                loss = self.triplet_loss_fn(anchor_emb, positive_emb, negative_emb)\n",
        "                loss.backward()\n",
        "                optimizer.step()\n",
        "\n",
        "                total_loss += loss.item()\n",
        "\n",
        "\n",
        "                del tokenized, generated_ids, generated_texts\n",
        "                del anchor_emb, positive_emb, negative_emb, loss\n",
        "                torch.cuda.empty_cache()\n",
        "\n",
        "\n",
        "\n",
        "            mean_loss = total_loss / len(dataloader)\n",
        "            print(f\"Mean triplet loss for epoch {epoch + 1}: {mean_loss:.4f}\")\n",
        "\n",
        "        return mean_loss"
      ],
      "metadata": {
        "id": "F29CeaPf67kn"
      },
      "execution_count": 34,
      "outputs": []
    },
    {
      "cell_type": "code",
      "source": [
        "# Example usage:\n",
        "model = CustomModel()\n",
        "optimizer = optim.AdamW(model.parameters(), lr=2e-5)\n",
        "model.fit(optimizer, batch_size=12, epochs=10)"
      ],
      "metadata": {
        "id": "eI8w8w2iToJX",
        "colab": {
          "base_uri": "https://localhost:8080/"
        },
        "outputId": "ec07e72b-e5bb-4b3b-cc4d-6ed6f58bc060"
      },
      "execution_count": 41,
      "outputs": [
        {
          "output_type": "stream",
          "name": "stdout",
          "text": [
            "\n",
            "Epoch 1/10\n"
          ]
        },
        {
          "output_type": "stream",
          "name": "stderr",
          "text": [
            "Epoch 1: 100%|██████████| 42/42 [01:55<00:00,  2.76s/it]\n"
          ]
        },
        {
          "output_type": "stream",
          "name": "stdout",
          "text": [
            "Mean triplet loss for epoch 1: 0.4061\n",
            "\n",
            "Epoch 2/10\n"
          ]
        },
        {
          "output_type": "stream",
          "name": "stderr",
          "text": [
            "Epoch 2: 100%|██████████| 42/42 [01:55<00:00,  2.75s/it]\n"
          ]
        },
        {
          "output_type": "stream",
          "name": "stdout",
          "text": [
            "Mean triplet loss for epoch 2: 0.2618\n",
            "\n",
            "Epoch 3/10\n"
          ]
        },
        {
          "output_type": "stream",
          "name": "stderr",
          "text": [
            "Epoch 3: 100%|██████████| 42/42 [01:54<00:00,  2.71s/it]\n"
          ]
        },
        {
          "output_type": "stream",
          "name": "stdout",
          "text": [
            "Mean triplet loss for epoch 3: 0.2202\n",
            "\n",
            "Epoch 4/10\n"
          ]
        },
        {
          "output_type": "stream",
          "name": "stderr",
          "text": [
            "Epoch 4: 100%|██████████| 42/42 [01:54<00:00,  2.72s/it]\n"
          ]
        },
        {
          "output_type": "stream",
          "name": "stdout",
          "text": [
            "Mean triplet loss for epoch 4: 0.2254\n",
            "\n",
            "Epoch 5/10\n"
          ]
        },
        {
          "output_type": "stream",
          "name": "stderr",
          "text": [
            "Epoch 5: 100%|██████████| 42/42 [01:52<00:00,  2.68s/it]\n"
          ]
        },
        {
          "output_type": "stream",
          "name": "stdout",
          "text": [
            "Mean triplet loss for epoch 5: 0.1724\n",
            "\n",
            "Epoch 6/10\n"
          ]
        },
        {
          "output_type": "stream",
          "name": "stderr",
          "text": [
            "Epoch 6: 100%|██████████| 42/42 [01:54<00:00,  2.72s/it]\n"
          ]
        },
        {
          "output_type": "stream",
          "name": "stdout",
          "text": [
            "Mean triplet loss for epoch 6: 0.1802\n",
            "\n",
            "Epoch 7/10\n"
          ]
        },
        {
          "output_type": "stream",
          "name": "stderr",
          "text": [
            "Epoch 7: 100%|██████████| 42/42 [01:54<00:00,  2.71s/it]\n"
          ]
        },
        {
          "output_type": "stream",
          "name": "stdout",
          "text": [
            "Mean triplet loss for epoch 7: 0.1814\n",
            "\n",
            "Epoch 8/10\n"
          ]
        },
        {
          "output_type": "stream",
          "name": "stderr",
          "text": [
            "Epoch 8: 100%|██████████| 42/42 [01:54<00:00,  2.72s/it]\n"
          ]
        },
        {
          "output_type": "stream",
          "name": "stdout",
          "text": [
            "Mean triplet loss for epoch 8: 0.1545\n",
            "\n",
            "Epoch 9/10\n"
          ]
        },
        {
          "output_type": "stream",
          "name": "stderr",
          "text": [
            "Epoch 9: 100%|██████████| 42/42 [01:53<00:00,  2.70s/it]\n"
          ]
        },
        {
          "output_type": "stream",
          "name": "stdout",
          "text": [
            "Mean triplet loss for epoch 9: 0.1810\n",
            "\n",
            "Epoch 10/10\n"
          ]
        },
        {
          "output_type": "stream",
          "name": "stderr",
          "text": [
            "Epoch 10: 100%|██████████| 42/42 [02:00<00:00,  2.86s/it]"
          ]
        },
        {
          "output_type": "stream",
          "name": "stdout",
          "text": [
            "Mean triplet loss for epoch 10: 0.1542\n"
          ]
        },
        {
          "output_type": "stream",
          "name": "stderr",
          "text": [
            "\n"
          ]
        },
        {
          "output_type": "execute_result",
          "data": {
            "text/plain": [
              "0.15421155378932044"
            ]
          },
          "metadata": {},
          "execution_count": 41
        }
      ]
    },
    {
      "cell_type": "code",
      "source": [
        "'''torch.save(model.T5.state_dict(), \"t5_checkpoint_similarity_4elmts.pt\")\n",
        "torch.save({\n",
        "    'epoch': 10,\n",
        "    'model_state_dict': model.T5.state_dict(),\n",
        "    'optimizer_state_dict': optimizer.state_dict()\n",
        "}, 't5_checkpoint_full_similarity_4elmts.pt')'''"
      ],
      "metadata": {
        "id": "aC5fcTmTWuWB"
      },
      "execution_count": 45,
      "outputs": []
    },
    {
      "cell_type": "code",
      "source": [
        "print(f\"Memory used: {torch.cuda.memory_allocated() / 1024**2:.2f} MB\")"
      ],
      "metadata": {
        "colab": {
          "base_uri": "https://localhost:8080/"
        },
        "id": "1U1XpMW3VL8w",
        "outputId": "69b2a932-dc62-4320-d573-90650eaac54c"
      },
      "execution_count": 62,
      "outputs": [
        {
          "output_type": "stream",
          "name": "stdout",
          "text": [
            "Memory used: 14415.86 MB\n"
          ]
        }
      ]
    },
    {
      "cell_type": "markdown",
      "source": [
        "Evaluate it (on the train dataset too ... )"
      ],
      "metadata": {
        "id": "qlRxkjcygF0K"
      }
    },
    {
      "cell_type": "code",
      "source": [
        "import torch\n",
        "from tqdm import tqdm\n",
        "from torch.utils.data import DataLoader\n",
        "import numpy as np\n",
        "\n",
        "def evaluate(model, batch_size=16, epochs=1):\n",
        "    model.T5.eval()\n",
        "    model.bert.eval()\n",
        "    model.to(model.device)\n",
        "\n",
        "    dataloader = DataLoader(model.dataset, batch_size=batch_size, shuffle=True)\n",
        "    correct = 0\n",
        "\n",
        "    for epoch in range(epochs):\n",
        "        print(f\"\\nEpoch {epoch + 1}/{epochs}\")\n",
        "\n",
        "        for batch in tqdm(dataloader, desc=f\"Epoch {epoch + 1}\"):\n",
        "            with torch.no_grad():\n",
        "                input_texts = batch['anchor']\n",
        "                tokenized = model.t5_tokenizer(\n",
        "                    input_texts,\n",
        "                    return_tensors=\"pt\",\n",
        "                    padding=True,\n",
        "                    truncation=True\n",
        "                ).to(model.device)\n",
        "\n",
        "                generated_ids = model.T5.generate(\n",
        "                    **tokenized,\n",
        "                    num_beams=4,\n",
        "                    max_length=512,\n",
        "                    early_stopping=True\n",
        "                )\n",
        "\n",
        "                generated_texts = [model.t5_tokenizer.decode(g, skip_special_tokens=True) for g in generated_ids]\n",
        "\n",
        "                anchor_emb = torch.stack([\n",
        "                    model.get_embedding(text).to(model.device)\n",
        "                    for text in generated_texts\n",
        "                ])\n",
        "\n",
        "                positive_emb = torch.stack([\n",
        "                    model.get_embedding(p).to(model.device)\n",
        "                    for p in batch['positive']\n",
        "                ])\n",
        "                negative_emb = torch.stack([\n",
        "                    model.get_embedding(n).to(model.device)\n",
        "                    for n in batch['negative']\n",
        "                ])\n",
        "\n",
        "                # cosine_similarity shape: [batch_size]\n",
        "                sim_pos = torch.nn.functional.cosine_similarity(anchor_emb, positive_emb, dim=1)\n",
        "                sim_neg = torch.nn.functional.cosine_similarity(anchor_emb, negative_emb, dim=1)\n",
        "\n",
        "                correct += (sim_pos > sim_neg).sum().item()\n",
        "\n",
        "                del tokenized, generated_ids, generated_texts\n",
        "                del anchor_emb, positive_emb, negative_emb\n",
        "                torch.cuda.empty_cache()\n",
        "\n",
        "    return correct / len(model.dataset)\n"
      ],
      "metadata": {
        "id": "XSRiCILVgIxt"
      },
      "execution_count": 129,
      "outputs": []
    },
    {
      "cell_type": "code",
      "source": [
        "evaluate(model)"
      ],
      "metadata": {
        "colab": {
          "base_uri": "https://localhost:8080/"
        },
        "id": "0ctH5G9jjTh4",
        "outputId": "b0dfe0f0-2e36-4233-e933-cf471f767abe"
      },
      "execution_count": 130,
      "outputs": [
        {
          "output_type": "stream",
          "name": "stdout",
          "text": [
            "\n",
            "Epoch 1/1\n"
          ]
        },
        {
          "output_type": "stream",
          "name": "stderr",
          "text": [
            "Epoch 1: 100%|██████████| 32/32 [00:59<00:00,  1.86s/it]\n"
          ]
        },
        {
          "output_type": "execute_result",
          "data": {
            "text/plain": [
              "0.8196392785571143"
            ]
          },
          "metadata": {},
          "execution_count": 130
        }
      ]
    }
  ]
}